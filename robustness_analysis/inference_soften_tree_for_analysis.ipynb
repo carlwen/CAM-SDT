{
 "cells": [
  {
   "cell_type": "code",
   "execution_count": 15,
   "metadata": {},
   "outputs": [],
   "source": [
    "# Standard Libraries\n",
    "import os\n",
    "import numpy as np \n",
    "import pandas as pd \n",
    "import random as rn\n",
    "import cv2\n",
    "import torch\n",
    "import torch.nn as nn\n",
    "from torch.utils.data import Dataset\n",
    "\n",
    "# Visualization libraries\n",
    "# import pydotplus\n",
    "import matplotlib\n",
    "import matplotlib.pyplot as plt\n",
    "import seaborn as sns\n",
    "sns.set_style({\"axes.facecolor\": \".95\"})\n",
    "\n",
    "# Modeling and Machine Learning\n",
    "from IPython.display import Image \n",
    "from sklearn.manifold import TSNE\n",
    "from sklearn.metrics import accuracy_score\n",
    "# from sklearn.externals.six import StringIO  \n",
    "from sklearn.decomposition import TruncatedSVD\n",
    "from sklearn.ensemble import RandomForestClassifier\n",
    "from sklearn.model_selection import train_test_split\n",
    "from sklearn.model_selection import KFold\n",
    "from sklearn.tree import DecisionTreeClassifier, export_graphviz\n",
    "from keras.datasets import mnist\n",
    "# from keras.utils import np_utils\n",
    "from tensorflow.keras.utils import to_categorical\n",
    "import tensorflow as tf\n",
    "from joblib import dump, load\n",
    "import time\n",
    "# from SDT_simple import SDT\n",
    "# from SDT import SDT\n",
    "from copy import deepcopy\n",
    "from tqdm import tqdm \n",
    "import pickle\n",
    "# Seed for reproducability\n",
    "seed = 1024\n",
    "np.random.seed(seed)\n",
    "rn.seed(seed)\n",
    "os.environ['PYTHONHASHSEED'] = str(seed)"
   ]
  },
  {
   "cell_type": "code",
   "execution_count": 2,
   "metadata": {},
   "outputs": [],
   "source": [
    "def acc(y_true : np.ndarray, y_pred : np.ndarray) -> float:\n",
    "    \"\"\"\n",
    "        Calculates the accuracy score between labels and predictions.\n",
    "        \n",
    "        :param y_true: The true labels of the data\n",
    "        :param y_pred: The predictions for the data\n",
    "        \n",
    "        :return: a floating point number denoting the accuracy\n",
    "    \"\"\"\n",
    "    return np.round(accuracy_score(y_true, y_pred) * 100, 2)"
   ]
  },
  {
   "cell_type": "code",
   "execution_count": 3,
   "metadata": {},
   "outputs": [],
   "source": [
    "def get_tree_path(clf):\n",
    "    n_nodes = clf.tree_.node_count\n",
    "    children_left = clf.tree_.children_left\n",
    "    children_right = clf.tree_.children_right\n",
    "    feature = clf.tree_.feature\n",
    "    threshold = clf.tree_.threshold\n",
    "    max_depth = clf.tree_.max_depth\n",
    "\n",
    "    node_depth = np.zeros(shape=n_nodes, dtype=np.int64)\n",
    "\n",
    "\n",
    "\n",
    "    is_leaves = np.zeros(shape=n_nodes, dtype=bool)\n",
    "    node_path = np.zeros(shape=[n_nodes,max_depth+1], dtype=np.int64)\n",
    "    left_right = np.zeros(shape=[n_nodes,max_depth+1], dtype=np.int64)\n",
    "\n",
    "    stack = [(0, 0)]  # start with the root node id (0) and its depth (0)\n",
    "    while len(stack) > 0:\n",
    "        # `pop` ensures each node is only visited once\n",
    "        node_id, depth = stack.pop()\n",
    "        node_depth[node_id] = depth\n",
    "\n",
    "        \n",
    "\n",
    "        # If the left and right child of a node is not the same we have a split\n",
    "        # node\n",
    "        is_split_node = children_left[node_id] != children_right[node_id]\n",
    "        # If a split node, append left and right children and depth to `stack`\n",
    "        # so we can loop through them\n",
    "        if is_split_node:\n",
    "            stack.append((children_left[node_id], depth + 1))\n",
    "            stack.append((children_right[node_id], depth + 1))\n",
    "        else:\n",
    "            is_leaves[node_id] = True\n",
    "\n",
    "    depth = 0\n",
    "    for i in range(n_nodes):\n",
    "        previous_depth = depth\n",
    "        depth = node_depth[i]\n",
    "        \n",
    "        if i!=0:\n",
    "            node_path[i, :depth] = node_path[i-1, :depth]\n",
    "            left_right[i, :depth] = left_right[i-1, :depth]\n",
    "        node_path[i, depth] = i\n",
    "        if depth>previous_depth:\n",
    "            left_right[i, depth] = 0\n",
    "        else:\n",
    "            left_right[i, depth] = 1\n",
    "\n",
    "        \n",
    "    node_path_left_right = np.concatenate((node_path[:,:-1,np.newaxis],left_right[:,1:,np.newaxis]),axis = 2) \n",
    "    node_path_left_right = node_path_left_right[clf.tree_.feature==-2]\n",
    "    node_path = node_path_left_right[:,:,0]\n",
    "    return node_path_left_right,node_depth"
   ]
  },
  {
   "cell_type": "code",
   "execution_count": 4,
   "metadata": {},
   "outputs": [],
   "source": [
    "class SDT(nn.Module):\n",
    "\n",
    "\n",
    "    def __init__(self, clf,node_depth,node_path_left_right, args):\n",
    "        super(SDT, self).__init__()\n",
    "        self.args = args\n",
    "        self.clf = clf\n",
    "        self.device = torch.device(\"cuda\" if self.args['use_cuda'] else \"cpu\")\n",
    "        self.leaf_num = clf.tree_.n_leaves\n",
    "        self.inner_node_num = clf.tree_.node_count - clf.tree_.n_leaves\n",
    "        self.leaf_index = clf.tree_.feature==-2\n",
    "        self.inner_node_index = clf.tree_.feature!=-2\n",
    "        \n",
    "\n",
    "        self.feature_index = clf.tree_.feature[self.inner_node_index]\n",
    "        self.left_nodes = clf.tree_.children_left\n",
    "        self.right_nodes = clf.tree_.children_right\n",
    "        self.node_depth = node_depth\n",
    "        self.leaf_depth = node_depth[self.leaf_index]\n",
    "        self.inner_node_depth = node_depth[self.inner_node_index]\n",
    "        self.node_path = node_path_left_right[:,:,0]\n",
    "        self.node_path_left_right = node_path_left_right\n",
    "        self.node_gain = nn.Parameter(data=torch.ones(1,clf.tree_.node_count)*(-10),requires_grad=True)\n",
    "        \n",
    "        self.node_threshold = nn.Parameter(torch.tensor(clf.tree_.threshold[self.node_path],dtype=torch.float),requires_grad=True)\n",
    "        \n",
    "        self.register_parameter('node_gain',self.node_gain)\n",
    "        self.register_parameter('node_threshold',self.node_threshold)\n",
    "\n",
    "        # Different penalty coefficients for nodes in different layers\n",
    "        self.penalty_list = [\n",
    "            self.args['lamda'] * (2 ** (-depth)) for depth in range(0, self.args['depth'])\n",
    "        ]\n",
    "\n",
    "\n",
    "        self.leaf_nodes = nn.Parameter(data = torch.tensor(clf.tree_.value[self.leaf_index,0,:]), requires_grad = True)\n",
    "        self.register_parameter('leaf_node',self.leaf_nodes)\n",
    "        \n",
    "        self.dropout = nn.Dropout(0.25)\n",
    "\n",
    "\n",
    "\n",
    "    def forward(self, X, is_training_data=False):\n",
    "\n",
    "\n",
    "        _mu, _penalty = self._forward(X)\n",
    "\n",
    "\n",
    "        if is_training_data:\n",
    "            output = torch.matmul(_mu, torch.softmax(self.leaf_nodes.to(self.device,torch.float),dim=1))\n",
    "            # output = torch.softmax(output,dim=1)\n",
    "            # output = torch.softmax(self.leaf_nodes[torch.max(_mu,1).indices,:].to(self.device),dim=1)  \n",
    "            return torch.log(output+1e-18),_penalty\n",
    "        else:\n",
    "            # output = torch.matmul(_mu, torch.softmax(self.leaf_nodes.to(self.device),dim=1))  \n",
    "            output = torch.softmax(self.leaf_nodes[torch.max(_mu,1).indices,:].to(self.device),dim=1)\n",
    "            # print(output.shape)\n",
    "            return torch.log(output+1e-18)\n",
    "\n",
    "        # When `X` is the training data, the model also returns the penalty\n",
    "        # to compute the training loss.\n",
    "\n",
    "\n",
    "    def _forward(self, X):\n",
    "        \"\"\"Implementation on the data forwarding process.\"\"\"\n",
    "        \n",
    "\n",
    "\n",
    "        batch_size = X.size()[0]\n",
    "\n",
    "        # X = X[:,self.node_path]\n",
    "        X = X[:,self.clf.tree_.feature[self.node_path]]\n",
    "        gain = self.node_gain[0][self.node_path].to(self.device)\n",
    "\n",
    "\n",
    "        X = (X  - self.node_threshold.to(self.device)) * gain\n",
    "\n",
    "        X = self.dropout(X)\n",
    "\n",
    "        path_prob = torch.sigmoid(X)\n",
    "        path_prob = torch.unsqueeze(path_prob, dim=3)\n",
    "        path_prob = torch.cat((path_prob, 1 - path_prob), dim=3)\n",
    "\n",
    "        _mu = X.data.new(batch_size, self.leaf_num).fill_(1.0)\n",
    "\n",
    "        for layer_idx in range(1, self.args['depth']+1):\n",
    "            select_leaf = self.leaf_depth==layer_idx\n",
    "            if sum(select_leaf) > 0:\n",
    "                mu_temp = path_prob[:,select_leaf,:layer_idx,:]\n",
    "                mu_temp_index = torch.argwhere(mu_temp[0,:,:,0])\n",
    "                mu_temp = mu_temp[:,mu_temp_index[:,0].reshape(mu_temp[0,:,:,0].shape),mu_temp_index[:,1].reshape(mu_temp[0,:,:,0].shape),node_path_left_right[select_leaf,:layer_idx,1]]\n",
    "                \n",
    "                _mu[:,select_leaf] = torch.prod(mu_temp,-1)\n",
    "\n",
    "\n",
    "        \n",
    "\n",
    "        _penalty = torch.tensor(0.0)\n",
    "\n",
    "\n",
    "\n",
    "        return _mu, _penalty\n",
    "\n",
    "    def _cal_penalty(self, layer_idx, _mu, _path_prob):\n",
    "        \"\"\"\n",
    "        Compute the regularization term for internal nodes in different layers.\n",
    "        \"\"\"\n",
    "\n",
    "        penalty = torch.tensor(0.0)\n",
    "\n",
    "        batch_size = _mu.size()[0]\n",
    "        _mu = _mu.view(batch_size, -1)\n",
    "        _path_prob = _path_prob.view(batch_size,-1)\n",
    "\n",
    "        for node in range(0, _path_prob.shape[1]):\n",
    "            alpha = torch.sum(\n",
    "                _path_prob[:, node] * _mu[:, node // 2], dim=0\n",
    "            ) / torch.sum(_mu[:, node // 2], dim=0)\n",
    "\n",
    "            coeff = self.penalty_list[layer_idx]\n",
    "\n",
    "            penalty -= 0.5 * coeff * (torch.log(alpha) + torch.log(1 - alpha))\n",
    "\n",
    "        return penalty\n",
    "\n",
    "    def _data_augment(self, X):\n",
    "        \"\"\"Add a constant input `1` onto the front of each sample.\"\"\"\n",
    "        batch_size = X.size()[0]\n",
    "        X = X.view(batch_size, -1)\n",
    "        # bias = torch.ones(batch_size, 1).to(self.device)\n",
    "        # X = torch.cat((bias, X), 1)\n",
    "\n",
    "        return X\n",
    "\n",
    "    def _validate_parameters(self):\n",
    "\n",
    "        if not self.depth > 0:\n",
    "            msg = (\"The tree depth should be strictly positive, but got {}\"\n",
    "                   \"instead.\")\n",
    "            raise ValueError(msg.format(self.depth))\n",
    "\n",
    "        if not self.lamda >= 0:\n",
    "            msg = (\n",
    "                \"The coefficient of the regularization term should not be\"\n",
    "                \" negative, but got {} instead.\"\n",
    "            )\n",
    "            raise ValueError(msg.format(self.lamda))"
   ]
  },
  {
   "cell_type": "code",
   "execution_count": 5,
   "metadata": {},
   "outputs": [],
   "source": [
    "class Mnist_dataset(Dataset):\n",
    "    def __init__(self, X_train, X_test, y_train, y_test, train_flag = 1):\n",
    "        if train_flag:\n",
    "            self.X_data = X_train\n",
    "            self.y_data = y_train\n",
    "        else:\n",
    "            self.X_data = X_test\n",
    "            self.y_data = y_test\n",
    "\n",
    "    def __len__(self):\n",
    "        return len(self.y_data)\n",
    "\n",
    "    def __getitem__(self, idx):\n",
    "        Y = self.y_data[idx,:]\n",
    "        X = self.X_data[idx,:]\n",
    "        return X, Y"
   ]
  },
  {
   "cell_type": "code",
   "execution_count": 6,
   "metadata": {},
   "outputs": [
    {
     "name": "stdout",
     "output_type": "stream",
     "text": [
      "X_train.shape before resize and reshape:  (60000, 28, 28)\n"
     ]
    },
    {
     "data": {
      "image/png": "[encoded data removed]",
      "text/plain": [
       "<Figure size 640x480 with 4 Axes>"
      ]
     },
     "metadata": {},
     "output_type": "display_data"
    }
   ],
   "source": [
    "# (X_train, y_train), (X_test, y_test) = mnist.load_data()\n",
    "(X_train, y_train), (X_test, y_test) = tf.keras.datasets.mnist.load_data()\n",
    "#\n",
    "print('X_train.shape before resize and reshape: ' , X_train.shape)\n",
    "\n",
    "plt.subplot(221)\n",
    "plt.imshow(X_train[0], cmap=plt.get_cmap('gray'))\n",
    "plt.subplot(222)\n",
    "plt.imshow(X_train[1], cmap=plt.get_cmap('gray'))\n",
    "plt.subplot(223)\n",
    "plt.imshow(X_train[2], cmap=plt.get_cmap('gray'))\n",
    "plt.subplot(224)\n",
    "plt.imshow(X_train[3], cmap=plt.get_cmap('gray'))\n",
    "# show the plot\n",
    "plt.show()"
   ]
  },
  {
   "cell_type": "code",
   "execution_count": null,
   "metadata": {},
   "outputs": [
    {
     "name": "stdout",
     "output_type": "stream",
     "text": [
      "X_train.shape after resize and reshape:  (60000, 784)\n"
     ]
    }
   ],
   "source": [
    "X_train_resize, X_test_resize = X_train,X_test\n",
    "\n",
    "num_pixels = X_train_resize.shape[1] * X_train_resize.shape[2]\n",
    "\n",
    "X_train_resize = X_train_resize.reshape(X_train_resize.shape[0], num_pixels).astype('float32')\n",
    "X_test_resize = X_test_resize.reshape(X_test_resize.shape[0], num_pixels).astype('float32')\n",
    "\n",
    "\n",
    "print('X_train.shape after resize and reshape: ' , X_train_resize.shape)\n",
    "\n",
    "# normalize inputs from 0-255 to 0-1\n",
    "X_train_resize = X_train_resize / 255\n",
    "X_test_resize = X_test_resize / 255\n",
    "\n",
    "# one hot encode outputs\n",
    "# y_train = np_utils.to_categorical(y_train)\n",
    "# Y_train = np_utils.to_categorical(y_train)\n",
    "# Y_test = np_utils.to_categorical(y_test)\n",
    "\n",
    "# num_classes = Y_test.shape[1]"
   ]
  },
  {
   "cell_type": "code",
   "execution_count": 8,
   "metadata": {},
   "outputs": [
    {
     "name": "stdout",
     "output_type": "stream",
     "text": [
      "Training accuracy for our baseline (using all pixel features): 98.83%\n",
      "Validation accuracy for our baseline (using all pixel features): 88.11%\n"
     ]
    }
   ],
   "source": [
    "best_depth = 16\n",
    "clf = DecisionTreeClassifier(max_depth=best_depth,random_state=seed)\n",
    "clf.fit(X_train_resize, y_train)\n",
    "# clf = clf_new\n",
    "\n",
    "train_preds_baseline = clf.predict(X_train_resize)\n",
    "val_preds_baseline = clf.predict(X_test_resize)\n",
    "acc_baseline_train = acc(train_preds_baseline, y_train)\n",
    "acc_baseline_val = acc(val_preds_baseline, y_test)\n",
    "\n",
    "print(f'Training accuracy for our baseline (using all pixel features): {acc_baseline_train}%')\n",
    "print(f'Validation accuracy for our baseline (using all pixel features): {acc_baseline_val}%')\n"
   ]
  },
  {
   "cell_type": "code",
   "execution_count": 9,
   "metadata": {},
   "outputs": [],
   "source": [
    "\n",
    "Y_train = to_categorical(y_train)\n",
    "Y_test = to_categorical(y_test)"
   ]
  },
  {
   "cell_type": "code",
   "execution_count": 10,
   "metadata": {},
   "outputs": [],
   "source": [
    "class Mnist_dataset(Dataset):\n",
    "    def __init__(self, X_train, X_test, y_train, y_test, train_flag = 1):\n",
    "        if train_flag:\n",
    "            self.X_data = X_train\n",
    "            self.y_data = y_train\n",
    "        else:\n",
    "            self.X_data = X_test\n",
    "            self.y_data = y_test\n",
    "\n",
    "    def __len__(self):\n",
    "        return len(self.y_data)\n",
    "\n",
    "    def __getitem__(self, idx):\n",
    "        Y = self.y_data[idx,:]\n",
    "        X = self.X_data[idx,:]\n",
    "        return X, Y"
   ]
  },
  {
   "cell_type": "code",
   "execution_count": 11,
   "metadata": {},
   "outputs": [],
   "source": [
    "test_loader = torch.utils.data.DataLoader(\n",
    "        Mnist_dataset(X_train_resize,\n",
    "                        X_test_resize,\n",
    "                        Y_train,\n",
    "                        Y_test,\n",
    "                        train_flag=0),\n",
    "        batch_size=100,\n",
    "        shuffle=False,\n",
    "    )"
   ]
  },
  {
   "cell_type": "code",
   "execution_count": 12,
   "metadata": {},
   "outputs": [],
   "source": [
    "args = {}\n",
    "# args['input_dim'] = 7 * 7    # the number of input dimensions\n",
    "args['output_dim'] = 10        # the number of outputs (i.e., # classes on MNIST)\n",
    "args['input_dim'] = num_pixels    # the number of input dimensions\n",
    "args['depth'] = 16           # tree depth\n",
    "args['lamda'] = 1e-4           # coefficient of the regularization term\n",
    "args['lr'] = 1e-4              # learning rate 1e-3\n",
    "args['weight_decaly'] = 0      # weight decay 5e-5\n",
    "args['batch_size'] = 100       # batch size\n",
    "args['epochs'] = 100            # the number of training epochs\n",
    "args['log_interval'] = 100     # the number of batches to wait before printing logs\n",
    "args['use_cuda'] = True       # whether to use GPU\n",
    "device = torch.device(\"cuda:0\" if args['use_cuda'] else \"cpu\")"
   ]
  },
  {
   "cell_type": "code",
   "execution_count": null,
   "metadata": {},
   "outputs": [],
   "source": []
  },
  {
   "cell_type": "code",
   "execution_count": 20,
   "metadata": {},
   "outputs": [
    {
     "data": {
      "text/plain": [
       "SDT(\n",
       "  (dropout): Dropout(p=0.25, inplace=False)\n",
       ")"
      ]
     },
     "execution_count": 20,
     "metadata": {},
     "output_type": "execute_result"
    }
   ],
   "source": [
    "tree_depth = 16\n",
    "model_accuracy = 90.95\n",
    "# clf = load('./sdt_model/'+str(tree_depth)+'_dt_.joblib')\n",
    "node_path_left_right,node_depth = get_tree_path(clf)\n",
    "args['use_cuda'] = False\n",
    "tree = SDT(clf,node_depth,node_path_left_right,args)\n",
    "clf_save_path = './sdt_model/'+str(tree_depth)+'_sdt.pth'\n",
    "# clf_save_path = './sdt_model/'+str(tree_depth)+'_model_'+str(model_accuracy)+'.pth'\n",
    "tree.load_state_dict(torch.load(clf_save_path))\n",
    "tree.eval()"
   ]
  },
  {
   "cell_type": "code",
   "execution_count": 21,
   "metadata": {},
   "outputs": [
    {
     "data": {
      "text/plain": [
       "SDT(\n",
       "  (dropout): Dropout(p=0.25, inplace=False)\n",
       ")"
      ]
     },
     "execution_count": 21,
     "metadata": {},
     "output_type": "execute_result"
    }
   ],
   "source": [
    "tree"
   ]
  },
  {
   "cell_type": "code",
   "execution_count": 58,
   "metadata": {},
   "outputs": [],
   "source": [
    "tree.node_gain = nn.Parameter(data=torch.ones(tree.node_gain.shape)*(-10),requires_grad=False)"
   ]
  },
  {
   "cell_type": "code",
   "execution_count": 83,
   "metadata": {},
   "outputs": [
    {
     "data": {
      "text/plain": [
       "SDT(\n",
       "  (dropout): Dropout(p=0.25, inplace=False)\n",
       ")"
      ]
     },
     "execution_count": 83,
     "metadata": {},
     "output_type": "execute_result"
    }
   ],
   "source": [
    "tree"
   ]
  },
  {
   "cell_type": "code",
   "execution_count": null,
   "metadata": {},
   "outputs": [
    {
     "name": "stdout",
     "output_type": "stream",
     "text": [
      "(3233, 16, 2)\n"
     ]
    },
    {
     "data": {
      "text/plain": [
       "array([[   0,    1,    2, ...,   13,   14,   15],\n",
       "       [   0,    1,    2, ...,   13,   14,   15],\n",
       "       [   0,    1,    2, ...,   13,   14,   18],\n",
       "       ...,\n",
       "       [   0, 3800, 5226, ...,    0,    0,    0],\n",
       "       [   0, 3800, 5226, ...,    0,    0,    0],\n",
       "       [   0, 3800, 5226, ...,    0,    0,    0]])"
      ]
     },
     "execution_count": 109,
     "metadata": {},
     "output_type": "execute_result"
    }
   ],
   "source": [
    "# row: path\n",
    "# column: depth\n",
    "# values: node index corresponding to sklearn tree clf.tree_.feature\n",
    "print(tree['node_path_left_right'].shape)\n",
    "tree['node_path_left_right'][:,:,0]"
   ]
  },
  {
   "cell_type": "code",
   "execution_count": null,
   "metadata": {},
   "outputs": [
    {
     "data": {
      "text/plain": [
       "array([[350, 568, 430, ..., 461, 639, 151],\n",
       "       [350, 568, 430, ..., 461, 639, 151],\n",
       "       [350, 568, 430, ..., 461, 639, 326],\n",
       "       ...,\n",
       "       [350, 489, 234, ..., 350, 350, 350],\n",
       "       [350, 489, 234, ..., 350, 350, 350],\n",
       "       [350, 489, 234, ..., 350, 350, 350]], dtype=int64)"
      ]
     },
     "execution_count": 114,
     "metadata": {},
     "output_type": "execute_result"
    }
   ],
   "source": [
    "# row: path\n",
    "# column: depth\n",
    "# values: feature index, need to consider tree's leaf_depth, \n",
    "clf.tree_.feature[tree['node_path_left_right'][:,:,0]]"
   ]
  },
  {
   "cell_type": "code",
   "execution_count": null,
   "metadata": {},
   "outputs": [
    {
     "data": {
      "text/plain": [
       "array([350, 489, 234, 658, 515, 319, 294, 441, 407, 148,  -2, 350, 350,\n",
       "       350, 350, 350], dtype=int64)"
      ]
     },
     "execution_count": 115,
     "metadata": {},
     "output_type": "execute_result"
    }
   ],
   "source": [
    "# -2 means leaf node just as the set in sklearn\n",
    "# e.g. for the last leaf on the last row, the leaf depth is 10, so the values at the right of \"-2\" is meaningless\n",
    "clf.tree_.feature[tree['node_path_left_right'][:,:,0]][-1,:]"
   ]
  },
  {
   "cell_type": "code",
   "execution_count": null,
   "metadata": {},
   "outputs": [
    {
     "name": "stdout",
     "output_type": "stream",
     "text": [
      "(3233, 16, 2)\n"
     ]
    },
    {
     "data": {
      "text/plain": [
       "array([[0, 0, 0, ..., 0, 0, 0],\n",
       "       [0, 0, 0, ..., 0, 0, 1],\n",
       "       [0, 0, 0, ..., 0, 1, 0],\n",
       "       ...,\n",
       "       [1, 1, 1, ..., 0, 0, 0],\n",
       "       [1, 1, 1, ..., 0, 0, 0],\n",
       "       [1, 1, 1, ..., 0, 0, 0]])"
      ]
     },
     "execution_count": 117,
     "metadata": {},
     "output_type": "execute_result"
    }
   ],
   "source": [
    "# row: path\n",
    "# column: depth\n",
    "# values: left children: 0, right children: 1 , also need to consider tree's leaf_depth\n",
    "print(tree['node_path_left_right'].shape)\n",
    "tree['node_path_left_right'][:,:,1]"
   ]
  },
  {
   "cell_type": "code",
   "execution_count": 121,
   "metadata": {},
   "outputs": [
    {
     "name": "stdout",
     "output_type": "stream",
     "text": [
      "(3233,)\n"
     ]
    },
    {
     "data": {
      "text/plain": [
       "array([16, 16, 16, ..., 11, 11, 10])"
      ]
     },
     "execution_count": 121,
     "metadata": {},
     "output_type": "execute_result"
    }
   ],
   "source": [
    "# leaf depth for each row/path\n",
    "print(tree['leaf_depth'].shape)\n",
    "tree['leaf_depth']"
   ]
  },
  {
   "cell_type": "code",
   "execution_count": 104,
   "metadata": {},
   "outputs": [],
   "source": [
    "output_tree = {\n",
    "    \"leaf_depth\":tree.leaf_depth,\n",
    "    \"node_path_left_right\":tree.node_path_left_right,\n",
    "    \"leaf_depth\":tree.leaf_depth\n",
    "                   \n",
    "                   }"
   ]
  },
  {
   "cell_type": "code",
   "execution_count": 97,
   "metadata": {},
   "outputs": [],
   "source": [
    "\n",
    "f_save = open('soft_decision_tree_16_mnist.pkl', 'wb')\n",
    "pickle.dump(output_tree, f_save)\n",
    "f_save.close()"
   ]
  },
  {
   "cell_type": "code",
   "execution_count": 16,
   "metadata": {},
   "outputs": [
    {
     "name": "stdout",
     "output_type": "stream",
     "text": [
      "{'leaf_depth': array([16, 16, 16, ..., 11, 11, 10]), 'node_path_left_right': array([[[   0,    0],\n",
      "        [   1,    0],\n",
      "        [   2,    0],\n",
      "        ...,\n",
      "        [  13,    0],\n",
      "        [  14,    0],\n",
      "        [  15,    0]],\n",
      "\n",
      "       [[   0,    0],\n",
      "        [   1,    0],\n",
      "        [   2,    0],\n",
      "        ...,\n",
      "        [  13,    0],\n",
      "        [  14,    0],\n",
      "        [  15,    1]],\n",
      "\n",
      "       [[   0,    0],\n",
      "        [   1,    0],\n",
      "        [   2,    0],\n",
      "        ...,\n",
      "        [  13,    0],\n",
      "        [  14,    1],\n",
      "        [  18,    0]],\n",
      "\n",
      "       ...,\n",
      "\n",
      "       [[   0,    1],\n",
      "        [3800,    1],\n",
      "        [5226,    1],\n",
      "        ...,\n",
      "        [   0,    0],\n",
      "        [   0,    0],\n",
      "        [   0,    0]],\n",
      "\n",
      "       [[   0,    1],\n",
      "        [3800,    1],\n",
      "        [5226,    1],\n",
      "        ...,\n",
      "        [   0,    0],\n",
      "        [   0,    0],\n",
      "        [   0,    0]],\n",
      "\n",
      "       [[   0,    1],\n",
      "        [3800,    1],\n",
      "        [5226,    1],\n",
      "        ...,\n",
      "        [   0,    0],\n",
      "        [   0,    0],\n",
      "        [   0,    0]]])}\n"
     ]
    }
   ],
   "source": [
    "f_read = open('soft_decision_tree_16_mnist.pkl', 'rb')\n",
    "tree = pickle.load(f_read)\n",
    "print(tree)\n",
    "f_read.close()"
   ]
  },
  {
   "cell_type": "code",
   "execution_count": null,
   "metadata": {},
   "outputs": [
    {
     "data": {
      "text/plain": [
       "array([[350, 568, 430, ..., 461, 639, 151],\n",
       "       [350, 568, 430, ..., 461, 639, 151],\n",
       "       [350, 568, 430, ..., 461, 639, 326],\n",
       "       ...,\n",
       "       [350, 489, 234, ..., 350, 350, 350],\n",
       "       [350, 489, 234, ..., 350, 350, 350],\n",
       "       [350, 489, 234, ..., 350, 350, 350]], dtype=int64)"
      ]
     },
     "execution_count": 93,
     "metadata": {},
     "output_type": "execute_result"
    }
   ],
   "source": []
  },
  {
   "cell_type": "code",
   "execution_count": 19,
   "metadata": {},
   "outputs": [
    {
     "data": {
      "text/plain": [
       "['./sdt_model/16_dt_.joblib']"
      ]
     },
     "execution_count": 19,
     "metadata": {},
     "output_type": "execute_result"
    }
   ],
   "source": [
    "# dump(clf, './sdt_model/'+str(tree_depth)+'_dt_.joblib') "
   ]
  },
  {
   "cell_type": "code",
   "execution_count": 39,
   "metadata": {},
   "outputs": [
    {
     "data": {
      "text/plain": [
       "0.5"
      ]
     },
     "execution_count": 39,
     "metadata": {},
     "output_type": "execute_result"
    }
   ],
   "source": [
    "noisy_data = data + torch.tensor(np.random.randn(data.shape[0],data.shape[1])*noise_level,device=device)\n",
    "noise_level"
   ]
  },
  {
   "cell_type": "code",
   "execution_count": 50,
   "metadata": {},
   "outputs": [],
   "source": [
    "X_test_noisy = X_test_resize + np.random.randn(X_test_resize.shape[0],X_test_resize.shape[1])*noise_level"
   ]
  },
  {
   "cell_type": "code",
   "execution_count": 51,
   "metadata": {},
   "outputs": [
    {
     "name": "stderr",
     "output_type": "stream",
     "text": [
      "100%|██████████| 10/10 [00:10<00:00,  1.05s/it]\n",
      "100%|██████████| 10/10 [00:10<00:00,  1.05s/it]\n",
      "100%|██████████| 10/10 [00:10<00:00,  1.07s/it]\n",
      "100%|██████████| 10/10 [00:10<00:00,  1.08s/it]\n",
      "100%|██████████| 10/10 [00:10<00:00,  1.10s/it]\n",
      "100%|██████████| 10/10 [00:11<00:00,  1.12s/it]\n",
      "100%|██████████| 6/6 [01:04<00:00, 10.80s/it]\n"
     ]
    }
   ],
   "source": [
    "# clf_new = load('./srf_model/'+str(best_depth)+'_dt_.joblib') \n",
    "# clf_rf_new = load('./srf_model/'+str(best_depth)+'_rf_.joblib')\n",
    "# node_depth,node_path_left_right = tree_path(clf_new)\n",
    "# load_tree = SDT(clf_new,node_depth,node_path_left_right,args)\n",
    "# load_rf = SRF(clf_rf_new,args)\n",
    "# # load_tree.load_state_dict(torch.load(clf_save_path))\n",
    "# load_rf.load_state_dict(torch.load(clf_rf_save_path))\n",
    "# # load_tree.eval()\n",
    "# load_rf.eval()\n",
    "args['use_cuda'] = True  \n",
    "n = 10000\n",
    "X_test_tensor = torch.tensor(X_test_resize[:n,:])\n",
    "tree_depth=16\n",
    "noise_type = 0 # uniform 1 gaussian 0\n",
    "noise_flag = 0 # noisy data 0 \n",
    "acc_all = pd.DataFrame()\n",
    "for noise_level in tqdm(np.arange(0,0.55,0.1)):\n",
    "    for i in tqdm(range(10)):\n",
    "        # clf_new = joblib.load('./sdt_models/'+'credit_'+str(best_depth)+'_dt_.joblib') \n",
    "        # clf_new = joblib.load('./sdt_models/'+'bankmarketing_'+str(best_depth)+'_dt_.joblib') \n",
    "        # rf_new = joblib.load('./sdt_models/'+'bankmarketing_'+str(best_depth)+'_rf_'+str(np.round(accuracy,2))+'.joblib')\n",
    "\n",
    "        # clf_new = load('./srf_model/'+str(best_depth)+'_dt.joblib') \n",
    "        # clf_rf_new = load('./srf_model/'+str(best_depth)+'_rf.joblib') \n",
    "        clf_new = load('./sdt_model/'+str(tree_depth)+'_dt_.joblib') \n",
    "        # clf_new  =clf\n",
    "        # clf_rf_new = load('./srf_model/'+str(best_depth)+'_rf.joblib')\n",
    "\n",
    "\n",
    "        # clf_new = joblib.load('./sdt_models/'+'bankmarketing_'+str(best_depth)+'_dt_'+str(np.round(accuracy,2))+'.joblib') \n",
    "        # clf_new = joblib.load('./sdt_models/'+'Diabetes_'+str(best_depth)+'_dt_.joblib') \n",
    "        # clf_new = joblib.load('./sdt_models/'+'clients_'+str(best_depth)+'_dt_.joblib') \n",
    "        correct = 0.\n",
    "        \n",
    "        load_tree = SDT(clf_new,node_depth,node_path_left_right,args)\n",
    "        # load_rf = SRF(clf_rf_new,args)\n",
    "\n",
    "\n",
    "\n",
    "        # load_tree = SDT(rf_new,node_depth,node_path_left_right,args)\n",
    "        # load_tree = SRF(rf_new,args)\n",
    "        if args['use_cuda']:\n",
    "            load_tree.load_state_dict(torch.load(clf_save_path))\n",
    "            # load_rf.load_state_dict(torch.load(clf_rf_save_path))\n",
    "            load_tree = load_tree.to(device)\n",
    "            # load_rf = load_rf.to(device)\n",
    "        else:\n",
    "            load_tree.load_state_dict(torch.load(clf_save_path,map_location=torch.device('cpu') ))\n",
    "            # load_rf.load_state_dict(torch.load(clf_rf_save_path,map_location=torch.device('cpu') ))\n",
    "        load_tree.node_gain = nn.Parameter(data=torch.ones(tree.node_gain.shape)*(-10),requires_grad=False)\n",
    "        load_tree = load_tree.to(device)\n",
    "        load_tree.eval()\n",
    "        # load_rf.eval()\n",
    "        \n",
    "        if noise_flag:\n",
    "            if noise_type:\n",
    "                load_tree.node_threshold.data = load_tree.node_threshold.data.cpu() + torch.tensor(np.random.random(load_tree.node_threshold.data.shape)*noise_level-0.5*noise_level)\n",
    "                # load_rf.node_threshold.data = load_rf.node_threshold.data.cpu() + torch.tensor(np.random.random(load_rf.node_threshold.data.shape)*noise_level-0.5*noise_level)\n",
    "            else:\n",
    "                load_tree.node_threshold.data = load_tree.node_threshold.data.cpu() + torch.tensor(np.random.randn(load_tree.node_threshold.data.shape[0],load_tree.node_threshold.data.shape[1])*noise_level)\n",
    "                # load_rf.node_threshold.data = load_rf.node_threshold.data.cpu() + torch.tensor(np.random.randn(load_rf.node_threshold.data.shape[0],load_rf.node_threshold.data.shape[1])*noise_level)\n",
    "        \n",
    "\n",
    "        \n",
    "\n",
    "        new_clf = DecisionTreeClassifier(max_depth=best_depth,random_state=seed)\n",
    "        new_clf.tree_ = clf_new.tree_\n",
    "        new_clf = deepcopy(clf_new)\n",
    "        if noise_flag:\n",
    "            if noise_type:\n",
    "                new_clf.tree_.threshold[:] = clf_new.tree_.threshold[:] + np.random.random(clf_new.tree_.threshold[:].shape)*noise_level-0.5*noise_level\n",
    "            else:\n",
    "                new_clf.tree_.threshold[:] = clf_new.tree_.threshold[:] + np.random.randn(clf_new.tree_.threshold[:].shape[0])*noise_level\n",
    "            preds_clf = new_clf.predict(X_test_resize)\n",
    "        else:\n",
    "            X_test_noisy = X_test_resize + np.random.randn(X_test_resize.shape[0],X_test_resize.shape[1])*noise_level\n",
    "            preds_clf = new_clf.predict(X_test_noisy)\n",
    "            \n",
    "        \n",
    "        # val_preds_baseline = np.argmax(val_preds_baseline,1)\n",
    "        acc_clf = acc(preds_clf, torch.argmax(torch.tensor(Y_test),1))\n",
    "        # acc_baseline_val = acc(val_preds_baseline, torch.argmax(torch.tensor(y_test),1))\n",
    "\n",
    "        acc_dt = pd.DataFrame([acc_clf],columns=['Accuracy'])\n",
    "        # acc_dt['Accuracy']=acc_baseline_val\n",
    "        acc_dt['Model']='DT'\n",
    "        acc_dt['Noise level']=noise_level\n",
    "        acc_all = pd.concat((acc_all,acc_dt),axis=0,ignore_index=True)\n",
    "\n",
    "        # new_rf = RandomForestClassifier(50, min_samples_leaf=3, criterion=\"gini\",random_state=seed,max_depth=best_depth)\n",
    "        # new_rf = deepcopy(clf_rf_new)\n",
    "\n",
    "        # for i in range(50):\n",
    "        #     if noise_type:\n",
    "        #         new_rf.estimators_[i].tree_.threshold[:] = new_rf.estimators_[i].tree_.threshold[:] + np.random.random(new_rf.estimators_[i].tree_.threshold[:].shape)*noise_level-0.5*noise_level\n",
    "        #     else:\n",
    "        #         new_rf.estimators_[i].tree_.threshold[:] = new_rf.estimators_[i].tree_.threshold[:] + np.random.randn(new_rf.estimators_[i].tree_.threshold[:].shape[0])*noise_level\n",
    "                \n",
    "        \n",
    "        # preds_rf = new_rf.predict(X_test_resize)\n",
    "        # acc_baseline_val = acc(val_preds_baseline, torch.argmax(torch.tensor(y_test),1))\n",
    "        # acc_clf_rf = acc(preds_rf,torch.argmax(torch.tensor(y_test),1))\n",
    "        # acc_rf = pd.DataFrame([acc_clf_rf],columns=['Accuracy'])\n",
    "        # acc_rf['Model']='RF'\n",
    "        # acc_rf['Noise level']=noise_level\n",
    "        # acc_all = pd.concat((acc_all,acc_rf),axis=0,ignore_index=True)\n",
    "\n",
    "        \n",
    "\n",
    "\n",
    "\n",
    "        correct = 0.\n",
    "        correct_ = 0.\n",
    "\n",
    "        # with torch.no_grad():\n",
    "        #         output = load_tree.forward(X_test_tensor[:n,:])\n",
    "        #         pred = torch.argmax(output,1)\n",
    "        #         correct = pred.eq(torch.argmax(target,1)).sum()\n",
    "\n",
    "        for batch_idx, (data, target) in enumerate(test_loader):\n",
    "\n",
    "            batch_size = data.size()[0]\n",
    "            data, target = data.to(device), target.to(device)\n",
    "\n",
    "            # output = torch.softmax(tree.forward(data),dim=1)\n",
    "            if noise_flag:\n",
    "                output = load_tree.forward(data)\n",
    "            else:\n",
    "                \n",
    "                noisy_data = data + torch.tensor(np.random.randn(data.shape[0],data.shape[1])*noise_level,device=device)\n",
    "                output = load_tree.forward(noisy_data)\n",
    "\n",
    "            # output_ = load_rf.forward(data)\n",
    "\n",
    "            pred = torch.argmax(output,1)\n",
    "            # pred_ = torch.argmax(output_,1)\n",
    "            correct += pred.eq(torch.argmax(target,1)).sum()\n",
    "            # correct_ += pred_.eq(torch.argmax(target,1)).sum()\n",
    "        accuracy_sdt = 100.0 * float(correct) / len(test_loader.dataset)\n",
    "        # accuracy_srf = 100.0 * float(correct_) / len(test_loader.dataset)\n",
    "        # print(accuracy)\n",
    "        # acc_sdt = pd.DataFrame([accuracy,'SDT'],columns=['Accuracy','Model'])\n",
    "        acc_sdt = pd.DataFrame([accuracy_sdt],columns=['Accuracy'])\n",
    "        # acc_srf = pd.DataFrame([accuracy_srf],columns=['Accuracy'])\n",
    "        # acc_sdt['Accuracy']=accuracy\n",
    "        acc_sdt['Model']='SDT'\n",
    "        acc_sdt['Noise level']=noise_level\n",
    "        # acc_srf['Model']='SRF'\n",
    "        # acc_srf['Noise level']=noise_level\n",
    "\n",
    "        acc_all = pd.concat((acc_all,acc_sdt),axis=0,ignore_index=True)\n",
    "        # acc_all = pd.concat((acc_all,acc_srf),axis=0,ignore_index=True)\n",
    "    # acc_all.append([acc_baseline_val,accuracy])\n",
    "# print(np.mean(acc_all,0))"
   ]
  },
  {
   "cell_type": "code",
   "execution_count": 56,
   "metadata": {},
   "outputs": [],
   "source": [
    "acc_all['noise type']='noisy input'"
   ]
  },
  {
   "cell_type": "code",
   "execution_count": 57,
   "metadata": {},
   "outputs": [
    {
     "name": "stderr",
     "output_type": "stream",
     "text": [
      "100%|██████████| 10/10 [00:10<00:00,  1.00s/it]\n",
      "100%|██████████| 10/10 [00:07<00:00,  1.25it/s]\n",
      "100%|██████████| 10/10 [00:07<00:00,  1.31it/s]\n",
      "100%|██████████| 10/10 [00:07<00:00,  1.32it/s]\n",
      "100%|██████████| 10/10 [00:07<00:00,  1.31it/s]\n",
      "100%|██████████| 10/10 [00:07<00:00,  1.31it/s]\n",
      "100%|██████████| 6/6 [00:48<00:00,  8.09s/it]\n"
     ]
    }
   ],
   "source": [
    "# clf_new = load('./srf_model/'+str(best_depth)+'_dt_.joblib') \n",
    "# clf_rf_new = load('./srf_model/'+str(best_depth)+'_rf_.joblib')\n",
    "# node_depth,node_path_left_right = tree_path(clf_new)\n",
    "# load_tree = SDT(clf_new,node_depth,node_path_left_right,args)\n",
    "# load_rf = SRF(clf_rf_new,args)\n",
    "# # load_tree.load_state_dict(torch.load(clf_save_path))\n",
    "# load_rf.load_state_dict(torch.load(clf_rf_save_path))\n",
    "# # load_tree.eval()\n",
    "# load_rf.eval()\n",
    "args['use_cuda'] = True  \n",
    "n = 10000\n",
    "X_test_tensor = torch.tensor(X_test_resize[:n,:])\n",
    "tree_depth=16\n",
    "noise_type = 0 # uniform 1 gaussian 0\n",
    "noise_flag = 1 # noisy data 0 \n",
    "# acc_all = pd.DataFrame()\n",
    "for noise_level in tqdm(np.arange(0,0.55,0.1)):\n",
    "    for i in tqdm(range(10)):\n",
    "        # clf_new = joblib.load('./sdt_models/'+'credit_'+str(best_depth)+'_dt_.joblib') \n",
    "        # clf_new = joblib.load('./sdt_models/'+'bankmarketing_'+str(best_depth)+'_dt_.joblib') \n",
    "        # rf_new = joblib.load('./sdt_models/'+'bankmarketing_'+str(best_depth)+'_rf_'+str(np.round(accuracy,2))+'.joblib')\n",
    "\n",
    "        # clf_new = load('./srf_model/'+str(best_depth)+'_dt.joblib') \n",
    "        # clf_rf_new = load('./srf_model/'+str(best_depth)+'_rf.joblib') \n",
    "        clf_new = load('./sdt_model/'+str(tree_depth)+'_dt_.joblib') \n",
    "        # clf_new  =clf\n",
    "        # clf_rf_new = load('./srf_model/'+str(best_depth)+'_rf.joblib')\n",
    "\n",
    "\n",
    "        # clf_new = joblib.load('./sdt_models/'+'bankmarketing_'+str(best_depth)+'_dt_'+str(np.round(accuracy,2))+'.joblib') \n",
    "        # clf_new = joblib.load('./sdt_models/'+'Diabetes_'+str(best_depth)+'_dt_.joblib') \n",
    "        # clf_new = joblib.load('./sdt_models/'+'clients_'+str(best_depth)+'_dt_.joblib') \n",
    "        correct = 0.\n",
    "        \n",
    "        load_tree = SDT(clf_new,node_depth,node_path_left_right,args)\n",
    "        # load_rf = SRF(clf_rf_new,args)\n",
    "\n",
    "\n",
    "\n",
    "        # load_tree = SDT(rf_new,node_depth,node_path_left_right,args)\n",
    "        # load_tree = SRF(rf_new,args)\n",
    "        if args['use_cuda']:\n",
    "            load_tree.load_state_dict(torch.load(clf_save_path))\n",
    "            # load_rf.load_state_dict(torch.load(clf_rf_save_path))\n",
    "            load_tree = load_tree.to(device)\n",
    "            # load_rf = load_rf.to(device)\n",
    "        else:\n",
    "            load_tree.load_state_dict(torch.load(clf_save_path,map_location=torch.device('cpu') ))\n",
    "            # load_rf.load_state_dict(torch.load(clf_rf_save_path,map_location=torch.device('cpu') ))\n",
    "        load_tree.node_gain = nn.Parameter(data=torch.ones(tree.node_gain.shape)*(-10),requires_grad=False)\n",
    "        load_tree = load_tree.to(device)\n",
    "        load_tree.eval()\n",
    "        # load_rf.eval()\n",
    "        \n",
    "        if noise_flag:\n",
    "            if noise_type:\n",
    "                load_tree.node_threshold.data = load_tree.node_threshold.data.cpu() + torch.tensor(np.random.random(load_tree.node_threshold.data.shape)*noise_level-0.5*noise_level)\n",
    "                # load_rf.node_threshold.data = load_rf.node_threshold.data.cpu() + torch.tensor(np.random.random(load_rf.node_threshold.data.shape)*noise_level-0.5*noise_level)\n",
    "            else:\n",
    "                load_tree.node_threshold.data = load_tree.node_threshold.data.cpu() + torch.tensor(np.random.randn(load_tree.node_threshold.data.shape[0],load_tree.node_threshold.data.shape[1])*noise_level)\n",
    "                # load_rf.node_threshold.data = load_rf.node_threshold.data.cpu() + torch.tensor(np.random.randn(load_rf.node_threshold.data.shape[0],load_rf.node_threshold.data.shape[1])*noise_level)\n",
    "        \n",
    "\n",
    "        \n",
    "\n",
    "        new_clf = DecisionTreeClassifier(max_depth=best_depth,random_state=seed)\n",
    "        new_clf.tree_ = clf_new.tree_\n",
    "        new_clf = deepcopy(clf_new)\n",
    "        if noise_flag:\n",
    "            if noise_type:\n",
    "                new_clf.tree_.threshold[:] = clf_new.tree_.threshold[:] + np.random.random(clf_new.tree_.threshold[:].shape)*noise_level-0.5*noise_level\n",
    "            else:\n",
    "                new_clf.tree_.threshold[:] = clf_new.tree_.threshold[:] + np.random.randn(clf_new.tree_.threshold[:].shape[0])*noise_level\n",
    "            preds_clf = new_clf.predict(X_test_resize)\n",
    "        else:\n",
    "            X_test_noisy = X_test_resize + np.random.randn(X_test_resize.shape[0],X_test_resize.shape[1])*noise_level\n",
    "            preds_clf = new_clf.predict(X_test_noisy)\n",
    "            \n",
    "        \n",
    "        # val_preds_baseline = np.argmax(val_preds_baseline,1)\n",
    "        acc_clf = acc(preds_clf, torch.argmax(torch.tensor(Y_test),1))\n",
    "        # acc_baseline_val = acc(val_preds_baseline, torch.argmax(torch.tensor(y_test),1))\n",
    "\n",
    "        acc_dt = pd.DataFrame([acc_clf],columns=['Accuracy'])\n",
    "        # acc_dt['Accuracy']=acc_baseline_val\n",
    "        acc_dt['Model']='DT'\n",
    "        acc_dt['Noise level']=noise_level\n",
    "        acc_dt['noise type']='device variation'\n",
    "        acc_all = pd.concat((acc_all,acc_dt),axis=0,ignore_index=True)\n",
    "\n",
    "        # new_rf = RandomForestClassifier(50, min_samples_leaf=3, criterion=\"gini\",random_state=seed,max_depth=best_depth)\n",
    "        # new_rf = deepcopy(clf_rf_new)\n",
    "\n",
    "        # for i in range(50):\n",
    "        #     if noise_type:\n",
    "        #         new_rf.estimators_[i].tree_.threshold[:] = new_rf.estimators_[i].tree_.threshold[:] + np.random.random(new_rf.estimators_[i].tree_.threshold[:].shape)*noise_level-0.5*noise_level\n",
    "        #     else:\n",
    "        #         new_rf.estimators_[i].tree_.threshold[:] = new_rf.estimators_[i].tree_.threshold[:] + np.random.randn(new_rf.estimators_[i].tree_.threshold[:].shape[0])*noise_level\n",
    "                \n",
    "        \n",
    "        # preds_rf = new_rf.predict(X_test_resize)\n",
    "        # acc_baseline_val = acc(val_preds_baseline, torch.argmax(torch.tensor(y_test),1))\n",
    "        # acc_clf_rf = acc(preds_rf,torch.argmax(torch.tensor(y_test),1))\n",
    "        # acc_rf = pd.DataFrame([acc_clf_rf],columns=['Accuracy'])\n",
    "        # acc_rf['Model']='RF'\n",
    "        # acc_rf['Noise level']=noise_level\n",
    "        # acc_all = pd.concat((acc_all,acc_rf),axis=0,ignore_index=True)\n",
    "\n",
    "        \n",
    "\n",
    "\n",
    "\n",
    "        correct = 0.\n",
    "        correct_ = 0.\n",
    "\n",
    "        # with torch.no_grad():\n",
    "        #         output = load_tree.forward(X_test_tensor[:n,:])\n",
    "        #         pred = torch.argmax(output,1)\n",
    "        #         correct = pred.eq(torch.argmax(target,1)).sum()\n",
    "\n",
    "        for batch_idx, (data, target) in enumerate(test_loader):\n",
    "\n",
    "            batch_size = data.size()[0]\n",
    "            data, target = data.to(device), target.to(device)\n",
    "\n",
    "            # output = torch.softmax(tree.forward(data),dim=1)\n",
    "            if noise_flag:\n",
    "                output = load_tree.forward(data)\n",
    "            else:\n",
    "                \n",
    "                noisy_data = data + torch.tensor(np.random.randn(data.shape[0],data.shape[1])*noise_level,device=device)\n",
    "                output = load_tree.forward(noisy_data)\n",
    "\n",
    "            # output_ = load_rf.forward(data)\n",
    "\n",
    "            pred = torch.argmax(output,1)\n",
    "            # pred_ = torch.argmax(output_,1)\n",
    "            correct += pred.eq(torch.argmax(target,1)).sum()\n",
    "            # correct_ += pred_.eq(torch.argmax(target,1)).sum()\n",
    "        accuracy_sdt = 100.0 * float(correct) / len(test_loader.dataset)\n",
    "        # accuracy_srf = 100.0 * float(correct_) / len(test_loader.dataset)\n",
    "        # print(accuracy)\n",
    "        # acc_sdt = pd.DataFrame([accuracy,'SDT'],columns=['Accuracy','Model'])\n",
    "        acc_sdt = pd.DataFrame([accuracy_sdt],columns=['Accuracy'])\n",
    "        # acc_srf = pd.DataFrame([accuracy_srf],columns=['Accuracy'])\n",
    "        # acc_sdt['Accuracy']=accuracy\n",
    "        acc_sdt['Model']='SDT'\n",
    "        acc_sdt['Noise level']=noise_level\n",
    "        # acc_srf['Model']='SRF'\n",
    "        # acc_srf['Noise level']=noise_level\n",
    "        acc_sdt['noise type']='device variation'\n",
    "        acc_all = pd.concat((acc_all,acc_sdt),axis=0,ignore_index=True)\n",
    "        # acc_all = pd.concat((acc_all,acc_srf),axis=0,ignore_index=True)\n",
    "    # acc_all.append([acc_baseline_val,accuracy])\n",
    "# print(np.mean(acc_all,0))"
   ]
  },
  {
   "cell_type": "code",
   "execution_count": null,
   "metadata": {},
   "outputs": [],
   "source": [
    "# n = 10000\n",
    "# # clf_new = load('./sdt_model/'+str(tree_depth)+'_dt_.joblib') \n",
    "# X_test_tensor = torch.tensor(X_test_resize[:n,:])\n",
    "# device = 'cpu'\n",
    "# X_test_tensor = X_test_tensor.to(device)\n",
    "# # load_tree = load_tree.to(device)\n",
    "# load_tree = SDT(clf,node_depth,node_path_left_right,args)\n",
    "# load_tree.load_state_dict(torch.load(clf_save_path))\n",
    "# # load_rf.load_state_dict(torch.load(clf_rf_save_path))\n",
    "# load_tree = load_tree.to(device)\n",
    "# with torch.no_grad():\n",
    "#         output = load_tree.forward(X_test_tensor[:n,:])\n",
    "#         pred = torch.argmax(output,1)\n",
    "#         correct = pred.eq(torch.tensor(y_test)).sum()"
   ]
  },
  {
   "cell_type": "code",
   "execution_count": null,
   "metadata": {},
   "outputs": [],
   "source": [
    "# correct = pred.eq(torch.tensor(y_test)).sum()"
   ]
  },
  {
   "cell_type": "code",
   "execution_count": null,
   "metadata": {},
   "outputs": [
    {
     "data": {
      "text/plain": [
       "tensor(0.6648)"
      ]
     },
     "execution_count": 36,
     "metadata": {},
     "output_type": "execute_result"
    }
   ],
   "source": [
    "# correct/len(y_test)"
   ]
  },
  {
   "cell_type": "code",
   "execution_count": null,
   "metadata": {},
   "outputs": [
    {
     "data": {
      "text/plain": [
       "tensor([7, 2, 1,  ..., 4, 5, 6])"
      ]
     },
     "execution_count": 37,
     "metadata": {},
     "output_type": "execute_result"
    }
   ],
   "source": [
    "# torch.argmax(torch.tensor(Y_test),1)"
   ]
  },
  {
   "cell_type": "code",
   "execution_count": 59,
   "metadata": {},
   "outputs": [
    {
     "data": {
      "text/html": [
       "<div>\n",
       "<style scoped>\n",
       "    .dataframe tbody tr th:only-of-type {\n",
       "        vertical-align: middle;\n",
       "    }\n",
       "\n",
       "    .dataframe tbody tr th {\n",
       "        vertical-align: top;\n",
       "    }\n",
       "\n",
       "    .dataframe thead th {\n",
       "        text-align: right;\n",
       "    }\n",
       "</style>\n",
       "<table border=\"1\" class=\"dataframe\">\n",
       "  <thead>\n",
       "    <tr style=\"text-align: right;\">\n",
       "      <th></th>\n",
       "      <th>Accuracy</th>\n",
       "      <th>Model</th>\n",
       "      <th>Noise level</th>\n",
       "      <th>noise type</th>\n",
       "    </tr>\n",
       "  </thead>\n",
       "  <tbody>\n",
       "    <tr>\n",
       "      <th>0</th>\n",
       "      <td>88.11</td>\n",
       "      <td>DT</td>\n",
       "      <td>0.0</td>\n",
       "      <td>noisy input</td>\n",
       "    </tr>\n",
       "    <tr>\n",
       "      <th>1</th>\n",
       "      <td>90.69</td>\n",
       "      <td>SDT</td>\n",
       "      <td>0.0</td>\n",
       "      <td>noisy input</td>\n",
       "    </tr>\n",
       "    <tr>\n",
       "      <th>2</th>\n",
       "      <td>88.11</td>\n",
       "      <td>DT</td>\n",
       "      <td>0.0</td>\n",
       "      <td>noisy input</td>\n",
       "    </tr>\n",
       "    <tr>\n",
       "      <th>3</th>\n",
       "      <td>90.69</td>\n",
       "      <td>SDT</td>\n",
       "      <td>0.0</td>\n",
       "      <td>noisy input</td>\n",
       "    </tr>\n",
       "    <tr>\n",
       "      <th>4</th>\n",
       "      <td>88.11</td>\n",
       "      <td>DT</td>\n",
       "      <td>0.0</td>\n",
       "      <td>noisy input</td>\n",
       "    </tr>\n",
       "    <tr>\n",
       "      <th>...</th>\n",
       "      <td>...</td>\n",
       "      <td>...</td>\n",
       "      <td>...</td>\n",
       "      <td>...</td>\n",
       "    </tr>\n",
       "    <tr>\n",
       "      <th>235</th>\n",
       "      <td>42.55</td>\n",
       "      <td>SDT</td>\n",
       "      <td>0.5</td>\n",
       "      <td>device variation</td>\n",
       "    </tr>\n",
       "    <tr>\n",
       "      <th>236</th>\n",
       "      <td>19.15</td>\n",
       "      <td>DT</td>\n",
       "      <td>0.5</td>\n",
       "      <td>device variation</td>\n",
       "    </tr>\n",
       "    <tr>\n",
       "      <th>237</th>\n",
       "      <td>43.49</td>\n",
       "      <td>SDT</td>\n",
       "      <td>0.5</td>\n",
       "      <td>device variation</td>\n",
       "    </tr>\n",
       "    <tr>\n",
       "      <th>238</th>\n",
       "      <td>18.28</td>\n",
       "      <td>DT</td>\n",
       "      <td>0.5</td>\n",
       "      <td>device variation</td>\n",
       "    </tr>\n",
       "    <tr>\n",
       "      <th>239</th>\n",
       "      <td>41.56</td>\n",
       "      <td>SDT</td>\n",
       "      <td>0.5</td>\n",
       "      <td>device variation</td>\n",
       "    </tr>\n",
       "  </tbody>\n",
       "</table>\n",
       "<p>240 rows × 4 columns</p>\n",
       "</div>"
      ],
      "text/plain": [
       "     Accuracy Model  Noise level        noise type\n",
       "0       88.11    DT          0.0       noisy input\n",
       "1       90.69   SDT          0.0       noisy input\n",
       "2       88.11    DT          0.0       noisy input\n",
       "3       90.69   SDT          0.0       noisy input\n",
       "4       88.11    DT          0.0       noisy input\n",
       "..        ...   ...          ...               ...\n",
       "235     42.55   SDT          0.5  device variation\n",
       "236     19.15    DT          0.5  device variation\n",
       "237     43.49   SDT          0.5  device variation\n",
       "238     18.28    DT          0.5  device variation\n",
       "239     41.56   SDT          0.5  device variation\n",
       "\n",
       "[240 rows x 4 columns]"
      ]
     },
     "execution_count": 59,
     "metadata": {},
     "output_type": "execute_result"
    }
   ],
   "source": [
    "acc_all"
   ]
  },
  {
   "cell_type": "code",
   "execution_count": 37,
   "metadata": {},
   "outputs": [],
   "source": [
    "data= pd.read_csv('MNIST_gaussian_noise_SRF.csv')"
   ]
  },
  {
   "cell_type": "code",
   "execution_count": 22,
   "metadata": {},
   "outputs": [
    {
     "data": {
      "text/plain": [
       "tensor([[0., 0., 0.,  ..., 0., 0., 0.],\n",
       "        [0., 0., 0.,  ..., 0., 0., 0.],\n",
       "        [0., 0., 0.,  ..., 0., 0., 0.],\n",
       "        ...,\n",
       "        [0., 0., 0.,  ..., 0., 0., 0.],\n",
       "        [0., 0., 0.,  ..., 0., 0., 0.],\n",
       "        [0., 0., 0.,  ..., 0., 0., 0.]], device='cuda:0')"
      ]
     },
     "execution_count": 22,
     "metadata": {},
     "output_type": "execute_result"
    }
   ],
   "source": [
    "data"
   ]
  },
  {
   "cell_type": "code",
   "execution_count": 41,
   "metadata": {},
   "outputs": [
    {
     "data": {
      "text/plain": [
       "89.72200000000001"
      ]
     },
     "execution_count": 41,
     "metadata": {},
     "output_type": "execute_result"
    }
   ],
   "source": [
    "data[(data['Model']=='SRF')&(data['Noise level']==0.1)]['Accuracy'].mean()"
   ]
  },
  {
   "cell_type": "code",
   "execution_count": 61,
   "metadata": {},
   "outputs": [
    {
     "data": {
      "text/plain": [
       "(0.0, 0.5)"
      ]
     },
     "execution_count": 61,
     "metadata": {},
     "output_type": "execute_result"
    },
    {
     "data": {
      "image/png": "[encoded data removed]",
      "text/plain": [
       "<Figure size 1368x1026 with 1 Axes>"
      ]
     },
     "metadata": {},
     "output_type": "display_data"
    }
   ],
   "source": [
    "plt.rcParams[\"svg.fonttype\"]='none'\n",
    "plt.rcParams[\"font.family\"]='Helvetica'\n",
    "plt.rcParams[\"savefig.transparent\"]=True\n",
    "plt.style.use('default')\n",
    "fig, ax = plt.subplots(dpi=600,figsize=(2.28,1.71),layout='tight')\n",
    "# sns.set_style('whitegrid')\n",
    "sns.lineplot(data=acc_all,x='Noise level',y='Accuracy',hue='Model',style='noise type')\n",
    "# if noise_type==0:\n",
    "    # plt.plot([0.1,0.1],[70,110],'k--')\n",
    "    # plt.arrow(x=0.1,y=92,dx=-0.07,dy=0,length_includes_head=True,head_width = 0.3,head_length=0.01,fill=True,color='k')\n",
    "    # plt.text(0.032,92.6,'Exp noise',fontsize=5)\n",
    "    # plt.xlim(0,.3)\n",
    "    # plt.ylim(80,102)\n",
    "\n",
    "# if noise_type==1:\n",
    "#     plt.plot([0.3,0.3],[70,110],'k--')\n",
    "#     plt.arrow(x=0.3,y=92,dx=-0.155,dy=0,length_includes_head=True,head_width = 0.3,head_length=0.03,fill=True,color='k')\n",
    "#     plt.text(0.15,92.6,'Exp noise')\n",
    "    # plt.xlim(0,.3)\n",
    "    # plt.ylim(80,102)\n",
    "    \n",
    "plt.xlabel('Noise $\\sigma$ (V)',fontsize=6,labelpad=0)\n",
    "plt.ylabel('Accuracy',fontsize=6,labelpad=0)\n",
    "ax.tick_params(axis='y', which='major', length=2,pad=0,labelsize=5)\n",
    "ax.tick_params(axis='x', which='major', length=2,pad=0.2,labelsize=5)\n",
    "# plt.legend(['DT','_','SDT'],fontsize=5,title='Model',title_fontsize=5)\n",
    "plt.legend(fontsize=5,title_fontsize=5)\n",
    "# plt.legend(['SDT'],fontsize=5,title='Model',title_fontsize=5)\n",
    "# plt.savefig('./credit accuracy under uniform noise.svg',transparent=True,dpi=200)\n",
    "\n",
    "# plt.ylim([30,100])\n",
    "plt.xlim([0,0.5])"
   ]
  },
  {
   "cell_type": "code",
   "execution_count": 29,
   "metadata": {},
   "outputs": [
    {
     "data": {
      "text/plain": [
       "array([7, 2, 1, ..., 4, 5, 6], dtype=uint8)"
      ]
     },
     "execution_count": 29,
     "metadata": {},
     "output_type": "execute_result"
    }
   ],
   "source": [
    "y_test"
   ]
  },
  {
   "cell_type": "code",
   "execution_count": 9,
   "metadata": {},
   "outputs": [
    {
     "ename": "NameError",
     "evalue": "name 'end_time' is not defined",
     "output_type": "error",
     "traceback": [
      "\u001b[0;31m---------------------------------------------------------------------------\u001b[0m",
      "\u001b[0;31mNameError\u001b[0m                                 Traceback (most recent call last)",
      "\u001b[1;32m/home/wenbo/project/soft_decision_tree/Soft-Decision-Tree/inference_soften_tree_for_analysis.ipynb Cell 9\u001b[0m in \u001b[0;36m<cell line: 1>\u001b[0;34m()\u001b[0m\n\u001b[0;32m----> <a href='vscode-notebook-cell://ssh-remote%2B147.8.128.138/home/wenbo/project/soft_decision_tree/Soft-Decision-Tree/inference_soften_tree_for_analysis.ipynb#X11sdnNjb2RlLXJlbW90ZQ%3D%3D?line=0'>1</a>\u001b[0m pd\u001b[39m.\u001b[39mDataFrame([end_time \u001b[39m-\u001b[39m start_time, \u001b[39m'\u001b[39m\u001b[39mDT\u001b[39m\u001b[39m'\u001b[39m, \u001b[39m'\u001b[39m\u001b[39mTree Depth\u001b[39m\u001b[39m'\u001b[39m] , columns\u001b[39m=\u001b[39m[\u001b[39m'\u001b[39m\u001b[39mTime(s)\u001b[39m\u001b[39m'\u001b[39m,\u001b[39m'\u001b[39m\u001b[39mModel\u001b[39m\u001b[39m'\u001b[39m,\u001b[39m'\u001b[39m\u001b[39mTree Depth\u001b[39m\u001b[39m'\u001b[39m])\n",
      "\u001b[0;31mNameError\u001b[0m: name 'end_time' is not defined"
     ]
    }
   ],
   "source": [
    "pd.DataFrame([end_time - start_time, 'DT', 'Tree Depth'] , columns=['Time(s)','Model','Tree Depth'])"
   ]
  },
  {
   "cell_type": "code",
   "execution_count": 52,
   "metadata": {},
   "outputs": [
    {
     "ename": "RuntimeError",
     "evalue": "indices should be either on cpu or on the same device as the indexed tensor (cpu)",
     "output_type": "error",
     "traceback": [
      "\u001b[0;31m---------------------------------------------------------------------------\u001b[0m",
      "\u001b[0;31mRuntimeError\u001b[0m                              Traceback (most recent call last)",
      "Cell \u001b[0;32mIn[52], line 60\u001b[0m\n\u001b[1;32m     58\u001b[0m start\u001b[38;5;241m.\u001b[39mrecord()\n\u001b[1;32m     59\u001b[0m \u001b[38;5;28;01mwith\u001b[39;00m torch\u001b[38;5;241m.\u001b[39mno_grad():\n\u001b[0;32m---> 60\u001b[0m     output \u001b[38;5;241m=\u001b[39m \u001b[43mtree\u001b[49m\u001b[38;5;241;43m.\u001b[39;49m\u001b[43mforward\u001b[49m\u001b[43m(\u001b[49m\u001b[43mX_test_tensor\u001b[49m\u001b[43m[\u001b[49m\u001b[43m:\u001b[49m\u001b[43mn\u001b[49m\u001b[43m,\u001b[49m\u001b[43m:\u001b[49m\u001b[43m]\u001b[49m\u001b[43m)\u001b[49m\n\u001b[1;32m     61\u001b[0m     pred \u001b[38;5;241m=\u001b[39m torch\u001b[38;5;241m.\u001b[39margmax(output,\u001b[38;5;241m1\u001b[39m)\n\u001b[1;32m     62\u001b[0m end\u001b[38;5;241m.\u001b[39mrecord()\n",
      "Cell \u001b[0;32mIn[5], line 56\u001b[0m, in \u001b[0;36mSDT.forward\u001b[0;34m(self, X, is_training_data)\u001b[0m\n\u001b[1;32m     53\u001b[0m     \u001b[38;5;28;01mreturn\u001b[39;00m torch\u001b[38;5;241m.\u001b[39mlog(output\u001b[38;5;241m+\u001b[39m\u001b[38;5;241m1e-18\u001b[39m),_penalty\n\u001b[1;32m     54\u001b[0m \u001b[38;5;28;01melse\u001b[39;00m:\n\u001b[1;32m     55\u001b[0m     \u001b[38;5;66;03m# output = torch.matmul(_mu, torch.softmax(self.leaf_nodes.to(self.device),dim=1))  \u001b[39;00m\n\u001b[0;32m---> 56\u001b[0m     output \u001b[38;5;241m=\u001b[39m torch\u001b[38;5;241m.\u001b[39msoftmax(\u001b[38;5;28;43mself\u001b[39;49m\u001b[38;5;241;43m.\u001b[39;49m\u001b[43mleaf_nodes\u001b[49m\u001b[43m[\u001b[49m\u001b[43mtorch\u001b[49m\u001b[38;5;241;43m.\u001b[39;49m\u001b[43mmax\u001b[49m\u001b[43m(\u001b[49m\u001b[43m_mu\u001b[49m\u001b[43m,\u001b[49m\u001b[38;5;241;43m1\u001b[39;49m\u001b[43m)\u001b[49m\u001b[38;5;241;43m.\u001b[39;49m\u001b[43mindices\u001b[49m\u001b[43m,\u001b[49m\u001b[43m:\u001b[49m\u001b[43m]\u001b[49m\u001b[38;5;241m.\u001b[39mto(\u001b[38;5;28mself\u001b[39m\u001b[38;5;241m.\u001b[39mdevice),dim\u001b[38;5;241m=\u001b[39m\u001b[38;5;241m1\u001b[39m)\n\u001b[1;32m     57\u001b[0m     \u001b[38;5;66;03m# print(output.shape)\u001b[39;00m\n\u001b[1;32m     58\u001b[0m     \u001b[38;5;28;01mreturn\u001b[39;00m torch\u001b[38;5;241m.\u001b[39mlog(output\u001b[38;5;241m+\u001b[39m\u001b[38;5;241m1e-18\u001b[39m)\n",
      "\u001b[0;31mRuntimeError\u001b[0m: indices should be either on cpu or on the same device as the indexed tensor (cpu)"
     ]
    }
   ],
   "source": [
    "# time_measured = np.zeros([240,3])\n",
    "# i = 0\n",
    "time_measured = []\n",
    "# for tree_depth_group in np.arange(6,22,2):\n",
    "for tree_depth_group in [20]:\n",
    "    \n",
    "\n",
    "    # time_measured = np.zeros([10,3])\n",
    "    args['depth'] = tree_depth_group\n",
    "    tree_depth = args['depth']\n",
    "    n = 10000\n",
    "    X_test_tensor = torch.tensor(X_test_resize[:n,:])\n",
    "    # X_test_tensor = torch.tensor(X_test_resize)\n",
    "    for times in range(10):\n",
    "        # for node_depth in np.arange(6,22,2):\n",
    "\n",
    "            clf = load('./sdt_model/'+str(tree_depth)+'_dt_.joblib')\n",
    "            node_path_left_right,node_depth = get_tree_path(clf)\n",
    "            args['use_cuda'] = True\n",
    "            tree = SDT(clf,node_depth,node_path_left_right,args)\n",
    "            tree.load_state_dict(torch.load('./sdt_model/'+str(tree_depth)+'_sdt.pth'))\n",
    "            tree.eval()\n",
    "            start_time = time.time()\n",
    "            # val_preds_baseline = clf.predict(X_test_resize)\n",
    "            val_preds_baseline = clf.predict(X_test_resize[:n,:])\n",
    "            end_time = time.time()\n",
    "\n",
    "            # time_measured[i*10+times,0] = end_time - start_time\n",
    "            # time_measured.append({'Times(s)': end_time - start_time, 'Model': 'DT', 'Tree Depth':tree_depth_group})\n",
    "            time_measured.append([end_time - start_time,'DT',tree_depth_group])\n",
    "            # time_measured = pd.concat((time_measured,pd.DataFrame({'Times(s)': end_time - start_time, 'Model': 'DT', 'Tree Depth':tree_depth_group},ignore_index=True)),0)\n",
    "            device = torch.device(\"cuda\" if args['use_cuda'] else \"cpu\")\n",
    "            \n",
    "            X_test_tensor = X_test_tensor.to(device)\n",
    "            tree = tree.to(device)\n",
    "            \n",
    "\n",
    "            \n",
    "            \n",
    "            \n",
    "            start_time = time.time()\n",
    "            with torch.no_grad():\n",
    "                output = tree.forward(X_test_tensor[:n,:])\n",
    "                pred = torch.argmax(output,1)\n",
    "            end_time = time.time()\n",
    "            # time_measured[i*10+times,1] = end_time - start_time\n",
    "            # time_measured.append({'Times(s)': end_time - start_time, 'Model': 'SDT_CPU', 'Tree Depth':tree_depth_group})\n",
    "            time_measured.append([end_time - start_time,'SDT_CPU',tree_depth_group])\n",
    "            args['use_cuda'] = True\n",
    "            tree = SDT(clf,node_depth,node_path_left_right,args)\n",
    "            tree.load_state_dict(torch.load('./sdt_model/'+str(tree_depth)+'_sdt.pth'))\n",
    "            device = torch.device(\"cuda\" if args['use_cuda'] else \"cpu\")\n",
    "            X_test_tensor = X_test_tensor.to(device)\n",
    "\n",
    "            start = torch.cuda.Event(enable_timing=True)\n",
    "            end = torch.cuda.Event(enable_timing=True)\n",
    "\n",
    "            start.record()\n",
    "            with torch.no_grad():\n",
    "                output = tree.forward(X_test_tensor[:n,:])\n",
    "                pred = torch.argmax(output,1)\n",
    "            end.record()\n",
    "\n",
    "\n",
    "            torch.cuda.synchronize()\n",
    "            # time_measured[i*10+times,2] = start.elapsed_time(end)*1e-3\n",
    "            # print(start.elapsed_time(end))\n",
    "            # time_measured.append({'Times(s)': start.elapsed_time(end)*1e-3, 'Model': 'SDT_GPU', 'Tree Depth':tree_depth_group})\n",
    "\n",
    "            time_measured.append([start.elapsed_time(end)*1e-3,'SDT_GPU',tree_depth_group])\n",
    "\n",
    "\n",
    "            del output,pred,tree\n",
    "            torch.cuda.empty_cache()\n",
    "\n",
    "    torch.cuda.empty_cache()\n",
    "\n",
    "    # i = i + 1\n",
    "    print(tree_depth_group)\n",
    "\n",
    "\n",
    "        \n",
    "        \n"
   ]
  },
  {
   "cell_type": "code",
   "execution_count": 49,
   "metadata": {},
   "outputs": [
    {
     "data": {
      "text/plain": [
       "SDT(\n",
       "  (dropout): Dropout(p=0.25, inplace=False)\n",
       ")"
      ]
     },
     "execution_count": 49,
     "metadata": {},
     "output_type": "execute_result"
    }
   ],
   "source": [
    "tree"
   ]
  },
  {
   "cell_type": "code",
   "execution_count": 50,
   "metadata": {},
   "outputs": [
    {
     "data": {
      "text/plain": [
       "tensor([[0., 0., 0.,  ..., 0., 0., 0.],\n",
       "        [0., 0., 0.,  ..., 0., 0., 0.],\n",
       "        [0., 0., 0.,  ..., 0., 0., 0.],\n",
       "        ...,\n",
       "        [0., 0., 0.,  ..., 0., 0., 0.],\n",
       "        [0., 0., 0.,  ..., 0., 0., 0.],\n",
       "        [0., 0., 0.,  ..., 0., 0., 0.]], device='cuda:0')"
      ]
     },
     "execution_count": 50,
     "metadata": {},
     "output_type": "execute_result"
    }
   ],
   "source": [
    "X_test_tensor"
   ]
  },
  {
   "cell_type": "code",
   "execution_count": 43,
   "metadata": {},
   "outputs": [
    {
     "data": {
      "text/plain": [
       "[[0.007870912551879883, 'DT', 6],\n",
       " [0.0510709285736084, 'SDT_CPU', 6],\n",
       " [0.02501753616333008, 'SDT_GPU', 6],\n",
       " [0.0074100494384765625, 'DT', 6],\n",
       " [0.045491933822631836, 'SDT_CPU', 6],\n",
       " [0.00539734411239624, 'SDT_GPU', 6],\n",
       " [0.006339073181152344, 'DT', 6],\n",
       " [0.0254514217376709, 'SDT_CPU', 6],\n",
       " [0.005593791961669922, 'SDT_GPU', 6],\n",
       " [0.006003379821777344, 'DT', 6],\n",
       " [0.04260373115539551, 'SDT_CPU', 6],\n",
       " [0.009480768203735352, 'SDT_GPU', 6],\n",
       " [0.009900331497192383, 'DT', 6],\n",
       " [0.036702632904052734, 'SDT_CPU', 6],\n",
       " [0.004790624141693115, 'SDT_GPU', 6],\n",
       " [0.006524085998535156, 'DT', 6],\n",
       " [0.028994321823120117, 'SDT_CPU', 6],\n",
       " [0.004638527870178223, 'SDT_GPU', 6],\n",
       " [0.006170749664306641, 'DT', 6],\n",
       " [0.019988298416137695, 'SDT_CPU', 6],\n",
       " [0.004995200157165527, 'SDT_GPU', 6],\n",
       " [0.0061304569244384766, 'DT', 6],\n",
       " [0.03367924690246582, 'SDT_CPU', 6],\n",
       " [0.0047049918174743655, 'SDT_GPU', 6],\n",
       " [0.006518363952636719, 'DT', 6],\n",
       " [0.019715547561645508, 'SDT_CPU', 6],\n",
       " [0.004870431900024414, 'SDT_GPU', 6],\n",
       " [0.006010532379150391, 'DT', 6],\n",
       " [0.020908594131469727, 'SDT_CPU', 6],\n",
       " [0.004440927982330322, 'SDT_GPU', 6],\n",
       " [0.028474092483520508, 'DT', 8],\n",
       " [0.18577051162719727, 'SDT_CPU', 8],\n",
       " [0.013657983779907228, 'SDT_GPU', 8],\n",
       " [0.0068552494049072266, 'DT', 8],\n",
       " [0.12204360961914062, 'SDT_CPU', 8],\n",
       " [0.012915200233459472, 'SDT_GPU', 8],\n",
       " [0.006913900375366211, 'DT', 8],\n",
       " [0.13881278038024902, 'SDT_CPU', 8],\n",
       " [0.012670144081115723, 'SDT_GPU', 8],\n",
       " [0.007585763931274414, 'DT', 8],\n",
       " [0.1721804141998291, 'SDT_CPU', 8],\n",
       " [0.012784576416015625, 'SDT_GPU', 8],\n",
       " [0.00687861442565918, 'DT', 8],\n",
       " [0.11029601097106934, 'SDT_CPU', 8],\n",
       " [0.013068863868713379, 'SDT_GPU', 8],\n",
       " [0.0068242549896240234, 'DT', 8],\n",
       " [0.13897013664245605, 'SDT_CPU', 8],\n",
       " [0.013649439811706543, 'SDT_GPU', 8],\n",
       " [0.0075452327728271484, 'DT', 8],\n",
       " [0.13537335395812988, 'SDT_CPU', 8],\n",
       " [0.013624640464782714, 'SDT_GPU', 8],\n",
       " [0.007565736770629883, 'DT', 8],\n",
       " [0.13228344917297363, 'SDT_CPU', 8],\n",
       " [0.013043519973754882, 'SDT_GPU', 8],\n",
       " [0.007553577423095703, 'DT', 8],\n",
       " [0.15124940872192383, 'SDT_CPU', 8],\n",
       " [0.013932224273681642, 'SDT_GPU', 8],\n",
       " [0.007621049880981445, 'DT', 8],\n",
       " [0.13901567459106445, 'SDT_CPU', 8],\n",
       " [0.012989376068115234, 'SDT_GPU', 8],\n",
       " [0.01860976219177246, 'DT', 10],\n",
       " [0.5519161224365234, 'SDT_CPU', 10],\n",
       " [0.03455667114257813, 'SDT_GPU', 10],\n",
       " [0.0067195892333984375, 'DT', 10],\n",
       " [0.4894583225250244, 'SDT_CPU', 10],\n",
       " [0.03837625503540039, 'SDT_GPU', 10],\n",
       " [0.0074672698974609375, 'DT', 10],\n",
       " [0.522747278213501, 'SDT_CPU', 10],\n",
       " [0.03548780822753907, 'SDT_GPU', 10],\n",
       " [0.008020401000976562, 'DT', 10],\n",
       " [0.467602014541626, 'SDT_CPU', 10],\n",
       " [0.03700083160400391, 'SDT_GPU', 10],\n",
       " [0.007471561431884766, 'DT', 10],\n",
       " [0.46033716201782227, 'SDT_CPU', 10],\n",
       " [0.035800254821777344, 'SDT_GPU', 10],\n",
       " [0.007455348968505859, 'DT', 10],\n",
       " [0.47472119331359863, 'SDT_CPU', 10],\n",
       " [0.03568243026733398, 'SDT_GPU', 10],\n",
       " [0.007480621337890625, 'DT', 10],\n",
       " [0.5006804466247559, 'SDT_CPU', 10],\n",
       " [0.03694230270385742, 'SDT_GPU', 10],\n",
       " [0.0074367523193359375, 'DT', 10],\n",
       " [0.5094144344329834, 'SDT_CPU', 10],\n",
       " [0.03589593505859375, 'SDT_GPU', 10],\n",
       " [0.007531166076660156, 'DT', 10],\n",
       " [0.4492154121398926, 'SDT_CPU', 10],\n",
       " [0.03666707229614258, 'SDT_GPU', 10],\n",
       " [0.00749659538269043, 'DT', 10],\n",
       " [0.5815975666046143, 'SDT_CPU', 10],\n",
       " [0.038267360687255864, 'SDT_GPU', 10],\n",
       " [0.007208824157714844, 'DT', 12],\n",
       " [1.1502714157104492, 'SDT_CPU', 12],\n",
       " [0.08250495910644531, 'SDT_GPU', 12],\n",
       " [0.0071086883544921875, 'DT', 12],\n",
       " [1.2435715198516846, 'SDT_CPU', 12],\n",
       " [0.08943833923339845, 'SDT_GPU', 12],\n",
       " [0.0077741146087646484, 'DT', 12],\n",
       " [1.1824700832366943, 'SDT_CPU', 12],\n",
       " [0.08500505828857421, 'SDT_GPU', 12],\n",
       " [0.007733583450317383, 'DT', 12],\n",
       " [1.1949617862701416, 'SDT_CPU', 12],\n",
       " [0.08532621002197266, 'SDT_GPU', 12],\n",
       " [0.00750422477722168, 'DT', 12],\n",
       " [1.1995151042938232, 'SDT_CPU', 12],\n",
       " [0.11683379364013673, 'SDT_GPU', 12],\n",
       " [0.007761240005493164, 'DT', 12],\n",
       " [1.1953771114349365, 'SDT_CPU', 12],\n",
       " [0.09208287811279298, 'SDT_GPU', 12],\n",
       " [0.00832509994506836, 'DT', 12],\n",
       " [1.1959645748138428, 'SDT_CPU', 12],\n",
       " [0.08676022338867187, 'SDT_GPU', 12],\n",
       " [0.007951736450195312, 'DT', 12],\n",
       " [1.2213704586029053, 'SDT_CPU', 12],\n",
       " [0.08532262420654298, 'SDT_GPU', 12],\n",
       " [0.007850885391235352, 'DT', 12],\n",
       " [1.2041668891906738, 'SDT_CPU', 12],\n",
       " [0.08362185668945313, 'SDT_GPU', 12],\n",
       " [0.0077478885650634766, 'DT', 12],\n",
       " [1.2012574672698975, 'SDT_CPU', 12],\n",
       " [0.08618854522705079, 'SDT_GPU', 12],\n",
       " [0.012137174606323242, 'DT', 14],\n",
       " [2.104172945022583, 'SDT_CPU', 14],\n",
       " [0.12950288391113282, 'SDT_GPU', 14],\n",
       " [0.008056163787841797, 'DT', 14],\n",
       " [2.1374051570892334, 'SDT_CPU', 14],\n",
       " [0.17365350341796876, 'SDT_GPU', 14],\n",
       " [0.0074536800384521484, 'DT', 14],\n",
       " [2.040036201477051, 'SDT_CPU', 14],\n",
       " [0.13711567687988283, 'SDT_GPU', 14],\n",
       " [0.00814199447631836, 'DT', 14],\n",
       " [2.0312721729278564, 'SDT_CPU', 14],\n",
       " [0.13725978088378907, 'SDT_GPU', 14],\n",
       " [0.007886409759521484, 'DT', 14],\n",
       " [2.043018341064453, 'SDT_CPU', 14],\n",
       " [0.13488000488281252, 'SDT_GPU', 14],\n",
       " [0.007553577423095703, 'DT', 14],\n",
       " [2.1366913318634033, 'SDT_CPU', 14],\n",
       " [0.1289167022705078, 'SDT_GPU', 14],\n",
       " [0.007346391677856445, 'DT', 14],\n",
       " [2.170344114303589, 'SDT_CPU', 14],\n",
       " [0.1324238739013672, 'SDT_GPU', 14],\n",
       " [0.00802922248840332, 'DT', 14],\n",
       " [2.1420254707336426, 'SDT_CPU', 14],\n",
       " [0.1477427215576172, 'SDT_GPU', 14],\n",
       " [0.007796525955200195, 'DT', 14],\n",
       " [2.157541513442993, 'SDT_CPU', 14],\n",
       " [0.18407315063476562, 'SDT_GPU', 14],\n",
       " [0.007405281066894531, 'DT', 14],\n",
       " [2.0958619117736816, 'SDT_CPU', 14],\n",
       " [0.13748019409179688, 'SDT_GPU', 14],\n",
       " [0.007661342620849609, 'DT', 16],\n",
       " [2.6555938720703125, 'SDT_CPU', 16],\n",
       " [0.17155068969726564, 'SDT_GPU', 16],\n",
       " [0.0075531005859375, 'DT', 16],\n",
       " [2.760063648223877, 'SDT_CPU', 16],\n",
       " [0.14293580627441407, 'SDT_GPU', 16],\n",
       " [0.005671501159667969, 'DT', 16],\n",
       " [2.8406288623809814, 'SDT_CPU', 16],\n",
       " [0.18197718811035157, 'SDT_GPU', 16],\n",
       " [0.008065223693847656, 'DT', 16],\n",
       " [2.7141945362091064, 'SDT_CPU', 16],\n",
       " [0.18234815979003907, 'SDT_GPU', 16],\n",
       " [0.007614612579345703, 'DT', 16],\n",
       " [2.723130702972412, 'SDT_CPU', 16],\n",
       " [0.1706892852783203, 'SDT_GPU', 16],\n",
       " [0.007483959197998047, 'DT', 16],\n",
       " [3.1605095863342285, 'SDT_CPU', 16],\n",
       " [0.17937484741210938, 'SDT_GPU', 16],\n",
       " [0.007938861846923828, 'DT', 16],\n",
       " [2.8097572326660156, 'SDT_CPU', 16],\n",
       " [0.1930768280029297, 'SDT_GPU', 16],\n",
       " [0.007700681686401367, 'DT', 16],\n",
       " [2.801445960998535, 'SDT_CPU', 16],\n",
       " [0.17912246704101562, 'SDT_GPU', 16],\n",
       " [0.008031845092773438, 'DT', 16],\n",
       " [2.765923261642456, 'SDT_CPU', 16],\n",
       " [0.17933946228027345, 'SDT_GPU', 16],\n",
       " [0.007350921630859375, 'DT', 16],\n",
       " [2.769911766052246, 'SDT_CPU', 16],\n",
       " [0.17268031311035156, 'SDT_GPU', 16],\n",
       " [0.007657766342163086, 'DT', 18],\n",
       " [3.438800811767578, 'SDT_CPU', 18],\n",
       " [0.23503768920898438, 'SDT_GPU', 18],\n",
       " [0.007679462432861328, 'DT', 18],\n",
       " [3.3135721683502197, 'SDT_CPU', 18],\n",
       " [0.2187631072998047, 'SDT_GPU', 18],\n",
       " [0.008208751678466797, 'DT', 18],\n",
       " [3.5617494583129883, 'SDT_CPU', 18],\n",
       " [0.23134931945800782, 'SDT_GPU', 18],\n",
       " [0.008274316787719727, 'DT', 18],\n",
       " [3.6714186668395996, 'SDT_CPU', 18],\n",
       " [0.2283573455810547, 'SDT_GPU', 18],\n",
       " [0.007552146911621094, 'DT', 18],\n",
       " [3.4698688983917236, 'SDT_CPU', 18],\n",
       " [0.20304873657226563, 'SDT_GPU', 18],\n",
       " [0.007967233657836914, 'DT', 18],\n",
       " [3.297227382659912, 'SDT_CPU', 18],\n",
       " [0.2083830108642578, 'SDT_GPU', 18],\n",
       " [0.007569313049316406, 'DT', 18],\n",
       " [3.2842986583709717, 'SDT_CPU', 18],\n",
       " [0.22382086181640626, 'SDT_GPU', 18],\n",
       " [0.008133172988891602, 'DT', 18],\n",
       " [3.3847947120666504, 'SDT_CPU', 18],\n",
       " [0.21237132263183595, 'SDT_GPU', 18],\n",
       " [0.017887592315673828, 'DT', 18],\n",
       " [3.581116199493408, 'SDT_CPU', 18],\n",
       " [0.22322486877441405, 'SDT_GPU', 18],\n",
       " [0.007436990737915039, 'DT', 18],\n",
       " [3.383155584335327, 'SDT_CPU', 18],\n",
       " [0.29608303833007815, 'SDT_GPU', 18],\n",
       " [0.00791168212890625, 'DT', 20],\n",
       " [3.800124406814575, 'SDT_CPU', 20],\n",
       " [0.23276396179199219, 'SDT_GPU', 20],\n",
       " [0.007651329040527344, 'DT', 20],\n",
       " [3.780782699584961, 'SDT_CPU', 20],\n",
       " [0.2506153259277344, 'SDT_GPU', 20],\n",
       " [0.0077381134033203125, 'DT', 20],\n",
       " [3.8767244815826416, 'SDT_CPU', 20],\n",
       " [0.2610328369140625, 'SDT_GPU', 20],\n",
       " [0.007831811904907227, 'DT', 20],\n",
       " [3.8431921005249023, 'SDT_CPU', 20],\n",
       " [0.23604345703125001, 'SDT_GPU', 20],\n",
       " [0.008182287216186523, 'DT', 20],\n",
       " [3.7810070514678955, 'SDT_CPU', 20],\n",
       " [0.23607958984375, 'SDT_GPU', 20],\n",
       " [0.007450103759765625, 'DT', 20],\n",
       " [3.7995691299438477, 'SDT_CPU', 20],\n",
       " [0.2668851623535156, 'SDT_GPU', 20],\n",
       " [0.008237123489379883, 'DT', 20],\n",
       " [3.7516119480133057, 'SDT_CPU', 20],\n",
       " [0.24037855529785157, 'SDT_GPU', 20],\n",
       " [0.007580995559692383, 'DT', 20],\n",
       " [4.093017578125, 'SDT_CPU', 20],\n",
       " [0.23989010620117188, 'SDT_GPU', 20],\n",
       " [0.008083343505859375, 'DT', 20],\n",
       " [3.813929796218872, 'SDT_CPU', 20],\n",
       " [0.24687872314453124, 'SDT_GPU', 20],\n",
       " [0.007687568664550781, 'DT', 20],\n",
       " [4.199172258377075, 'SDT_CPU', 20],\n",
       " [0.24700947570800783, 'SDT_GPU', 20]]"
      ]
     },
     "execution_count": 43,
     "metadata": {},
     "output_type": "execute_result"
    }
   ],
   "source": [
    "time_measured"
   ]
  },
  {
   "cell_type": "code",
   "execution_count": 75,
   "metadata": {},
   "outputs": [],
   "source": [
    "time_measured = [[0.007870912551879883, 'DT', 6],\n",
    " [0.0510709285736084, 'SDT_CPU', 6],\n",
    " [0.02501753616333008, 'SDT_GPU', 6],\n",
    " [0.0074100494384765625, 'DT', 6],\n",
    " [0.045491933822631836, 'SDT_CPU', 6],\n",
    " [0.00539734411239624, 'SDT_GPU', 6],\n",
    " [0.006339073181152344, 'DT', 6],\n",
    " [0.0254514217376709, 'SDT_CPU', 6],\n",
    " [0.005593791961669922, 'SDT_GPU', 6],\n",
    " [0.006003379821777344, 'DT', 6],\n",
    " [0.04260373115539551, 'SDT_CPU', 6],\n",
    " [0.009480768203735352, 'SDT_GPU', 6],\n",
    " [0.009900331497192383, 'DT', 6],\n",
    " [0.036702632904052734, 'SDT_CPU', 6],\n",
    " [0.004790624141693115, 'SDT_GPU', 6],\n",
    " [0.006524085998535156, 'DT', 6],\n",
    " [0.028994321823120117, 'SDT_CPU', 6],\n",
    " [0.004638527870178223, 'SDT_GPU', 6],\n",
    " [0.006170749664306641, 'DT', 6],\n",
    " [0.019988298416137695, 'SDT_CPU', 6],\n",
    " [0.004995200157165527, 'SDT_GPU', 6],\n",
    " [0.0061304569244384766, 'DT', 6],\n",
    " [0.03367924690246582, 'SDT_CPU', 6],\n",
    " [0.0047049918174743655, 'SDT_GPU', 6],\n",
    " [0.006518363952636719, 'DT', 6],\n",
    " [0.019715547561645508, 'SDT_CPU', 6],\n",
    " [0.004870431900024414, 'SDT_GPU', 6],\n",
    " [0.006010532379150391, 'DT', 6],\n",
    " [0.020908594131469727, 'SDT_CPU', 6],\n",
    " [0.004440927982330322, 'SDT_GPU', 6],\n",
    " [0.028474092483520508, 'DT', 8],\n",
    " [0.18577051162719727, 'SDT_CPU', 8],\n",
    " [0.013657983779907228, 'SDT_GPU', 8],\n",
    " [0.0068552494049072266, 'DT', 8],\n",
    " [0.12204360961914062, 'SDT_CPU', 8],\n",
    " [0.012915200233459472, 'SDT_GPU', 8],\n",
    " [0.006913900375366211, 'DT', 8],\n",
    " [0.13881278038024902, 'SDT_CPU', 8],\n",
    " [0.012670144081115723, 'SDT_GPU', 8],\n",
    " [0.007585763931274414, 'DT', 8],\n",
    " [0.1721804141998291, 'SDT_CPU', 8],\n",
    " [0.012784576416015625, 'SDT_GPU', 8],\n",
    " [0.00687861442565918, 'DT', 8],\n",
    " [0.11029601097106934, 'SDT_CPU', 8],\n",
    " [0.013068863868713379, 'SDT_GPU', 8],\n",
    " [0.0068242549896240234, 'DT', 8],\n",
    " [0.13897013664245605, 'SDT_CPU', 8],\n",
    " [0.013649439811706543, 'SDT_GPU', 8],\n",
    " [0.0075452327728271484, 'DT', 8],\n",
    " [0.13537335395812988, 'SDT_CPU', 8],\n",
    " [0.013624640464782714, 'SDT_GPU', 8],\n",
    " [0.007565736770629883, 'DT', 8],\n",
    " [0.13228344917297363, 'SDT_CPU', 8],\n",
    " [0.013043519973754882, 'SDT_GPU', 8],\n",
    " [0.007553577423095703, 'DT', 8],\n",
    " [0.15124940872192383, 'SDT_CPU', 8],\n",
    " [0.013932224273681642, 'SDT_GPU', 8],\n",
    " [0.007621049880981445, 'DT', 8],\n",
    " [0.13901567459106445, 'SDT_CPU', 8],\n",
    " [0.012989376068115234, 'SDT_GPU', 8],\n",
    " [0.01860976219177246, 'DT', 10],\n",
    " [0.5519161224365234, 'SDT_CPU', 10],\n",
    " [0.03455667114257813, 'SDT_GPU', 10],\n",
    " [0.0067195892333984375, 'DT', 10],\n",
    " [0.4894583225250244, 'SDT_CPU', 10],\n",
    " [0.03837625503540039, 'SDT_GPU', 10],\n",
    " [0.0074672698974609375, 'DT', 10],\n",
    " [0.522747278213501, 'SDT_CPU', 10],\n",
    " [0.03548780822753907, 'SDT_GPU', 10],\n",
    " [0.008020401000976562, 'DT', 10],\n",
    " [0.467602014541626, 'SDT_CPU', 10],\n",
    " [0.03700083160400391, 'SDT_GPU', 10],\n",
    " [0.007471561431884766, 'DT', 10],\n",
    " [0.46033716201782227, 'SDT_CPU', 10],\n",
    " [0.035800254821777344, 'SDT_GPU', 10],\n",
    " [0.007455348968505859, 'DT', 10],\n",
    " [0.47472119331359863, 'SDT_CPU', 10],\n",
    " [0.03568243026733398, 'SDT_GPU', 10],\n",
    " [0.007480621337890625, 'DT', 10],\n",
    " [0.5006804466247559, 'SDT_CPU', 10],\n",
    " [0.03694230270385742, 'SDT_GPU', 10],\n",
    " [0.0074367523193359375, 'DT', 10],\n",
    " [0.5094144344329834, 'SDT_CPU', 10],\n",
    " [0.03589593505859375, 'SDT_GPU', 10],\n",
    " [0.007531166076660156, 'DT', 10],\n",
    " [0.4492154121398926, 'SDT_CPU', 10],\n",
    " [0.03666707229614258, 'SDT_GPU', 10],\n",
    " [0.00749659538269043, 'DT', 10],\n",
    " [0.5815975666046143, 'SDT_CPU', 10],\n",
    " [0.038267360687255864, 'SDT_GPU', 10],\n",
    " [0.007208824157714844, 'DT', 12],\n",
    " [1.1502714157104492, 'SDT_CPU', 12],\n",
    " [0.08250495910644531, 'SDT_GPU', 12],\n",
    " [0.0071086883544921875, 'DT', 12],\n",
    " [1.2435715198516846, 'SDT_CPU', 12],\n",
    " [0.08943833923339845, 'SDT_GPU', 12],\n",
    " [0.0077741146087646484, 'DT', 12],\n",
    " [1.1824700832366943, 'SDT_CPU', 12],\n",
    " [0.08500505828857421, 'SDT_GPU', 12],\n",
    " [0.007733583450317383, 'DT', 12],\n",
    " [1.1949617862701416, 'SDT_CPU', 12],\n",
    " [0.08532621002197266, 'SDT_GPU', 12],\n",
    " [0.00750422477722168, 'DT', 12],\n",
    " [1.1995151042938232, 'SDT_CPU', 12],\n",
    " [0.11683379364013673, 'SDT_GPU', 12],\n",
    " [0.007761240005493164, 'DT', 12],\n",
    " [1.1953771114349365, 'SDT_CPU', 12],\n",
    " [0.09208287811279298, 'SDT_GPU', 12],\n",
    " [0.00832509994506836, 'DT', 12],\n",
    " [1.1959645748138428, 'SDT_CPU', 12],\n",
    " [0.08676022338867187, 'SDT_GPU', 12],\n",
    " [0.007951736450195312, 'DT', 12],\n",
    " [1.2213704586029053, 'SDT_CPU', 12],\n",
    " [0.08532262420654298, 'SDT_GPU', 12],\n",
    " [0.007850885391235352, 'DT', 12],\n",
    " [1.2041668891906738, 'SDT_CPU', 12],\n",
    " [0.08362185668945313, 'SDT_GPU', 12],\n",
    " [0.0077478885650634766, 'DT', 12],\n",
    " [1.2012574672698975, 'SDT_CPU', 12],\n",
    " [0.08618854522705079, 'SDT_GPU', 12],\n",
    " [0.012137174606323242, 'DT', 14],\n",
    " [2.104172945022583, 'SDT_CPU', 14],\n",
    " [0.12950288391113282, 'SDT_GPU', 14],\n",
    " [0.008056163787841797, 'DT', 14],\n",
    " [2.1374051570892334, 'SDT_CPU', 14],\n",
    " [0.17365350341796876, 'SDT_GPU', 14],\n",
    " [0.0074536800384521484, 'DT', 14],\n",
    " [2.040036201477051, 'SDT_CPU', 14],\n",
    " [0.13711567687988283, 'SDT_GPU', 14],\n",
    " [0.00814199447631836, 'DT', 14],\n",
    " [2.0312721729278564, 'SDT_CPU', 14],\n",
    " [0.13725978088378907, 'SDT_GPU', 14],\n",
    " [0.007886409759521484, 'DT', 14],\n",
    " [2.043018341064453, 'SDT_CPU', 14],\n",
    " [0.13488000488281252, 'SDT_GPU', 14],\n",
    " [0.007553577423095703, 'DT', 14],\n",
    " [2.1366913318634033, 'SDT_CPU', 14],\n",
    " [0.1289167022705078, 'SDT_GPU', 14],\n",
    " [0.007346391677856445, 'DT', 14],\n",
    " [2.170344114303589, 'SDT_CPU', 14],\n",
    " [0.1324238739013672, 'SDT_GPU', 14],\n",
    " [0.00802922248840332, 'DT', 14],\n",
    " [2.1420254707336426, 'SDT_CPU', 14],\n",
    " [0.1477427215576172, 'SDT_GPU', 14],\n",
    " [0.007796525955200195, 'DT', 14],\n",
    " [2.157541513442993, 'SDT_CPU', 14],\n",
    " [0.18407315063476562, 'SDT_GPU', 14],\n",
    " [0.007405281066894531, 'DT', 14],\n",
    " [2.0958619117736816, 'SDT_CPU', 14],\n",
    " [0.13748019409179688, 'SDT_GPU', 14],\n",
    " [0.007661342620849609, 'DT', 16],\n",
    " [2.6555938720703125, 'SDT_CPU', 16],\n",
    " [0.17155068969726564, 'SDT_GPU', 16],\n",
    " [0.0075531005859375, 'DT', 16],\n",
    " [2.760063648223877, 'SDT_CPU', 16],\n",
    " [0.14293580627441407, 'SDT_GPU', 16],\n",
    " [0.005671501159667969, 'DT', 16],\n",
    " [2.8406288623809814, 'SDT_CPU', 16],\n",
    " [0.18197718811035157, 'SDT_GPU', 16],\n",
    " [0.008065223693847656, 'DT', 16],\n",
    " [2.7141945362091064, 'SDT_CPU', 16],\n",
    " [0.18234815979003907, 'SDT_GPU', 16],\n",
    " [0.007614612579345703, 'DT', 16],\n",
    " [2.723130702972412, 'SDT_CPU', 16],\n",
    " [0.1706892852783203, 'SDT_GPU', 16],\n",
    " [0.007483959197998047, 'DT', 16],\n",
    " [3.1605095863342285, 'SDT_CPU', 16],\n",
    " [0.17937484741210938, 'SDT_GPU', 16],\n",
    " [0.007938861846923828, 'DT', 16],\n",
    " [2.8097572326660156, 'SDT_CPU', 16],\n",
    " [0.1930768280029297, 'SDT_GPU', 16],\n",
    " [0.007700681686401367, 'DT', 16],\n",
    " [2.801445960998535, 'SDT_CPU', 16],\n",
    " [0.17912246704101562, 'SDT_GPU', 16],\n",
    " [0.008031845092773438, 'DT', 16],\n",
    " [2.765923261642456, 'SDT_CPU', 16],\n",
    " [0.17933946228027345, 'SDT_GPU', 16],\n",
    " [0.007350921630859375, 'DT', 16],\n",
    " [2.769911766052246, 'SDT_CPU', 16],\n",
    " [0.17268031311035156, 'SDT_GPU', 16],\n",
    " [0.007657766342163086, 'DT', 18],\n",
    " [3.438800811767578, 'SDT_CPU', 18],\n",
    " [0.23503768920898438, 'SDT_GPU', 18],\n",
    " [0.007679462432861328, 'DT', 18],\n",
    " [3.3135721683502197, 'SDT_CPU', 18],\n",
    " [0.2187631072998047, 'SDT_GPU', 18],\n",
    " [0.008208751678466797, 'DT', 18],\n",
    " [3.5617494583129883, 'SDT_CPU', 18],\n",
    " [0.23134931945800782, 'SDT_GPU', 18],\n",
    " [0.008274316787719727, 'DT', 18],\n",
    " [3.6714186668395996, 'SDT_CPU', 18],\n",
    " [0.2283573455810547, 'SDT_GPU', 18],\n",
    " [0.007552146911621094, 'DT', 18],\n",
    " [3.4698688983917236, 'SDT_CPU', 18],\n",
    " [0.20304873657226563, 'SDT_GPU', 18],\n",
    " [0.007967233657836914, 'DT', 18],\n",
    " [3.297227382659912, 'SDT_CPU', 18],\n",
    " [0.2083830108642578, 'SDT_GPU', 18],\n",
    " [0.007569313049316406, 'DT', 18],\n",
    " [3.2842986583709717, 'SDT_CPU', 18],\n",
    " [0.22382086181640626, 'SDT_GPU', 18],\n",
    " [0.008133172988891602, 'DT', 18],\n",
    " [3.3847947120666504, 'SDT_CPU', 18],\n",
    " [0.21237132263183595, 'SDT_GPU', 18],\n",
    " [0.017887592315673828, 'DT', 18],\n",
    " [3.581116199493408, 'SDT_CPU', 18],\n",
    " [0.22322486877441405, 'SDT_GPU', 18],\n",
    " [0.007436990737915039, 'DT', 18],\n",
    " [3.383155584335327, 'SDT_CPU', 18],\n",
    " [0.29608303833007815, 'SDT_GPU', 18],\n",
    " [0.00791168212890625, 'DT', 20],\n",
    " [3.800124406814575, 'SDT_CPU', 20],\n",
    " [0.23276396179199219, 'SDT_GPU', 20],\n",
    " [0.007651329040527344, 'DT', 20],\n",
    " [3.780782699584961, 'SDT_CPU', 20],\n",
    " [0.2506153259277344, 'SDT_GPU', 20],\n",
    " [0.0077381134033203125, 'DT', 20],\n",
    " [3.8767244815826416, 'SDT_CPU', 20],\n",
    " [0.2610328369140625, 'SDT_GPU', 20],\n",
    " [0.007831811904907227, 'DT', 20],\n",
    " [3.8431921005249023, 'SDT_CPU', 20],\n",
    " [0.23604345703125001, 'SDT_GPU', 20],\n",
    " [0.008182287216186523, 'DT', 20],\n",
    " [3.7810070514678955, 'SDT_CPU', 20],\n",
    " [0.23607958984375, 'SDT_GPU', 20],\n",
    " [0.007450103759765625, 'DT', 20],\n",
    " [3.7995691299438477, 'SDT_CPU', 20],\n",
    " [0.2668851623535156, 'SDT_GPU', 20],\n",
    " [0.008237123489379883, 'DT', 20],\n",
    " [3.7516119480133057, 'SDT_CPU', 20],\n",
    " [0.24037855529785157, 'SDT_GPU', 20],\n",
    " [0.007580995559692383, 'DT', 20],\n",
    " [4.093017578125, 'SDT_CPU', 20],\n",
    " [0.23989010620117188, 'SDT_GPU', 20],\n",
    " [0.008083343505859375, 'DT', 20],\n",
    " [3.813929796218872, 'SDT_CPU', 20],\n",
    " [0.24687872314453124, 'SDT_GPU', 20],\n",
    " [0.007687568664550781, 'DT', 20],\n",
    " [4.199172258377075, 'SDT_CPU', 20],\n",
    " [0.24700947570800783, 'SDT_GPU', 20]]"
   ]
  },
  {
   "cell_type": "code",
   "execution_count": 76,
   "metadata": {},
   "outputs": [],
   "source": [
    "def time_FG_CAM(depth):\n",
    "    # time for CAM is 3*10ns\n",
    "    # time for WTA is about 3 ns\n",
    "    t_WTA = 0.053973*(depth-1)+2.69\n",
    "    return (t_WTA+10)*1e-9*1e4"
   ]
  },
  {
   "cell_type": "code",
   "execution_count": 77,
   "metadata": {},
   "outputs": [],
   "source": [
    "accelerated = []\n",
    "\n",
    "for depth in np.arange(6,22,2):\n",
    "    label = 'DT_FG-CAM'\n",
    "    accelerated.append([10*1e-9*1e4,label,depth])\n",
    "    label = 'SDT_FG-CAM'\n",
    "    accelerated.append([time_FG_CAM(depth),label,depth])"
   ]
  },
  {
   "cell_type": "code",
   "execution_count": 58,
   "metadata": {},
   "outputs": [
    {
     "data": {
      "text/plain": [
       "20"
      ]
     },
     "execution_count": 58,
     "metadata": {},
     "output_type": "execute_result"
    }
   ],
   "source": [
    "depth"
   ]
  },
  {
   "cell_type": "code",
   "execution_count": 59,
   "metadata": {},
   "outputs": [
    {
     "data": {
      "text/plain": [
       "64"
      ]
     },
     "execution_count": 59,
     "metadata": {},
     "output_type": "execute_result"
    }
   ],
   "source": [
    "np.power(2,6)"
   ]
  },
  {
   "cell_type": "code",
   "execution_count": 78,
   "metadata": {},
   "outputs": [],
   "source": [
    "data_complexity=[]\n",
    "for depth in np.arange(6,22,1):\n",
    "    label = 'DT'\n",
    "    data_complexity.append([depth,label,depth])\n",
    "    label = 'SDT'\n",
    "    data_complexity.append([np.power(2,depth),label,depth])\n"
   ]
  },
  {
   "cell_type": "code",
   "execution_count": 79,
   "metadata": {},
   "outputs": [],
   "source": [
    "complexity = pd.DataFrame(data_complexity,columns=['Time(s)','Model','Tree Depth'])"
   ]
  },
  {
   "cell_type": "code",
   "execution_count": 80,
   "metadata": {},
   "outputs": [
    {
     "data": {
      "text/plain": [
       "[[0.0001, 'DT_FG-CAM', 6],\n",
       " [0.00012959865, 'SDT_FG-CAM', 6],\n",
       " [0.0001, 'DT_FG-CAM', 8],\n",
       " [0.00013067811, 'SDT_FG-CAM', 8],\n",
       " [0.0001, 'DT_FG-CAM', 10],\n",
       " [0.00013175757000000003, 'SDT_FG-CAM', 10],\n",
       " [0.0001, 'DT_FG-CAM', 12],\n",
       " [0.00013283703, 'SDT_FG-CAM', 12],\n",
       " [0.0001, 'DT_FG-CAM', 14],\n",
       " [0.00013391649000000003, 'SDT_FG-CAM', 14],\n",
       " [0.0001, 'DT_FG-CAM', 16],\n",
       " [0.00013499595, 'SDT_FG-CAM', 16],\n",
       " [0.0001, 'DT_FG-CAM', 18],\n",
       " [0.00013607541, 'SDT_FG-CAM', 18],\n",
       " [0.0001, 'DT_FG-CAM', 20],\n",
       " [0.00013715487, 'SDT_FG-CAM', 20]]"
      ]
     },
     "execution_count": 80,
     "metadata": {},
     "output_type": "execute_result"
    }
   ],
   "source": [
    "accelerated"
   ]
  },
  {
   "cell_type": "code",
   "execution_count": 81,
   "metadata": {},
   "outputs": [],
   "source": [
    "\n",
    "# accelerated = [\n",
    "#         [(10)*1e-5,'DT_FG-CAM',6],\n",
    "#     [(10)*1e-5,'DT_FG-CAM',8],\n",
    "#     [(10)*1e-5,'DT_FG-CAM',10],\n",
    "#     [(10)*1e-5,'DT_FG-CAM',12],\n",
    "#     [(10)*1e-5,'DT_FG-CAM',14],\n",
    "#     [(10)*1e-5,'DT_FG-CAM',16],\n",
    "#     [(10)*1e-5,'DT_FG-CAM',18],\n",
    "#     [(10)*1e-5,'DT_FG-CAM',20],\n",
    "#     [(10+5*6)*1e-5,'SDT_FG-CAM',6],\n",
    "#     [(10+5*8)*1e-5,'SDT_FG-CAM',8],\n",
    "#     [(10+5*10)*1e-5,'SDT_FG-CAM',10],\n",
    "#     [(10+5*12)*1e-5,'SDT_FG-CAM',12],\n",
    "#     [(10+5*14)*1e-5,'SDT_FG-CAM',14],\n",
    "#     [(10+5*16)*1e-5,'SDT_FG-CAM',16],\n",
    "#     [(10+5*18)*1e-5,'SDT_FG-CAM',18],\n",
    "#     [(10+5*20)*1e-5,'SDT_FG-CAM',20]\n",
    "\n",
    "\n",
    "# accelerated = [\n",
    "#     [(10+5*6)*1e-5,'SDT_FG-CAM',6],\n",
    "#     [(10+5*8)*1e-5,'SDT_FG-CAM',8],\n",
    "#     [(10+5*10)*1e-5,'SDT_FG-CAM',10],\n",
    "#     [(10+5*12)*1e-5,'SDT_FG-CAM',12],\n",
    "#     [(10+5*14)*1e-5,'SDT_FG-CAM',14],\n",
    "#     [(10+5*16)*1e-5,'SDT_FG-CAM',16],\n",
    "#     [(10+5*18)*1e-5,'SDT_FG-CAM',18],\n",
    "#     [(10+5*20)*1e-5,'SDT_FG-CAM',20]\n",
    "# ]\n",
    "# accelerated = [\n",
    "#     [300*1e-5,'SDT_FG-CAM',6],\n",
    "#     [300*1e-5,'SDT_FG-CAM',8],\n",
    "#     [300*1e-5,'SDT_FG-CAM',10],\n",
    "#     [300*1e-5,'SDT_FG-CAM',12],\n",
    "#     [300*1e-5,'SDT_FG-CAM',14],\n",
    "#     [300*1e-5,'SDT_FG-CAM',16],\n",
    "#     [300*1e-5,'SDT_FG-CAM',18],\n",
    "#     [300*1e-5,'SDT_FG-CAM',20]\n",
    "# ]\n",
    "\n",
    "data_acc = pd.DataFrame(accelerated,columns=['Time(s)','Model','Tree Depth'])\n"
   ]
  },
  {
   "cell_type": "code",
   "execution_count": 82,
   "metadata": {},
   "outputs": [],
   "source": [
    "data = pd.DataFrame(time_measured,columns=['Time(s)','Model','Tree Depth'])\n",
    "data = pd.concat((data,data_acc),axis=0,ignore_index=True)"
   ]
  },
  {
   "cell_type": "code",
   "execution_count": 83,
   "metadata": {},
   "outputs": [],
   "source": [
    "data['Time(s)'] = data['Time(s)']/10000\n",
    "data['Time(ms)'] = data['Time(s)']*1000"
   ]
  },
  {
   "cell_type": "code",
   "execution_count": 84,
   "metadata": {},
   "outputs": [],
   "source": [
    "data.loc[data['Model']==\"SDT_CPU\",'Model']=\"SDT\""
   ]
  },
  {
   "cell_type": "code",
   "execution_count": 85,
   "metadata": {},
   "outputs": [],
   "source": [
    "data.loc[data['Model']==\"SDT\",'Model']=\"SDT_CPU\""
   ]
  },
  {
   "cell_type": "code",
   "execution_count": 86,
   "metadata": {},
   "outputs": [],
   "source": [
    "data.loc[data['Model']==\"DT\",'Model']=\"DT_CPU\""
   ]
  },
  {
   "cell_type": "code",
   "execution_count": 87,
   "metadata": {},
   "outputs": [
    {
     "data": {
      "text/plain": [
       "13.715487000000001"
      ]
     },
     "execution_count": 87,
     "metadata": {},
     "output_type": "execute_result"
    }
   ],
   "source": [
    "data[(data['Tree Depth']==20)&(data['Model']=='SDT_FG-CAM')]['Time(ms)'].mean()*1e6"
   ]
  },
  {
   "cell_type": "code",
   "execution_count": 88,
   "metadata": {},
   "outputs": [
    {
     "data": {
      "text/plain": [
       "10.0"
      ]
     },
     "execution_count": 88,
     "metadata": {},
     "output_type": "execute_result"
    }
   ],
   "source": [
    "data[(data['Tree Depth']==20)&(data['Model']=='DT_FG-CAM')]['Time(ms)'].mean()*1e6"
   ]
  },
  {
   "cell_type": "code",
   "execution_count": 89,
   "metadata": {},
   "outputs": [
    {
     "data": {
      "text/plain": [
       "387391.31450653076"
      ]
     },
     "execution_count": 89,
     "metadata": {},
     "output_type": "execute_result"
    }
   ],
   "source": [
    "data[(data['Tree Depth']==20)&(data['Model']=='SDT_CPU')]['Time(ms)'].mean()*1e6"
   ]
  },
  {
   "cell_type": "code",
   "execution_count": 90,
   "metadata": {},
   "outputs": [
    {
     "data": {
      "text/plain": [
       "783.5435867309571"
      ]
     },
     "execution_count": 90,
     "metadata": {},
     "output_type": "execute_result"
    }
   ],
   "source": [
    "data[(data['Tree Depth']==20)&(data['Model']=='DT_CPU')]['Time(ms)'].mean()*1e6"
   ]
  },
  {
   "cell_type": "code",
   "execution_count": 91,
   "metadata": {},
   "outputs": [
    {
     "data": {
      "text/plain": [
       "24575.77194213867"
      ]
     },
     "execution_count": 91,
     "metadata": {},
     "output_type": "execute_result"
    }
   ],
   "source": [
    "data[(data['Tree Depth']==20)&(data['Model']=='SDT_GPU')]['Time(ms)'].mean()*1e6"
   ]
  },
  {
   "cell_type": "code",
   "execution_count": 92,
   "metadata": {},
   "outputs": [
    {
     "name": "stderr",
     "output_type": "stream",
     "text": [
      "findfont: Font family 'Helvetica' not found.\n",
      "findfont: Font family 'Helvetica' not found.\n",
      "findfont: Font family 'Helvetica' not found.\n",
      "findfont: Font family 'Helvetica' not found.\n",
      "findfont: Font family 'Helvetica' not found.\n",
      "findfont: Font family 'Helvetica' not found.\n",
      "findfont: Font family 'Helvetica' not found.\n",
      "findfont: Font family 'Helvetica' not found.\n",
      "findfont: Font family 'Helvetica' not found.\n",
      "findfont: Font family 'Helvetica' not found.\n",
      "findfont: Font family 'Helvetica' not found.\n"
     ]
    },
    {
     "name": "stderr",
     "output_type": "stream",
     "text": [
      "findfont: Font family 'Helvetica' not found.\n",
      "findfont: Font family 'Helvetica' not found.\n",
      "findfont: Font family 'Helvetica' not found.\n",
      "findfont: Font family 'Helvetica' not found.\n",
      "findfont: Font family 'Helvetica' not found.\n",
      "findfont: Font family 'Helvetica' not found.\n",
      "findfont: Font family 'Helvetica' not found.\n",
      "findfont: Font family 'Helvetica' not found.\n",
      "findfont: Font family 'Helvetica' not found.\n",
      "findfont: Font family 'Helvetica' not found.\n",
      "findfont: Font family 'Helvetica' not found.\n",
      "findfont: Font family 'Helvetica' not found.\n",
      "findfont: Font family 'Helvetica' not found.\n",
      "findfont: Font family 'Helvetica' not found.\n",
      "findfont: Font family 'Helvetica' not found.\n",
      "findfont: Font family 'Helvetica' not found.\n",
      "findfont: Font family 'Helvetica' not found.\n",
      "findfont: Font family 'Helvetica' not found.\n",
      "findfont: Font family 'Helvetica' not found.\n",
      "findfont: Font family 'Helvetica' not found.\n",
      "findfont: Font family 'Helvetica' not found.\n",
      "findfont: Font family 'Helvetica' not found.\n",
      "findfont: Font family 'Helvetica' not found.\n",
      "findfont: Font family 'Helvetica' not found.\n",
      "findfont: Font family 'Helvetica' not found.\n",
      "findfont: Font family 'Helvetica' not found.\n",
      "findfont: Font family 'Helvetica' not found.\n",
      "findfont: Font family 'Helvetica' not found.\n",
      "findfont: Font family 'Helvetica' not found.\n",
      "findfont: Font family 'Helvetica' not found.\n",
      "findfont: Font family 'Helvetica' not found.\n",
      "findfont: Font family 'Helvetica' not found.\n",
      "findfont: Font family 'Helvetica' not found.\n",
      "findfont: Font family 'Helvetica' not found.\n",
      "findfont: Font family 'Helvetica' not found.\n",
      "findfont: Font family 'Helvetica' not found.\n",
      "findfont: Font family 'Helvetica' not found.\n",
      "findfont: Font family 'Helvetica' not found.\n",
      "findfont: Font family 'Helvetica' not found.\n",
      "findfont: Font family 'Helvetica' not found.\n",
      "findfont: Font family 'Helvetica' not found.\n",
      "findfont: Font family 'Helvetica' not found.\n",
      "findfont: Font family 'Helvetica' not found.\n",
      "findfont: Font family 'Helvetica' not found.\n",
      "findfont: Font family 'Helvetica' not found.\n"
     ]
    },
    {
     "data": {
      "image/png": "[encoded data removed]",
      "text/plain": [
       "<Figure size 1056x792 with 1 Axes>"
      ]
     },
     "metadata": {},
     "output_type": "display_data"
    }
   ],
   "source": [
    "plt.style.use('default')\n",
    "plt.rcParams[\"svg.fonttype\"]='none'\n",
    "plt.rcParams[\"font.family\"]='Helvetica'\n",
    "plt.rcParams[\"savefig.transparent\"]=True\n",
    "# \n",
    "fig, ax = plt.subplots(dpi=600,figsize=(1.76,1.32))\n",
    "ax.set_box_aspect(1.32/1.76)\n",
    "ax.set_xlabel('Tree depth',fontsize=6,labelpad=0)\n",
    "ax.set_ylabel('Time (s)',fontsize=6,labelpad=0)\n",
    "g_results = sns.lineplot(ax=ax, data = data[data['Tree Depth']<22], x='Tree Depth',y='Time(s)', hue='Model',style='Model')\n",
    "g_results.set(yscale='log')\n",
    "ax.tick_params(axis='y', which='major', length=3,pad=0,labelsize=5)\n",
    "ax.tick_params(axis='x', which='major', length=2,pad=0.2,labelsize=5)\n",
    "plt.legend([])\n",
    "plt.xticks([6,8,10,12,14,16,18,20])\n",
    "plt.savefig('./images/inference time.svg',format='svg',transparent=True)\n",
    "# plt.savefig('./images/analysis2.svg',format='svg',transparent=True,bbox_inches='tight')\n",
    "# plt.savefig('./images/analysis2.png',format='png',transparent=True,bbox_inches='tight',dpi=600)"
   ]
  },
  {
   "cell_type": "code",
   "execution_count": 18,
   "metadata": {},
   "outputs": [
    {
     "name": "stderr",
     "output_type": "stream",
     "text": [
      "findfont: Font family 'Helvetica' not found.\n",
      "findfont: Font family 'Helvetica' not found.\n",
      "findfont: Font family 'Helvetica' not found.\n",
      "findfont: Font family 'Helvetica' not found.\n",
      "findfont: Font family 'Helvetica' not found.\n",
      "findfont: Font family 'Helvetica' not found.\n",
      "findfont: Font family 'Helvetica' not found.\n",
      "findfont: Font family 'Helvetica' not found.\n",
      "findfont: Font family 'Helvetica' not found.\n",
      "findfont: Font family 'Helvetica' not found.\n",
      "findfont: Font family 'Helvetica' not found.\n",
      "findfont: Font family 'Helvetica' not found.\n",
      "findfont: Font family 'Helvetica' not found.\n",
      "findfont: Font family 'Helvetica' not found.\n",
      "findfont: Font family 'Helvetica' not found.\n",
      "findfont: Font family 'Helvetica' not found.\n",
      "findfont: Font family 'Helvetica' not found.\n",
      "findfont: Font family 'Helvetica' not found.\n",
      "findfont: Font family 'Helvetica' not found.\n",
      "findfont: Font family 'Helvetica' not found.\n",
      "findfont: Font family 'Helvetica' not found.\n",
      "findfont: Font family 'Helvetica' not found.\n",
      "findfont: Font family 'Helvetica' not found.\n",
      "findfont: Font family 'Helvetica' not found.\n",
      "findfont: Font family 'Helvetica' not found.\n",
      "findfont: Font family 'Helvetica' not found.\n",
      "findfont: Font family 'Helvetica' not found.\n",
      "findfont: Font family 'Helvetica' not found.\n",
      "findfont: Font family 'Helvetica' not found.\n",
      "findfont: Font family 'Helvetica' not found.\n",
      "findfont: Font family 'Helvetica' not found.\n",
      "findfont: Font family 'Helvetica' not found.\n",
      "findfont: Font family 'Helvetica' not found.\n",
      "findfont: Font family 'Helvetica' not found.\n",
      "findfont: Font family 'Helvetica' not found.\n",
      "findfont: Font family 'Helvetica' not found.\n",
      "findfont: Font family 'Helvetica' not found.\n",
      "findfont: Font family 'Helvetica' not found.\n",
      "findfont: Font family 'Helvetica' not found.\n",
      "findfont: Font family 'Helvetica' not found.\n",
      "findfont: Font family 'Helvetica' not found.\n",
      "findfont: Font family 'Helvetica' not found.\n",
      "findfont: Font family 'Helvetica' not found.\n",
      "findfont: Font family 'Helvetica' not found.\n",
      "findfont: Font family 'Helvetica' not found.\n",
      "findfont: Font family 'Helvetica' not found.\n",
      "findfont: Font family 'Helvetica' not found.\n",
      "findfont: Font family 'Helvetica' not found.\n",
      "findfont: Font family 'Helvetica' not found.\n",
      "findfont: Font family 'Helvetica' not found.\n",
      "findfont: Font family 'Helvetica' not found.\n",
      "findfont: Font family 'Helvetica' not found.\n",
      "findfont: Font family 'Helvetica' not found.\n",
      "findfont: Font family 'Helvetica' not found.\n",
      "findfont: Font family 'Helvetica' not found.\n",
      "findfont: Font family 'Helvetica' not found.\n",
      "findfont: Font family 'Helvetica' not found.\n",
      "findfont: Font family 'Helvetica' not found.\n",
      "findfont: Font family 'Helvetica' not found.\n",
      "findfont: Font family 'Helvetica' not found.\n",
      "findfont: Font family 'Helvetica' not found.\n",
      "findfont: Font family 'Helvetica' not found.\n",
      "findfont: Font family 'Helvetica' not found.\n",
      "findfont: Font family 'Helvetica' not found.\n",
      "findfont: Font family 'Helvetica' not found.\n",
      "findfont: Font family 'Helvetica' not found.\n",
      "findfont: Font family 'Helvetica' not found.\n",
      "findfont: Font family 'Helvetica' not found.\n",
      "findfont: Font family 'Helvetica' not found.\n",
      "findfont: Font family 'Helvetica' not found.\n",
      "findfont: Font family 'Helvetica' not found.\n",
      "findfont: Font family 'Helvetica' not found.\n",
      "findfont: Font family 'Helvetica' not found.\n",
      "findfont: Font family 'Helvetica' not found.\n",
      "findfont: Font family 'Helvetica' not found.\n",
      "findfont: Font family 'Helvetica' not found.\n",
      "findfont: Font family 'Helvetica' not found.\n",
      "findfont: Font family 'Helvetica' not found.\n",
      "findfont: Font family 'Helvetica' not found.\n",
      "findfont: Font family 'Helvetica' not found.\n",
      "findfont: Font family 'Helvetica' not found.\n",
      "findfont: Font family 'Helvetica' not found.\n",
      "findfont: Font family 'Helvetica' not found.\n",
      "findfont: Font family 'Helvetica' not found.\n",
      "findfont: Font family 'Helvetica' not found.\n",
      "findfont: Font family 'Helvetica' not found.\n",
      "findfont: Font family 'Helvetica' not found.\n",
      "findfont: Font family 'Helvetica' not found.\n",
      "findfont: Font family 'Helvetica' not found.\n",
      "findfont: Font family 'Helvetica' not found.\n",
      "findfont: Font family 'Helvetica' not found.\n",
      "findfont: Font family 'Helvetica' not found.\n",
      "findfont: Font family 'Helvetica' not found.\n",
      "findfont: Font family 'Helvetica' not found.\n",
      "findfont: Font family 'Helvetica' not found.\n",
      "findfont: Font family 'Helvetica' not found.\n",
      "findfont: Font family 'Helvetica' not found.\n",
      "findfont: Font family 'Helvetica' not found.\n",
      "findfont: Font family 'Helvetica' not found.\n",
      "findfont: Font family 'Helvetica' not found.\n",
      "findfont: Font family 'Helvetica' not found.\n",
      "findfont: Font family 'Helvetica' not found.\n",
      "findfont: Font family 'Helvetica' not found.\n",
      "findfont: Font family 'Helvetica' not found.\n",
      "findfont: Font family 'Helvetica' not found.\n",
      "findfont: Font family 'Helvetica' not found.\n",
      "findfont: Font family 'Helvetica' not found.\n",
      "findfont: Font family 'Helvetica' not found.\n",
      "findfont: Font family 'Helvetica' not found.\n",
      "findfont: Font family 'Helvetica' not found.\n",
      "findfont: Font family 'Helvetica' not found.\n",
      "findfont: Font family 'Helvetica' not found.\n",
      "findfont: Font family 'Helvetica' not found.\n",
      "findfont: Font family 'Helvetica' not found.\n",
      "findfont: Font family 'Helvetica' not found.\n",
      "findfont: Font family 'Helvetica' not found.\n",
      "findfont: Font family 'Helvetica' not found.\n",
      "findfont: Font family 'Helvetica' not found.\n",
      "findfont: Font family 'Helvetica' not found.\n",
      "findfont: Font family 'Helvetica' not found.\n",
      "findfont: Font family 'Helvetica' not found.\n",
      "findfont: Font family 'Helvetica' not found.\n",
      "findfont: Font family 'Helvetica' not found.\n",
      "findfont: Font family 'Helvetica' not found.\n",
      "findfont: Font family 'Helvetica' not found.\n",
      "findfont: Font family 'Helvetica' not found.\n",
      "findfont: Font family 'Helvetica' not found.\n",
      "findfont: Font family 'Helvetica' not found.\n",
      "findfont: Font family 'Helvetica' not found.\n",
      "findfont: Font family 'Helvetica' not found.\n",
      "findfont: Font family 'Helvetica' not found.\n",
      "findfont: Font family 'Helvetica' not found.\n",
      "findfont: Font family 'Helvetica' not found.\n",
      "findfont: Font family 'Helvetica' not found.\n",
      "findfont: Font family 'Helvetica' not found.\n",
      "findfont: Font family 'Helvetica' not found.\n",
      "findfont: Font family 'Helvetica' not found.\n",
      "findfont: Font family 'Helvetica' not found.\n",
      "findfont: Font family 'Helvetica' not found.\n",
      "findfont: Font family 'Helvetica' not found.\n",
      "findfont: Font family 'Helvetica' not found.\n",
      "findfont: Font family 'Helvetica' not found.\n",
      "findfont: Font family 'Helvetica' not found.\n",
      "findfont: Font family 'Helvetica' not found.\n",
      "findfont: Font family 'Helvetica' not found.\n",
      "findfont: Font family 'Helvetica' not found.\n",
      "findfont: Font family 'Helvetica' not found.\n",
      "findfont: Font family 'Helvetica' not found.\n",
      "findfont: Font family 'Helvetica' not found.\n",
      "findfont: Font family 'Helvetica' not found.\n",
      "findfont: Font family 'Helvetica' not found.\n",
      "findfont: Font family 'Helvetica' not found.\n",
      "findfont: Font family 'Helvetica' not found.\n",
      "findfont: Font family 'Helvetica' not found.\n",
      "findfont: Font family 'Helvetica' not found.\n",
      "findfont: Font family 'Helvetica' not found.\n",
      "findfont: Font family 'Helvetica' not found.\n",
      "findfont: Font family 'Helvetica' not found.\n",
      "findfont: Font family 'Helvetica' not found.\n",
      "findfont: Font family 'Helvetica' not found.\n",
      "findfont: Font family 'Helvetica' not found.\n",
      "findfont: Font family 'Helvetica' not found.\n",
      "findfont: Font family 'Helvetica' not found.\n",
      "findfont: Font family 'Helvetica' not found.\n",
      "findfont: Font family 'Helvetica' not found.\n",
      "findfont: Font family 'Helvetica' not found.\n",
      "findfont: Font family 'Helvetica' not found.\n",
      "findfont: Font family 'Helvetica' not found.\n",
      "findfont: Font family 'Helvetica' not found.\n",
      "findfont: Font family 'Helvetica' not found.\n",
      "findfont: Font family 'Helvetica' not found.\n",
      "findfont: Font family 'Helvetica' not found.\n",
      "findfont: Font family 'Helvetica' not found.\n",
      "findfont: Font family 'Helvetica' not found.\n",
      "findfont: Font family 'Helvetica' not found.\n",
      "findfont: Font family 'Helvetica' not found.\n",
      "findfont: Font family 'Helvetica' not found.\n",
      "findfont: Font family 'Helvetica' not found.\n",
      "findfont: Font family 'Helvetica' not found.\n",
      "findfont: Font family 'Helvetica' not found.\n",
      "findfont: Font family 'Helvetica' not found.\n",
      "findfont: Font family 'Helvetica' not found.\n",
      "findfont: Font family 'Helvetica' not found.\n",
      "findfont: Font family 'Helvetica' not found.\n",
      "findfont: Font family 'Helvetica' not found.\n",
      "findfont: Font family 'Helvetica' not found.\n",
      "findfont: Font family 'Helvetica' not found.\n",
      "findfont: Font family 'Helvetica' not found.\n",
      "findfont: Font family 'Helvetica' not found.\n",
      "findfont: Font family 'Helvetica' not found.\n",
      "findfont: Font family 'Helvetica' not found.\n",
      "findfont: Font family 'Helvetica' not found.\n",
      "findfont: Font family 'Helvetica' not found.\n",
      "findfont: Font family 'Helvetica' not found.\n",
      "findfont: Font family 'Helvetica' not found.\n",
      "findfont: Font family 'Helvetica' not found.\n",
      "findfont: Font family 'Helvetica' not found.\n",
      "findfont: Font family 'Helvetica' not found.\n",
      "findfont: Font family 'Helvetica' not found.\n",
      "findfont: Font family 'Helvetica' not found.\n",
      "findfont: Font family 'Helvetica' not found.\n",
      "findfont: Font family 'Helvetica' not found.\n",
      "findfont: Font family 'Helvetica' not found.\n",
      "findfont: Font family 'Helvetica' not found.\n",
      "findfont: Font family 'Helvetica' not found.\n",
      "findfont: Font family 'Helvetica' not found.\n",
      "findfont: Font family 'Helvetica' not found.\n",
      "findfont: Font family 'Helvetica' not found.\n",
      "findfont: Font family 'Helvetica' not found.\n",
      "findfont: Font family 'Helvetica' not found.\n",
      "findfont: Font family 'Helvetica' not found.\n",
      "findfont: Font family 'Helvetica' not found.\n",
      "findfont: Font family 'Helvetica' not found.\n",
      "findfont: Font family 'Helvetica' not found.\n",
      "findfont: Font family 'Helvetica' not found.\n",
      "findfont: Font family 'Helvetica' not found.\n",
      "findfont: Font family 'Helvetica' not found.\n",
      "findfont: Font family 'Helvetica' not found.\n",
      "findfont: Font family 'Helvetica' not found.\n",
      "findfont: Font family 'Helvetica' not found.\n",
      "findfont: Font family 'Helvetica' not found.\n",
      "findfont: Font family 'Helvetica' not found.\n",
      "findfont: Font family 'Helvetica' not found.\n",
      "findfont: Font family 'Helvetica' not found.\n",
      "findfont: Font family 'Helvetica' not found.\n",
      "findfont: Font family 'Helvetica' not found.\n",
      "findfont: Font family 'Helvetica' not found.\n",
      "findfont: Font family 'Helvetica' not found.\n",
      "findfont: Font family 'Helvetica' not found.\n",
      "findfont: Font family 'Helvetica' not found.\n",
      "findfont: Font family 'Helvetica' not found.\n",
      "findfont: Font family 'Helvetica' not found.\n",
      "findfont: Font family 'Helvetica' not found.\n",
      "findfont: Font family 'Helvetica' not found.\n",
      "findfont: Font family 'Helvetica' not found.\n",
      "findfont: Font family 'Helvetica' not found.\n",
      "findfont: Font family 'Helvetica' not found.\n",
      "findfont: Font family 'Helvetica' not found.\n",
      "findfont: Font family 'Helvetica' not found.\n",
      "findfont: Font family 'Helvetica' not found.\n",
      "findfont: Font family 'Helvetica' not found.\n",
      "findfont: Font family 'Helvetica' not found.\n",
      "findfont: Font family 'Helvetica' not found.\n",
      "findfont: Font family 'Helvetica' not found.\n",
      "findfont: Font family 'Helvetica' not found.\n",
      "findfont: Font family 'Helvetica' not found.\n",
      "findfont: Font family 'Helvetica' not found.\n",
      "findfont: Font family 'Helvetica' not found.\n",
      "findfont: Font family 'Helvetica' not found.\n",
      "findfont: Font family 'Helvetica' not found.\n",
      "findfont: Font family 'Helvetica' not found.\n",
      "findfont: Font family 'Helvetica' not found.\n",
      "findfont: Font family 'Helvetica' not found.\n",
      "findfont: Font family 'Helvetica' not found.\n",
      "findfont: Font family 'Helvetica' not found.\n",
      "findfont: Font family 'Helvetica' not found.\n",
      "findfont: Font family 'Helvetica' not found.\n",
      "findfont: Font family 'Helvetica' not found.\n",
      "findfont: Font family 'Helvetica' not found.\n",
      "findfont: Font family 'Helvetica' not found.\n",
      "findfont: Font family 'Helvetica' not found.\n",
      "findfont: Font family 'Helvetica' not found.\n",
      "findfont: Font family 'Helvetica' not found.\n",
      "findfont: Font family 'Helvetica' not found.\n",
      "findfont: Font family 'Helvetica' not found.\n",
      "findfont: Font family 'Helvetica' not found.\n",
      "findfont: Font family 'Helvetica' not found.\n",
      "findfont: Font family 'Helvetica' not found.\n",
      "findfont: Font family 'Helvetica' not found.\n",
      "findfont: Font family 'Helvetica' not found.\n",
      "findfont: Font family 'Helvetica' not found.\n",
      "findfont: Font family 'Helvetica' not found.\n",
      "findfont: Font family 'Helvetica' not found.\n",
      "findfont: Font family 'Helvetica' not found.\n",
      "findfont: Font family 'Helvetica' not found.\n",
      "findfont: Font family 'Helvetica' not found.\n",
      "findfont: Font family 'Helvetica' not found.\n",
      "findfont: Font family 'Helvetica' not found.\n",
      "findfont: Font family 'Helvetica' not found.\n",
      "findfont: Font family 'Helvetica' not found.\n",
      "findfont: Font family 'Helvetica' not found.\n",
      "findfont: Font family 'Helvetica' not found.\n",
      "findfont: Font family 'Helvetica' not found.\n",
      "findfont: Font family 'Helvetica' not found.\n",
      "findfont: Font family 'Helvetica' not found.\n",
      "findfont: Font family 'Helvetica' not found.\n",
      "findfont: Font family 'Helvetica' not found.\n",
      "findfont: Font family 'Helvetica' not found.\n",
      "findfont: Font family 'Helvetica' not found.\n",
      "findfont: Font family 'Helvetica' not found.\n",
      "findfont: Font family 'Helvetica' not found.\n",
      "findfont: Font family 'Helvetica' not found.\n",
      "findfont: Font family 'Helvetica' not found.\n",
      "findfont: Font family 'Helvetica' not found.\n",
      "findfont: Font family 'Helvetica' not found.\n",
      "findfont: Font family 'Helvetica' not found.\n",
      "findfont: Font family 'Helvetica' not found.\n",
      "findfont: Font family 'Helvetica' not found.\n",
      "findfont: Font family 'Helvetica' not found.\n",
      "findfont: Font family 'Helvetica' not found.\n",
      "findfont: Font family 'Helvetica' not found.\n",
      "findfont: Font family 'Helvetica' not found.\n",
      "findfont: Font family 'Helvetica' not found.\n",
      "findfont: Font family 'Helvetica' not found.\n",
      "findfont: Font family 'Helvetica' not found.\n",
      "findfont: Font family 'Helvetica' not found.\n",
      "findfont: Font family 'Helvetica' not found.\n",
      "findfont: Font family 'Helvetica' not found.\n",
      "findfont: Font family 'Helvetica' not found.\n",
      "findfont: Font family 'Helvetica' not found.\n",
      "findfont: Font family 'Helvetica' not found.\n",
      "findfont: Font family 'Helvetica' not found.\n",
      "findfont: Font family 'Helvetica' not found.\n",
      "findfont: Font family 'Helvetica' not found.\n",
      "findfont: Font family 'Helvetica' not found.\n",
      "findfont: Font family 'Helvetica' not found.\n",
      "findfont: Font family 'Helvetica' not found.\n",
      "findfont: Font family 'Helvetica' not found.\n",
      "findfont: Font family 'Helvetica' not found.\n",
      "findfont: Font family 'Helvetica' not found.\n",
      "findfont: Font family 'Helvetica' not found.\n",
      "findfont: Font family 'Helvetica' not found.\n",
      "findfont: Font family 'Helvetica' not found.\n",
      "findfont: Font family 'Helvetica' not found.\n",
      "findfont: Font family 'Helvetica' not found.\n",
      "findfont: Font family 'Helvetica' not found.\n",
      "findfont: Font family 'Helvetica' not found.\n",
      "findfont: Font family 'Helvetica' not found.\n",
      "findfont: Font family 'Helvetica' not found.\n",
      "findfont: Font family 'Helvetica' not found.\n",
      "findfont: Font family 'Helvetica' not found.\n",
      "findfont: Font family 'Helvetica' not found.\n",
      "findfont: Font family 'Helvetica' not found.\n",
      "findfont: Font family 'Helvetica' not found.\n",
      "findfont: Font family 'Helvetica' not found.\n",
      "findfont: Font family 'Helvetica' not found.\n",
      "findfont: Font family 'Helvetica' not found.\n",
      "findfont: Font family 'Helvetica' not found.\n",
      "findfont: Font family 'Helvetica' not found.\n",
      "findfont: Font family 'Helvetica' not found.\n",
      "findfont: Font family 'Helvetica' not found.\n",
      "findfont: Font family 'Helvetica' not found.\n",
      "findfont: Font family 'Helvetica' not found.\n",
      "findfont: Font family 'Helvetica' not found.\n",
      "findfont: Font family 'Helvetica' not found.\n",
      "findfont: Font family 'Helvetica' not found.\n",
      "findfont: Font family 'Helvetica' not found.\n",
      "findfont: Font family 'Helvetica' not found.\n",
      "findfont: Font family 'Helvetica' not found.\n",
      "findfont: Font family 'Helvetica' not found.\n",
      "findfont: Font family 'Helvetica' not found.\n",
      "findfont: Font family 'Helvetica' not found.\n",
      "findfont: Font family 'Helvetica' not found.\n",
      "findfont: Font family 'Helvetica' not found.\n",
      "findfont: Font family 'Helvetica' not found.\n",
      "findfont: Font family 'Helvetica' not found.\n",
      "findfont: Font family 'Helvetica' not found.\n",
      "findfont: Font family 'Helvetica' not found.\n",
      "findfont: Font family 'Helvetica' not found.\n",
      "findfont: Font family 'Helvetica' not found.\n",
      "findfont: Font family 'Helvetica' not found.\n",
      "findfont: Font family 'Helvetica' not found.\n",
      "findfont: Font family 'Helvetica' not found.\n",
      "findfont: Font family 'Helvetica' not found.\n",
      "findfont: Font family 'Helvetica' not found.\n",
      "findfont: Font family 'Helvetica' not found.\n",
      "findfont: Font family 'Helvetica' not found.\n",
      "findfont: Font family 'Helvetica' not found.\n",
      "findfont: Font family 'Helvetica' not found.\n",
      "findfont: Font family 'Helvetica' not found.\n",
      "findfont: Font family 'Helvetica' not found.\n",
      "findfont: Font family 'Helvetica' not found.\n",
      "findfont: Font family 'Helvetica' not found.\n",
      "findfont: Font family 'Helvetica' not found.\n",
      "findfont: Font family 'Helvetica' not found.\n",
      "findfont: Font family 'Helvetica' not found.\n",
      "findfont: Font family 'Helvetica' not found.\n",
      "findfont: Font family 'Helvetica' not found.\n",
      "findfont: Font family 'Helvetica' not found.\n",
      "findfont: Font family 'Helvetica' not found.\n",
      "findfont: Font family 'Helvetica' not found.\n",
      "findfont: Font family 'Helvetica' not found.\n",
      "findfont: Font family 'Helvetica' not found.\n",
      "findfont: Font family 'Helvetica' not found.\n",
      "findfont: Font family 'Helvetica' not found.\n",
      "findfont: Font family 'Helvetica' not found.\n",
      "findfont: Font family 'Helvetica' not found.\n",
      "findfont: Font family 'Helvetica' not found.\n",
      "findfont: Font family 'Helvetica' not found.\n",
      "findfont: Font family 'Helvetica' not found.\n",
      "findfont: Font family 'Helvetica' not found.\n",
      "findfont: Font family 'Helvetica' not found.\n",
      "findfont: Font family 'Helvetica' not found.\n",
      "findfont: Font family 'Helvetica' not found.\n",
      "findfont: Font family 'Helvetica' not found.\n",
      "findfont: Font family 'Helvetica' not found.\n",
      "findfont: Font family 'Helvetica' not found.\n",
      "findfont: Font family 'Helvetica' not found.\n",
      "findfont: Font family 'Helvetica' not found.\n",
      "findfont: Font family 'Helvetica' not found.\n",
      "findfont: Font family 'Helvetica' not found.\n",
      "findfont: Font family 'Helvetica' not found.\n",
      "findfont: Font family 'Helvetica' not found.\n",
      "findfont: Font family 'Helvetica' not found.\n",
      "findfont: Font family 'Helvetica' not found.\n",
      "findfont: Font family 'Helvetica' not found.\n",
      "findfont: Font family 'Helvetica' not found.\n",
      "findfont: Font family 'Helvetica' not found.\n",
      "findfont: Font family 'Helvetica' not found.\n",
      "findfont: Font family 'Helvetica' not found.\n",
      "findfont: Font family 'Helvetica' not found.\n",
      "findfont: Font family 'Helvetica' not found.\n",
      "findfont: Font family 'Helvetica' not found.\n",
      "findfont: Font family 'Helvetica' not found.\n",
      "findfont: Font family 'Helvetica' not found.\n",
      "findfont: Font family 'Helvetica' not found.\n"
     ]
    },
    {
     "data": {
      "image/png": "[encoded data removed]",
      "text/plain": [
       "<Figure size 450x350 with 1 Axes>"
      ]
     },
     "metadata": {},
     "output_type": "display_data"
    }
   ],
   "source": [
    "plt.style.use('default')\n",
    "plt.rcParams[\"svg.fonttype\"]='none'\n",
    "plt.rcParams[\"font.family\"]='Helvetica'\n",
    "plt.rcParams[\"savefig.transparent\"]=True\n",
    "# \n",
    "fig, ax = plt.subplots(dpi=600,figsize=(1.76,1.32))\n",
    "ax.set_box_aspect(1.32/1.76)\n",
    "\n",
    "# ax = ax.flatten()\n",
    "\n",
    "# sns.set_style('whitegrid')\n",
    "\n",
    "g_results = sns.lineplot(ax=ax, data = data[data['Tree Depth']<16], x='Tree Depth',y='Time(s)', hue='Model',style='Model')\n",
    "g_results.set(yscale='log')\n",
    "plt.tick_params(axis='both', which='major')\n",
    "plt.savefig('./images/analysis2.svg',format='svg',transparent=True,bbox_inches='tight')\n",
    "plt.savefig('./images/analysis2.png',format='png',transparent=True,bbox_inches='tight',dpi=600)"
   ]
  },
  {
   "cell_type": "code",
   "execution_count": 90,
   "metadata": {},
   "outputs": [
    {
     "data": {
      "image/png": "[encoded data removed]",
      "text/plain": [
       "<Figure size 324x252 with 1 Axes>"
      ]
     },
     "metadata": {},
     "output_type": "display_data"
    }
   ],
   "source": [
    "fig, ax  = plt.subplots(figsize=(4.5,3.5),constrained_layout=True)\n",
    "# ax = ax.flatten()\n",
    "plt.rcParams[\"font.family\"] = \"Helvetica\"\n",
    "plt.rcParams.update({'font.size': 8})\n",
    "sns.set_style('whitegrid')\n",
    "\n",
    "g_results = sns.lineplot(ax=ax, data = complexity[complexity['Tree Depth']<15], x='Tree Depth',y='Time(s)', hue='Model',style='Model')\n",
    "# g_results.set(yscale='log')\n",
    "plt.grid(False)\n",
    "plt.yticks([])\n",
    "plt.ylabel('Time')\n",
    "plt.tick_params(axis='both', which='major')\n",
    "plt.savefig('./images/analysis3.svg',format='svg',transparent=True,bbox_inches='tight')\n"
   ]
  },
  {
   "cell_type": "code",
   "execution_count": 74,
   "metadata": {},
   "outputs": [
    {
     "data": {
      "image/png": "[encoded data removed]",
      "text/plain": [
       "<Figure size 324x252 with 1 Axes>"
      ]
     },
     "metadata": {},
     "output_type": "display_data"
    }
   ],
   "source": [
    "fig, ax  = plt.subplots(figsize=(4.5,3.5),constrained_layout=True)\n",
    "# ax = ax.flatten()\n",
    "plt.rcParams[\"font.family\"] = \"Helvetica\"\n",
    "plt.rcParams.update({'font.size': 8})\n",
    "sns.set_style('whitegrid')\n",
    "\n",
    "g_results = sns.lineplot(ax=ax, data = data[(data['Tree Depth']<16)&(data['Model']!='SDT_GPU')], x='Tree Depth',y='Time(ms)', hue='Model',style='Model')\n",
    "# g_results.set(yscale='log')\n",
    "plt.tick_params(axis='both', which='major')\n",
    "# plt.ylim([0,0.00005])\n",
    "# plt.savefig('./images/analysis2.svg',format='svg',transparent=True,bbox_inches='tight')\n",
    "# plt.savefig('./images/analysis2.png',format='png',transparent=True,bbox_inches='tight',dpi=600)"
   ]
  },
  {
   "cell_type": "code",
   "execution_count": 66,
   "metadata": {},
   "outputs": [
    {
     "data": {
      "text/plain": [
       "array([0.00581949, 3.00222955, 0.17463139])"
      ]
     },
     "execution_count": 66,
     "metadata": {},
     "output_type": "execute_result"
    }
   ],
   "source": [
    "np.mean(time_measured,0)"
   ]
  },
  {
   "cell_type": "code",
   "execution_count": 47,
   "metadata": {},
   "outputs": [
    {
     "data": {
      "text/plain": [
       "array([0.00653834, 3.093768  , 0.17810581])"
      ]
     },
     "execution_count": 47,
     "metadata": {},
     "output_type": "execute_result"
    }
   ],
   "source": [
    "np.mean(time_measured,0)"
   ]
  },
  {
   "cell_type": "code",
   "execution_count": 64,
   "metadata": {},
   "outputs": [
    {
     "data": {
      "text/plain": [
       "array([350, 568, 430, ..., 146,  -2,  -2], dtype=int64)"
      ]
     },
     "execution_count": 64,
     "metadata": {},
     "output_type": "execute_result"
    }
   ],
   "source": [
    "clf.tree_.feature"
   ]
  },
  {
   "cell_type": "code",
   "execution_count": 65,
   "metadata": {},
   "outputs": [
    {
     "data": {
      "text/plain": [
       "3585"
      ]
     },
     "execution_count": 65,
     "metadata": {},
     "output_type": "execute_result"
    }
   ],
   "source": [
    "sum(clf.tree_.feature!=-2)"
   ]
  },
  {
   "cell_type": "code",
   "execution_count": 30,
   "metadata": {},
   "outputs": [
    {
     "data": {
      "text/plain": [
       "(1, 784)"
      ]
     },
     "execution_count": 30,
     "metadata": {},
     "output_type": "execute_result"
    }
   ],
   "source": [
    "X_test_resize[:1,:].shape"
   ]
  },
  {
   "cell_type": "code",
   "execution_count": 15,
   "metadata": {},
   "outputs": [
    {
     "data": {
      "text/plain": [
       "SDT(\n",
       "  (dropout): Dropout(p=0.25, inplace=False)\n",
       ")"
      ]
     },
     "execution_count": 15,
     "metadata": {},
     "output_type": "execute_result"
    }
   ],
   "source": [
    "load_path = './sdt_model/16_model_90.95.pth'\n",
    "\n",
    "load_tree = SDT(clf,node_depth,node_path_left_right,args)\n",
    "load_tree.load_state_dict(torch.load(load_path))\n",
    "load_tree.eval()"
   ]
  },
  {
   "cell_type": "code",
   "execution_count": 19,
   "metadata": {},
   "outputs": [
    {
     "data": {
      "text/plain": [
       "(array([9.000e+00, 4.400e+01, 1.440e+02, 1.264e+03, 4.974e+03, 2.900e+01,\n",
       "        0.000e+00, 0.000e+00, 0.000e+00, 1.000e+00]),\n",
       " array([-12.447349 , -11.86075  , -11.274151 , -10.687552 , -10.100954 ,\n",
       "         -9.514355 ,  -8.927756 ,  -8.341158 ,  -7.754559 ,  -7.1679606,\n",
       "         -6.581362 ], dtype=float32),\n",
       " <BarContainer object of 10 artists>)"
      ]
     },
     "execution_count": 19,
     "metadata": {},
     "output_type": "execute_result"
    },
    {
     "data": {
      "image/png": "[encoded data removed]",
      "text/plain": [
       "<Figure size 432x288 with 1 Axes>"
      ]
     },
     "metadata": {
      "needs_background": "light"
     },
     "output_type": "display_data"
    }
   ],
   "source": [
    "plt.hist(load_tree.node_gain.data.reshape(1,-1))"
   ]
  },
  {
   "cell_type": "code",
   "execution_count": 25,
   "metadata": {},
   "outputs": [],
   "source": [
    "X_test_noise = X_test_resize.copy()\n",
    "root_feature = clf.tree_.feature[0]\n",
    "X_test_noise[:,root_feature] = np.random.random(X_test_noise[:,root_feature].shape)\n",
    "\n",
    "\n",
    "\n",
    "\n",
    "test_loader_noise = torch.utils.data.DataLoader(\n",
    "        Mnist_dataset(X_train_resize,\n",
    "                        X_test_noise,\n",
    "                        Y_train,\n",
    "                        Y_test,\n",
    "                        train_flag=0),\n",
    "        batch_size=100,\n",
    "        shuffle=False,\n",
    "    )"
   ]
  },
  {
   "cell_type": "code",
   "execution_count": 26,
   "metadata": {},
   "outputs": [
    {
     "name": "stdout",
     "output_type": "stream",
     "text": [
      "88.58\n"
     ]
    }
   ],
   "source": [
    "tree.eval()\n",
    "correct = 0.\n",
    "\n",
    "for batch_idx, (data, target) in enumerate(test_loader_noise):\n",
    "\n",
    "    batch_size = data.size()[0]\n",
    "    data, target = data.to(device), target.to(device)\n",
    "\n",
    "    # output = torch.softmax(tree.forward(data),dim=1)\n",
    "    output = tree.forward(data)\n",
    "    pred = torch.argmax(output,1)\n",
    "    correct += pred.eq(torch.argmax(target,1)).sum()\n",
    "accuracy = 100.0 * float(correct) / len(test_loader.dataset)\n",
    "print(accuracy)"
   ]
  },
  {
   "cell_type": "code",
   "execution_count": 80,
   "metadata": {},
   "outputs": [
    {
     "name": "stdout",
     "output_type": "stream",
     "text": [
      "Validation accuracy for our baseline (using all pixel features) under noise: 74.01%\n"
     ]
    }
   ],
   "source": [
    "\n",
    "val_preds_baseline = clf.predict(X_test_noise)\n",
    "acc_baseline_val = acc(val_preds_baseline, y_test)\n",
    "print(f'Validation accuracy for our baseline (using all pixel features) under noise: {acc_baseline_val}%')"
   ]
  },
  {
   "cell_type": "code",
   "execution_count": 36,
   "metadata": {},
   "outputs": [
    {
     "data": {
      "text/plain": [
       "tensor(0.1406)"
      ]
     },
     "execution_count": 36,
     "metadata": {},
     "output_type": "execute_result"
    }
   ],
   "source": [
    "thres_mean = torch.mean(tree.node_threshold.data)\n",
    "thres_std = torch.std(tree.node_threshold.data)"
   ]
  },
  {
   "cell_type": "code",
   "execution_count": 40,
   "metadata": {},
   "outputs": [
    {
     "data": {
      "text/plain": [
       "(array([2.8330e+03, 0.0000e+00, 4.2000e+01, 2.9100e+02, 1.5170e+04,\n",
       "        1.8545e+04, 1.3225e+04, 1.5920e+03, 2.6000e+01, 4.0000e+00]),\n",
       " array([-2.        , -1.5833483 , -1.1666967 , -0.75004494, -0.33339328,\n",
       "         0.08325839,  0.49991006,  0.9165617 ,  1.3332134 ,  1.749865  ,\n",
       "         2.1665168 ], dtype=float32),\n",
       " <BarContainer object of 10 artists>)"
      ]
     },
     "execution_count": 40,
     "metadata": {},
     "output_type": "execute_result"
    },
    {
     "data": {
      "image/png": "[encoded data removed]",
      "text/plain": [
       "<Figure size 432x288 with 1 Axes>"
      ]
     },
     "metadata": {
      "needs_background": "light"
     },
     "output_type": "display_data"
    }
   ],
   "source": [
    "plt.hist(tree.node_threshold.data.reshape(1,-1))"
   ]
  },
  {
   "cell_type": "code",
   "execution_count": 43,
   "metadata": {},
   "outputs": [],
   "source": [
    "tree.node_threshold.data = load_tree.node_threshold.data + torch.tensor(np.random.random(tree.node_threshold.data.shape)*0.2-0.1)"
   ]
  },
  {
   "cell_type": "code",
   "execution_count": 47,
   "metadata": {},
   "outputs": [],
   "source": [
    "new_clf = DecisionTreeClassifier(max_depth=best_depth)\n",
    "new_clf.tree_ = clf.tree_"
   ]
  },
  {
   "cell_type": "code",
   "execution_count": 81,
   "metadata": {},
   "outputs": [],
   "source": [
    "from copy import deepcopy\n",
    "new_clf = deepcopy(clf)"
   ]
  },
  {
   "cell_type": "code",
   "execution_count": 50,
   "metadata": {},
   "outputs": [
    {
     "data": {
      "text/plain": [
       "(array([3233.,    0.,    0.,    0.,    0.,    0.,  806.,  879.,  754.,\n",
       "         793.]),\n",
       " array([-2.        , -1.70019608, -1.40039216, -1.10058824, -0.80078431,\n",
       "        -0.50098039, -0.20117647,  0.09862745,  0.39843137,  0.69823529,\n",
       "         0.99803922]),\n",
       " <BarContainer object of 10 artists>)"
      ]
     },
     "execution_count": 50,
     "metadata": {},
     "output_type": "execute_result"
    },
    {
     "data": {
      "image/png": "[encoded data removed]",
      "text/plain": [
       "<Figure size 432x288 with 1 Axes>"
      ]
     },
     "metadata": {
      "needs_background": "light"
     },
     "output_type": "display_data"
    }
   ],
   "source": [
    "plt.hist(clf.tree_.threshold)"
   ]
  },
  {
   "cell_type": "code",
   "execution_count": 53,
   "metadata": {},
   "outputs": [
    {
     "data": {
      "text/plain": [
       "(6465,)"
      ]
     },
     "execution_count": 53,
     "metadata": {},
     "output_type": "execute_result"
    }
   ],
   "source": [
    "new_clf.tree_.threshold.data.shape"
   ]
  },
  {
   "cell_type": "code",
   "execution_count": 78,
   "metadata": {},
   "outputs": [
    {
     "ename": "AttributeError",
     "evalue": "'DecisionTreeClassifier' object has no attribute 'classes_'",
     "output_type": "error",
     "traceback": [
      "\u001b[0;31m---------------------------------------------------------------------------\u001b[0m",
      "\u001b[0;31mAttributeError\u001b[0m                            Traceback (most recent call last)",
      "\u001b[1;32m/home/wenbo/project/soft_decision_tree/Soft-Decision-Tree/soften_tree_v7_logic_rules_soft_label_optimized.ipynb Cell 25\u001b[0m in \u001b[0;36m<cell line: 1>\u001b[0;34m()\u001b[0m\n\u001b[0;32m----> <a href='vscode-notebook-cell://ssh-remote%2B147.8.89.88/home/wenbo/project/soft_decision_tree/Soft-Decision-Tree/soften_tree_v7_logic_rules_soft_label_optimized.ipynb#Y105sdnNjb2RlLXJlbW90ZQ%3D%3D?line=0'>1</a>\u001b[0m new_clf\u001b[39m.\u001b[39;49mclasses_\n",
      "\u001b[0;31mAttributeError\u001b[0m: 'DecisionTreeClassifier' object has no attribute 'classes_'"
     ]
    }
   ],
   "source": [
    "new_clf.cla"
   ]
  },
  {
   "cell_type": "code",
   "execution_count": 82,
   "metadata": {},
   "outputs": [],
   "source": [
    "new_clf.tree_.threshold[:] = clf.tree_.threshold[:] + np.random.random(clf.tree_.threshold[:].shape)*0.2-0.1"
   ]
  },
  {
   "cell_type": "code",
   "execution_count": 79,
   "metadata": {},
   "outputs": [
    {
     "ename": "NotFittedError",
     "evalue": "This DecisionTreeClassifier instance is not fitted yet. Call 'fit' with appropriate arguments before using this estimator.",
     "output_type": "error",
     "traceback": [
      "\u001b[0;31m---------------------------------------------------------------------------\u001b[0m",
      "\u001b[0;31mNotFittedError\u001b[0m                            Traceback (most recent call last)",
      "\u001b[1;32m/home/wenbo/project/soft_decision_tree/Soft-Decision-Tree/soften_tree_v7_logic_rules_soft_label_optimized.ipynb Cell 27\u001b[0m in \u001b[0;36m<cell line: 1>\u001b[0;34m()\u001b[0m\n\u001b[0;32m----> <a href='vscode-notebook-cell://ssh-remote%2B147.8.89.88/home/wenbo/project/soft_decision_tree/Soft-Decision-Tree/soften_tree_v7_logic_rules_soft_label_optimized.ipynb#Y103sdnNjb2RlLXJlbW90ZQ%3D%3D?line=0'>1</a>\u001b[0m val_preds_baseline \u001b[39m=\u001b[39m new_clf\u001b[39m.\u001b[39;49mpredict(X_test_noise)\n\u001b[1;32m      <a href='vscode-notebook-cell://ssh-remote%2B147.8.89.88/home/wenbo/project/soft_decision_tree/Soft-Decision-Tree/soften_tree_v7_logic_rules_soft_label_optimized.ipynb#Y103sdnNjb2RlLXJlbW90ZQ%3D%3D?line=1'>2</a>\u001b[0m acc_baseline_val \u001b[39m=\u001b[39m acc(val_preds_baseline, y_test)\n\u001b[1;32m      <a href='vscode-notebook-cell://ssh-remote%2B147.8.89.88/home/wenbo/project/soft_decision_tree/Soft-Decision-Tree/soften_tree_v7_logic_rules_soft_label_optimized.ipynb#Y103sdnNjb2RlLXJlbW90ZQ%3D%3D?line=2'>3</a>\u001b[0m \u001b[39mprint\u001b[39m(\u001b[39mf\u001b[39m\u001b[39m'\u001b[39m\u001b[39mValidation accuracy for our baseline (using all pixel features) under noise: \u001b[39m\u001b[39m{\u001b[39;00macc_baseline_val\u001b[39m}\u001b[39;00m\u001b[39m%\u001b[39m\u001b[39m'\u001b[39m)\n",
      "File \u001b[0;32m~/anaconda3/lib/python3.9/site-packages/sklearn/tree/_classes.py:466\u001b[0m, in \u001b[0;36mBaseDecisionTree.predict\u001b[0;34m(self, X, check_input)\u001b[0m\n\u001b[1;32m    443\u001b[0m \u001b[39mdef\u001b[39;00m \u001b[39mpredict\u001b[39m(\u001b[39mself\u001b[39m, X, check_input\u001b[39m=\u001b[39m\u001b[39mTrue\u001b[39;00m):\n\u001b[1;32m    444\u001b[0m     \u001b[39m\"\"\"Predict class or regression value for X.\u001b[39;00m\n\u001b[1;32m    445\u001b[0m \n\u001b[1;32m    446\u001b[0m \u001b[39m    For a classification model, the predicted class for each sample in X is\u001b[39;00m\n\u001b[0;32m   (...)\u001b[0m\n\u001b[1;32m    464\u001b[0m \u001b[39m        The predicted classes, or the predict values.\u001b[39;00m\n\u001b[1;32m    465\u001b[0m \u001b[39m    \"\"\"\u001b[39;00m\n\u001b[0;32m--> 466\u001b[0m     check_is_fitted(\u001b[39mself\u001b[39;49m)\n\u001b[1;32m    467\u001b[0m     X \u001b[39m=\u001b[39m \u001b[39mself\u001b[39m\u001b[39m.\u001b[39m_validate_X_predict(X, check_input)\n\u001b[1;32m    468\u001b[0m     proba \u001b[39m=\u001b[39m \u001b[39mself\u001b[39m\u001b[39m.\u001b[39mtree_\u001b[39m.\u001b[39mpredict(X)\n",
      "File \u001b[0;32m~/anaconda3/lib/python3.9/site-packages/sklearn/utils/validation.py:1222\u001b[0m, in \u001b[0;36mcheck_is_fitted\u001b[0;34m(estimator, attributes, msg, all_or_any)\u001b[0m\n\u001b[1;32m   1217\u001b[0m     fitted \u001b[39m=\u001b[39m [\n\u001b[1;32m   1218\u001b[0m         v \u001b[39mfor\u001b[39;00m v \u001b[39min\u001b[39;00m \u001b[39mvars\u001b[39m(estimator) \u001b[39mif\u001b[39;00m v\u001b[39m.\u001b[39mendswith(\u001b[39m\"\u001b[39m\u001b[39m_\u001b[39m\u001b[39m\"\u001b[39m) \u001b[39mand\u001b[39;00m \u001b[39mnot\u001b[39;00m v\u001b[39m.\u001b[39mstartswith(\u001b[39m\"\u001b[39m\u001b[39m__\u001b[39m\u001b[39m\"\u001b[39m)\n\u001b[1;32m   1219\u001b[0m     ]\n\u001b[1;32m   1221\u001b[0m \u001b[39mif\u001b[39;00m \u001b[39mnot\u001b[39;00m fitted:\n\u001b[0;32m-> 1222\u001b[0m     \u001b[39mraise\u001b[39;00m NotFittedError(msg \u001b[39m%\u001b[39m {\u001b[39m\"\u001b[39m\u001b[39mname\u001b[39m\u001b[39m\"\u001b[39m: \u001b[39mtype\u001b[39m(estimator)\u001b[39m.\u001b[39m\u001b[39m__name__\u001b[39m})\n",
      "\u001b[0;31mNotFittedError\u001b[0m: This DecisionTreeClassifier instance is not fitted yet. Call 'fit' with appropriate arguments before using this estimator."
     ]
    }
   ],
   "source": [
    "val_preds_baseline = new_clf.predict(X_test_noise)\n",
    "acc_baseline_val = acc(val_preds_baseline, y_test)\n",
    "print(f'Validation accuracy for our baseline (using all pixel features) under noise: {acc_baseline_val}%')"
   ]
  },
  {
   "cell_type": "code",
   "execution_count": 86,
   "metadata": {},
   "outputs": [
    {
     "name": "stdout",
     "output_type": "stream",
     "text": [
      "Validation accuracy for our baseline (using all pixel features) under noise: 32.05%\n"
     ]
    }
   ],
   "source": [
    "val_preds_baseline = new_clf.predict(X_test_resize)\n",
    "acc_baseline_val = acc(val_preds_baseline, y_test)\n",
    "print(f'Validation accuracy for our baseline (using all pixel features) under noise: {acc_baseline_val}%')"
   ]
  },
  {
   "cell_type": "code",
   "execution_count": 44,
   "metadata": {},
   "outputs": [
    {
     "name": "stdout",
     "output_type": "stream",
     "text": [
      "53.1\n"
     ]
    }
   ],
   "source": [
    "tree.eval()\n",
    "correct = 0.\n",
    "\n",
    "for batch_idx, (data, target) in enumerate(test_loader_noise):\n",
    "\n",
    "    batch_size = data.size()[0]\n",
    "    data, target = data.to(device), target.to(device)\n",
    "\n",
    "    # output = torch.softmax(tree.forward(data),dim=1)\n",
    "    output = tree.forward(data)\n",
    "    pred = torch.argmax(output,1)\n",
    "    correct += pred.eq(torch.argmax(target,1)).sum()\n",
    "accuracy = 100.0 * float(correct) / len(test_loader.dataset)\n",
    "print(accuracy)"
   ]
  },
  {
   "cell_type": "code",
   "execution_count": null,
   "metadata": {},
   "outputs": [
    {
     "data": {
      "text/plain": [
       "(array([57.,  2.,  1.,  1.,  0.,  0.,  1.,  0.,  0.,  2.]),\n",
       " array([2.39124615e-29, 2.65910430e-02, 5.31820860e-02, 7.97731290e-02,\n",
       "        1.06364172e-01, 1.32955215e-01, 1.59546258e-01, 1.86137301e-01,\n",
       "        2.12728344e-01, 2.39319387e-01, 2.65910430e-01]),\n",
       " <BarContainer object of 10 artists>)"
      ]
     },
     "execution_count": 98,
     "metadata": {},
     "output_type": "execute_result"
    },
    {
     "data": {
      "image/png": "[encoded data removed]",
      "text/plain": [
       "<Figure size 432x288 with 1 Axes>"
      ]
     },
     "metadata": {
      "needs_background": "light"
     },
     "output_type": "display_data"
    }
   ],
   "source": [
    "plt.hist(products[1,:])"
   ]
  },
  {
   "cell_type": "code",
   "execution_count": null,
   "metadata": {},
   "outputs": [
    {
     "data": {
      "text/plain": [
       "array([0.76756538, 0.26591043, 0.63942629, ..., 0.46874392, 0.551196  ,\n",
       "       0.42305356])"
      ]
     },
     "execution_count": 96,
     "metadata": {},
     "output_type": "execute_result"
    }
   ],
   "source": [
    "products[np.arange(10000),np.argsort(products[:,:],1)[:,-1]]"
   ]
  },
  {
   "cell_type": "code",
   "execution_count": null,
   "metadata": {},
   "outputs": [
    {
     "data": {
      "text/plain": [
       "(array([ 114.,  601., 1144., 1334., 1150., 1034., 2006., 1514., 1035.,\n",
       "          68.]),\n",
       " array([0.13263588, 0.21174084, 0.29084581, 0.36995077, 0.44905574,\n",
       "        0.5281607 , 0.60726566, 0.68637063, 0.76547559, 0.84458055,\n",
       "        0.92368552]),\n",
       " <BarContainer object of 10 artists>)"
      ]
     },
     "execution_count": 100,
     "metadata": {},
     "output_type": "execute_result"
    },
    {
     "data": {
      "image/png": "[encoded data removed]",
      "text/plain": [
       "<Figure size 432x288 with 1 Axes>"
      ]
     },
     "metadata": {
      "needs_background": "light"
     },
     "output_type": "display_data"
    }
   ],
   "source": [
    "plt.hist(np.max(products,1))"
   ]
  },
  {
   "cell_type": "code",
   "execution_count": null,
   "metadata": {},
   "outputs": [],
   "source": [
    "_mu = tree._forward(data)"
   ]
  },
  {
   "cell_type": "code",
   "execution_count": null,
   "metadata": {},
   "outputs": [
    {
     "data": {
      "text/plain": [
       "tensor([[0.3386, 0.2929, 0.3329,  ..., 0.3041, 0.2554, 0.2673],\n",
       "        [0.3213, 0.2730, 0.2849,  ..., 0.3193, 0.3248, 0.3227],\n",
       "        [0.3877, 0.3433, 0.3294,  ..., 0.2076, 0.2978, 0.2971],\n",
       "        ...,\n",
       "        [0.3469, 0.3027, 0.3060,  ..., 0.3246, 0.3007, 0.3511],\n",
       "        [0.3990, 0.2414, 0.3346,  ..., 0.3070, 0.2976, 0.3741],\n",
       "        [0.2997, 0.2490, 0.2828,  ..., 0.3512, 0.3851, 0.4081]],\n",
       "       grad_fn=<IndexBackward>)"
      ]
     },
     "execution_count": 88,
     "metadata": {},
     "output_type": "execute_result"
    }
   ],
   "source": [
    "_mu"
   ]
  },
  {
   "cell_type": "code",
   "execution_count": null,
   "metadata": {},
   "outputs": [
    {
     "data": {
      "text/plain": [
       "torch.return_types.max(\n",
       "values=tensor([0.7676, 0.2659, 0.6394,  ..., 0.4687, 0.5512, 0.4231],\n",
       "       dtype=torch.float64, grad_fn=<MaxBackward0>),\n",
       "indices=tensor([ 0, 23, 16,  ..., 59, 58, 55]))"
      ]
     },
     "execution_count": 61,
     "metadata": {},
     "output_type": "execute_result"
    }
   ],
   "source": [
    "torch.max(_mu,1)."
   ]
  },
  {
   "cell_type": "code",
   "execution_count": null,
   "metadata": {},
   "outputs": [
    {
     "data": {
      "text/plain": [
       "tensor([1., 0., 0., 0., 0., 0., 0., 0., 0., 0.])"
      ]
     },
     "execution_count": 57,
     "metadata": {},
     "output_type": "execute_result"
    }
   ],
   "source": [
    "target[10]"
   ]
  },
  {
   "cell_type": "code",
   "execution_count": null,
   "metadata": {},
   "outputs": [
    {
     "data": {
      "text/plain": [
       "[<matplotlib.lines.Line2D at 0x212ebe9d4c0>]"
      ]
     },
     "execution_count": 75,
     "metadata": {},
     "output_type": "execute_result"
    },
    {
     "data": {
      "image/png": "[encoded data removed]",
      "text/plain": [
       "<Figure size 432x288 with 1 Axes>"
      ]
     },
     "metadata": {
      "needs_background": "light"
     },
     "output_type": "display_data"
    }
   ],
   "source": [
    "plt.plot(tree.leaf_nodes[10].detach().numpy())"
   ]
  },
  {
   "cell_type": "code",
   "execution_count": null,
   "metadata": {},
   "outputs": [
    {
     "data": {
      "text/plain": [
       "[<matplotlib.lines.Line2D at 0x212ec3d2c70>]"
      ]
     },
     "execution_count": 76,
     "metadata": {},
     "output_type": "execute_result"
    },
    {
     "data": {
      "image/png": "[encoded data removed]",
      "text/plain": [
       "<Figure size 432x288 with 1 Axes>"
      ]
     },
     "metadata": {
      "needs_background": "light"
     },
     "output_type": "display_data"
    }
   ],
   "source": [
    "plt.plot(tree.leaf_nodes[8].detach().numpy())"
   ]
  },
  {
   "cell_type": "code",
   "execution_count": null,
   "metadata": {},
   "outputs": [
    {
     "data": {
      "text/plain": [
       "<matplotlib.image.AxesImage at 0x212ecd5f550>"
      ]
     },
     "execution_count": 79,
     "metadata": {},
     "output_type": "execute_result"
    },
    {
     "data": {
      "image/png": "[encoded data removed]",
      "text/plain": [
       "<Figure size 432x288 with 1 Axes>"
      ]
     },
     "metadata": {
      "needs_background": "light"
     },
     "output_type": "display_data"
    }
   ],
   "source": [
    "plt.imshow(data[10,:].reshape(7,7))"
   ]
  },
  {
   "cell_type": "code",
   "execution_count": null,
   "metadata": {},
   "outputs": [
    {
     "data": {
      "text/plain": [
       "(60000, 49)"
      ]
     },
     "execution_count": 101,
     "metadata": {},
     "output_type": "execute_result"
    }
   ],
   "source": [
    "X_train_resize.shape"
   ]
  },
  {
   "cell_type": "code",
   "execution_count": null,
   "metadata": {},
   "outputs": [
    {
     "data": {
      "text/plain": [
       "array([350, 568, 430, ..., 405,  -2,  -2], dtype=int64)"
      ]
     },
     "execution_count": 37,
     "metadata": {},
     "output_type": "execute_result"
    }
   ],
   "source": [
    "clf.tree_.feature"
   ]
  },
  {
   "cell_type": "code",
   "execution_count": null,
   "metadata": {},
   "outputs": [],
   "source": [
    "pd.read_excel('')"
   ]
  }
 ],
 "metadata": {
  "kernelspec": {
   "display_name": "py10",
   "language": "python",
   "name": "python3"
  },
  "language_info": {
   "codemirror_mode": {
    "name": "ipython",
    "version": 3
   },
   "file_extension": ".py",
   "mimetype": "text/x-python",
   "name": "python",
   "nbconvert_exporter": "python",
   "pygments_lexer": "ipython3",
   "version": "3.10.13"
  },
  "orig_nbformat": 4
 },
 "nbformat": 4,
 "nbformat_minor": 2
}
