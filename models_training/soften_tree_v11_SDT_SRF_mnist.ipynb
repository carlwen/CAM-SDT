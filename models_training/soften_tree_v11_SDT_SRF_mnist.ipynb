{
 "cells": [
  {
   "cell_type": "code",
   "execution_count": 1,
   "metadata": {},
   "outputs": [
    {
     "name": "stderr",
     "output_type": "stream",
     "text": [
      "2024-11-12 13:00:09.559722: E external/local_xla/xla/stream_executor/cuda/cuda_fft.cc:479] Unable to register cuFFT factory: Attempting to register factory for plugin cuFFT when one has already been registered\n",
      "2024-11-12 13:00:09.623207: E external/local_xla/xla/stream_executor/cuda/cuda_dnn.cc:10575] Unable to register cuDNN factory: Attempting to register factory for plugin cuDNN when one has already been registered\n",
      "2024-11-12 13:00:09.623624: E external/local_xla/xla/stream_executor/cuda/cuda_blas.cc:1442] Unable to register cuBLAS factory: Attempting to register factory for plugin cuBLAS when one has already been registered\n",
      "2024-11-12 13:00:09.726007: I tensorflow/core/platform/cpu_feature_guard.cc:210] This TensorFlow binary is optimized to use available CPU instructions in performance-critical operations.\n",
      "To enable the following instructions: AVX2 FMA, in other operations, rebuild TensorFlow with the appropriate compiler flags.\n",
      "2024-11-12 13:00:10.895033: W tensorflow/compiler/tf2tensorrt/utils/py_utils.cc:38] TF-TRT Warning: Could not find TensorRT\n"
     ]
    }
   ],
   "source": [
    "# Standard Libraries\n",
    "import os\n",
    "import numpy as np \n",
    "import pandas as pd \n",
    "import random as rn\n",
    "import cv2\n",
    "import torch\n",
    "import torch.nn as nn\n",
    "from torch.utils.data import Dataset\n",
    "\n",
    "# Visualization libraries\n",
    "# import pydotplus\n",
    "import matplotlib\n",
    "import matplotlib.pyplot as plt\n",
    "import seaborn as sns\n",
    "sns.set_style({\"axes.facecolor\": \".95\"})\n",
    "\n",
    "# Modeling and Machine Learning\n",
    "from IPython.display import Image \n",
    "from sklearn import datasets\n",
    "from sklearn.manifold import TSNE\n",
    "from sklearn.metrics import accuracy_score\n",
    "# from sklearn.externals.six import StringIO  \n",
    "from sklearn.decomposition import TruncatedSVD\n",
    "from sklearn.ensemble import RandomForestClassifier\n",
    "from sklearn.model_selection import train_test_split\n",
    "from sklearn.model_selection import KFold\n",
    "from sklearn.tree import DecisionTreeClassifier, export_graphviz, plot_tree, export_text\n",
    "from sklearn.preprocessing import QuantileTransformer, PowerTransformer, StandardScaler, RobustScaler, OneHotEncoder, LabelEncoder\n",
    "# from keras.datasets import mnist\n",
    "from tensorflow.keras.utils import to_categorical\n",
    "import tensorflow as tf\n",
    "from joblib import dump, load\n",
    "\n",
    "from sklearn.preprocessing import OrdinalEncoder\n",
    "from sklearn.preprocessing import StandardScaler\n",
    "from torch.nn.parallel import DataParallel\n",
    "from copy import deepcopy\n",
    "from tqdm import tqdm \n",
    "# Seed for reproducability\n",
    "seed = 1024\n",
    "np.random.seed(seed)\n",
    "rn.seed(seed)\n",
    "os.environ['PYTHONHASHSEED'] = str(seed)"
   ]
  },
  {
   "cell_type": "code",
   "execution_count": 2,
   "metadata": {},
   "outputs": [],
   "source": [
    "def acc(y_true : np.ndarray, y_pred : np.ndarray) -> float:\n",
    "    \"\"\"\n",
    "        Calculates the accuracy score between labels and predictions.\n",
    "        \n",
    "        :param y_true: The true labels of the data\n",
    "        :param y_pred: The predictions for the data\n",
    "        \n",
    "        :return: a floating point number denoting the accuracy\n",
    "    \"\"\"\n",
    "    return np.round(accuracy_score(y_true, y_pred) * 100, 2)"
   ]
  },
  {
   "cell_type": "code",
   "execution_count": 3,
   "metadata": {},
   "outputs": [],
   "source": [
    "def produce_soft_labels(data, round_num, fold_num, k=1,model='rf'):\n",
    "\n",
    "    soft_label = np.zeros([data.shape[0], len(np.unique(data[:, -1]))])\n",
    "\n",
    "    for i in range(round_num):\n",
    "        kf = KFold(n_splits=fold_num)\n",
    "        for train_index, test_index in kf.split(X=data[:, :-1], y=data[:, -1], groups=data[:, -1]):\n",
    "            train_set, test_set = data[train_index], data[test_index]\n",
    "            train_X,train_Y=train_set[:, :-1],train_set[:, -1].astype(int)\n",
    "            test_X=test_set[:, :-1]\n",
    "            if model=='rf':\n",
    "                clf = RandomForestClassifier(300, min_samples_leaf=5, criterion=\"gini\")\n",
    "            clf.fit(train_X, train_Y)\n",
    "\n",
    "            pred_prob = clf.predict_proba(test_X)\n",
    "            soft_label[test_index] += pred_prob\n",
    "\n",
    "    soft_label /= round_num\n",
    "\n",
    "    hard_label = np.zeros([data.shape[0], len(np.unique(data[:, -1]))])\n",
    "    for i in range(np.shape(data)[0]):\n",
    "        hard_label[i][int(data[i, -1])] = 1\n",
    "\n",
    "    soft_label = (soft_label + hard_label*k) / (k+1)\n",
    "\n",
    "    return soft_label"
   ]
  },
  {
   "cell_type": "code",
   "execution_count": 3,
   "metadata": {},
   "outputs": [
    {
     "name": "stdout",
     "output_type": "stream",
     "text": [
      "X_train.shape before resize and reshape:  (60000, 28, 28)\n"
     ]
    },
    {
     "data": {
      "image/png": "[encoded data removed]",
      "text/plain": [
       "<Figure size 640x480 with 4 Axes>"
      ]
     },
     "metadata": {},
     "output_type": "display_data"
    }
   ],
   "source": [
    "# (X_train, y_train), (X_test, y_test) = mnist.load_data()\n",
    "(X_train, y_train), (X_test, y_test) = tf.keras.datasets.mnist.load_data()\n",
    "#\n",
    "print('X_train.shape before resize and reshape: ' , X_train.shape)\n",
    "\n",
    "plt.subplot(221)\n",
    "plt.imshow(X_train[0], cmap=plt.get_cmap('gray'))\n",
    "plt.subplot(222)\n",
    "plt.imshow(X_train[1], cmap=plt.get_cmap('gray'))\n",
    "plt.subplot(223)\n",
    "plt.imshow(X_train[2], cmap=plt.get_cmap('gray'))\n",
    "plt.subplot(224)\n",
    "plt.imshow(X_train[3], cmap=plt.get_cmap('gray'))\n",
    "# show the plot\n",
    "plt.show()"
   ]
  },
  {
   "cell_type": "code",
   "execution_count": 5,
   "metadata": {},
   "outputs": [],
   "source": [
    "# data_train = np.concatenate((X_train.reshape(X_train.shape[0], X_train.shape[1] * X_train.shape[2]).astype('float32'), y_train.reshape(len(y_train),1).astype('float32')),1)\n",
    "# soft_label = produce_soft_labels(data_train, round_num=1, fold_num=2, k=1, model='rf')"
   ]
  },
  {
   "cell_type": "code",
   "execution_count": 4,
   "metadata": {},
   "outputs": [
    {
     "data": {
      "image/png": "[encoded data removed]",
      "text/plain": [
       "<Figure size 640x480 with 4 Axes>"
      ]
     },
     "metadata": {},
     "output_type": "display_data"
    }
   ],
   "source": [
    "# [X_train_resize.append(cv2.resize(X_train[i], [7,7])) for i in range(X_train.shape[0])]\n",
    "X_train_resize = np.array([cv2.resize(X_train[i], [7,7],cv2.INTER_AREA) for i in range(X_train.shape[0])])\n",
    "X_test_resize = np.array([cv2.resize(X_test[i], [7,7],cv2.INTER_AREA) for i in range(X_test.shape[0])])\n",
    "plt.subplot(221)\n",
    "plt.imshow(X_train_resize[0], cmap=plt.get_cmap('gray'))\n",
    "plt.subplot(222)\n",
    "plt.imshow(X_train_resize[1], cmap=plt.get_cmap('gray'))\n",
    "plt.subplot(223)\n",
    "plt.imshow(X_train_resize[2], cmap=plt.get_cmap('gray'))\n",
    "plt.subplot(224)\n",
    "plt.imshow(X_train_resize[3], cmap=plt.get_cmap('gray'))\n",
    "# show the plot\n",
    "plt.show()"
   ]
  },
  {
   "cell_type": "code",
   "execution_count": 5,
   "metadata": {},
   "outputs": [
    {
     "name": "stdout",
     "output_type": "stream",
     "text": [
      "X_train.shape after resize and reshape:  (60000, 784)\n"
     ]
    }
   ],
   "source": [
    "X_train_resize, X_test_resize = X_train,X_test\n",
    "\n",
    "num_pixels = X_train_resize.shape[1] * X_train_resize.shape[2]\n",
    "\n",
    "X_train_resize = X_train_resize.reshape(X_train_resize.shape[0], num_pixels).astype('float32')\n",
    "X_test_resize = X_test_resize.reshape(X_test_resize.shape[0], num_pixels).astype('float32')\n",
    "\n",
    "\n",
    "print('X_train.shape after resize and reshape: ' , X_train_resize.shape)\n",
    "\n",
    "# normalize inputs from 0-255 to 0-1\n",
    "X_train_resize = X_train_resize / 255\n",
    "X_test_resize = X_test_resize / 255\n",
    "\n",
    "# one hot encode outputs\n",
    "# y_train = np_utils.to_categorical(y_train)\n",
    "# Y_train = np_utils.to_categorical(y_train)\n",
    "# Y_test = np_utils.to_categorical(y_test)\n",
    "\n",
    "# num_classes = Y_test.shape[1]"
   ]
  },
  {
   "cell_type": "code",
   "execution_count": 6,
   "metadata": {},
   "outputs": [],
   "source": [
    "best_depth = 16"
   ]
  },
  {
   "cell_type": "code",
   "execution_count": 8,
   "metadata": {},
   "outputs": [
    {
     "data": {
      "text/html": [
       "<style>#sk-container-id-1 {color: black;}#sk-container-id-1 pre{padding: 0;}#sk-container-id-1 div.sk-toggleable {background-color: white;}#sk-container-id-1 label.sk-toggleable__label {cursor: pointer;display: block;width: 100%;margin-bottom: 0;padding: 0.3em;box-sizing: border-box;text-align: center;}#sk-container-id-1 label.sk-toggleable__label-arrow:before {content: \"▸\";float: left;margin-right: 0.25em;color: #696969;}#sk-container-id-1 label.sk-toggleable__label-arrow:hover:before {color: black;}#sk-container-id-1 div.sk-estimator:hover label.sk-toggleable__label-arrow:before {color: black;}#sk-container-id-1 div.sk-toggleable__content {max-height: 0;max-width: 0;overflow: hidden;text-align: left;background-color: #f0f8ff;}#sk-container-id-1 div.sk-toggleable__content pre {margin: 0.2em;color: black;border-radius: 0.25em;background-color: #f0f8ff;}#sk-container-id-1 input.sk-toggleable__control:checked~div.sk-toggleable__content {max-height: 200px;max-width: 100%;overflow: auto;}#sk-container-id-1 input.sk-toggleable__control:checked~label.sk-toggleable__label-arrow:before {content: \"▾\";}#sk-container-id-1 div.sk-estimator input.sk-toggleable__control:checked~label.sk-toggleable__label {background-color: #d4ebff;}#sk-container-id-1 div.sk-label input.sk-toggleable__control:checked~label.sk-toggleable__label {background-color: #d4ebff;}#sk-container-id-1 input.sk-hidden--visually {border: 0;clip: rect(1px 1px 1px 1px);clip: rect(1px, 1px, 1px, 1px);height: 1px;margin: -1px;overflow: hidden;padding: 0;position: absolute;width: 1px;}#sk-container-id-1 div.sk-estimator {font-family: monospace;background-color: #f0f8ff;border: 1px dotted black;border-radius: 0.25em;box-sizing: border-box;margin-bottom: 0.5em;}#sk-container-id-1 div.sk-estimator:hover {background-color: #d4ebff;}#sk-container-id-1 div.sk-parallel-item::after {content: \"\";width: 100%;border-bottom: 1px solid gray;flex-grow: 1;}#sk-container-id-1 div.sk-label:hover label.sk-toggleable__label {background-color: #d4ebff;}#sk-container-id-1 div.sk-serial::before {content: \"\";position: absolute;border-left: 1px solid gray;box-sizing: border-box;top: 0;bottom: 0;left: 50%;z-index: 0;}#sk-container-id-1 div.sk-serial {display: flex;flex-direction: column;align-items: center;background-color: white;padding-right: 0.2em;padding-left: 0.2em;position: relative;}#sk-container-id-1 div.sk-item {position: relative;z-index: 1;}#sk-container-id-1 div.sk-parallel {display: flex;align-items: stretch;justify-content: center;background-color: white;position: relative;}#sk-container-id-1 div.sk-item::before, #sk-container-id-1 div.sk-parallel-item::before {content: \"\";position: absolute;border-left: 1px solid gray;box-sizing: border-box;top: 0;bottom: 0;left: 50%;z-index: -1;}#sk-container-id-1 div.sk-parallel-item {display: flex;flex-direction: column;z-index: 1;position: relative;background-color: white;}#sk-container-id-1 div.sk-parallel-item:first-child::after {align-self: flex-end;width: 50%;}#sk-container-id-1 div.sk-parallel-item:last-child::after {align-self: flex-start;width: 50%;}#sk-container-id-1 div.sk-parallel-item:only-child::after {width: 0;}#sk-container-id-1 div.sk-dashed-wrapped {border: 1px dashed gray;margin: 0 0.4em 0.5em 0.4em;box-sizing: border-box;padding-bottom: 0.4em;background-color: white;}#sk-container-id-1 div.sk-label label {font-family: monospace;font-weight: bold;display: inline-block;line-height: 1.2em;}#sk-container-id-1 div.sk-label-container {text-align: center;}#sk-container-id-1 div.sk-container {/* jupyter's `normalize.less` sets `[hidden] { display: none; }` but bootstrap.min.css set `[hidden] { display: none !important; }` so we also need the `!important` here to be able to override the default hidden behavior on the sphinx rendered scikit-learn.org. See: https://github.com/scikit-learn/scikit-learn/issues/21755 */display: inline-block !important;position: relative;}#sk-container-id-1 div.sk-text-repr-fallback {display: none;}</style><div id=\"sk-container-id-1\" class=\"sk-top-container\"><div class=\"sk-text-repr-fallback\"><pre>DecisionTreeClassifier(max_depth=16, random_state=1024)</pre><b>In a Jupyter environment, please rerun this cell to show the HTML representation or trust the notebook. <br />On GitHub, the HTML representation is unable to render, please try loading this page with nbviewer.org.</b></div><div class=\"sk-container\" hidden><div class=\"sk-item\"><div class=\"sk-estimator sk-toggleable\"><input class=\"sk-toggleable__control sk-hidden--visually\" id=\"sk-estimator-id-1\" type=\"checkbox\" checked><label for=\"sk-estimator-id-1\" class=\"sk-toggleable__label sk-toggleable__label-arrow\">DecisionTreeClassifier</label><div class=\"sk-toggleable__content\"><pre>DecisionTreeClassifier(max_depth=16, random_state=1024)</pre></div></div></div></div></div>"
      ],
      "text/plain": [
       "DecisionTreeClassifier(max_depth=16, random_state=1024)"
      ]
     },
     "execution_count": 8,
     "metadata": {},
     "output_type": "execute_result"
    }
   ],
   "source": [
    "clf = DecisionTreeClassifier(max_depth=best_depth,random_state=seed)\n",
    "clf.fit(X_train_resize, y_train)"
   ]
  },
  {
   "cell_type": "code",
   "execution_count": 7,
   "metadata": {},
   "outputs": [],
   "source": [
    "clf_rf = load('./srf_model/'+str(best_depth)+'_rf.joblib') "
   ]
  },
  {
   "cell_type": "code",
   "execution_count": 9,
   "metadata": {},
   "outputs": [
    {
     "data": {
      "text/html": [
       "<style>#sk-container-id-2 {color: black;}#sk-container-id-2 pre{padding: 0;}#sk-container-id-2 div.sk-toggleable {background-color: white;}#sk-container-id-2 label.sk-toggleable__label {cursor: pointer;display: block;width: 100%;margin-bottom: 0;padding: 0.3em;box-sizing: border-box;text-align: center;}#sk-container-id-2 label.sk-toggleable__label-arrow:before {content: \"▸\";float: left;margin-right: 0.25em;color: #696969;}#sk-container-id-2 label.sk-toggleable__label-arrow:hover:before {color: black;}#sk-container-id-2 div.sk-estimator:hover label.sk-toggleable__label-arrow:before {color: black;}#sk-container-id-2 div.sk-toggleable__content {max-height: 0;max-width: 0;overflow: hidden;text-align: left;background-color: #f0f8ff;}#sk-container-id-2 div.sk-toggleable__content pre {margin: 0.2em;color: black;border-radius: 0.25em;background-color: #f0f8ff;}#sk-container-id-2 input.sk-toggleable__control:checked~div.sk-toggleable__content {max-height: 200px;max-width: 100%;overflow: auto;}#sk-container-id-2 input.sk-toggleable__control:checked~label.sk-toggleable__label-arrow:before {content: \"▾\";}#sk-container-id-2 div.sk-estimator input.sk-toggleable__control:checked~label.sk-toggleable__label {background-color: #d4ebff;}#sk-container-id-2 div.sk-label input.sk-toggleable__control:checked~label.sk-toggleable__label {background-color: #d4ebff;}#sk-container-id-2 input.sk-hidden--visually {border: 0;clip: rect(1px 1px 1px 1px);clip: rect(1px, 1px, 1px, 1px);height: 1px;margin: -1px;overflow: hidden;padding: 0;position: absolute;width: 1px;}#sk-container-id-2 div.sk-estimator {font-family: monospace;background-color: #f0f8ff;border: 1px dotted black;border-radius: 0.25em;box-sizing: border-box;margin-bottom: 0.5em;}#sk-container-id-2 div.sk-estimator:hover {background-color: #d4ebff;}#sk-container-id-2 div.sk-parallel-item::after {content: \"\";width: 100%;border-bottom: 1px solid gray;flex-grow: 1;}#sk-container-id-2 div.sk-label:hover label.sk-toggleable__label {background-color: #d4ebff;}#sk-container-id-2 div.sk-serial::before {content: \"\";position: absolute;border-left: 1px solid gray;box-sizing: border-box;top: 0;bottom: 0;left: 50%;z-index: 0;}#sk-container-id-2 div.sk-serial {display: flex;flex-direction: column;align-items: center;background-color: white;padding-right: 0.2em;padding-left: 0.2em;position: relative;}#sk-container-id-2 div.sk-item {position: relative;z-index: 1;}#sk-container-id-2 div.sk-parallel {display: flex;align-items: stretch;justify-content: center;background-color: white;position: relative;}#sk-container-id-2 div.sk-item::before, #sk-container-id-2 div.sk-parallel-item::before {content: \"\";position: absolute;border-left: 1px solid gray;box-sizing: border-box;top: 0;bottom: 0;left: 50%;z-index: -1;}#sk-container-id-2 div.sk-parallel-item {display: flex;flex-direction: column;z-index: 1;position: relative;background-color: white;}#sk-container-id-2 div.sk-parallel-item:first-child::after {align-self: flex-end;width: 50%;}#sk-container-id-2 div.sk-parallel-item:last-child::after {align-self: flex-start;width: 50%;}#sk-container-id-2 div.sk-parallel-item:only-child::after {width: 0;}#sk-container-id-2 div.sk-dashed-wrapped {border: 1px dashed gray;margin: 0 0.4em 0.5em 0.4em;box-sizing: border-box;padding-bottom: 0.4em;background-color: white;}#sk-container-id-2 div.sk-label label {font-family: monospace;font-weight: bold;display: inline-block;line-height: 1.2em;}#sk-container-id-2 div.sk-label-container {text-align: center;}#sk-container-id-2 div.sk-container {/* jupyter's `normalize.less` sets `[hidden] { display: none; }` but bootstrap.min.css set `[hidden] { display: none !important; }` so we also need the `!important` here to be able to override the default hidden behavior on the sphinx rendered scikit-learn.org. See: https://github.com/scikit-learn/scikit-learn/issues/21755 */display: inline-block !important;position: relative;}#sk-container-id-2 div.sk-text-repr-fallback {display: none;}</style><div id=\"sk-container-id-2\" class=\"sk-top-container\"><div class=\"sk-text-repr-fallback\"><pre>RandomForestClassifier(max_depth=16, min_samples_leaf=3, n_estimators=50,\n",
       "                       random_state=108)</pre><b>In a Jupyter environment, please rerun this cell to show the HTML representation or trust the notebook. <br />On GitHub, the HTML representation is unable to render, please try loading this page with nbviewer.org.</b></div><div class=\"sk-container\" hidden><div class=\"sk-item\"><div class=\"sk-estimator sk-toggleable\"><input class=\"sk-toggleable__control sk-hidden--visually\" id=\"sk-estimator-id-2\" type=\"checkbox\" checked><label for=\"sk-estimator-id-2\" class=\"sk-toggleable__label sk-toggleable__label-arrow\">RandomForestClassifier</label><div class=\"sk-toggleable__content\"><pre>RandomForestClassifier(max_depth=16, min_samples_leaf=3, n_estimators=50,\n",
       "                       random_state=108)</pre></div></div></div></div></div>"
      ],
      "text/plain": [
       "RandomForestClassifier(max_depth=16, min_samples_leaf=3, n_estimators=50,\n",
       "                       random_state=108)"
      ]
     },
     "execution_count": 9,
     "metadata": {},
     "output_type": "execute_result"
    }
   ],
   "source": [
    "# Train baseline decision tree model\n",
    "\n",
    "\n",
    "# Train baseline decision tree model\n",
    "clf_rf = RandomForestClassifier(50, min_samples_leaf=3, criterion=\"gini\",random_state=108,max_depth=best_depth)\n",
    "clf_rf.fit(X_train_resize, y_train)\n",
    "\n",
    "\n"
   ]
  },
  {
   "cell_type": "code",
   "execution_count": 10,
   "metadata": {},
   "outputs": [
    {
     "data": {
      "text/plain": [
       "16"
      ]
     },
     "execution_count": 10,
     "metadata": {},
     "output_type": "execute_result"
    }
   ],
   "source": [
    "clf.tree_.max_depth"
   ]
  },
  {
   "cell_type": "code",
   "execution_count": 8,
   "metadata": {},
   "outputs": [
    {
     "data": {
      "text/plain": [
       "96.47"
      ]
     },
     "execution_count": 8,
     "metadata": {},
     "output_type": "execute_result"
    }
   ],
   "source": [
    "rf_preds_baseline = clf_rf.predict(X_test_resize)\n",
    "acc(rf_preds_baseline, y_test)"
   ]
  },
  {
   "cell_type": "code",
   "execution_count": 12,
   "metadata": {},
   "outputs": [
    {
     "name": "stdout",
     "output_type": "stream",
     "text": [
      "Training accuracy for our baseline (using all pixel features): 98.83%\n",
      "Validation accuracy for our baseline (using all pixel features): 88.11%\n",
      "Validation accuracy for our teacher rf model (using all pixel features): 96.47%\n"
     ]
    }
   ],
   "source": [
    "# Evaluate the baseline model\n",
    "rf_preds_baseline = clf_rf.predict(X_test_resize)\n",
    "train_preds_baseline = clf.predict(X_train_resize)\n",
    "val_preds_baseline = clf.predict(X_test_resize)\n",
    "acc_baseline_train = acc(train_preds_baseline, y_train)\n",
    "acc_baseline_val = acc(val_preds_baseline, y_test)\n",
    "acc_baseline_rf = acc(rf_preds_baseline, y_test)\n",
    "print(f'Training accuracy for our baseline (using all pixel features): {acc_baseline_train}%')\n",
    "print(f'Validation accuracy for our baseline (using all pixel features): {acc_baseline_val}%')\n",
    "print(f'Validation accuracy for our teacher rf model (using all pixel features): {acc_baseline_rf}%')"
   ]
  },
  {
   "cell_type": "code",
   "execution_count": 13,
   "metadata": {},
   "outputs": [
    {
     "data": {
      "text/plain": [
       "16"
      ]
     },
     "execution_count": 13,
     "metadata": {},
     "output_type": "execute_result"
    }
   ],
   "source": [
    "clf_rf.estimators_[0].tree_.max_depth"
   ]
  },
  {
   "cell_type": "code",
   "execution_count": 18,
   "metadata": {},
   "outputs": [
    {
     "data": {
      "image/png": "[encoded data removed]",
      "text/plain": [
       "<Figure size 1280x960 with 1 Axes>"
      ]
     },
     "metadata": {},
     "output_type": "display_data"
    }
   ],
   "source": [
    "fig = plt.figure(dpi=200)\n",
    "_ = plot_tree(clf,class_names=['0', '1','2','3','4','5','6','7','8','9'],rounded=True,filled=True)"
   ]
  },
  {
   "cell_type": "code",
   "execution_count": 14,
   "metadata": {},
   "outputs": [],
   "source": [
    "def tree_path(clf):\n",
    "    n_nodes = clf.tree_.node_count\n",
    "    children_left = clf.tree_.children_left\n",
    "    children_right = clf.tree_.children_right\n",
    "    feature = clf.tree_.feature\n",
    "    # threshold = clf.tree_.threshold\n",
    "    max_depth = clf.tree_.max_depth\n",
    "\n",
    "    node_depth = np.zeros(shape=n_nodes, dtype=np.int64)\n",
    "\n",
    "\n",
    "\n",
    "    is_leaves = np.zeros(shape=n_nodes, dtype=bool)\n",
    "    node_path = np.zeros(shape=[n_nodes,max_depth+1], dtype=np.int64)\n",
    "    left_right = np.zeros(shape=[n_nodes,max_depth+1], dtype=np.int64)\n",
    "\n",
    "    stack = [(0, 0)]  # start with the root node id (0) and its depth (0)\n",
    "    while len(stack) > 0:\n",
    "        # `pop` ensures each node is only visited once\n",
    "        node_id, depth = stack.pop()\n",
    "        node_depth[node_id] = depth\n",
    "\n",
    "        # If the left and right child of a node is not the same we have a split\n",
    "        # node\n",
    "        is_split_node = children_left[node_id] != children_right[node_id]\n",
    "        # If a split node, append left and right children and depth to `stack`\n",
    "        # so we can loop through them\n",
    "        if is_split_node:\n",
    "            stack.append((children_left[node_id], depth + 1))\n",
    "            stack.append((children_right[node_id], depth + 1))\n",
    "        else:\n",
    "            is_leaves[node_id] = True\n",
    "\n",
    "    depth = 0\n",
    "    for i in range(n_nodes):\n",
    "        previous_depth = depth\n",
    "        depth = node_depth[i]\n",
    "        \n",
    "        if i!=0:\n",
    "            node_path[i, :depth] = node_path[i-1, :depth]\n",
    "            left_right[i, :depth] = left_right[i-1, :depth]\n",
    "        node_path[i, depth] = i\n",
    "        if depth>previous_depth:\n",
    "            left_right[i, depth] = 0\n",
    "        else:\n",
    "            left_right[i, depth] = 1\n",
    "\n",
    "        \n",
    "    node_path_left_right = np.concatenate((node_path[:,:-1,np.newaxis],left_right[:,1:,np.newaxis]),axis = 2) \n",
    "    node_path_left_right = node_path_left_right[feature==-2]\n",
    "    node_path = node_path_left_right[:,:,0]\n",
    "    return node_depth, node_path_left_right"
   ]
  },
  {
   "cell_type": "code",
   "execution_count": 15,
   "metadata": {},
   "outputs": [],
   "source": [
    "node_depth_forest = []\n",
    "node_path_forest = []\n",
    "forest_index = []\n",
    "forest_threshold = []\n",
    "forest_leaf_value = []\n",
    "node_accu = 0\n",
    "for i in range(50):\n",
    "    node_depth_temp,node_path_temp = tree_path(clf_rf.estimators_[i])\n",
    "    node_path_temp[:,:,0] = node_path_temp[:,:,0] + node_accu\n",
    "    node_depth_forest.extend(node_depth_temp)\n",
    "    node_path_forest.extend(node_path_temp) \n",
    "    forest_index.extend(clf_rf.estimators_[i].tree_.feature)\n",
    "    forest_threshold.extend(clf_rf.estimators_[i].tree_.threshold)\n",
    "    forest_leaf_value.extend(clf_rf.estimators_[i].tree_.value)\n",
    "    node_accu = node_accu + len(node_depth_temp)"
   ]
  },
  {
   "cell_type": "code",
   "execution_count": 16,
   "metadata": {},
   "outputs": [],
   "source": [
    "leaf_index = np.array(forest_index)==-2\n",
    "forest_node_path = np.array(node_path_forest)[:,:,0]\n",
    "forest_leaf_depth = np.array(node_depth_forest)[leaf_index]\n"
   ]
  },
  {
   "cell_type": "code",
   "execution_count": 19,
   "metadata": {},
   "outputs": [],
   "source": [
    "class SDT(nn.Module):\n",
    "\n",
    "    def __init__(self, clf,node_depth,node_path_left_right, args):\n",
    "        super(SDT, self).__init__()\n",
    "        self.args = args\n",
    "        self.clf = clf\n",
    "        self.device = torch.device(\"cuda\" if self.args['use_cuda'] else \"cpu\")\n",
    "        self.leaf_num = clf.tree_.n_leaves\n",
    "        self.leaf_index = clf.tree_.feature==-2\n",
    "        self.node_depth = node_depth\n",
    "        self.leaf_depth = node_depth[self.leaf_index]\n",
    "        self.node_path = node_path_left_right[:,:,0]\n",
    "        self.node_path_left_right = node_path_left_right\n",
    "\n",
    "        self.node_gain = nn.Parameter(data=torch.ones(node_path_left_right[:,:,0].shape)*(-10),requires_grad=False)\n",
    "        self.node_threshold = nn.Parameter(torch.tensor(clf.tree_.threshold[self.node_path],dtype=torch.float),requires_grad=True)\n",
    "        self.register_parameter('node_gain',self.node_gain)\n",
    "        self.register_parameter('node_threshold',self.node_threshold)\n",
    "\n",
    "        self.leaf_nodes = nn.Parameter(data = torch.tensor(clf.tree_.value[self.leaf_index,0,:]), requires_grad = True)\n",
    "        self.register_parameter('leaf_node',self.leaf_nodes)\n",
    "        \n",
    "        self.dropout = nn.Dropout(0.25)\n",
    "\n",
    "\n",
    "    def forward(self, X, is_training_data=False):\n",
    "\n",
    "        _mu = self._forward(X)\n",
    "\n",
    "        if is_training_data:\n",
    "            output = torch.matmul(_mu, torch.softmax(self.leaf_nodes.to(self.device,torch.float),dim=1))\n",
    "            # output = torch.softmax(output,dim=1)\n",
    "            # output = torch.softmax(self.leaf_nodes[torch.max(_mu,1).indices,:].to(self.device),dim=1)  \n",
    "            return torch.log(output+1e-18)\n",
    "        else:\n",
    "            # output = torch.matmul(_mu, torch.softmax(self.leaf_nodes.to(self.device),dim=1))  \n",
    "            output = torch.softmax(self.leaf_nodes[torch.max(_mu,1).indices,:].to(self.device),dim=1)\n",
    "            # print(output.shape)\n",
    "            return torch.log(output+1e-18)\n",
    "\n",
    "\n",
    "    def _forward(self, X):\n",
    "        \"\"\"Implementation on the data forwarding process.\"\"\"\n",
    "        \n",
    "        batch_size = X.size()[0]\n",
    "        X = X[:,self.clf.tree_.feature[self.node_path]]\n",
    "        gain = self.node_gain.to(self.device)\n",
    "        # print(X.shape)\n",
    "        # print(self.node_threshold.shape)\n",
    "        X = (X  - self.node_threshold.to(self.device)) * gain\n",
    "        X = self.dropout(X)\n",
    "        path_prob = torch.sigmoid(X)\n",
    "        path_prob = torch.unsqueeze(path_prob, dim=3)\n",
    "        path_prob = torch.cat((path_prob, 1 - path_prob), dim=3)\n",
    "        _mu = X.data.new(batch_size, self.leaf_num).fill_(1.0)\n",
    "\n",
    "        for layer_idx in range(1, self.args['depth']+1):\n",
    "            select_leaf = self.leaf_depth==layer_idx\n",
    "            if sum(select_leaf) > 0:\n",
    "                mu_temp = path_prob[:,select_leaf,:layer_idx,:]\n",
    "                mu_temp_index = torch.argwhere(mu_temp[0,:,:,0])\n",
    "                mu_temp = mu_temp[:,mu_temp_index[:,0].reshape(mu_temp[0,:,:,0].shape),mu_temp_index[:,1].reshape(mu_temp[0,:,:,0].shape),node_path_left_right[select_leaf,:layer_idx,1]]\n",
    "                _mu[:,select_leaf] = torch.prod(mu_temp,-1)\n",
    "\n",
    "\n",
    "        return _mu\n",
    "\n",
    "    def _validate_parameters(self):\n",
    "\n",
    "        if not self.depth > 0:\n",
    "            msg = (\"The tree depth should be strictly positive, but got {}\"\n",
    "                   \"instead.\")\n",
    "            raise ValueError(msg.format(self.depth))\n",
    "\n",
    "        if not self.lamda >= 0:\n",
    "            msg = (\n",
    "                \"The coefficient of the regularization term should not be\"\n",
    "                \" negative, but got {} instead.\"\n",
    "            )\n",
    "            raise ValueError(msg.format(self.lamda))"
   ]
  },
  {
   "cell_type": "code",
   "execution_count": 20,
   "metadata": {},
   "outputs": [],
   "source": [
    "class SRF(nn.Module):\n",
    "\n",
    "    def __init__(self, forest, args):\n",
    "        super(SRF, self).__init__()\n",
    "        self.args = args\n",
    "        self.forest = forest\n",
    "        self.device = torch.device(\"cuda:0\" if self.args['use_cuda'] else \"cpu\")\n",
    "        \n",
    "\n",
    "        node_depth_forest = []\n",
    "        node_path_forest = []\n",
    "        forest_index = []\n",
    "        forest_threshold = []\n",
    "        forest_leaf_value = []\n",
    "        node_accu = 0\n",
    "        for i in range(50):\n",
    "            node_depth_temp,node_path_temp = tree_path(self.forest.estimators_[i])\n",
    "            node_path_temp[:,:,0] = node_path_temp[:,:,0] + node_accu\n",
    "            node_depth_forest.extend(node_depth_temp)\n",
    "            node_path_forest.extend(node_path_temp) \n",
    "            forest_index.extend(self.forest.estimators_[i].tree_.feature)\n",
    "            forest_threshold.extend(self.forest.estimators_[i].tree_.threshold)\n",
    "            forest_leaf_value.extend(self.forest.estimators_[i].tree_.value)\n",
    "            node_accu = node_accu + len(node_depth_temp)\n",
    "        self.feature_index = np.array(forest_index)\n",
    "        self.leaf_index = self.feature_index==-2\n",
    "        forest_node_path = np.array(node_path_forest)[:,:,0]\n",
    "        forest_leaf_depth = np.array(node_depth_forest)[self.leaf_index]\n",
    "\n",
    "        \n",
    "        \n",
    "\n",
    "        self.node_depth = np.array(node_depth_forest)\n",
    "        self.leaf_depth = forest_leaf_depth\n",
    "        self.node_path = forest_node_path\n",
    "        self.node_path_left_right = np.array(node_path_forest)\n",
    "        self.leaf_num = self.node_path_left_right.shape[0]\n",
    "\n",
    "\n",
    "\n",
    "        self.node_gain = nn.Parameter(data=torch.ones(forest_node_path.shape)*(-10),requires_grad=False)\n",
    "\n",
    "        self.node_threshold = nn.Parameter(torch.tensor(np.array(forest_threshold)[forest_node_path],dtype=torch.float),requires_grad=True)\n",
    "\n",
    "        \n",
    "\n",
    "        self.register_parameter('node_gain',self.node_gain)\n",
    "        self.register_parameter('node_threshold',self.node_threshold)\n",
    "\n",
    "        self.leaf_nodes = nn.Parameter(data = torch.tensor(np.array(forest_leaf_value)[self.leaf_index,0,:]), requires_grad = True)\n",
    "        self.register_parameter('leaf_node',self.leaf_nodes)\n",
    "        \n",
    "        self.dropout = nn.Dropout(0.25)\n",
    "\n",
    "\n",
    "    def forward(self, X, is_training_data=False):\n",
    "\n",
    "        _mu = self._forward(X)\n",
    "\n",
    "        if is_training_data:\n",
    "            output = torch.matmul(_mu, torch.softmax(self.leaf_nodes.to(self.device,torch.float),dim=1))\n",
    "            # output = torch.softmax(output,dim=1)\n",
    "            # output = torch.softmax(self.leaf_nodes[torch.max(_mu,1).indices,:].to(self.device),dim=1)  \n",
    "            return torch.log(output+1e-18)\n",
    "        else:\n",
    "            # output = torch.matmul(_mu, torch.softmax(self.leaf_nodes.to(self.device),dim=1))  \n",
    "            output = torch.matmul(_mu, torch.softmax(self.leaf_nodes.to(self.device,torch.float),dim=1))\n",
    "            # output = torch.softmax(self.leaf_nodes[torch.max(_mu,1).indices,:].to(self.device),dim=1)\n",
    "            # print(output.shape)\n",
    "            return torch.log(output+1e-18)\n",
    "\n",
    "\n",
    "    def _forward(self, X):\n",
    "        \"\"\"Implementation on the data forwarding process.\"\"\"\n",
    "        \n",
    "        batch_size = X.size()[0]\n",
    "        # X = X[:,self.clf.tree_.feature[self.node_path]]\n",
    "        X = X[:,self.feature_index[self.node_path] ]\n",
    "        gain = self.node_gain.to(self.device)\n",
    "        # print(X.shape)\n",
    "        # print(self.node_threshold.shape)\n",
    "        X = (X  - self.node_threshold.to(self.device)) * gain\n",
    "        X = self.dropout(X)\n",
    "        path_prob = torch.sigmoid(X)\n",
    "        path_prob = torch.unsqueeze(path_prob, dim=3)\n",
    "        path_prob = torch.cat((path_prob, 1 - path_prob), dim=3)\n",
    "        _mu = X.data.new(batch_size, self.leaf_num).fill_(1.0)\n",
    "\n",
    "        for layer_idx in range(1, self.args['depth']+1):\n",
    "            select_leaf = self.leaf_depth==layer_idx\n",
    "            if sum(select_leaf) > 0:\n",
    "                mu_temp = path_prob[:,select_leaf,:layer_idx,:]\n",
    "                mu_temp_index = torch.argwhere(mu_temp[0,:,:,0])\n",
    "                mu_temp = mu_temp[:,mu_temp_index[:,0].reshape(mu_temp[0,:,:,0].shape),mu_temp_index[:,1].reshape(mu_temp[0,:,:,0].shape),self.node_path_left_right[select_leaf,:layer_idx,1]]\n",
    "                _mu[:,select_leaf] = torch.prod(mu_temp,-1)\n",
    "\n",
    "\n",
    "        return _mu\n",
    "\n",
    "    def _validate_parameters(self):\n",
    "\n",
    "        if not self.depth > 0:\n",
    "            msg = (\"The tree depth should be strictly positive, but got {}\"\n",
    "                   \"instead.\")\n",
    "            raise ValueError(msg.format(self.depth))\n",
    "\n",
    "        if not self.lamda >= 0:\n",
    "            msg = (\n",
    "                \"The coefficient of the regularization term should not be\"\n",
    "                \" negative, but got {} instead.\"\n",
    "            )\n",
    "            raise ValueError(msg.format(self.lamda))"
   ]
  },
  {
   "cell_type": "code",
   "execution_count": 21,
   "metadata": {},
   "outputs": [],
   "source": [
    "y_train = to_categorical(y_train)\n",
    "y_test = to_categorical(y_test)"
   ]
  },
  {
   "cell_type": "code",
   "execution_count": 22,
   "metadata": {},
   "outputs": [
    {
     "data": {
      "text/plain": [
       "(60000, 10)"
      ]
     },
     "execution_count": 22,
     "metadata": {},
     "output_type": "execute_result"
    }
   ],
   "source": [
    "y_train.shape"
   ]
  },
  {
   "cell_type": "code",
   "execution_count": 23,
   "metadata": {},
   "outputs": [],
   "source": [
    "class Mnist_dataset(Dataset):\n",
    "    def __init__(self, X_train, X_test, y_train, y_test, train_flag = 1):\n",
    "        if train_flag:\n",
    "            self.X_data = X_train\n",
    "            self.y_data = y_train\n",
    "        else:\n",
    "            self.X_data = X_test\n",
    "            self.y_data = y_test\n",
    "\n",
    "    def __len__(self):\n",
    "        return len(self.y_data)\n",
    "\n",
    "    def __getitem__(self, idx):\n",
    "        Y = self.y_data[idx,:]\n",
    "        X = self.X_data[idx,:]\n",
    "        return X, Y"
   ]
  },
  {
   "cell_type": "code",
   "execution_count": 20,
   "metadata": {},
   "outputs": [],
   "source": [
    "device_ids = list(range(torch.cuda.device_count()))  \n"
   ]
  },
  {
   "cell_type": "code",
   "execution_count": 21,
   "metadata": {},
   "outputs": [
    {
     "data": {
      "text/plain": [
       "[0, 1, 2, 3]"
      ]
     },
     "execution_count": 21,
     "metadata": {},
     "output_type": "execute_result"
    }
   ],
   "source": [
    "device_ids"
   ]
  },
  {
   "cell_type": "code",
   "execution_count": 26,
   "metadata": {},
   "outputs": [],
   "source": [
    "# Parameters\n",
    "args = {}\n",
    "# args['input_dim'] = 7 * 7    # the number of input dimensions\n",
    "args['output_dim'] = 10        # the number of outputs (i.e., # classes on MNIST)\n",
    "args['input_dim'] = num_pixels    # the number of input dimensions\n",
    "args['depth'] = best_depth            # tree depth\n",
    "args['lamda'] = 1e-4           # coefficient of the regularization term\n",
    "args['lr'] = 1e-3              # learning rate 1e-3\n",
    "args['weight_decaly'] = 0      # weight decay 5e-5\n",
    "args['batch_size'] = 100       # batch size\n",
    "args['epochs'] = 500            # the number of training epochs\n",
    "args['log_interval'] = 100     # the number of batches to wait before printing logs\n",
    "args['use_cuda'] = True       # whether to use GPU\n",
    "# node_depth,node_path_left_right = tree_path(clf)\n",
    "# tree = SDT(clf,node_depth,node_path_left_right,args)\n",
    "tree = SRF(clf_rf,args)\n",
    "# tree = DataParallel(tree, device_ids=device_ids).to(device_ids[0])\n",
    "# optimizer = torch.optim.SGD(tree.parameters(), lr=args['lr'], momentum=0.9)\n",
    "optimizer = torch.optim.Adam(tree.parameters(), lr=args['lr'],weight_decay=args['weight_decaly'])\n",
    "\n",
    "    \n",
    "\n",
    "train_loader = torch.utils.data.DataLoader(\n",
    "        Mnist_dataset(X_train = X_train_resize,\n",
    "                        X_test = X_test_resize,\n",
    "                        y_train = y_train,\n",
    "                        y_test = y_test,\n",
    "                        train_flag=1),\n",
    "        batch_size=args['batch_size'],\n",
    "        shuffle=True,\n",
    "    )\n",
    "test_loader = torch.utils.data.DataLoader(\n",
    "        Mnist_dataset(X_train_resize,\n",
    "                        X_test_resize,\n",
    "                        y_train,\n",
    "                        y_test,\n",
    "                        train_flag=0),\n",
    "        batch_size=100,\n",
    "        shuffle=False,\n",
    "    )\n",
    "criterion = nn.CrossEntropyLoss()\n",
    "device = torch.device(\"cuda:0\" if args['use_cuda'] else \"cpu\")\n",
    "\n",
    "best_testing_acc = 94\n",
    "testing_acc_list = []\n",
    "training_loss_list = []"
   ]
  },
  {
   "cell_type": "code",
   "execution_count": null,
   "metadata": {},
   "outputs": [
    {
     "data": {
      "text/plain": [
       "(10000, 10)"
      ]
     },
     "execution_count": 18,
     "metadata": {},
     "output_type": "execute_result"
    }
   ],
   "source": [
    "y_test.shape"
   ]
  },
  {
   "cell_type": "code",
   "execution_count": 11,
   "metadata": {},
   "outputs": [
    {
     "data": {
      "text/plain": [
       "(array([[10000.,     0.,     0., ...,     0.,     0.,     0.],\n",
       "        [10000.,     0.,     0., ...,     0.,     0.,     0.],\n",
       "        [10000.,     0.,     0., ...,     0.,     0.,     0.],\n",
       "        ...,\n",
       "        [10000.,     0.,     0., ...,     0.,     0.,     0.],\n",
       "        [10000.,     0.,     0., ...,     0.,     0.,     0.],\n",
       "        [10000.,     0.,     0., ...,     0.,     0.,     0.]]),\n",
       " array([0.        , 0.1       , 0.2       , 0.30000001, 0.40000001,\n",
       "        0.5       , 0.60000002, 0.69999999, 0.80000001, 0.89999998,\n",
       "        1.        ]),\n",
       " <a list of 784 BarContainer objects>)"
      ]
     },
     "execution_count": 11,
     "metadata": {},
     "output_type": "execute_result"
    },
    {
     "data": {
      "image/png": "[encoded data removed]",
      "text/plain": [
       "<Figure size 640x480 with 1 Axes>"
      ]
     },
     "metadata": {},
     "output_type": "display_data"
    }
   ],
   "source": [
    "plt.hist(X_test_resize)"
   ]
  },
  {
   "cell_type": "code",
   "execution_count": 27,
   "metadata": {},
   "outputs": [
    {
     "name": "stderr",
     "output_type": "stream",
     "text": [
      "  0%|          | 0/500 [00:00<?, ?it/s]"
     ]
    },
    {
     "name": "stdout",
     "output_type": "stream",
     "text": [
      "Epoch: 00 | Batch: 000 | Loss: 1.78386 | Correct: 061/100\n",
      "Epoch: 00 | Batch: 100 | Loss: 1.05750 | Correct: 088/100\n",
      "Epoch: 00 | Batch: 200 | Loss: 0.82245 | Correct: 090/100\n",
      "Epoch: 00 | Batch: 300 | Loss: 0.74565 | Correct: 087/100\n",
      "Epoch: 00 | Batch: 400 | Loss: 0.63804 | Correct: 090/100\n",
      "Epoch: 00 | Batch: 500 | Loss: 0.51669 | Correct: 095/100\n"
     ]
    },
    {
     "name": "stderr",
     "output_type": "stream",
     "text": [
      "  0%|          | 1/500 [05:17<44:00:20, 317.48s/it]"
     ]
    },
    {
     "name": "stdout",
     "output_type": "stream",
     "text": [
      "\n",
      "Epoch: 00 | Testing Accuracy: 9344.0/10000 (93.440%) | Historical Best: 94.000%\n",
      "\n",
      "Epoch: 01 | Batch: 000 | Loss: 0.52330 | Correct: 094/100\n",
      "Epoch: 01 | Batch: 100 | Loss: 0.53005 | Correct: 092/100\n",
      "Epoch: 01 | Batch: 200 | Loss: 0.50792 | Correct: 092/100\n",
      "Epoch: 01 | Batch: 300 | Loss: 0.48825 | Correct: 090/100\n",
      "Epoch: 01 | Batch: 400 | Loss: 0.47284 | Correct: 089/100\n",
      "Epoch: 01 | Batch: 500 | Loss: 0.40149 | Correct: 094/100\n"
     ]
    },
    {
     "name": "stderr",
     "output_type": "stream",
     "text": [
      "  0%|          | 2/500 [11:01<46:02:51, 332.87s/it]"
     ]
    },
    {
     "name": "stdout",
     "output_type": "stream",
     "text": [
      "\n",
      "Epoch: 01 | Testing Accuracy: 9424.0/10000 (94.240%) | Historical Best: 94.240%\n",
      "\n",
      "Epoch: 02 | Batch: 000 | Loss: 0.46373 | Correct: 091/100\n",
      "Epoch: 02 | Batch: 100 | Loss: 0.38738 | Correct: 094/100\n",
      "Epoch: 02 | Batch: 200 | Loss: 0.46426 | Correct: 095/100\n",
      "Epoch: 02 | Batch: 300 | Loss: 0.39181 | Correct: 094/100\n",
      "Epoch: 02 | Batch: 400 | Loss: 0.47447 | Correct: 091/100\n",
      "Epoch: 02 | Batch: 500 | Loss: 0.35325 | Correct: 097/100\n"
     ]
    },
    {
     "name": "stderr",
     "output_type": "stream",
     "text": [
      "  1%|          | 3/500 [18:05<51:42:04, 374.50s/it]"
     ]
    },
    {
     "name": "stdout",
     "output_type": "stream",
     "text": [
      "\n",
      "Epoch: 02 | Testing Accuracy: 9487.0/10000 (94.870%) | Historical Best: 94.870%\n",
      "\n",
      "Epoch: 03 | Batch: 000 | Loss: 0.49159 | Correct: 090/100\n",
      "Epoch: 03 | Batch: 100 | Loss: 0.36255 | Correct: 097/100\n",
      "Epoch: 03 | Batch: 200 | Loss: 0.42821 | Correct: 093/100\n",
      "Epoch: 03 | Batch: 300 | Loss: 0.36540 | Correct: 093/100\n",
      "Epoch: 03 | Batch: 400 | Loss: 0.36671 | Correct: 096/100\n",
      "Epoch: 03 | Batch: 500 | Loss: 0.24580 | Correct: 099/100\n"
     ]
    },
    {
     "name": "stderr",
     "output_type": "stream",
     "text": [
      "  1%|          | 4/500 [25:10<54:22:54, 394.71s/it]"
     ]
    },
    {
     "name": "stdout",
     "output_type": "stream",
     "text": [
      "\n",
      "Epoch: 03 | Testing Accuracy: 9522.0/10000 (95.220%) | Historical Best: 95.220%\n",
      "\n",
      "Epoch: 04 | Batch: 000 | Loss: 0.35250 | Correct: 093/100\n",
      "Epoch: 04 | Batch: 100 | Loss: 0.27856 | Correct: 098/100\n",
      "Epoch: 04 | Batch: 200 | Loss: 0.30684 | Correct: 098/100\n",
      "Epoch: 04 | Batch: 300 | Loss: 0.32624 | Correct: 093/100\n",
      "Epoch: 04 | Batch: 400 | Loss: 0.28491 | Correct: 095/100\n",
      "Epoch: 04 | Batch: 500 | Loss: 0.26995 | Correct: 098/100\n"
     ]
    },
    {
     "name": "stderr",
     "output_type": "stream",
     "text": [
      "  1%|          | 5/500 [32:16<55:48:41, 405.90s/it]"
     ]
    },
    {
     "name": "stdout",
     "output_type": "stream",
     "text": [
      "\n",
      "Epoch: 04 | Testing Accuracy: 9544.0/10000 (95.440%) | Historical Best: 95.440%\n",
      "\n",
      "Epoch: 05 | Batch: 000 | Loss: 0.36800 | Correct: 093/100\n",
      "Epoch: 05 | Batch: 100 | Loss: 0.34508 | Correct: 092/100\n",
      "Epoch: 05 | Batch: 200 | Loss: 0.35620 | Correct: 094/100\n",
      "Epoch: 05 | Batch: 300 | Loss: 0.33762 | Correct: 094/100\n",
      "Epoch: 05 | Batch: 400 | Loss: 0.36486 | Correct: 090/100\n",
      "Epoch: 05 | Batch: 500 | Loss: 0.28071 | Correct: 096/100\n"
     ]
    },
    {
     "name": "stderr",
     "output_type": "stream",
     "text": [
      "  1%|          | 6/500 [39:22<56:37:40, 412.67s/it]"
     ]
    },
    {
     "name": "stdout",
     "output_type": "stream",
     "text": [
      "\n",
      "Epoch: 05 | Testing Accuracy: 9553.0/10000 (95.530%) | Historical Best: 95.530%\n",
      "\n",
      "Epoch: 06 | Batch: 000 | Loss: 0.23784 | Correct: 099/100\n",
      "Epoch: 06 | Batch: 100 | Loss: 0.27018 | Correct: 096/100\n",
      "Epoch: 06 | Batch: 200 | Loss: 0.32248 | Correct: 094/100\n",
      "Epoch: 06 | Batch: 300 | Loss: 0.27017 | Correct: 096/100\n",
      "Epoch: 06 | Batch: 400 | Loss: 0.38111 | Correct: 092/100\n",
      "Epoch: 06 | Batch: 500 | Loss: 0.28928 | Correct: 096/100\n"
     ]
    },
    {
     "name": "stderr",
     "output_type": "stream",
     "text": [
      "  1%|▏         | 7/500 [46:28<57:06:14, 416.99s/it]"
     ]
    },
    {
     "name": "stdout",
     "output_type": "stream",
     "text": [
      "\n",
      "Epoch: 06 | Testing Accuracy: 9559.0/10000 (95.590%) | Historical Best: 95.590%\n",
      "\n",
      "Epoch: 07 | Batch: 000 | Loss: 0.26959 | Correct: 097/100\n",
      "Epoch: 07 | Batch: 100 | Loss: 0.24593 | Correct: 096/100\n",
      "Epoch: 07 | Batch: 200 | Loss: 0.32774 | Correct: 096/100\n",
      "Epoch: 07 | Batch: 300 | Loss: 0.34052 | Correct: 093/100\n",
      "Epoch: 07 | Batch: 400 | Loss: 0.37261 | Correct: 087/100\n",
      "Epoch: 07 | Batch: 500 | Loss: 0.30362 | Correct: 096/100\n"
     ]
    },
    {
     "name": "stderr",
     "output_type": "stream",
     "text": [
      "  2%|▏         | 8/500 [53:33<57:21:48, 419.73s/it]"
     ]
    },
    {
     "name": "stdout",
     "output_type": "stream",
     "text": [
      "\n",
      "Epoch: 07 | Testing Accuracy: 9565.0/10000 (95.650%) | Historical Best: 95.650%\n",
      "\n",
      "Epoch: 08 | Batch: 000 | Loss: 0.32609 | Correct: 096/100\n",
      "Epoch: 08 | Batch: 100 | Loss: 0.31489 | Correct: 095/100\n",
      "Epoch: 08 | Batch: 200 | Loss: 0.28324 | Correct: 094/100\n",
      "Epoch: 08 | Batch: 300 | Loss: 0.37855 | Correct: 092/100\n",
      "Epoch: 08 | Batch: 400 | Loss: 0.32163 | Correct: 091/100\n",
      "Epoch: 08 | Batch: 500 | Loss: 0.28124 | Correct: 097/100\n"
     ]
    },
    {
     "name": "stderr",
     "output_type": "stream",
     "text": [
      "  2%|▏         | 9/500 [1:00:39<57:30:00, 421.59s/it]"
     ]
    },
    {
     "name": "stdout",
     "output_type": "stream",
     "text": [
      "\n",
      "Epoch: 08 | Testing Accuracy: 9569.0/10000 (95.690%) | Historical Best: 95.690%\n",
      "\n",
      "Epoch: 09 | Batch: 000 | Loss: 0.32301 | Correct: 093/100\n",
      "Epoch: 09 | Batch: 100 | Loss: 0.19108 | Correct: 098/100\n",
      "Epoch: 09 | Batch: 200 | Loss: 0.24671 | Correct: 096/100\n",
      "Epoch: 09 | Batch: 300 | Loss: 0.18370 | Correct: 098/100\n",
      "Epoch: 09 | Batch: 400 | Loss: 0.30290 | Correct: 093/100\n",
      "Epoch: 09 | Batch: 500 | Loss: 0.19866 | Correct: 099/100\n"
     ]
    },
    {
     "name": "stderr",
     "output_type": "stream",
     "text": [
      "  2%|▏         | 10/500 [1:07:45<57:33:02, 422.82s/it]"
     ]
    },
    {
     "name": "stdout",
     "output_type": "stream",
     "text": [
      "\n",
      "Epoch: 09 | Testing Accuracy: 9578.0/10000 (95.780%) | Historical Best: 95.780%\n",
      "\n",
      "Epoch: 10 | Batch: 000 | Loss: 0.28064 | Correct: 097/100\n",
      "Epoch: 10 | Batch: 100 | Loss: 0.19196 | Correct: 099/100\n",
      "Epoch: 10 | Batch: 200 | Loss: 0.22623 | Correct: 096/100\n",
      "Epoch: 10 | Batch: 300 | Loss: 0.25273 | Correct: 098/100\n",
      "Epoch: 10 | Batch: 400 | Loss: 0.22403 | Correct: 096/100\n",
      "Epoch: 10 | Batch: 500 | Loss: 0.24819 | Correct: 096/100\n"
     ]
    },
    {
     "name": "stderr",
     "output_type": "stream",
     "text": [
      "  2%|▏         | 11/500 [1:14:50<57:33:19, 423.72s/it]"
     ]
    },
    {
     "name": "stdout",
     "output_type": "stream",
     "text": [
      "\n",
      "Epoch: 10 | Testing Accuracy: 9576.0/10000 (95.760%) | Historical Best: 95.780%\n",
      "\n",
      "Epoch: 11 | Batch: 000 | Loss: 0.31411 | Correct: 095/100\n",
      "Epoch: 11 | Batch: 100 | Loss: 0.27380 | Correct: 092/100\n",
      "Epoch: 11 | Batch: 200 | Loss: 0.25394 | Correct: 096/100\n",
      "Epoch: 11 | Batch: 300 | Loss: 0.31534 | Correct: 093/100\n",
      "Epoch: 11 | Batch: 400 | Loss: 0.26763 | Correct: 096/100\n",
      "Epoch: 11 | Batch: 500 | Loss: 0.25699 | Correct: 095/100\n"
     ]
    },
    {
     "name": "stderr",
     "output_type": "stream",
     "text": [
      "  2%|▏         | 12/500 [1:21:56<57:31:10, 424.33s/it]"
     ]
    },
    {
     "name": "stdout",
     "output_type": "stream",
     "text": [
      "\n",
      "Epoch: 11 | Testing Accuracy: 9581.0/10000 (95.810%) | Historical Best: 95.810%\n",
      "\n",
      "Epoch: 12 | Batch: 000 | Loss: 0.18553 | Correct: 098/100\n",
      "Epoch: 12 | Batch: 100 | Loss: 0.20410 | Correct: 098/100\n",
      "Epoch: 12 | Batch: 200 | Loss: 0.27100 | Correct: 094/100\n",
      "Epoch: 12 | Batch: 300 | Loss: 0.22822 | Correct: 099/100\n",
      "Epoch: 12 | Batch: 400 | Loss: 0.26084 | Correct: 096/100\n",
      "Epoch: 12 | Batch: 500 | Loss: 0.19142 | Correct: 098/100\n"
     ]
    },
    {
     "name": "stderr",
     "output_type": "stream",
     "text": [
      "  3%|▎         | 13/500 [1:29:02<57:27:04, 424.69s/it]"
     ]
    },
    {
     "name": "stdout",
     "output_type": "stream",
     "text": [
      "\n",
      "Epoch: 12 | Testing Accuracy: 9589.0/10000 (95.890%) | Historical Best: 95.890%\n",
      "\n",
      "Epoch: 13 | Batch: 000 | Loss: 0.33429 | Correct: 093/100\n",
      "Epoch: 13 | Batch: 100 | Loss: 0.23304 | Correct: 096/100\n",
      "Epoch: 13 | Batch: 200 | Loss: 0.18777 | Correct: 098/100\n",
      "Epoch: 13 | Batch: 300 | Loss: 0.25180 | Correct: 097/100\n",
      "Epoch: 13 | Batch: 400 | Loss: 0.24701 | Correct: 098/100\n",
      "Epoch: 13 | Batch: 500 | Loss: 0.33203 | Correct: 092/100\n"
     ]
    },
    {
     "name": "stderr",
     "output_type": "stream",
     "text": [
      "  3%|▎         | 14/500 [1:36:07<57:22:10, 424.96s/it]"
     ]
    },
    {
     "name": "stdout",
     "output_type": "stream",
     "text": [
      "\n",
      "Epoch: 13 | Testing Accuracy: 9581.0/10000 (95.810%) | Historical Best: 95.890%\n",
      "\n",
      "Epoch: 14 | Batch: 000 | Loss: 0.24254 | Correct: 097/100\n",
      "Epoch: 14 | Batch: 100 | Loss: 0.23809 | Correct: 096/100\n",
      "Epoch: 14 | Batch: 200 | Loss: 0.17981 | Correct: 100/100\n",
      "Epoch: 14 | Batch: 300 | Loss: 0.18948 | Correct: 098/100\n",
      "Epoch: 14 | Batch: 400 | Loss: 0.27282 | Correct: 092/100\n",
      "Epoch: 14 | Batch: 500 | Loss: 0.19834 | Correct: 098/100\n"
     ]
    },
    {
     "name": "stderr",
     "output_type": "stream",
     "text": [
      "  3%|▎         | 15/500 [1:43:13<57:16:59, 425.20s/it]"
     ]
    },
    {
     "name": "stdout",
     "output_type": "stream",
     "text": [
      "\n",
      "Epoch: 14 | Testing Accuracy: 9591.0/10000 (95.910%) | Historical Best: 95.910%\n",
      "\n",
      "Epoch: 15 | Batch: 000 | Loss: 0.24835 | Correct: 096/100\n",
      "Epoch: 15 | Batch: 100 | Loss: 0.25498 | Correct: 094/100\n",
      "Epoch: 15 | Batch: 200 | Loss: 0.23017 | Correct: 098/100\n",
      "Epoch: 15 | Batch: 300 | Loss: 0.27095 | Correct: 096/100\n",
      "Epoch: 15 | Batch: 400 | Loss: 0.25649 | Correct: 096/100\n",
      "Epoch: 15 | Batch: 500 | Loss: 0.22013 | Correct: 095/100\n"
     ]
    },
    {
     "name": "stderr",
     "output_type": "stream",
     "text": [
      "  3%|▎         | 16/500 [1:50:19<57:11:07, 425.35s/it]"
     ]
    },
    {
     "name": "stdout",
     "output_type": "stream",
     "text": [
      "\n",
      "Epoch: 15 | Testing Accuracy: 9582.0/10000 (95.820%) | Historical Best: 95.910%\n",
      "\n",
      "Epoch: 16 | Batch: 000 | Loss: 0.20298 | Correct: 097/100\n",
      "Epoch: 16 | Batch: 100 | Loss: 0.22151 | Correct: 095/100\n",
      "Epoch: 16 | Batch: 200 | Loss: 0.18418 | Correct: 099/100\n",
      "Epoch: 16 | Batch: 300 | Loss: 0.20073 | Correct: 099/100\n",
      "Epoch: 16 | Batch: 400 | Loss: 0.27707 | Correct: 097/100\n",
      "Epoch: 16 | Batch: 500 | Loss: 0.19922 | Correct: 099/100\n"
     ]
    },
    {
     "name": "stderr",
     "output_type": "stream",
     "text": [
      "  3%|▎         | 17/500 [1:57:25<57:05:38, 425.55s/it]"
     ]
    },
    {
     "name": "stdout",
     "output_type": "stream",
     "text": [
      "\n",
      "Epoch: 16 | Testing Accuracy: 9593.0/10000 (95.930%) | Historical Best: 95.930%\n",
      "\n",
      "Epoch: 17 | Batch: 000 | Loss: 0.21548 | Correct: 098/100\n",
      "Epoch: 17 | Batch: 100 | Loss: 0.20343 | Correct: 096/100\n",
      "Epoch: 17 | Batch: 200 | Loss: 0.26201 | Correct: 095/100\n",
      "Epoch: 17 | Batch: 300 | Loss: 0.20361 | Correct: 097/100\n",
      "Epoch: 17 | Batch: 400 | Loss: 0.19873 | Correct: 097/100\n",
      "Epoch: 17 | Batch: 500 | Loss: 0.23970 | Correct: 095/100\n"
     ]
    },
    {
     "name": "stderr",
     "output_type": "stream",
     "text": [
      "  4%|▎         | 18/500 [2:04:30<56:59:07, 425.62s/it]"
     ]
    },
    {
     "name": "stdout",
     "output_type": "stream",
     "text": [
      "\n",
      "Epoch: 17 | Testing Accuracy: 9594.0/10000 (95.940%) | Historical Best: 95.940%\n",
      "\n",
      "Epoch: 18 | Batch: 000 | Loss: 0.22481 | Correct: 097/100\n",
      "Epoch: 18 | Batch: 100 | Loss: 0.22544 | Correct: 095/100\n",
      "Epoch: 18 | Batch: 200 | Loss: 0.19127 | Correct: 098/100\n",
      "Epoch: 18 | Batch: 300 | Loss: 0.17521 | Correct: 098/100\n",
      "Epoch: 18 | Batch: 400 | Loss: 0.17963 | Correct: 099/100\n",
      "Epoch: 18 | Batch: 500 | Loss: 0.19231 | Correct: 098/100\n"
     ]
    },
    {
     "name": "stderr",
     "output_type": "stream",
     "text": [
      "  4%|▍         | 19/500 [2:11:36<56:52:05, 425.63s/it]"
     ]
    },
    {
     "name": "stdout",
     "output_type": "stream",
     "text": [
      "\n",
      "Epoch: 18 | Testing Accuracy: 9591.0/10000 (95.910%) | Historical Best: 95.940%\n",
      "\n",
      "Epoch: 19 | Batch: 000 | Loss: 0.20280 | Correct: 096/100\n",
      "Epoch: 19 | Batch: 100 | Loss: 0.22536 | Correct: 096/100\n",
      "Epoch: 19 | Batch: 200 | Loss: 0.20245 | Correct: 098/100\n",
      "Epoch: 19 | Batch: 300 | Loss: 0.19764 | Correct: 097/100\n",
      "Epoch: 19 | Batch: 400 | Loss: 0.21124 | Correct: 098/100\n",
      "Epoch: 19 | Batch: 500 | Loss: 0.18474 | Correct: 098/100\n"
     ]
    },
    {
     "name": "stderr",
     "output_type": "stream",
     "text": [
      "  4%|▍         | 20/500 [2:18:42<56:44:50, 425.61s/it]"
     ]
    },
    {
     "name": "stdout",
     "output_type": "stream",
     "text": [
      "\n",
      "Epoch: 19 | Testing Accuracy: 9589.0/10000 (95.890%) | Historical Best: 95.940%\n",
      "\n",
      "Epoch: 20 | Batch: 000 | Loss: 0.19568 | Correct: 097/100\n",
      "Epoch: 20 | Batch: 100 | Loss: 0.23087 | Correct: 095/100\n",
      "Epoch: 20 | Batch: 200 | Loss: 0.21578 | Correct: 098/100\n",
      "Epoch: 20 | Batch: 300 | Loss: 0.17690 | Correct: 097/100\n",
      "Epoch: 20 | Batch: 400 | Loss: 0.25027 | Correct: 095/100\n",
      "Epoch: 20 | Batch: 500 | Loss: 0.14505 | Correct: 099/100\n"
     ]
    },
    {
     "name": "stderr",
     "output_type": "stream",
     "text": [
      "  4%|▍         | 21/500 [2:25:48<56:38:31, 425.70s/it]"
     ]
    },
    {
     "name": "stdout",
     "output_type": "stream",
     "text": [
      "\n",
      "Epoch: 20 | Testing Accuracy: 9592.0/10000 (95.920%) | Historical Best: 95.940%\n",
      "\n",
      "Epoch: 21 | Batch: 000 | Loss: 0.19834 | Correct: 098/100\n",
      "Epoch: 21 | Batch: 100 | Loss: 0.20876 | Correct: 097/100\n",
      "Epoch: 21 | Batch: 200 | Loss: 0.18671 | Correct: 096/100\n",
      "Epoch: 21 | Batch: 300 | Loss: 0.16308 | Correct: 099/100\n",
      "Epoch: 21 | Batch: 400 | Loss: 0.21182 | Correct: 096/100\n",
      "Epoch: 21 | Batch: 500 | Loss: 0.22352 | Correct: 094/100\n"
     ]
    },
    {
     "name": "stderr",
     "output_type": "stream",
     "text": [
      "  4%|▍         | 22/500 [2:32:53<56:31:54, 425.76s/it]"
     ]
    },
    {
     "name": "stdout",
     "output_type": "stream",
     "text": [
      "\n",
      "Epoch: 21 | Testing Accuracy: 9602.0/10000 (96.020%) | Historical Best: 96.020%\n",
      "\n",
      "Epoch: 22 | Batch: 000 | Loss: 0.18179 | Correct: 096/100\n",
      "Epoch: 22 | Batch: 100 | Loss: 0.22486 | Correct: 096/100\n",
      "Epoch: 22 | Batch: 200 | Loss: 0.20712 | Correct: 098/100\n",
      "Epoch: 22 | Batch: 300 | Loss: 0.28296 | Correct: 094/100\n",
      "Epoch: 22 | Batch: 400 | Loss: 0.18820 | Correct: 097/100\n",
      "Epoch: 22 | Batch: 500 | Loss: 0.15732 | Correct: 098/100\n"
     ]
    },
    {
     "name": "stderr",
     "output_type": "stream",
     "text": [
      "  5%|▍         | 23/500 [2:40:00<56:25:26, 425.84s/it]"
     ]
    },
    {
     "name": "stdout",
     "output_type": "stream",
     "text": [
      "\n",
      "Epoch: 22 | Testing Accuracy: 9594.0/10000 (95.940%) | Historical Best: 96.020%\n",
      "\n",
      "Epoch: 23 | Batch: 000 | Loss: 0.23334 | Correct: 095/100\n",
      "Epoch: 23 | Batch: 100 | Loss: 0.16078 | Correct: 098/100\n",
      "Epoch: 23 | Batch: 200 | Loss: 0.18945 | Correct: 096/100\n",
      "Epoch: 23 | Batch: 300 | Loss: 0.18809 | Correct: 098/100\n",
      "Epoch: 23 | Batch: 400 | Loss: 0.25394 | Correct: 095/100\n",
      "Epoch: 23 | Batch: 500 | Loss: 0.20994 | Correct: 097/100\n"
     ]
    },
    {
     "name": "stderr",
     "output_type": "stream",
     "text": [
      "  5%|▍         | 24/500 [2:47:05<56:18:11, 425.82s/it]"
     ]
    },
    {
     "name": "stdout",
     "output_type": "stream",
     "text": [
      "\n",
      "Epoch: 23 | Testing Accuracy: 9600.0/10000 (96.000%) | Historical Best: 96.020%\n",
      "\n",
      "Epoch: 24 | Batch: 000 | Loss: 0.18127 | Correct: 097/100\n",
      "Epoch: 24 | Batch: 100 | Loss: 0.21830 | Correct: 095/100\n",
      "Epoch: 24 | Batch: 200 | Loss: 0.24693 | Correct: 095/100\n",
      "Epoch: 24 | Batch: 300 | Loss: 0.26426 | Correct: 092/100\n",
      "Epoch: 24 | Batch: 400 | Loss: 0.20296 | Correct: 097/100\n",
      "Epoch: 24 | Batch: 500 | Loss: 0.22831 | Correct: 094/100\n"
     ]
    },
    {
     "name": "stderr",
     "output_type": "stream",
     "text": [
      "  5%|▌         | 25/500 [2:54:11<56:10:38, 425.76s/it]"
     ]
    },
    {
     "name": "stdout",
     "output_type": "stream",
     "text": [
      "\n",
      "Epoch: 24 | Testing Accuracy: 9597.0/10000 (95.970%) | Historical Best: 96.020%\n",
      "\n",
      "Epoch: 25 | Batch: 000 | Loss: 0.24704 | Correct: 096/100\n",
      "Epoch: 25 | Batch: 100 | Loss: 0.19001 | Correct: 097/100\n",
      "Epoch: 25 | Batch: 200 | Loss: 0.22376 | Correct: 094/100\n",
      "Epoch: 25 | Batch: 300 | Loss: 0.19892 | Correct: 097/100\n",
      "Epoch: 25 | Batch: 400 | Loss: 0.23843 | Correct: 097/100\n",
      "Epoch: 25 | Batch: 500 | Loss: 0.22499 | Correct: 096/100\n"
     ]
    },
    {
     "name": "stderr",
     "output_type": "stream",
     "text": [
      "  5%|▌         | 26/500 [3:01:17<56:03:21, 425.74s/it]"
     ]
    },
    {
     "name": "stdout",
     "output_type": "stream",
     "text": [
      "\n",
      "Epoch: 25 | Testing Accuracy: 9600.0/10000 (96.000%) | Historical Best: 96.020%\n",
      "\n",
      "Epoch: 26 | Batch: 000 | Loss: 0.18074 | Correct: 099/100\n",
      "Epoch: 26 | Batch: 100 | Loss: 0.26310 | Correct: 093/100\n",
      "Epoch: 26 | Batch: 200 | Loss: 0.18978 | Correct: 097/100\n",
      "Epoch: 26 | Batch: 300 | Loss: 0.19755 | Correct: 097/100\n",
      "Epoch: 26 | Batch: 400 | Loss: 0.22024 | Correct: 093/100\n",
      "Epoch: 26 | Batch: 500 | Loss: 0.17366 | Correct: 097/100\n"
     ]
    },
    {
     "name": "stderr",
     "output_type": "stream",
     "text": [
      "  5%|▌         | 27/500 [3:08:22<55:56:07, 425.72s/it]"
     ]
    },
    {
     "name": "stdout",
     "output_type": "stream",
     "text": [
      "\n",
      "Epoch: 26 | Testing Accuracy: 9597.0/10000 (95.970%) | Historical Best: 96.020%\n",
      "\n",
      "Epoch: 27 | Batch: 000 | Loss: 0.26337 | Correct: 094/100\n",
      "Epoch: 27 | Batch: 100 | Loss: 0.20461 | Correct: 099/100\n",
      "Epoch: 27 | Batch: 200 | Loss: 0.22242 | Correct: 097/100\n",
      "Epoch: 27 | Batch: 300 | Loss: 0.20497 | Correct: 096/100\n",
      "Epoch: 27 | Batch: 400 | Loss: 0.24576 | Correct: 096/100\n",
      "Epoch: 27 | Batch: 500 | Loss: 0.20573 | Correct: 097/100\n"
     ]
    },
    {
     "name": "stderr",
     "output_type": "stream",
     "text": [
      "  6%|▌         | 28/500 [3:15:28<55:49:16, 425.76s/it]"
     ]
    },
    {
     "name": "stdout",
     "output_type": "stream",
     "text": [
      "\n",
      "Epoch: 27 | Testing Accuracy: 9602.0/10000 (96.020%) | Historical Best: 96.020%\n",
      "\n",
      "Epoch: 28 | Batch: 000 | Loss: 0.16952 | Correct: 098/100\n",
      "Epoch: 28 | Batch: 100 | Loss: 0.17103 | Correct: 098/100\n",
      "Epoch: 28 | Batch: 200 | Loss: 0.17847 | Correct: 099/100\n",
      "Epoch: 28 | Batch: 300 | Loss: 0.16762 | Correct: 098/100\n",
      "Epoch: 28 | Batch: 400 | Loss: 0.24071 | Correct: 097/100\n",
      "Epoch: 28 | Batch: 500 | Loss: 0.23698 | Correct: 094/100\n"
     ]
    },
    {
     "name": "stderr",
     "output_type": "stream",
     "text": [
      "  6%|▌         | 29/500 [3:22:34<55:41:54, 425.72s/it]"
     ]
    },
    {
     "name": "stdout",
     "output_type": "stream",
     "text": [
      "\n",
      "Epoch: 28 | Testing Accuracy: 9590.0/10000 (95.900%) | Historical Best: 96.020%\n",
      "\n",
      "Epoch: 29 | Batch: 000 | Loss: 0.24162 | Correct: 095/100\n",
      "Epoch: 29 | Batch: 100 | Loss: 0.19440 | Correct: 097/100\n",
      "Epoch: 29 | Batch: 200 | Loss: 0.24531 | Correct: 093/100\n",
      "Epoch: 29 | Batch: 300 | Loss: 0.19512 | Correct: 096/100\n",
      "Epoch: 29 | Batch: 400 | Loss: 0.22316 | Correct: 096/100\n",
      "Epoch: 29 | Batch: 500 | Loss: 0.14162 | Correct: 099/100\n"
     ]
    },
    {
     "name": "stderr",
     "output_type": "stream",
     "text": [
      "  6%|▌         | 30/500 [3:29:40<55:35:19, 425.79s/it]"
     ]
    },
    {
     "name": "stdout",
     "output_type": "stream",
     "text": [
      "\n",
      "Epoch: 29 | Testing Accuracy: 9593.0/10000 (95.930%) | Historical Best: 96.020%\n",
      "\n",
      "Epoch: 30 | Batch: 000 | Loss: 0.18379 | Correct: 096/100\n",
      "Epoch: 30 | Batch: 100 | Loss: 0.21061 | Correct: 097/100\n",
      "Epoch: 30 | Batch: 200 | Loss: 0.23877 | Correct: 096/100\n",
      "Epoch: 30 | Batch: 300 | Loss: 0.18313 | Correct: 096/100\n",
      "Epoch: 30 | Batch: 400 | Loss: 0.24940 | Correct: 095/100\n",
      "Epoch: 30 | Batch: 500 | Loss: 0.22265 | Correct: 096/100\n"
     ]
    },
    {
     "name": "stderr",
     "output_type": "stream",
     "text": [
      "  6%|▌         | 31/500 [3:36:45<55:27:44, 425.72s/it]"
     ]
    },
    {
     "name": "stdout",
     "output_type": "stream",
     "text": [
      "\n",
      "Epoch: 30 | Testing Accuracy: 9588.0/10000 (95.880%) | Historical Best: 96.020%\n",
      "\n",
      "Epoch: 31 | Batch: 000 | Loss: 0.14502 | Correct: 098/100\n",
      "Epoch: 31 | Batch: 100 | Loss: 0.17107 | Correct: 097/100\n",
      "Epoch: 31 | Batch: 200 | Loss: 0.21439 | Correct: 095/100\n",
      "Epoch: 31 | Batch: 300 | Loss: 0.22334 | Correct: 096/100\n",
      "Epoch: 31 | Batch: 400 | Loss: 0.19117 | Correct: 099/100\n",
      "Epoch: 31 | Batch: 500 | Loss: 0.21520 | Correct: 095/100\n"
     ]
    },
    {
     "name": "stderr",
     "output_type": "stream",
     "text": [
      "  6%|▋         | 32/500 [3:43:51<55:20:07, 425.66s/it]"
     ]
    },
    {
     "name": "stdout",
     "output_type": "stream",
     "text": [
      "\n",
      "Epoch: 31 | Testing Accuracy: 9588.0/10000 (95.880%) | Historical Best: 96.020%\n",
      "\n",
      "Epoch: 32 | Batch: 000 | Loss: 0.18931 | Correct: 097/100\n",
      "Epoch: 32 | Batch: 100 | Loss: 0.21462 | Correct: 096/100\n",
      "Epoch: 32 | Batch: 200 | Loss: 0.21076 | Correct: 093/100\n",
      "Epoch: 32 | Batch: 300 | Loss: 0.28339 | Correct: 091/100\n",
      "Epoch: 32 | Batch: 400 | Loss: 0.16232 | Correct: 097/100\n",
      "Epoch: 32 | Batch: 500 | Loss: 0.14669 | Correct: 099/100\n"
     ]
    },
    {
     "name": "stderr",
     "output_type": "stream",
     "text": [
      "  7%|▋         | 33/500 [3:50:57<55:13:15, 425.69s/it]"
     ]
    },
    {
     "name": "stdout",
     "output_type": "stream",
     "text": [
      "\n",
      "Epoch: 32 | Testing Accuracy: 9583.0/10000 (95.830%) | Historical Best: 96.020%\n",
      "\n",
      "Epoch: 33 | Batch: 000 | Loss: 0.17067 | Correct: 098/100\n",
      "Epoch: 33 | Batch: 100 | Loss: 0.26930 | Correct: 092/100\n",
      "Epoch: 33 | Batch: 200 | Loss: 0.17538 | Correct: 098/100\n",
      "Epoch: 33 | Batch: 300 | Loss: 0.22932 | Correct: 096/100\n",
      "Epoch: 33 | Batch: 400 | Loss: 0.15824 | Correct: 098/100\n",
      "Epoch: 33 | Batch: 500 | Loss: 0.19862 | Correct: 097/100\n"
     ]
    },
    {
     "name": "stderr",
     "output_type": "stream",
     "text": [
      "  7%|▋         | 34/500 [3:58:02<55:06:16, 425.70s/it]"
     ]
    },
    {
     "name": "stdout",
     "output_type": "stream",
     "text": [
      "\n",
      "Epoch: 33 | Testing Accuracy: 9580.0/10000 (95.800%) | Historical Best: 96.020%\n",
      "\n",
      "Epoch: 34 | Batch: 000 | Loss: 0.18107 | Correct: 096/100\n",
      "Epoch: 34 | Batch: 100 | Loss: 0.21322 | Correct: 097/100\n",
      "Epoch: 34 | Batch: 200 | Loss: 0.16206 | Correct: 099/100\n",
      "Epoch: 34 | Batch: 300 | Loss: 0.13975 | Correct: 100/100\n",
      "Epoch: 34 | Batch: 400 | Loss: 0.17848 | Correct: 098/100\n",
      "Epoch: 34 | Batch: 500 | Loss: 0.25281 | Correct: 094/100\n"
     ]
    },
    {
     "name": "stderr",
     "output_type": "stream",
     "text": [
      "  7%|▋         | 35/500 [4:05:08<54:59:24, 425.73s/it]"
     ]
    },
    {
     "name": "stdout",
     "output_type": "stream",
     "text": [
      "\n",
      "Epoch: 34 | Testing Accuracy: 9601.0/10000 (96.010%) | Historical Best: 96.020%\n",
      "\n",
      "Epoch: 35 | Batch: 000 | Loss: 0.17820 | Correct: 097/100\n",
      "Epoch: 35 | Batch: 100 | Loss: 0.15172 | Correct: 098/100\n",
      "Epoch: 35 | Batch: 200 | Loss: 0.13226 | Correct: 098/100\n",
      "Epoch: 35 | Batch: 300 | Loss: 0.20756 | Correct: 096/100\n",
      "Epoch: 35 | Batch: 400 | Loss: 0.17894 | Correct: 096/100\n",
      "Epoch: 35 | Batch: 500 | Loss: 0.16592 | Correct: 097/100\n"
     ]
    },
    {
     "name": "stderr",
     "output_type": "stream",
     "text": [
      "  7%|▋         | 36/500 [4:12:14<54:52:00, 425.69s/it]"
     ]
    },
    {
     "name": "stdout",
     "output_type": "stream",
     "text": [
      "\n",
      "Epoch: 35 | Testing Accuracy: 9605.0/10000 (96.050%) | Historical Best: 96.050%\n",
      "\n",
      "Epoch: 36 | Batch: 000 | Loss: 0.14462 | Correct: 099/100\n",
      "Epoch: 36 | Batch: 100 | Loss: 0.17620 | Correct: 096/100\n",
      "Epoch: 36 | Batch: 200 | Loss: 0.21412 | Correct: 096/100\n",
      "Epoch: 36 | Batch: 300 | Loss: 0.23113 | Correct: 095/100\n",
      "Epoch: 36 | Batch: 400 | Loss: 0.22937 | Correct: 094/100\n",
      "Epoch: 36 | Batch: 500 | Loss: 0.17962 | Correct: 097/100\n"
     ]
    },
    {
     "name": "stderr",
     "output_type": "stream",
     "text": [
      "  7%|▋         | 37/500 [4:19:19<54:45:11, 425.73s/it]"
     ]
    },
    {
     "name": "stdout",
     "output_type": "stream",
     "text": [
      "\n",
      "Epoch: 36 | Testing Accuracy: 9597.0/10000 (95.970%) | Historical Best: 96.050%\n",
      "\n",
      "Epoch: 37 | Batch: 000 | Loss: 0.16424 | Correct: 097/100\n",
      "Epoch: 37 | Batch: 100 | Loss: 0.22837 | Correct: 098/100\n",
      "Epoch: 37 | Batch: 200 | Loss: 0.17976 | Correct: 097/100\n",
      "Epoch: 37 | Batch: 300 | Loss: 0.17399 | Correct: 096/100\n",
      "Epoch: 37 | Batch: 400 | Loss: 0.23965 | Correct: 095/100\n",
      "Epoch: 37 | Batch: 500 | Loss: 0.19515 | Correct: 098/100\n"
     ]
    },
    {
     "name": "stderr",
     "output_type": "stream",
     "text": [
      "  8%|▊         | 38/500 [4:26:25<54:37:45, 425.68s/it]"
     ]
    },
    {
     "name": "stdout",
     "output_type": "stream",
     "text": [
      "\n",
      "Epoch: 37 | Testing Accuracy: 9600.0/10000 (96.000%) | Historical Best: 96.050%\n",
      "\n",
      "Epoch: 38 | Batch: 000 | Loss: 0.14173 | Correct: 100/100\n",
      "Epoch: 38 | Batch: 100 | Loss: 0.13844 | Correct: 098/100\n",
      "Epoch: 38 | Batch: 200 | Loss: 0.18902 | Correct: 096/100\n",
      "Epoch: 38 | Batch: 300 | Loss: 0.15547 | Correct: 097/100\n",
      "Epoch: 38 | Batch: 400 | Loss: 0.15697 | Correct: 097/100\n",
      "Epoch: 38 | Batch: 500 | Loss: 0.17079 | Correct: 096/100\n"
     ]
    },
    {
     "name": "stderr",
     "output_type": "stream",
     "text": [
      "  8%|▊         | 39/500 [4:33:31<54:30:34, 425.67s/it]"
     ]
    },
    {
     "name": "stdout",
     "output_type": "stream",
     "text": [
      "\n",
      "Epoch: 38 | Testing Accuracy: 9600.0/10000 (96.000%) | Historical Best: 96.050%\n",
      "\n",
      "Epoch: 39 | Batch: 000 | Loss: 0.19902 | Correct: 097/100\n",
      "Epoch: 39 | Batch: 100 | Loss: 0.22213 | Correct: 097/100\n",
      "Epoch: 39 | Batch: 200 | Loss: 0.13566 | Correct: 098/100\n",
      "Epoch: 39 | Batch: 300 | Loss: 0.24198 | Correct: 095/100\n",
      "Epoch: 39 | Batch: 400 | Loss: 0.19193 | Correct: 096/100\n",
      "Epoch: 39 | Batch: 500 | Loss: 0.22288 | Correct: 095/100\n"
     ]
    },
    {
     "name": "stderr",
     "output_type": "stream",
     "text": [
      "  8%|▊         | 40/500 [4:40:36<54:23:44, 425.70s/it]"
     ]
    },
    {
     "name": "stdout",
     "output_type": "stream",
     "text": [
      "\n",
      "Epoch: 39 | Testing Accuracy: 9599.0/10000 (95.990%) | Historical Best: 96.050%\n",
      "\n",
      "Epoch: 40 | Batch: 000 | Loss: 0.20738 | Correct: 094/100\n",
      "Epoch: 40 | Batch: 100 | Loss: 0.21267 | Correct: 095/100\n",
      "Epoch: 40 | Batch: 200 | Loss: 0.24051 | Correct: 093/100\n",
      "Epoch: 40 | Batch: 300 | Loss: 0.15172 | Correct: 098/100\n",
      "Epoch: 40 | Batch: 400 | Loss: 0.21184 | Correct: 096/100\n",
      "Epoch: 40 | Batch: 500 | Loss: 0.25090 | Correct: 095/100\n"
     ]
    },
    {
     "name": "stderr",
     "output_type": "stream",
     "text": [
      "  8%|▊         | 41/500 [4:47:42<54:16:10, 425.64s/it]"
     ]
    },
    {
     "name": "stdout",
     "output_type": "stream",
     "text": [
      "\n",
      "Epoch: 40 | Testing Accuracy: 9594.0/10000 (95.940%) | Historical Best: 96.050%\n",
      "\n",
      "Epoch: 41 | Batch: 000 | Loss: 0.26020 | Correct: 094/100\n",
      "Epoch: 41 | Batch: 100 | Loss: 0.18299 | Correct: 099/100\n",
      "Epoch: 41 | Batch: 200 | Loss: 0.19806 | Correct: 096/100\n",
      "Epoch: 41 | Batch: 300 | Loss: 0.18044 | Correct: 098/100\n",
      "Epoch: 41 | Batch: 400 | Loss: 0.21284 | Correct: 095/100\n",
      "Epoch: 41 | Batch: 500 | Loss: 0.19489 | Correct: 097/100\n"
     ]
    },
    {
     "name": "stderr",
     "output_type": "stream",
     "text": [
      "  8%|▊         | 42/500 [4:54:48<54:09:31, 425.70s/it]"
     ]
    },
    {
     "name": "stdout",
     "output_type": "stream",
     "text": [
      "\n",
      "Epoch: 41 | Testing Accuracy: 9589.0/10000 (95.890%) | Historical Best: 96.050%\n",
      "\n",
      "Epoch: 42 | Batch: 000 | Loss: 0.22336 | Correct: 095/100\n",
      "Epoch: 42 | Batch: 100 | Loss: 0.20528 | Correct: 096/100\n",
      "Epoch: 42 | Batch: 200 | Loss: 0.18910 | Correct: 097/100\n",
      "Epoch: 42 | Batch: 300 | Loss: 0.17050 | Correct: 099/100\n",
      "Epoch: 42 | Batch: 400 | Loss: 0.17738 | Correct: 099/100\n",
      "Epoch: 42 | Batch: 500 | Loss: 0.19361 | Correct: 096/100\n"
     ]
    },
    {
     "name": "stderr",
     "output_type": "stream",
     "text": [
      "  9%|▊         | 43/500 [5:01:53<54:02:02, 425.65s/it]"
     ]
    },
    {
     "name": "stdout",
     "output_type": "stream",
     "text": [
      "\n",
      "Epoch: 42 | Testing Accuracy: 9600.0/10000 (96.000%) | Historical Best: 96.050%\n",
      "\n",
      "Epoch: 43 | Batch: 000 | Loss: 0.30954 | Correct: 094/100\n",
      "Epoch: 43 | Batch: 100 | Loss: 0.15986 | Correct: 097/100\n",
      "Epoch: 43 | Batch: 200 | Loss: 0.18399 | Correct: 097/100\n",
      "Epoch: 43 | Batch: 300 | Loss: 0.19625 | Correct: 094/100\n",
      "Epoch: 43 | Batch: 400 | Loss: 0.21834 | Correct: 096/100\n",
      "Epoch: 43 | Batch: 500 | Loss: 0.17003 | Correct: 098/100\n"
     ]
    },
    {
     "name": "stderr",
     "output_type": "stream",
     "text": [
      "  9%|▉         | 44/500 [5:08:59<53:55:40, 425.75s/it]"
     ]
    },
    {
     "name": "stdout",
     "output_type": "stream",
     "text": [
      "\n",
      "Epoch: 43 | Testing Accuracy: 9592.0/10000 (95.920%) | Historical Best: 96.050%\n",
      "\n",
      "Epoch: 44 | Batch: 000 | Loss: 0.17478 | Correct: 097/100\n",
      "Epoch: 44 | Batch: 100 | Loss: 0.15998 | Correct: 097/100\n",
      "Epoch: 44 | Batch: 200 | Loss: 0.25689 | Correct: 093/100\n",
      "Epoch: 44 | Batch: 300 | Loss: 0.17263 | Correct: 097/100\n",
      "Epoch: 44 | Batch: 400 | Loss: 0.14353 | Correct: 099/100\n",
      "Epoch: 44 | Batch: 500 | Loss: 0.25534 | Correct: 094/100\n"
     ]
    },
    {
     "name": "stderr",
     "output_type": "stream",
     "text": [
      "  9%|▉         | 45/500 [5:16:05<53:48:47, 425.77s/it]"
     ]
    },
    {
     "name": "stdout",
     "output_type": "stream",
     "text": [
      "\n",
      "Epoch: 44 | Testing Accuracy: 9595.0/10000 (95.950%) | Historical Best: 96.050%\n",
      "\n",
      "Epoch: 45 | Batch: 000 | Loss: 0.19853 | Correct: 094/100\n",
      "Epoch: 45 | Batch: 100 | Loss: 0.20914 | Correct: 094/100\n",
      "Epoch: 45 | Batch: 200 | Loss: 0.16577 | Correct: 097/100\n",
      "Epoch: 45 | Batch: 300 | Loss: 0.21379 | Correct: 094/100\n",
      "Epoch: 45 | Batch: 400 | Loss: 0.20704 | Correct: 095/100\n",
      "Epoch: 45 | Batch: 500 | Loss: 0.19790 | Correct: 095/100\n"
     ]
    },
    {
     "name": "stderr",
     "output_type": "stream",
     "text": [
      "  9%|▉         | 46/500 [5:23:11<53:42:34, 425.89s/it]"
     ]
    },
    {
     "name": "stdout",
     "output_type": "stream",
     "text": [
      "\n",
      "Epoch: 45 | Testing Accuracy: 9594.0/10000 (95.940%) | Historical Best: 96.050%\n",
      "\n",
      "Epoch: 46 | Batch: 000 | Loss: 0.14367 | Correct: 100/100\n",
      "Epoch: 46 | Batch: 100 | Loss: 0.18107 | Correct: 097/100\n",
      "Epoch: 46 | Batch: 200 | Loss: 0.20113 | Correct: 094/100\n",
      "Epoch: 46 | Batch: 300 | Loss: 0.13028 | Correct: 098/100\n",
      "Epoch: 46 | Batch: 400 | Loss: 0.20739 | Correct: 095/100\n",
      "Epoch: 46 | Batch: 500 | Loss: 0.26362 | Correct: 094/100\n"
     ]
    },
    {
     "name": "stderr",
     "output_type": "stream",
     "text": [
      "  9%|▉         | 47/500 [5:30:17<53:34:40, 425.79s/it]"
     ]
    },
    {
     "name": "stdout",
     "output_type": "stream",
     "text": [
      "\n",
      "Epoch: 46 | Testing Accuracy: 9590.0/10000 (95.900%) | Historical Best: 96.050%\n",
      "\n",
      "Epoch: 47 | Batch: 000 | Loss: 0.23034 | Correct: 094/100\n",
      "Epoch: 47 | Batch: 100 | Loss: 0.16251 | Correct: 096/100\n",
      "Epoch: 47 | Batch: 200 | Loss: 0.18159 | Correct: 099/100\n",
      "Epoch: 47 | Batch: 300 | Loss: 0.19088 | Correct: 094/100\n",
      "Epoch: 47 | Batch: 400 | Loss: 0.15096 | Correct: 099/100\n",
      "Epoch: 47 | Batch: 500 | Loss: 0.15100 | Correct: 099/100\n"
     ]
    },
    {
     "name": "stderr",
     "output_type": "stream",
     "text": [
      " 10%|▉         | 48/500 [5:37:23<53:27:40, 425.80s/it]"
     ]
    },
    {
     "name": "stdout",
     "output_type": "stream",
     "text": [
      "\n",
      "Epoch: 47 | Testing Accuracy: 9601.0/10000 (96.010%) | Historical Best: 96.050%\n",
      "\n",
      "Epoch: 48 | Batch: 000 | Loss: 0.16121 | Correct: 098/100\n",
      "Epoch: 48 | Batch: 100 | Loss: 0.23974 | Correct: 093/100\n",
      "Epoch: 48 | Batch: 200 | Loss: 0.18131 | Correct: 096/100\n",
      "Epoch: 48 | Batch: 300 | Loss: 0.22564 | Correct: 093/100\n",
      "Epoch: 48 | Batch: 400 | Loss: 0.19812 | Correct: 093/100\n",
      "Epoch: 48 | Batch: 500 | Loss: 0.14559 | Correct: 099/100\n"
     ]
    },
    {
     "name": "stderr",
     "output_type": "stream",
     "text": [
      " 10%|▉         | 49/500 [5:44:28<53:20:05, 425.73s/it]"
     ]
    },
    {
     "name": "stdout",
     "output_type": "stream",
     "text": [
      "\n",
      "Epoch: 48 | Testing Accuracy: 9599.0/10000 (95.990%) | Historical Best: 96.050%\n",
      "\n",
      "Epoch: 49 | Batch: 000 | Loss: 0.14379 | Correct: 097/100\n",
      "Epoch: 49 | Batch: 100 | Loss: 0.22615 | Correct: 095/100\n",
      "Epoch: 49 | Batch: 200 | Loss: 0.21068 | Correct: 095/100\n",
      "Epoch: 49 | Batch: 300 | Loss: 0.19410 | Correct: 097/100\n",
      "Epoch: 49 | Batch: 400 | Loss: 0.18222 | Correct: 097/100\n",
      "Epoch: 49 | Batch: 500 | Loss: 0.15777 | Correct: 098/100\n"
     ]
    },
    {
     "name": "stderr",
     "output_type": "stream",
     "text": [
      " 10%|█         | 50/500 [5:51:34<53:13:07, 425.75s/it]"
     ]
    },
    {
     "name": "stdout",
     "output_type": "stream",
     "text": [
      "\n",
      "Epoch: 49 | Testing Accuracy: 9598.0/10000 (95.980%) | Historical Best: 96.050%\n",
      "\n",
      "Epoch: 50 | Batch: 000 | Loss: 0.18844 | Correct: 096/100\n",
      "Epoch: 50 | Batch: 100 | Loss: 0.15954 | Correct: 097/100\n",
      "Epoch: 50 | Batch: 200 | Loss: 0.18150 | Correct: 096/100\n",
      "Epoch: 50 | Batch: 300 | Loss: 0.18964 | Correct: 095/100\n",
      "Epoch: 50 | Batch: 400 | Loss: 0.13659 | Correct: 099/100\n",
      "Epoch: 50 | Batch: 500 | Loss: 0.25622 | Correct: 093/100\n"
     ]
    },
    {
     "name": "stderr",
     "output_type": "stream",
     "text": [
      " 10%|█         | 51/500 [5:58:40<53:05:51, 425.73s/it]"
     ]
    },
    {
     "name": "stdout",
     "output_type": "stream",
     "text": [
      "\n",
      "Epoch: 50 | Testing Accuracy: 9596.0/10000 (95.960%) | Historical Best: 96.050%\n",
      "\n",
      "Epoch: 51 | Batch: 000 | Loss: 0.21440 | Correct: 092/100\n",
      "Epoch: 51 | Batch: 100 | Loss: 0.14617 | Correct: 098/100\n",
      "Epoch: 51 | Batch: 200 | Loss: 0.18527 | Correct: 096/100\n",
      "Epoch: 51 | Batch: 300 | Loss: 0.17304 | Correct: 098/100\n",
      "Epoch: 51 | Batch: 400 | Loss: 0.15150 | Correct: 099/100\n",
      "Epoch: 51 | Batch: 500 | Loss: 0.16332 | Correct: 096/100\n"
     ]
    },
    {
     "name": "stderr",
     "output_type": "stream",
     "text": [
      " 10%|█         | 52/500 [6:05:46<52:58:52, 425.74s/it]"
     ]
    },
    {
     "name": "stdout",
     "output_type": "stream",
     "text": [
      "\n",
      "Epoch: 51 | Testing Accuracy: 9599.0/10000 (95.990%) | Historical Best: 96.050%\n",
      "\n",
      "Epoch: 52 | Batch: 000 | Loss: 0.28455 | Correct: 093/100\n",
      "Epoch: 52 | Batch: 100 | Loss: 0.22799 | Correct: 095/100\n",
      "Epoch: 52 | Batch: 200 | Loss: 0.24868 | Correct: 096/100\n",
      "Epoch: 52 | Batch: 300 | Loss: 0.19787 | Correct: 096/100\n",
      "Epoch: 52 | Batch: 400 | Loss: 0.19544 | Correct: 097/100\n",
      "Epoch: 52 | Batch: 500 | Loss: 0.17768 | Correct: 095/100\n"
     ]
    },
    {
     "name": "stderr",
     "output_type": "stream",
     "text": [
      " 11%|█         | 53/500 [6:12:51<52:51:39, 425.73s/it]"
     ]
    },
    {
     "name": "stdout",
     "output_type": "stream",
     "text": [
      "\n",
      "Epoch: 52 | Testing Accuracy: 9588.0/10000 (95.880%) | Historical Best: 96.050%\n",
      "\n",
      "Epoch: 53 | Batch: 000 | Loss: 0.26453 | Correct: 093/100\n",
      "Epoch: 53 | Batch: 100 | Loss: 0.22920 | Correct: 094/100\n",
      "Epoch: 53 | Batch: 200 | Loss: 0.15503 | Correct: 097/100\n",
      "Epoch: 53 | Batch: 300 | Loss: 0.15780 | Correct: 096/100\n",
      "Epoch: 53 | Batch: 400 | Loss: 0.12837 | Correct: 099/100\n",
      "Epoch: 53 | Batch: 500 | Loss: 0.17796 | Correct: 097/100\n"
     ]
    },
    {
     "name": "stderr",
     "output_type": "stream",
     "text": [
      " 11%|█         | 54/500 [6:19:57<52:44:22, 425.70s/it]"
     ]
    },
    {
     "name": "stdout",
     "output_type": "stream",
     "text": [
      "\n",
      "Epoch: 53 | Testing Accuracy: 9584.0/10000 (95.840%) | Historical Best: 96.050%\n",
      "\n",
      "Epoch: 54 | Batch: 000 | Loss: 0.16394 | Correct: 100/100\n",
      "Epoch: 54 | Batch: 100 | Loss: 0.21988 | Correct: 096/100\n",
      "Epoch: 54 | Batch: 200 | Loss: 0.20531 | Correct: 095/100\n",
      "Epoch: 54 | Batch: 300 | Loss: 0.16742 | Correct: 096/100\n",
      "Epoch: 54 | Batch: 400 | Loss: 0.19022 | Correct: 097/100\n",
      "Epoch: 54 | Batch: 500 | Loss: 0.17682 | Correct: 098/100\n"
     ]
    },
    {
     "name": "stderr",
     "output_type": "stream",
     "text": [
      " 11%|█         | 55/500 [6:27:03<52:37:25, 425.72s/it]"
     ]
    },
    {
     "name": "stdout",
     "output_type": "stream",
     "text": [
      "\n",
      "Epoch: 54 | Testing Accuracy: 9591.0/10000 (95.910%) | Historical Best: 96.050%\n",
      "\n",
      "Epoch: 55 | Batch: 000 | Loss: 0.27003 | Correct: 094/100\n",
      "Epoch: 55 | Batch: 100 | Loss: 0.20222 | Correct: 094/100\n",
      "Epoch: 55 | Batch: 200 | Loss: 0.18954 | Correct: 095/100\n",
      "Epoch: 55 | Batch: 300 | Loss: 0.17008 | Correct: 097/100\n",
      "Epoch: 55 | Batch: 400 | Loss: 0.15426 | Correct: 097/100\n",
      "Epoch: 55 | Batch: 500 | Loss: 0.17982 | Correct: 098/100\n"
     ]
    },
    {
     "name": "stderr",
     "output_type": "stream",
     "text": [
      " 11%|█         | 56/500 [6:34:08<52:30:38, 425.76s/it]"
     ]
    },
    {
     "name": "stdout",
     "output_type": "stream",
     "text": [
      "\n",
      "Epoch: 55 | Testing Accuracy: 9588.0/10000 (95.880%) | Historical Best: 96.050%\n",
      "\n",
      "Epoch: 56 | Batch: 000 | Loss: 0.13827 | Correct: 098/100\n",
      "Epoch: 56 | Batch: 100 | Loss: 0.26338 | Correct: 092/100\n",
      "Epoch: 56 | Batch: 200 | Loss: 0.23484 | Correct: 096/100\n",
      "Epoch: 56 | Batch: 300 | Loss: 0.26367 | Correct: 092/100\n",
      "Epoch: 56 | Batch: 400 | Loss: 0.24192 | Correct: 093/100\n",
      "Epoch: 56 | Batch: 500 | Loss: 0.20550 | Correct: 097/100\n"
     ]
    },
    {
     "name": "stderr",
     "output_type": "stream",
     "text": [
      " 11%|█▏        | 57/500 [6:41:14<52:23:44, 425.79s/it]"
     ]
    },
    {
     "name": "stdout",
     "output_type": "stream",
     "text": [
      "\n",
      "Epoch: 56 | Testing Accuracy: 9579.0/10000 (95.790%) | Historical Best: 96.050%\n",
      "\n",
      "Epoch: 57 | Batch: 000 | Loss: 0.16518 | Correct: 099/100\n",
      "Epoch: 57 | Batch: 100 | Loss: 0.17730 | Correct: 097/100\n",
      "Epoch: 57 | Batch: 200 | Loss: 0.20141 | Correct: 095/100\n",
      "Epoch: 57 | Batch: 300 | Loss: 0.24214 | Correct: 092/100\n",
      "Epoch: 57 | Batch: 400 | Loss: 0.15787 | Correct: 097/100\n",
      "Epoch: 57 | Batch: 500 | Loss: 0.16380 | Correct: 097/100\n"
     ]
    },
    {
     "name": "stderr",
     "output_type": "stream",
     "text": [
      " 12%|█▏        | 58/500 [6:48:20<52:17:09, 425.86s/it]"
     ]
    },
    {
     "name": "stdout",
     "output_type": "stream",
     "text": [
      "\n",
      "Epoch: 57 | Testing Accuracy: 9584.0/10000 (95.840%) | Historical Best: 96.050%\n",
      "\n",
      "Epoch: 58 | Batch: 000 | Loss: 0.26169 | Correct: 092/100\n",
      "Epoch: 58 | Batch: 100 | Loss: 0.15438 | Correct: 098/100\n",
      "Epoch: 58 | Batch: 200 | Loss: 0.20675 | Correct: 097/100\n",
      "Epoch: 58 | Batch: 300 | Loss: 0.16410 | Correct: 097/100\n",
      "Epoch: 58 | Batch: 400 | Loss: 0.14642 | Correct: 098/100\n",
      "Epoch: 58 | Batch: 500 | Loss: 0.12961 | Correct: 098/100\n"
     ]
    },
    {
     "name": "stderr",
     "output_type": "stream",
     "text": [
      " 12%|█▏        | 59/500 [6:55:26<52:09:50, 425.83s/it]"
     ]
    },
    {
     "name": "stdout",
     "output_type": "stream",
     "text": [
      "\n",
      "Epoch: 58 | Testing Accuracy: 9581.0/10000 (95.810%) | Historical Best: 96.050%\n",
      "\n",
      "Epoch: 59 | Batch: 000 | Loss: 0.26992 | Correct: 095/100\n",
      "Epoch: 59 | Batch: 100 | Loss: 0.22749 | Correct: 095/100\n",
      "Epoch: 59 | Batch: 200 | Loss: 0.23206 | Correct: 093/100\n",
      "Epoch: 59 | Batch: 300 | Loss: 0.22725 | Correct: 096/100\n",
      "Epoch: 59 | Batch: 400 | Loss: 0.16689 | Correct: 098/100\n",
      "Epoch: 59 | Batch: 500 | Loss: 0.18434 | Correct: 098/100\n"
     ]
    },
    {
     "name": "stderr",
     "output_type": "stream",
     "text": [
      " 12%|█▏        | 60/500 [7:02:32<52:02:58, 425.86s/it]"
     ]
    },
    {
     "name": "stdout",
     "output_type": "stream",
     "text": [
      "\n",
      "Epoch: 59 | Testing Accuracy: 9588.0/10000 (95.880%) | Historical Best: 96.050%\n",
      "\n",
      "Epoch: 60 | Batch: 000 | Loss: 0.17013 | Correct: 096/100\n",
      "Epoch: 60 | Batch: 100 | Loss: 0.22076 | Correct: 095/100\n",
      "Epoch: 60 | Batch: 200 | Loss: 0.19117 | Correct: 095/100\n",
      "Epoch: 60 | Batch: 300 | Loss: 0.17231 | Correct: 097/100\n",
      "Epoch: 60 | Batch: 400 | Loss: 0.22706 | Correct: 094/100\n",
      "Epoch: 60 | Batch: 500 | Loss: 0.19700 | Correct: 097/100\n"
     ]
    },
    {
     "name": "stderr",
     "output_type": "stream",
     "text": [
      " 12%|█▏        | 61/500 [7:09:38<51:55:49, 425.85s/it]"
     ]
    },
    {
     "name": "stdout",
     "output_type": "stream",
     "text": [
      "\n",
      "Epoch: 60 | Testing Accuracy: 9583.0/10000 (95.830%) | Historical Best: 96.050%\n",
      "\n",
      "Epoch: 61 | Batch: 000 | Loss: 0.24982 | Correct: 095/100\n",
      "Epoch: 61 | Batch: 100 | Loss: 0.18031 | Correct: 095/100\n",
      "Epoch: 61 | Batch: 200 | Loss: 0.26443 | Correct: 096/100\n",
      "Epoch: 61 | Batch: 300 | Loss: 0.21441 | Correct: 096/100\n",
      "Epoch: 61 | Batch: 400 | Loss: 0.24796 | Correct: 095/100\n",
      "Epoch: 61 | Batch: 500 | Loss: 0.21357 | Correct: 095/100\n"
     ]
    },
    {
     "name": "stderr",
     "output_type": "stream",
     "text": [
      " 12%|█▏        | 62/500 [7:16:44<51:48:23, 425.81s/it]"
     ]
    },
    {
     "name": "stdout",
     "output_type": "stream",
     "text": [
      "\n",
      "Epoch: 61 | Testing Accuracy: 9587.0/10000 (95.870%) | Historical Best: 96.050%\n",
      "\n",
      "Epoch: 62 | Batch: 000 | Loss: 0.14925 | Correct: 100/100\n",
      "Epoch: 62 | Batch: 100 | Loss: 0.14447 | Correct: 098/100\n",
      "Epoch: 62 | Batch: 200 | Loss: 0.22050 | Correct: 095/100\n",
      "Epoch: 62 | Batch: 300 | Loss: 0.14487 | Correct: 097/100\n",
      "Epoch: 62 | Batch: 400 | Loss: 0.13769 | Correct: 099/100\n",
      "Epoch: 62 | Batch: 500 | Loss: 0.16312 | Correct: 098/100\n"
     ]
    },
    {
     "name": "stderr",
     "output_type": "stream",
     "text": [
      " 13%|█▎        | 63/500 [7:23:49<51:41:09, 425.79s/it]"
     ]
    },
    {
     "name": "stdout",
     "output_type": "stream",
     "text": [
      "\n",
      "Epoch: 62 | Testing Accuracy: 9593.0/10000 (95.930%) | Historical Best: 96.050%\n",
      "\n",
      "Epoch: 63 | Batch: 000 | Loss: 0.17473 | Correct: 098/100\n",
      "Epoch: 63 | Batch: 100 | Loss: 0.21673 | Correct: 096/100\n",
      "Epoch: 63 | Batch: 200 | Loss: 0.18903 | Correct: 096/100\n",
      "Epoch: 63 | Batch: 300 | Loss: 0.18902 | Correct: 096/100\n",
      "Epoch: 63 | Batch: 400 | Loss: 0.22812 | Correct: 095/100\n",
      "Epoch: 63 | Batch: 500 | Loss: 0.20698 | Correct: 095/100\n"
     ]
    },
    {
     "name": "stderr",
     "output_type": "stream",
     "text": [
      " 13%|█▎        | 64/500 [7:30:55<51:33:47, 425.75s/it]"
     ]
    },
    {
     "name": "stdout",
     "output_type": "stream",
     "text": [
      "\n",
      "Epoch: 63 | Testing Accuracy: 9582.0/10000 (95.820%) | Historical Best: 96.050%\n",
      "\n",
      "Epoch: 64 | Batch: 000 | Loss: 0.17039 | Correct: 098/100\n",
      "Epoch: 64 | Batch: 100 | Loss: 0.24127 | Correct: 094/100\n",
      "Epoch: 64 | Batch: 200 | Loss: 0.22513 | Correct: 096/100\n",
      "Epoch: 64 | Batch: 300 | Loss: 0.19526 | Correct: 097/100\n",
      "Epoch: 64 | Batch: 400 | Loss: 0.20449 | Correct: 096/100\n",
      "Epoch: 64 | Batch: 500 | Loss: 0.25011 | Correct: 096/100\n"
     ]
    },
    {
     "name": "stderr",
     "output_type": "stream",
     "text": [
      " 13%|█▎        | 65/500 [7:38:01<51:26:30, 425.73s/it]"
     ]
    },
    {
     "name": "stdout",
     "output_type": "stream",
     "text": [
      "\n",
      "Epoch: 64 | Testing Accuracy: 9586.0/10000 (95.860%) | Historical Best: 96.050%\n",
      "\n",
      "Epoch: 65 | Batch: 000 | Loss: 0.16107 | Correct: 096/100\n",
      "Epoch: 65 | Batch: 100 | Loss: 0.26054 | Correct: 093/100\n",
      "Epoch: 65 | Batch: 200 | Loss: 0.24786 | Correct: 093/100\n",
      "Epoch: 65 | Batch: 300 | Loss: 0.17590 | Correct: 098/100\n",
      "Epoch: 65 | Batch: 400 | Loss: 0.20596 | Correct: 096/100\n",
      "Epoch: 65 | Batch: 500 | Loss: 0.21682 | Correct: 095/100\n"
     ]
    },
    {
     "name": "stderr",
     "output_type": "stream",
     "text": [
      " 13%|█▎        | 66/500 [7:45:06<51:19:37, 425.75s/it]"
     ]
    },
    {
     "name": "stdout",
     "output_type": "stream",
     "text": [
      "\n",
      "Epoch: 65 | Testing Accuracy: 9574.0/10000 (95.740%) | Historical Best: 96.050%\n",
      "\n",
      "Epoch: 66 | Batch: 000 | Loss: 0.25173 | Correct: 094/100\n",
      "Epoch: 66 | Batch: 100 | Loss: 0.23732 | Correct: 095/100\n",
      "Epoch: 66 | Batch: 200 | Loss: 0.17120 | Correct: 095/100\n",
      "Epoch: 66 | Batch: 300 | Loss: 0.20627 | Correct: 095/100\n",
      "Epoch: 66 | Batch: 400 | Loss: 0.17465 | Correct: 098/100\n",
      "Epoch: 66 | Batch: 500 | Loss: 0.19774 | Correct: 095/100\n"
     ]
    },
    {
     "name": "stderr",
     "output_type": "stream",
     "text": [
      " 13%|█▎        | 67/500 [7:52:12<51:12:07, 425.70s/it]"
     ]
    },
    {
     "name": "stdout",
     "output_type": "stream",
     "text": [
      "\n",
      "Epoch: 66 | Testing Accuracy: 9577.0/10000 (95.770%) | Historical Best: 96.050%\n",
      "\n",
      "Epoch: 67 | Batch: 000 | Loss: 0.20629 | Correct: 097/100\n",
      "Epoch: 67 | Batch: 100 | Loss: 0.15103 | Correct: 098/100\n",
      "Epoch: 67 | Batch: 200 | Loss: 0.16587 | Correct: 098/100\n",
      "Epoch: 67 | Batch: 300 | Loss: 0.13660 | Correct: 099/100\n",
      "Epoch: 67 | Batch: 400 | Loss: 0.21315 | Correct: 097/100\n"
     ]
    }
   ],
   "source": [
    "dump(clf_rf, './srf_model/'+str(best_depth)+'_rf.joblib') \n",
    "for epoch in tqdm( range(args['epochs'])):\n",
    "    \n",
    "    # Training\n",
    "    tree.train()\n",
    "    for batch_idx, (data, target) in enumerate(train_loader):\n",
    "        optimizer.zero_grad()\n",
    "        \n",
    "        batch_size = data.size()[0]\n",
    "        data, target = data.to(device), target.to(device)\n",
    "        tree = tree.to(device)\n",
    "        # target_onehot = onehot_coding(target, device, args['output_dim'])\n",
    "        # print(data.shape)\n",
    "        output = tree.forward(data, is_training_data=True)\n",
    "\n",
    "        # loss = criterion(output, target.view(-1))\n",
    "        loss = criterion(output, target)\n",
    "        # loss += penalty\n",
    "\n",
    "        \n",
    "        # torch.autograd.set_detect_anomaly(True)\n",
    "        loss.backward()\n",
    "        optimizer.step()\n",
    "\n",
    "        # Print training status\n",
    "        if batch_idx % args['log_interval'] == 0:\n",
    "            pred = torch.argmax(output,1)\n",
    "            correct = pred.eq(torch.argmax(target,1)).sum()\n",
    "            # correct = pred.eq(target.view(-1).data).sum()\n",
    "\n",
    "            msg = (\n",
    "                \"Epoch: {:02d} | Batch: {:03d} | Loss: {:.5f} |\"\n",
    "                \" Correct: {:03d}/{:03d}\"\n",
    "            )\n",
    "            print(msg.format(epoch, batch_idx, loss, correct, batch_size))\n",
    "            training_loss_list.append(loss.cpu().data.numpy())\n",
    "\n",
    "    # Evaluating\n",
    "    tree.eval()\n",
    "    correct = 0.\n",
    "    with torch.no_grad():\n",
    "        torch.cuda.empty_cache()\n",
    "        for batch_idx, (data, target) in enumerate(test_loader):\n",
    "\n",
    "            batch_size = data.size()[0]\n",
    "            data, target = data.to(device), target.to(device)\n",
    "\n",
    "            # output = torch.softmax(tree.forward(data),dim=1)\n",
    "            output = tree.forward(data)\n",
    "            pred = torch.argmax(output,1)\n",
    "            correct += pred.eq(torch.argmax(target,1)).sum()\n",
    "\n",
    "        accuracy = 100.0 * float(correct) / len(test_loader.dataset)\n",
    "\n",
    "        if accuracy > best_testing_acc:\n",
    "            best_testing_acc = accuracy\n",
    "            save_path = './srf_model/'+str(best_depth)+'_srf_'+str(epoch)+'_'+str(accuracy)+'.pth'\n",
    "            torch.save(tree.state_dict(), save_path)\n",
    "\n",
    "\n",
    "        msg = (\n",
    "            \"\\nEpoch: {:02d} | Testing Accuracy: {}/{} ({:.3f}%) |\"\n",
    "            \" Historical Best: {:.3f}%\\n\"\n",
    "        )\n",
    "        print(\n",
    "            msg.format(\n",
    "                epoch, correct,\n",
    "                len(test_loader.dataset),\n",
    "                accuracy,\n",
    "                best_testing_acc\n",
    "            )\n",
    "        )\n",
    "        testing_acc_list.append(accuracy)"
   ]
  },
  {
   "cell_type": "code",
   "execution_count": 22,
   "metadata": {},
   "outputs": [],
   "source": [
    "save_path = './srf_model/'+str(best_depth)+'_srf_'+str(accuracy)+'.pth'\n",
    "torch.save(tree.state_dict(), save_path)\n"
   ]
  },
  {
   "cell_type": "code",
   "execution_count": 28,
   "metadata": {},
   "outputs": [],
   "source": [
    "save_path = './srf_model/'+str(best_depth)+'_sdt_'+str(accuracy)+'.pth'\n",
    "\n",
    "dump(clf, './srf_model/'+str(best_depth)+'_dt.joblib') \n",
    "torch.save(tree.state_dict(), save_path)\n"
   ]
  },
  {
   "cell_type": "code",
   "execution_count": null,
   "metadata": {},
   "outputs": [],
   "source": [
    "clf_new = load('./sdt_model/'+str(best_depth)+'clf.joblib') \n",
    "load_tree = SDT(clf_new,node_depth,node_path_left_right,args)\n",
    "load_tree.load_state_dict(torch.load(save_path))\n",
    "load_tree.eval()"
   ]
  },
  {
   "cell_type": "code",
   "execution_count": 104,
   "metadata": {},
   "outputs": [],
   "source": [
    "X_test_noise = X_test_resize.copy()\n",
    "root_feature = clf.tree_.feature[0]\n",
    "X_test_noise[:,root_feature] = np.random.random(X_test_noise[:,root_feature].shape)\n",
    "\n",
    "\n",
    "\n",
    "\n",
    "test_loader_noise = torch.utils.data.DataLoader(\n",
    "        Mnist_dataset(X_train_resize,\n",
    "                        X_test_noise,\n",
    "                        Y_train,\n",
    "                        Y_test,\n",
    "                        train_flag=0),\n",
    "        batch_size=100,\n",
    "        shuffle=False,\n",
    "    )"
   ]
  },
  {
   "cell_type": "code",
   "execution_count": 135,
   "metadata": {},
   "outputs": [
    {
     "name": "stdout",
     "output_type": "stream",
     "text": [
      "91.26\n"
     ]
    }
   ],
   "source": [
    "\n",
    "tree.eval()\n",
    "correct = 0.\n",
    "\n",
    "for batch_idx, (data, target) in enumerate(test_loader):\n",
    "\n",
    "    batch_size = data.size()[0]\n",
    "    data, target = data.to(device), target.to(device)\n",
    "\n",
    "    # output = torch.softmax(tree.forward(data),dim=1)\n",
    "    output = load_tree.forward(data)\n",
    "    pred = torch.argmax(output,1)\n",
    "    correct += pred.eq(torch.argmax(target,1)).sum()\n",
    "accuracy = 100.0 * float(correct) / len(test_loader.dataset)\n",
    "print(accuracy)"
   ]
  },
  {
   "cell_type": "code",
   "execution_count": 106,
   "metadata": {},
   "outputs": [
    {
     "name": "stdout",
     "output_type": "stream",
     "text": [
      "Validation accuracy for our baseline (using all pixel features) under noise: 74.0%\n"
     ]
    }
   ],
   "source": [
    "\n",
    "val_preds_baseline = clf.predict(X_test_noise)\n",
    "acc_baseline_val = acc(val_preds_baseline, y_test)\n",
    "print(f'Validation accuracy for our baseline (using all pixel features) under noise: {acc_baseline_val}%')"
   ]
  },
  {
   "cell_type": "code",
   "execution_count": 36,
   "metadata": {},
   "outputs": [
    {
     "data": {
      "text/plain": [
       "tensor(0.1406)"
      ]
     },
     "execution_count": 36,
     "metadata": {},
     "output_type": "execute_result"
    }
   ],
   "source": [
    "thres_mean = torch.mean(tree.node_threshold.data)\n",
    "thres_std = torch.std(tree.node_threshold.data)"
   ]
  },
  {
   "cell_type": "code",
   "execution_count": 132,
   "metadata": {},
   "outputs": [
    {
     "data": {
      "text/plain": [
       "(array([3.4860e+03, 0.0000e+00, 0.0000e+00, 0.0000e+00, 6.0000e+00,\n",
       "        2.4000e+01, 3.6000e+01, 1.2900e+02, 3.1140e+03, 1.0183e+04,\n",
       "        1.2940e+04, 1.1297e+04, 2.4227e+04, 3.4320e+03, 1.9960e+03,\n",
       "        7.3800e+02, 9.0000e+01, 1.3000e+01, 3.0000e+00, 6.0000e+00]),\n",
       " array([-2.09998197, -1.88952712, -1.67907226, -1.46861741, -1.25816256,\n",
       "        -1.0477077 , -0.83725285, -0.626798  , -0.41634314, -0.20588829,\n",
       "         0.00456656,  0.21502142,  0.42547627,  0.63593112,  0.84638597,\n",
       "         1.05684083,  1.26729568,  1.47775053,  1.68820539,  1.89866024,\n",
       "         2.10911509]),\n",
       " <BarContainer object of 20 artists>)"
      ]
     },
     "execution_count": 132,
     "metadata": {},
     "output_type": "execute_result"
    },
    {
     "data": {
      "image/png": "[encoded data removed]",
      "text/plain": [
       "<Figure size 432x288 with 1 Axes>"
      ]
     },
     "metadata": {
      "needs_background": "light"
     },
     "output_type": "display_data"
    }
   ],
   "source": [
    "plt.hist(tree.node_threshold.data.reshape(1,-1),20)"
   ]
  },
  {
   "cell_type": "code",
   "execution_count": 120,
   "metadata": {},
   "outputs": [],
   "source": [
    "tree.node_threshold.data = load_tree.node_threshold.data + torch.tensor(np.random.random(tree.node_threshold.data.shape)*0.2-0.1)"
   ]
  },
  {
   "cell_type": "code",
   "execution_count": 121,
   "metadata": {},
   "outputs": [],
   "source": [
    "new_clf = DecisionTreeClassifier(max_depth=best_depth)\n",
    "new_clf.tree_ = clf.tree_"
   ]
  },
  {
   "cell_type": "code",
   "execution_count": 122,
   "metadata": {},
   "outputs": [],
   "source": [
    "from copy import deepcopy\n",
    "new_clf = deepcopy(clf)"
   ]
  },
  {
   "cell_type": "code",
   "execution_count": 133,
   "metadata": {},
   "outputs": [
    {
     "data": {
      "text/plain": [
       "(array([3586.,    0.,    0.,    0.,    0.,    0.,    0.,    0.,    0.,\n",
       "           0.,    0.,    0.,    0.,  866.,  536.,  455.,  538.,  285.,\n",
       "         291.,  614.]),\n",
       " array([-2.        , -1.85009804, -1.70019608, -1.55029412, -1.40039216,\n",
       "        -1.2504902 , -1.10058824, -0.95068627, -0.80078431, -0.65088235,\n",
       "        -0.50098039, -0.35107843, -0.20117647, -0.05127451,  0.09862745,\n",
       "         0.24852941,  0.39843137,  0.54833333,  0.69823529,  0.84813726,\n",
       "         0.99803922]),\n",
       " <BarContainer object of 20 artists>)"
      ]
     },
     "execution_count": 133,
     "metadata": {},
     "output_type": "execute_result"
    },
    {
     "data": {
      "image/png": "[encoded data removed]",
      "text/plain": [
       "<Figure size 432x288 with 1 Axes>"
      ]
     },
     "metadata": {
      "needs_background": "light"
     },
     "output_type": "display_data"
    }
   ],
   "source": [
    "plt.hist(clf.tree_.threshold,20)"
   ]
  },
  {
   "cell_type": "code",
   "execution_count": 53,
   "metadata": {},
   "outputs": [
    {
     "data": {
      "text/plain": [
       "(6465,)"
      ]
     },
     "execution_count": 53,
     "metadata": {},
     "output_type": "execute_result"
    }
   ],
   "source": [
    "new_clf.tree_.threshold.data.shape"
   ]
  },
  {
   "cell_type": "code",
   "execution_count": 124,
   "metadata": {},
   "outputs": [],
   "source": [
    "new_clf.tree_.threshold[:] = clf.tree_.threshold[:] + np.random.random(clf.tree_.threshold[:].shape)*0.2-0.1"
   ]
  },
  {
   "cell_type": "code",
   "execution_count": 125,
   "metadata": {},
   "outputs": [
    {
     "name": "stdout",
     "output_type": "stream",
     "text": [
      "Validation accuracy for our baseline (using all pixel features) under noise: 37.26%\n"
     ]
    }
   ],
   "source": [
    "val_preds_baseline = new_clf.predict(X_test_resize)\n",
    "acc_baseline_val = acc(val_preds_baseline, y_test)\n",
    "print(f'Validation accuracy for our baseline (using all pixel features) under noise: {acc_baseline_val}%')"
   ]
  },
  {
   "cell_type": "code",
   "execution_count": 129,
   "metadata": {},
   "outputs": [
    {
     "name": "stdout",
     "output_type": "stream",
     "text": [
      "Validation accuracy for our baseline (using all pixel features) under noise: 35.03%\n"
     ]
    }
   ],
   "source": [
    "val_preds_baseline = new_clf.predict(X_test_noise)\n",
    "acc_baseline_val = acc(val_preds_baseline, y_test)\n",
    "print(f'Validation accuracy for our baseline (using all pixel features) under noise: {acc_baseline_val}%')"
   ]
  },
  {
   "cell_type": "code",
   "execution_count": 128,
   "metadata": {},
   "outputs": [
    {
     "name": "stdout",
     "output_type": "stream",
     "text": [
      "88.89\n"
     ]
    }
   ],
   "source": [
    "tree.eval()\n",
    "correct = 0.\n",
    "\n",
    "for batch_idx, (data, target) in enumerate(test_loader_noise):\n",
    "\n",
    "    batch_size = data.size()[0]\n",
    "    data, target = data.to(device), target.to(device)\n",
    "\n",
    "    # output = torch.softmax(tree.forward(data),dim=1)\n",
    "    output = tree.forward(data)\n",
    "    pred = torch.argmax(output,1)\n",
    "    correct += pred.eq(torch.argmax(target,1)).sum()\n",
    "accuracy = 100.0 * float(correct) / len(test_loader.dataset)\n",
    "print(accuracy)"
   ]
  },
  {
   "cell_type": "code",
   "execution_count": null,
   "metadata": {},
   "outputs": [
    {
     "data": {
      "text/plain": [
       "(array([57.,  2.,  1.,  1.,  0.,  0.,  1.,  0.,  0.,  2.]),\n",
       " array([2.39124615e-29, 2.65910430e-02, 5.31820860e-02, 7.97731290e-02,\n",
       "        1.06364172e-01, 1.32955215e-01, 1.59546258e-01, 1.86137301e-01,\n",
       "        2.12728344e-01, 2.39319387e-01, 2.65910430e-01]),\n",
       " <BarContainer object of 10 artists>)"
      ]
     },
     "execution_count": 98,
     "metadata": {},
     "output_type": "execute_result"
    },
    {
     "data": {
      "image/png": "[encoded data removed]",
      "text/plain": [
       "<Figure size 432x288 with 1 Axes>"
      ]
     },
     "metadata": {
      "needs_background": "light"
     },
     "output_type": "display_data"
    }
   ],
   "source": [
    "plt.hist(products[1,:])"
   ]
  },
  {
   "cell_type": "code",
   "execution_count": null,
   "metadata": {},
   "outputs": [
    {
     "data": {
      "text/plain": [
       "array([0.76756538, 0.26591043, 0.63942629, ..., 0.46874392, 0.551196  ,\n",
       "       0.42305356])"
      ]
     },
     "execution_count": 96,
     "metadata": {},
     "output_type": "execute_result"
    }
   ],
   "source": [
    "products[np.arange(10000),np.argsort(products[:,:],1)[:,-1]]"
   ]
  },
  {
   "cell_type": "code",
   "execution_count": null,
   "metadata": {},
   "outputs": [
    {
     "data": {
      "text/plain": [
       "(array([ 114.,  601., 1144., 1334., 1150., 1034., 2006., 1514., 1035.,\n",
       "          68.]),\n",
       " array([0.13263588, 0.21174084, 0.29084581, 0.36995077, 0.44905574,\n",
       "        0.5281607 , 0.60726566, 0.68637063, 0.76547559, 0.84458055,\n",
       "        0.92368552]),\n",
       " <BarContainer object of 10 artists>)"
      ]
     },
     "execution_count": 100,
     "metadata": {},
     "output_type": "execute_result"
    },
    {
     "data": {
      "image/png": "[encoded data removed]",
      "text/plain": [
       "<Figure size 432x288 with 1 Axes>"
      ]
     },
     "metadata": {
      "needs_background": "light"
     },
     "output_type": "display_data"
    }
   ],
   "source": [
    "plt.hist(np.max(products,1))"
   ]
  },
  {
   "cell_type": "code",
   "execution_count": null,
   "metadata": {},
   "outputs": [],
   "source": [
    "_mu = tree._forward(data)"
   ]
  },
  {
   "cell_type": "code",
   "execution_count": null,
   "metadata": {},
   "outputs": [
    {
     "data": {
      "text/plain": [
       "tensor([[0.3386, 0.2929, 0.3329,  ..., 0.3041, 0.2554, 0.2673],\n",
       "        [0.3213, 0.2730, 0.2849,  ..., 0.3193, 0.3248, 0.3227],\n",
       "        [0.3877, 0.3433, 0.3294,  ..., 0.2076, 0.2978, 0.2971],\n",
       "        ...,\n",
       "        [0.3469, 0.3027, 0.3060,  ..., 0.3246, 0.3007, 0.3511],\n",
       "        [0.3990, 0.2414, 0.3346,  ..., 0.3070, 0.2976, 0.3741],\n",
       "        [0.2997, 0.2490, 0.2828,  ..., 0.3512, 0.3851, 0.4081]],\n",
       "       grad_fn=<IndexBackward>)"
      ]
     },
     "execution_count": 88,
     "metadata": {},
     "output_type": "execute_result"
    }
   ],
   "source": [
    "_mu"
   ]
  },
  {
   "cell_type": "code",
   "execution_count": null,
   "metadata": {},
   "outputs": [
    {
     "data": {
      "text/plain": [
       "torch.return_types.max(\n",
       "values=tensor([0.7676, 0.2659, 0.6394,  ..., 0.4687, 0.5512, 0.4231],\n",
       "       dtype=torch.float64, grad_fn=<MaxBackward0>),\n",
       "indices=tensor([ 0, 23, 16,  ..., 59, 58, 55]))"
      ]
     },
     "execution_count": 61,
     "metadata": {},
     "output_type": "execute_result"
    }
   ],
   "source": [
    "torch.max(_mu,1)."
   ]
  },
  {
   "cell_type": "code",
   "execution_count": null,
   "metadata": {},
   "outputs": [
    {
     "data": {
      "text/plain": [
       "tensor([1., 0., 0., 0., 0., 0., 0., 0., 0., 0.])"
      ]
     },
     "execution_count": 57,
     "metadata": {},
     "output_type": "execute_result"
    }
   ],
   "source": [
    "target[10]"
   ]
  },
  {
   "cell_type": "code",
   "execution_count": null,
   "metadata": {},
   "outputs": [
    {
     "data": {
      "text/plain": [
       "[<matplotlib.lines.Line2D at 0x212ebe9d4c0>]"
      ]
     },
     "execution_count": 75,
     "metadata": {},
     "output_type": "execute_result"
    },
    {
     "data": {
      "image/png": "[encoded data removed]",
      "text/plain": [
       "<Figure size 432x288 with 1 Axes>"
      ]
     },
     "metadata": {
      "needs_background": "light"
     },
     "output_type": "display_data"
    }
   ],
   "source": [
    "plt.plot(tree.leaf_nodes[10].detach().numpy())"
   ]
  },
  {
   "cell_type": "code",
   "execution_count": null,
   "metadata": {},
   "outputs": [
    {
     "data": {
      "text/plain": [
       "[<matplotlib.lines.Line2D at 0x212ec3d2c70>]"
      ]
     },
     "execution_count": 76,
     "metadata": {},
     "output_type": "execute_result"
    },
    {
     "data": {
      "image/png": "[encoded data removed]",
      "text/plain": [
       "<Figure size 432x288 with 1 Axes>"
      ]
     },
     "metadata": {
      "needs_background": "light"
     },
     "output_type": "display_data"
    }
   ],
   "source": [
    "plt.plot(tree.leaf_nodes[8].detach().numpy())"
   ]
  },
  {
   "cell_type": "code",
   "execution_count": null,
   "metadata": {},
   "outputs": [
    {
     "data": {
      "text/plain": [
       "<matplotlib.image.AxesImage at 0x212ecd5f550>"
      ]
     },
     "execution_count": 79,
     "metadata": {},
     "output_type": "execute_result"
    },
    {
     "data": {
      "image/png": "[encoded data removed]",
      "text/plain": [
       "<Figure size 432x288 with 1 Axes>"
      ]
     },
     "metadata": {
      "needs_background": "light"
     },
     "output_type": "display_data"
    }
   ],
   "source": [
    "plt.imshow(data[10,:].reshape(7,7))"
   ]
  },
  {
   "cell_type": "code",
   "execution_count": null,
   "metadata": {},
   "outputs": [
    {
     "data": {
      "text/plain": [
       "(60000, 49)"
      ]
     },
     "execution_count": 101,
     "metadata": {},
     "output_type": "execute_result"
    }
   ],
   "source": [
    "X_train_resize.shape"
   ]
  },
  {
   "cell_type": "code",
   "execution_count": null,
   "metadata": {},
   "outputs": [
    {
     "data": {
      "text/plain": [
       "array([350, 568, 430, ..., 405,  -2,  -2], dtype=int64)"
      ]
     },
     "execution_count": 37,
     "metadata": {},
     "output_type": "execute_result"
    }
   ],
   "source": [
    "clf.tree_.feature"
   ]
  },
  {
   "cell_type": "code",
   "execution_count": null,
   "metadata": {},
   "outputs": [],
   "source": []
  }
 ],
 "metadata": {
  "kernelspec": {
   "display_name": "py10",
   "language": "python",
   "name": "python3"
  },
  "language_info": {
   "codemirror_mode": {
    "name": "ipython",
    "version": 3
   },
   "file_extension": ".py",
   "mimetype": "text/x-python",
   "name": "python",
   "nbconvert_exporter": "python",
   "pygments_lexer": "ipython3",
   "version": "3.10.13"
  },
  "orig_nbformat": 4
 },
 "nbformat": 4,
 "nbformat_minor": 2
}
