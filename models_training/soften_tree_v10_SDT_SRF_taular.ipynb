{
 "cells": [
  {
   "cell_type": "code",
   "execution_count": 1,
   "metadata": {},
   "outputs": [
    {
     "name": "stderr",
     "output_type": "stream",
     "text": [
      "2025-02-20 14:29:03.982818: E external/local_xla/xla/stream_executor/cuda/cuda_dnn.cc:9261] Unable to register cuDNN factory: Attempting to register factory for plugin cuDNN when one has already been registered\n",
      "2025-02-20 14:29:03.982856: E external/local_xla/xla/stream_executor/cuda/cuda_fft.cc:607] Unable to register cuFFT factory: Attempting to register factory for plugin cuFFT when one has already been registered\n",
      "2025-02-20 14:29:03.983874: E external/local_xla/xla/stream_executor/cuda/cuda_blas.cc:1515] Unable to register cuBLAS factory: Attempting to register factory for plugin cuBLAS when one has already been registered\n",
      "2025-02-20 14:29:03.988861: I tensorflow/core/platform/cpu_feature_guard.cc:182] This TensorFlow binary is optimized to use available CPU instructions in performance-critical operations.\n",
      "To enable the following instructions: AVX2 FMA, in other operations, rebuild TensorFlow with the appropriate compiler flags.\n",
      "2025-02-20 14:29:04.542882: W tensorflow/compiler/tf2tensorrt/utils/py_utils.cc:38] TF-TRT Warning: Could not find TensorRT\n"
     ]
    }
   ],
   "source": [
    "# Standard Libraries\n",
    "import os\n",
    "import numpy as np \n",
    "import pandas as pd \n",
    "import random as rn\n",
    "# import cv2\n",
    "import torch\n",
    "import torch.nn as nn\n",
    "from torch.utils.data import Dataset\n",
    "\n",
    "# Visualization libraries\n",
    "# import pydotplus\n",
    "import matplotlib\n",
    "import matplotlib.pyplot as plt\n",
    "import seaborn as sns\n",
    "sns.set_style({\"axes.facecolor\": \".95\"})\n",
    "\n",
    "# Modeling and Machine Learning\n",
    "from IPython.display import Image \n",
    "from sklearn import datasets\n",
    "from sklearn.manifold import TSNE\n",
    "from sklearn.metrics import accuracy_score\n",
    "# from sklearn.externals.six import StringIO  \n",
    "from sklearn.decomposition import TruncatedSVD\n",
    "from sklearn.ensemble import RandomForestClassifier\n",
    "from sklearn.model_selection import train_test_split\n",
    "from sklearn.model_selection import KFold\n",
    "from sklearn.tree import DecisionTreeClassifier, export_graphviz, plot_tree, export_text\n",
    "from sklearn.preprocessing import QuantileTransformer, PowerTransformer, StandardScaler, RobustScaler, OneHotEncoder, LabelEncoder,MinMaxScaler\n",
    "# from keras.datasets import mnist\n",
    "from tensorflow.keras.utils import to_categorical\n",
    "# import pip install tensorflow as tf\n",
    "from joblib import dump, load\n",
    "\n",
    "from sklearn.preprocessing import OrdinalEncoder\n",
    "from sklearn.preprocessing import StandardScaler\n",
    "\n",
    "from copy import deepcopy\n",
    "from tqdm import tqdm\n",
    "\n",
    "# Seed for reproducability\n",
    "seed = 1024\n",
    "np.random.seed(seed)\n",
    "rn.seed(seed)\n",
    "os.environ['PYTHONHASHSEED'] = str(seed)"
   ]
  },
  {
   "cell_type": "code",
   "execution_count": 82,
   "metadata": {},
   "outputs": [],
   "source": [
    "import openml\n",
    "#openml.config.apikey = 'FILL_IN_OPENML_API_KEY'  # set the OpenML Api Key\n",
    "# SUITE_ID = 336 # Regression on numerical features\n",
    "SUITE_ID = 337 # Classification on numerical features\n",
    "#SUITE_ID = 335 # Regression on numerical and categorical features\n",
    "#SUITE_ID = 334 # Classification on numerical and categorical features\n",
    "benchmark_suite = openml.study.get_suite(SUITE_ID)  # obtain the benchmark suite\n",
    "\n",
    "# for task_id in benchmark_suite.tasks:  # iterate over all tasks\n",
    "#     task = openml.tasks.get_task(task_id)  # download the OpenML task\n",
    "#     print(task_id)\n",
    "    # dataset = task.get_dataset()\n",
    "    # X, y, categorical_indicator, attribute_names = dataset.get_data(\n",
    "    #     dataset_format=\"dataframe\", target=dataset.default_target_attribute\n",
    "    # )\n",
    "# 361063 house\n",
    "# 361065 MagicTelescope\n",
    "# 361069 Higgs\n",
    "# 361277 California Housing"
   ]
  },
  {
   "cell_type": "code",
   "execution_count": 83,
   "metadata": {},
   "outputs": [
    {
     "data": {
      "text/plain": [
       "[361055,\n",
       " 361060,\n",
       " 361061,\n",
       " 361062,\n",
       " 361063,\n",
       " 361065,\n",
       " 361066,\n",
       " 361068,\n",
       " 361069,\n",
       " 361070,\n",
       " 361273,\n",
       " 361274,\n",
       " 361275,\n",
       " 361276,\n",
       " 361277,\n",
       " 361278]"
      ]
     },
     "execution_count": 83,
     "metadata": {},
     "output_type": "execute_result"
    }
   ],
   "source": [
    "benchmark_suite.tasks"
   ]
  },
  {
   "cell_type": "code",
   "execution_count": 84,
   "metadata": {},
   "outputs": [],
   "source": [
    "task_id_selected = [361055,361060,361066,361273,361275,361068,361277] # credit,electricity,bankmarketing,Diabetes130US, default-of-credit-card-clients MiniBooNE\n",
    "task_id_name = ['credit','electricity','bankmarketing','Diabetes130US', 'default-of-credit-card-clients','MiniBooNE','CaliforniaHousing']"
   ]
  },
  {
   "cell_type": "code",
   "execution_count": 85,
   "metadata": {},
   "outputs": [],
   "source": [
    "def acc(y_true : np.ndarray, y_pred : np.ndarray) -> float:\n",
    "    \"\"\"\n",
    "        Calculates the accuracy score between labels and predictions.\n",
    "        \n",
    "        :param y_true: The true labels of the data\n",
    "        :param y_pred: The predictions for the data\n",
    "        \n",
    "        :return: a floating point number denoting the accuracy\n",
    "    \"\"\"\n",
    "    return np.round(accuracy_score(y_true, y_pred) * 100, 2)"
   ]
  },
  {
   "cell_type": "code",
   "execution_count": 86,
   "metadata": {},
   "outputs": [],
   "source": [
    "def produce_soft_labels(data_X, data_y, round_num, fold_num, k=1,model='rf',tree_nums=300,min_samples_leaf=5):\n",
    "\n",
    "    soft_label = np.zeros([data_X.shape[0], len(np.unique(data_y))])\n",
    "\n",
    "    for i in range(round_num):\n",
    "        kf = KFold(n_splits=fold_num)\n",
    "        for train_index, test_index in kf.split(X=data_X, y=data_y, groups=data_y):\n",
    "            train_X,train_Y = data_X.iloc[train_index], data_y.iloc[train_index]\n",
    "            test_X = data_X.iloc[test_index]\n",
    "            # train_X,train_Y=train_set[:, :-1],train_set[:, -1].astype(int)\n",
    "            # test_X=test_set[:, :-1]\n",
    "            if model=='rf':\n",
    "                clf = RandomForestClassifier(tree_nums, min_samples_leaf=min_samples_leaf, criterion=\"gini\")\n",
    "            clf.fit(train_X, train_Y)\n",
    "\n",
    "            pred_prob = clf.predict_proba(test_X)\n",
    "            soft_label[test_index] += pred_prob\n",
    "\n",
    "    soft_label /= round_num\n",
    "\n",
    "    hard_label = np.zeros([data_X.shape[0], len(np.unique(data_y))])\n",
    "    for i in range(np.shape(data_X)[0]):\n",
    "        hard_label[i][int(data_y.iloc[i])] = 1\n",
    "\n",
    "    soft_label = (soft_label + hard_label*k) / (k+1)\n",
    "\n",
    "    return soft_label"
   ]
  },
  {
   "cell_type": "code",
   "execution_count": 87,
   "metadata": {},
   "outputs": [
    {
     "name": "stderr",
     "output_type": "stream",
     "text": [
      "/home/wenbo/anaconda3/lib/python3.11/site-packages/IPython/core/interactiveshell.py:3577: FutureWarning: Starting from Version 0.15.0 `download_splits` will default to ``False`` instead of ``True`` and be independent from `download_data`. To disable this message until version 0.15 explicitly set `download_splits` to a bool.\n",
      "  exec(code_obj, self.user_global_ns, self.user_ns)\n",
      "/home/wenbo/anaconda3/lib/python3.11/site-packages/openml/tasks/functions.py:442: FutureWarning: Starting from Version 0.15 `download_data`, `download_qualities`, and `download_features_meta_data` will all be ``False`` instead of ``True`` by default to enable lazy loading. To disable this message until version 0.15 explicitly set `download_data`, `download_qualities`, and `download_features_meta_data` to a bool while calling `get_dataset`.\n",
      "  dataset = get_dataset(task.dataset_id, *dataset_args, **get_dataset_kwargs)\n",
      "/home/wenbo/anaconda3/lib/python3.11/site-packages/openml/tasks/task.py:150: FutureWarning: Starting from Version 0.15 `download_data`, `download_qualities`, and `download_features_meta_data` will all be ``False`` instead of ``True`` by default to enable lazy loading. To disable this message until version 0.15 explicitly set `download_data`, `download_qualities`, and `download_features_meta_data` to a bool while calling `get_dataset`.\n",
      "  return datasets.get_dataset(self.dataset_id)\n"
     ]
    }
   ],
   "source": [
    "# dataset = pd.read_csv('../Dataset/connect4/c4_game_database.csv')\n",
    "# dataset = pd.read_csv('../Dataset/connect4/connect-4.data')\n",
    "# dataset = pd.read_csv('../Dataset/heart.csv')\n",
    "# dataset = pd.read_csv('../Dataset/Acoustic_Extinguisher_Fire_Dataset.csv')\n",
    "# dataset = datasets.load_iris()\n",
    "task_id_index = 3\n",
    "task_id = task_id_selected[task_id_index]\n",
    "task_name = task_id_name[task_id_index]\n",
    "task = openml.tasks.get_task(task_id)\n",
    "dataset = task.get_dataset()\n",
    "X, y, categorical_indicator, attribute_names = dataset.get_data(\n",
    "        dataset_format=\"dataframe\", target=dataset.default_target_attribute\n",
    "    )"
   ]
  },
  {
   "cell_type": "code",
   "execution_count": 11,
   "metadata": {},
   "outputs": [
    {
     "name": "stdout",
     "output_type": "stream",
     "text": [
      "(569, 30)\n"
     ]
    }
   ],
   "source": [
    "data = datasets.load_breast_cancer()\n",
    "print(data.data.shape)\n",
    "X,y = data.data, data.target\n",
    "task_name = 'breast cancer'\n",
    "# train_x, test_x, train_y, test_y = train_test_split(data.data, data.target, test_size=0.2, random_state=8)"
   ]
  },
  {
   "cell_type": "code",
   "execution_count": 9,
   "metadata": {},
   "outputs": [
    {
     "name": "stdout",
     "output_type": "stream",
     "text": [
      "(581012, 54)\n",
      "(581012,)\n"
     ]
    }
   ],
   "source": [
    "from sklearn.datasets import fetch_covtype\n",
    "X, y = fetch_covtype(return_X_y=True) #第一次会下载数据约90M CVS\n",
    "print(X.shape) #(581012, 54)\n",
    "print(y.shape)"
   ]
  },
  {
   "cell_type": "code",
   "execution_count": 221,
   "metadata": {},
   "outputs": [],
   "source": [
    "task_name = 'cover'"
   ]
  },
  {
   "cell_type": "code",
   "execution_count": 88,
   "metadata": {},
   "outputs": [
    {
     "name": "stdout",
     "output_type": "stream",
     "text": [
      "<class 'pandas.core.frame.DataFrame'>\n",
      "RangeIndex: 71090 entries, 0 to 71089\n",
      "Data columns (total 7 columns):\n",
      " #   Column              Non-Null Count  Dtype\n",
      "---  ------              --------------  -----\n",
      " 0   time_in_hospital    71090 non-null  uint8\n",
      " 1   num_lab_procedures  71090 non-null  uint8\n",
      " 2   num_medications     71090 non-null  uint8\n",
      " 3   number_outpatient   71090 non-null  uint8\n",
      " 4   number_emergency    71090 non-null  uint8\n",
      " 5   number_inpatient    71090 non-null  uint8\n",
      " 6   number_diagnoses    71090 non-null  uint8\n",
      "dtypes: uint8(7)\n",
      "memory usage: 486.1 KB\n"
     ]
    }
   ],
   "source": [
    "X = pd.DataFrame(X)\n",
    "y = pd.Series(y).astype('category')\n",
    "X.info()"
   ]
  },
  {
   "cell_type": "code",
   "execution_count": 89,
   "metadata": {},
   "outputs": [
    {
     "data": {
      "text/plain": [
       "time_in_hospital       14\n",
       "num_lab_procedures    129\n",
       "num_medications        75\n",
       "number_outpatient      42\n",
       "number_emergency       76\n",
       "number_inpatient       19\n",
       "number_diagnoses       16\n",
       "dtype: uint8"
      ]
     },
     "execution_count": 89,
     "metadata": {},
     "output_type": "execute_result"
    }
   ],
   "source": [
    "X.max(0)"
   ]
  },
  {
   "cell_type": "code",
   "execution_count": 90,
   "metadata": {},
   "outputs": [
    {
     "data": {
      "text/plain": [
       "0        0\n",
       "1        0\n",
       "2        0\n",
       "3        0\n",
       "4        0\n",
       "        ..\n",
       "71085    1\n",
       "71086    1\n",
       "71087    1\n",
       "71088    1\n",
       "71089    1\n",
       "Name: readmitted, Length: 71090, dtype: category\n",
       "Categories (2, object): ['0' < '1']"
      ]
     },
     "execution_count": 90,
     "metadata": {},
     "output_type": "execute_result"
    }
   ],
   "source": [
    "y"
   ]
  },
  {
   "cell_type": "code",
   "execution_count": null,
   "metadata": {},
   "outputs": [],
   "source": [
    "# X = dataset.drop('STATUS', axis = 1)\n",
    "# y = dataset['STATUS']\n",
    "\n",
    "# X = dataset.iloc[:,:-1]\n",
    "# y = dataset.iloc[:, -1]\n",
    "\n",
    "# X = dataset.data\n",
    "# y = dataset.target"
   ]
  },
  {
   "cell_type": "code",
   "execution_count": null,
   "metadata": {},
   "outputs": [],
   "source": [
    "# X = (X-X.min(0)-0.5*(X.max(0)-X.min(0)))/(X.max(0)-X.min(0))*2\n",
    "# X = (X-X.min(0))/(X.max(0)-X.min(0))\n",
    "\n",
    "# \n",
    "# X = X*1.0\n",
    "# X = (X-X.min()-0.5*(X.max()-X.min()))/(X.max()-X.min())*2"
   ]
  },
  {
   "cell_type": "code",
   "execution_count": null,
   "metadata": {},
   "outputs": [],
   "source": [
    "# y = y + 1"
   ]
  },
  {
   "cell_type": "code",
   "execution_count": 91,
   "metadata": {},
   "outputs": [],
   "source": [
    "# X_train, X_test, y_train, y_test = train_test_split(\n",
    "#      X, y, test_size=0.2,random_state=seed)\n",
    "# random——seed: 42,37\n",
    "\n",
    "le = LabelEncoder()\n",
    "y = le.fit_transform(y)\n",
    "\n",
    "\n",
    "X_train, X_val_test, y_train, y_val_test = train_test_split(X, y, test_size=0.3, random_state=18)\n",
    "\n",
    "\n",
    "# if task_id in [361055,361066,361273,361275] :\n",
    "qt = QuantileTransformer(output_distribution=\"uniform\", random_state=18)\n",
    "X_train = qt.fit_transform(X_train)\n",
    "X_val_test = qt.transform(X_val_test)\n",
    "\n",
    "X_test,X_val,y_test, y_val  = train_test_split(X_val_test, y_val_test, test_size=0.33, random_state=18)"
   ]
  },
  {
   "cell_type": "code",
   "execution_count": 92,
   "metadata": {},
   "outputs": [
    {
     "data": {
      "text/plain": [
       "array([1.        , 0.99937888, 1.        , 1.        , 1.        ,\n",
       "       0.99974975, 1.        ])"
      ]
     },
     "execution_count": 92,
     "metadata": {},
     "output_type": "execute_result"
    }
   ],
   "source": [
    "X_test.max(0)"
   ]
  },
  {
   "cell_type": "code",
   "execution_count": 93,
   "metadata": {},
   "outputs": [
    {
     "data": {
      "text/plain": [
       "array([[0.55355355, 0.86236236, 0.23073073, ..., 0.        , 0.76126126,\n",
       "        0.75225225],\n",
       "       [0.22772773, 0.38288288, 0.23073073, ..., 0.99449449, 0.        ,\n",
       "        0.75225225],\n",
       "       [0.        , 0.3023023 , 0.34484484, ..., 0.        , 0.        ,\n",
       "        0.06406406],\n",
       "       ...,\n",
       "       [0.75775776, 0.47247247, 0.57307307, ..., 0.        , 0.76126126,\n",
       "        0.75225225],\n",
       "       [0.87187187, 0.92642643, 0.57307307, ..., 0.        , 0.        ,\n",
       "        0.75225225],\n",
       "       [0.67317317, 0.95545546, 0.67167167, ..., 0.        , 0.        ,\n",
       "        0.75225225]])"
      ]
     },
     "execution_count": 93,
     "metadata": {},
     "output_type": "execute_result"
    }
   ],
   "source": [
    "X_test"
   ]
  },
  {
   "cell_type": "code",
   "execution_count": null,
   "metadata": {},
   "outputs": [],
   "source": [
    "# st_sc = StandardScaler()\n",
    "# scaler = st_sc.fit(X_train)\n",
    "\n",
    "# X_train = scaler.transform(X_train)\n",
    "# X_test = scaler.transform(X_test)"
   ]
  },
  {
   "cell_type": "code",
   "execution_count": 94,
   "metadata": {},
   "outputs": [
    {
     "data": {
      "text/plain": [
       "(array([[2.0000e+03, 0.0000e+00, 2.4700e+03, 2.5550e+03, 0.0000e+00,\n",
       "         1.9020e+03, 1.3560e+03, 1.0780e+03, 1.4120e+03, 1.5160e+03],\n",
       "        [1.4960e+03, 1.3720e+03, 1.3110e+03, 1.4060e+03, 1.6620e+03,\n",
       "         1.2340e+03, 1.3540e+03, 1.4640e+03, 1.5370e+03, 1.4530e+03],\n",
       "        [1.5420e+03, 1.2750e+03, 1.5640e+03, 8.8400e+02, 1.6410e+03,\n",
       "         1.5950e+03, 1.3780e+03, 1.5400e+03, 1.3170e+03, 1.5530e+03],\n",
       "        [1.1908e+04, 0.0000e+00, 0.0000e+00, 0.0000e+00, 0.0000e+00,\n",
       "         0.0000e+00, 0.0000e+00, 0.0000e+00, 1.2020e+03, 1.1790e+03],\n",
       "        [1.2725e+04, 0.0000e+00, 0.0000e+00, 0.0000e+00, 0.0000e+00,\n",
       "         0.0000e+00, 0.0000e+00, 0.0000e+00, 0.0000e+00, 1.5640e+03],\n",
       "        [9.4760e+03, 0.0000e+00, 0.0000e+00, 0.0000e+00, 0.0000e+00,\n",
       "         0.0000e+00, 0.0000e+00, 2.7910e+03, 1.0770e+03, 9.4500e+02],\n",
       "        [1.3320e+03, 1.5330e+03, 1.4740e+03, 1.4470e+03, 1.4830e+03,\n",
       "         0.0000e+00, 0.0000e+00, 7.0080e+03, 0.0000e+00, 1.2000e+01]]),\n",
       " array([0. , 0.1, 0.2, 0.3, 0.4, 0.5, 0.6, 0.7, 0.8, 0.9, 1. ]),\n",
       " <a list of 7 BarContainer objects>)"
      ]
     },
     "execution_count": 94,
     "metadata": {},
     "output_type": "execute_result"
    },
    {
     "data": {
      "image/png": "[encoded data removed]",
      "text/plain": [
       "<Figure size 640x480 with 1 Axes>"
      ]
     },
     "metadata": {},
     "output_type": "display_data"
    }
   ],
   "source": [
    "plt.hist(X_test)"
   ]
  },
  {
   "cell_type": "code",
   "execution_count": null,
   "metadata": {},
   "outputs": [],
   "source": [
    "# data_train = np.concatenate((X_train.reshape(X_train.shape[0], X_train.shape[1] * X_train.shape[2]).astype('float32'), y_train.reshape(len(y_train),1).astype('float32')),1)\n",
    "# soft_label = produce_soft_labels(X_train,y_train, round_num=1, fold_num=2, k=1, model='rf')"
   ]
  },
  {
   "cell_type": "code",
   "execution_count": null,
   "metadata": {},
   "outputs": [],
   "source": [
    "# [X_train_resize.append(cv2.resize(X_train[i], [7,7])) for i in range(X_train.shape[0])]\n",
    "# X_train_resize = np.array([cv2.resize(X_train[i], [7,7],cv2.INTER_AREA) for i in range(X_train.shape[0])])\n",
    "# X_test_resize = np.array([cv2.resize(X_test[i], [7,7],cv2.INTER_AREA) for i in range(X_test.shape[0])])\n",
    "# plt.subplot(221)\n",
    "# plt.imshow(X_train_resize[0], cmap=plt.get_cmap('gray'))\n",
    "# plt.subplot(222)\n",
    "# plt.imshow(X_train_resize[1], cmap=plt.get_cmap('gray'))\n",
    "# plt.subplot(223)\n",
    "# plt.imshow(X_train_resize[2], cmap=plt.get_cmap('gray'))\n",
    "# plt.subplot(224)\n",
    "# plt.imshow(X_train_resize[3], cmap=plt.get_cmap('gray'))\n",
    "# # show the plot\n",
    "# plt.show()"
   ]
  },
  {
   "cell_type": "code",
   "execution_count": null,
   "metadata": {},
   "outputs": [],
   "source": [
    "# X_train_resize, X_test_resize = X_train,X_test\n",
    "\n",
    "# num_pixels = X_train_resize.shape[1] * X_train_resize.shape[2]\n",
    "\n",
    "# X_train_resize = X_train_resize.reshape(X_train_resize.shape[0], num_pixels).astype('float32')\n",
    "# X_test_resize = X_test_resize.reshape(X_test_resize.shape[0], num_pixels).astype('float32')\n",
    "\n",
    "\n",
    "# print('X_train.shape after resize and reshape: ' , X_train_resize.shape)\n",
    "\n",
    "# # normalize inputs from 0-255 to 0-1\n",
    "# X_train_resize = X_train_resize / 255\n",
    "# X_test_resize = X_test_resize / 255\n",
    "\n",
    "# one hot encode outputs\n",
    "# y_train = np_utils.to_categorical(y_train)\n",
    "# Y_train = np_utils.to_categorical(y_train)\n",
    "# Y_test = np_utils.to_categorical(y_test)\n",
    "\n",
    "# num_classes = Y_test.shape[1]"
   ]
  },
  {
   "cell_type": "code",
   "execution_count": 99,
   "metadata": {},
   "outputs": [
    {
     "data": {
      "text/html": [
       "<style>#sk-container-id-5 {\n",
       "  /* Definition of color scheme common for light and dark mode */\n",
       "  --sklearn-color-text: black;\n",
       "  --sklearn-color-line: gray;\n",
       "  /* Definition of color scheme for unfitted estimators */\n",
       "  --sklearn-color-unfitted-level-0: #fff5e6;\n",
       "  --sklearn-color-unfitted-level-1: #f6e4d2;\n",
       "  --sklearn-color-unfitted-level-2: #ffe0b3;\n",
       "  --sklearn-color-unfitted-level-3: chocolate;\n",
       "  /* Definition of color scheme for fitted estimators */\n",
       "  --sklearn-color-fitted-level-0: #f0f8ff;\n",
       "  --sklearn-color-fitted-level-1: #d4ebff;\n",
       "  --sklearn-color-fitted-level-2: #b3dbfd;\n",
       "  --sklearn-color-fitted-level-3: cornflowerblue;\n",
       "\n",
       "  /* Specific color for light theme */\n",
       "  --sklearn-color-text-on-default-background: var(--sg-text-color, var(--theme-code-foreground, var(--jp-content-font-color1, black)));\n",
       "  --sklearn-color-background: var(--sg-background-color, var(--theme-background, var(--jp-layout-color0, white)));\n",
       "  --sklearn-color-border-box: var(--sg-text-color, var(--theme-code-foreground, var(--jp-content-font-color1, black)));\n",
       "  --sklearn-color-icon: #696969;\n",
       "\n",
       "  @media (prefers-color-scheme: dark) {\n",
       "    /* Redefinition of color scheme for dark theme */\n",
       "    --sklearn-color-text-on-default-background: var(--sg-text-color, var(--theme-code-foreground, var(--jp-content-font-color1, white)));\n",
       "    --sklearn-color-background: var(--sg-background-color, var(--theme-background, var(--jp-layout-color0, #111)));\n",
       "    --sklearn-color-border-box: var(--sg-text-color, var(--theme-code-foreground, var(--jp-content-font-color1, white)));\n",
       "    --sklearn-color-icon: #878787;\n",
       "  }\n",
       "}\n",
       "\n",
       "#sk-container-id-5 {\n",
       "  color: var(--sklearn-color-text);\n",
       "}\n",
       "\n",
       "#sk-container-id-5 pre {\n",
       "  padding: 0;\n",
       "}\n",
       "\n",
       "#sk-container-id-5 input.sk-hidden--visually {\n",
       "  border: 0;\n",
       "  clip: rect(1px 1px 1px 1px);\n",
       "  clip: rect(1px, 1px, 1px, 1px);\n",
       "  height: 1px;\n",
       "  margin: -1px;\n",
       "  overflow: hidden;\n",
       "  padding: 0;\n",
       "  position: absolute;\n",
       "  width: 1px;\n",
       "}\n",
       "\n",
       "#sk-container-id-5 div.sk-dashed-wrapped {\n",
       "  border: 1px dashed var(--sklearn-color-line);\n",
       "  margin: 0 0.4em 0.5em 0.4em;\n",
       "  box-sizing: border-box;\n",
       "  padding-bottom: 0.4em;\n",
       "  background-color: var(--sklearn-color-background);\n",
       "}\n",
       "\n",
       "#sk-container-id-5 div.sk-container {\n",
       "  /* jupyter's `normalize.less` sets `[hidden] { display: none; }`\n",
       "     but bootstrap.min.css set `[hidden] { display: none !important; }`\n",
       "     so we also need the `!important` here to be able to override the\n",
       "     default hidden behavior on the sphinx rendered scikit-learn.org.\n",
       "     See: https://github.com/scikit-learn/scikit-learn/issues/21755 */\n",
       "  display: inline-block !important;\n",
       "  position: relative;\n",
       "}\n",
       "\n",
       "#sk-container-id-5 div.sk-text-repr-fallback {\n",
       "  display: none;\n",
       "}\n",
       "\n",
       "div.sk-parallel-item,\n",
       "div.sk-serial,\n",
       "div.sk-item {\n",
       "  /* draw centered vertical line to link estimators */\n",
       "  background-image: linear-gradient(var(--sklearn-color-text-on-default-background), var(--sklearn-color-text-on-default-background));\n",
       "  background-size: 2px 100%;\n",
       "  background-repeat: no-repeat;\n",
       "  background-position: center center;\n",
       "}\n",
       "\n",
       "/* Parallel-specific style estimator block */\n",
       "\n",
       "#sk-container-id-5 div.sk-parallel-item::after {\n",
       "  content: \"\";\n",
       "  width: 100%;\n",
       "  border-bottom: 2px solid var(--sklearn-color-text-on-default-background);\n",
       "  flex-grow: 1;\n",
       "}\n",
       "\n",
       "#sk-container-id-5 div.sk-parallel {\n",
       "  display: flex;\n",
       "  align-items: stretch;\n",
       "  justify-content: center;\n",
       "  background-color: var(--sklearn-color-background);\n",
       "  position: relative;\n",
       "}\n",
       "\n",
       "#sk-container-id-5 div.sk-parallel-item {\n",
       "  display: flex;\n",
       "  flex-direction: column;\n",
       "}\n",
       "\n",
       "#sk-container-id-5 div.sk-parallel-item:first-child::after {\n",
       "  align-self: flex-end;\n",
       "  width: 50%;\n",
       "}\n",
       "\n",
       "#sk-container-id-5 div.sk-parallel-item:last-child::after {\n",
       "  align-self: flex-start;\n",
       "  width: 50%;\n",
       "}\n",
       "\n",
       "#sk-container-id-5 div.sk-parallel-item:only-child::after {\n",
       "  width: 0;\n",
       "}\n",
       "\n",
       "/* Serial-specific style estimator block */\n",
       "\n",
       "#sk-container-id-5 div.sk-serial {\n",
       "  display: flex;\n",
       "  flex-direction: column;\n",
       "  align-items: center;\n",
       "  background-color: var(--sklearn-color-background);\n",
       "  padding-right: 1em;\n",
       "  padding-left: 1em;\n",
       "}\n",
       "\n",
       "\n",
       "/* Toggleable style: style used for estimator/Pipeline/ColumnTransformer box that is\n",
       "clickable and can be expanded/collapsed.\n",
       "- Pipeline and ColumnTransformer use this feature and define the default style\n",
       "- Estimators will overwrite some part of the style using the `sk-estimator` class\n",
       "*/\n",
       "\n",
       "/* Pipeline and ColumnTransformer style (default) */\n",
       "\n",
       "#sk-container-id-5 div.sk-toggleable {\n",
       "  /* Default theme specific background. It is overwritten whether we have a\n",
       "  specific estimator or a Pipeline/ColumnTransformer */\n",
       "  background-color: var(--sklearn-color-background);\n",
       "}\n",
       "\n",
       "/* Toggleable label */\n",
       "#sk-container-id-5 label.sk-toggleable__label {\n",
       "  cursor: pointer;\n",
       "  display: block;\n",
       "  width: 100%;\n",
       "  margin-bottom: 0;\n",
       "  padding: 0.5em;\n",
       "  box-sizing: border-box;\n",
       "  text-align: center;\n",
       "}\n",
       "\n",
       "#sk-container-id-5 label.sk-toggleable__label-arrow:before {\n",
       "  /* Arrow on the left of the label */\n",
       "  content: \"▸\";\n",
       "  float: left;\n",
       "  margin-right: 0.25em;\n",
       "  color: var(--sklearn-color-icon);\n",
       "}\n",
       "\n",
       "#sk-container-id-5 label.sk-toggleable__label-arrow:hover:before {\n",
       "  color: var(--sklearn-color-text);\n",
       "}\n",
       "\n",
       "/* Toggleable content - dropdown */\n",
       "\n",
       "#sk-container-id-5 div.sk-toggleable__content {\n",
       "  max-height: 0;\n",
       "  max-width: 0;\n",
       "  overflow: hidden;\n",
       "  text-align: left;\n",
       "  /* unfitted */\n",
       "  background-color: var(--sklearn-color-unfitted-level-0);\n",
       "}\n",
       "\n",
       "#sk-container-id-5 div.sk-toggleable__content.fitted {\n",
       "  /* fitted */\n",
       "  background-color: var(--sklearn-color-fitted-level-0);\n",
       "}\n",
       "\n",
       "#sk-container-id-5 div.sk-toggleable__content pre {\n",
       "  margin: 0.2em;\n",
       "  border-radius: 0.25em;\n",
       "  color: var(--sklearn-color-text);\n",
       "  /* unfitted */\n",
       "  background-color: var(--sklearn-color-unfitted-level-0);\n",
       "}\n",
       "\n",
       "#sk-container-id-5 div.sk-toggleable__content.fitted pre {\n",
       "  /* unfitted */\n",
       "  background-color: var(--sklearn-color-fitted-level-0);\n",
       "}\n",
       "\n",
       "#sk-container-id-5 input.sk-toggleable__control:checked~div.sk-toggleable__content {\n",
       "  /* Expand drop-down */\n",
       "  max-height: 200px;\n",
       "  max-width: 100%;\n",
       "  overflow: auto;\n",
       "}\n",
       "\n",
       "#sk-container-id-5 input.sk-toggleable__control:checked~label.sk-toggleable__label-arrow:before {\n",
       "  content: \"▾\";\n",
       "}\n",
       "\n",
       "/* Pipeline/ColumnTransformer-specific style */\n",
       "\n",
       "#sk-container-id-5 div.sk-label input.sk-toggleable__control:checked~label.sk-toggleable__label {\n",
       "  color: var(--sklearn-color-text);\n",
       "  background-color: var(--sklearn-color-unfitted-level-2);\n",
       "}\n",
       "\n",
       "#sk-container-id-5 div.sk-label.fitted input.sk-toggleable__control:checked~label.sk-toggleable__label {\n",
       "  background-color: var(--sklearn-color-fitted-level-2);\n",
       "}\n",
       "\n",
       "/* Estimator-specific style */\n",
       "\n",
       "/* Colorize estimator box */\n",
       "#sk-container-id-5 div.sk-estimator input.sk-toggleable__control:checked~label.sk-toggleable__label {\n",
       "  /* unfitted */\n",
       "  background-color: var(--sklearn-color-unfitted-level-2);\n",
       "}\n",
       "\n",
       "#sk-container-id-5 div.sk-estimator.fitted input.sk-toggleable__control:checked~label.sk-toggleable__label {\n",
       "  /* fitted */\n",
       "  background-color: var(--sklearn-color-fitted-level-2);\n",
       "}\n",
       "\n",
       "#sk-container-id-5 div.sk-label label.sk-toggleable__label,\n",
       "#sk-container-id-5 div.sk-label label {\n",
       "  /* The background is the default theme color */\n",
       "  color: var(--sklearn-color-text-on-default-background);\n",
       "}\n",
       "\n",
       "/* On hover, darken the color of the background */\n",
       "#sk-container-id-5 div.sk-label:hover label.sk-toggleable__label {\n",
       "  color: var(--sklearn-color-text);\n",
       "  background-color: var(--sklearn-color-unfitted-level-2);\n",
       "}\n",
       "\n",
       "/* Label box, darken color on hover, fitted */\n",
       "#sk-container-id-5 div.sk-label.fitted:hover label.sk-toggleable__label.fitted {\n",
       "  color: var(--sklearn-color-text);\n",
       "  background-color: var(--sklearn-color-fitted-level-2);\n",
       "}\n",
       "\n",
       "/* Estimator label */\n",
       "\n",
       "#sk-container-id-5 div.sk-label label {\n",
       "  font-family: monospace;\n",
       "  font-weight: bold;\n",
       "  display: inline-block;\n",
       "  line-height: 1.2em;\n",
       "}\n",
       "\n",
       "#sk-container-id-5 div.sk-label-container {\n",
       "  text-align: center;\n",
       "}\n",
       "\n",
       "/* Estimator-specific */\n",
       "#sk-container-id-5 div.sk-estimator {\n",
       "  font-family: monospace;\n",
       "  border: 1px dotted var(--sklearn-color-border-box);\n",
       "  border-radius: 0.25em;\n",
       "  box-sizing: border-box;\n",
       "  margin-bottom: 0.5em;\n",
       "  /* unfitted */\n",
       "  background-color: var(--sklearn-color-unfitted-level-0);\n",
       "}\n",
       "\n",
       "#sk-container-id-5 div.sk-estimator.fitted {\n",
       "  /* fitted */\n",
       "  background-color: var(--sklearn-color-fitted-level-0);\n",
       "}\n",
       "\n",
       "/* on hover */\n",
       "#sk-container-id-5 div.sk-estimator:hover {\n",
       "  /* unfitted */\n",
       "  background-color: var(--sklearn-color-unfitted-level-2);\n",
       "}\n",
       "\n",
       "#sk-container-id-5 div.sk-estimator.fitted:hover {\n",
       "  /* fitted */\n",
       "  background-color: var(--sklearn-color-fitted-level-2);\n",
       "}\n",
       "\n",
       "/* Specification for estimator info (e.g. \"i\" and \"?\") */\n",
       "\n",
       "/* Common style for \"i\" and \"?\" */\n",
       "\n",
       ".sk-estimator-doc-link,\n",
       "a:link.sk-estimator-doc-link,\n",
       "a:visited.sk-estimator-doc-link {\n",
       "  float: right;\n",
       "  font-size: smaller;\n",
       "  line-height: 1em;\n",
       "  font-family: monospace;\n",
       "  background-color: var(--sklearn-color-background);\n",
       "  border-radius: 1em;\n",
       "  height: 1em;\n",
       "  width: 1em;\n",
       "  text-decoration: none !important;\n",
       "  margin-left: 1ex;\n",
       "  /* unfitted */\n",
       "  border: var(--sklearn-color-unfitted-level-1) 1pt solid;\n",
       "  color: var(--sklearn-color-unfitted-level-1);\n",
       "}\n",
       "\n",
       ".sk-estimator-doc-link.fitted,\n",
       "a:link.sk-estimator-doc-link.fitted,\n",
       "a:visited.sk-estimator-doc-link.fitted {\n",
       "  /* fitted */\n",
       "  border: var(--sklearn-color-fitted-level-1) 1pt solid;\n",
       "  color: var(--sklearn-color-fitted-level-1);\n",
       "}\n",
       "\n",
       "/* On hover */\n",
       "div.sk-estimator:hover .sk-estimator-doc-link:hover,\n",
       ".sk-estimator-doc-link:hover,\n",
       "div.sk-label-container:hover .sk-estimator-doc-link:hover,\n",
       ".sk-estimator-doc-link:hover {\n",
       "  /* unfitted */\n",
       "  background-color: var(--sklearn-color-unfitted-level-3);\n",
       "  color: var(--sklearn-color-background);\n",
       "  text-decoration: none;\n",
       "}\n",
       "\n",
       "div.sk-estimator.fitted:hover .sk-estimator-doc-link.fitted:hover,\n",
       ".sk-estimator-doc-link.fitted:hover,\n",
       "div.sk-label-container:hover .sk-estimator-doc-link.fitted:hover,\n",
       ".sk-estimator-doc-link.fitted:hover {\n",
       "  /* fitted */\n",
       "  background-color: var(--sklearn-color-fitted-level-3);\n",
       "  color: var(--sklearn-color-background);\n",
       "  text-decoration: none;\n",
       "}\n",
       "\n",
       "/* Span, style for the box shown on hovering the info icon */\n",
       ".sk-estimator-doc-link span {\n",
       "  display: none;\n",
       "  z-index: 9999;\n",
       "  position: relative;\n",
       "  font-weight: normal;\n",
       "  right: .2ex;\n",
       "  padding: .5ex;\n",
       "  margin: .5ex;\n",
       "  width: min-content;\n",
       "  min-width: 20ex;\n",
       "  max-width: 50ex;\n",
       "  color: var(--sklearn-color-text);\n",
       "  box-shadow: 2pt 2pt 4pt #999;\n",
       "  /* unfitted */\n",
       "  background: var(--sklearn-color-unfitted-level-0);\n",
       "  border: .5pt solid var(--sklearn-color-unfitted-level-3);\n",
       "}\n",
       "\n",
       ".sk-estimator-doc-link.fitted span {\n",
       "  /* fitted */\n",
       "  background: var(--sklearn-color-fitted-level-0);\n",
       "  border: var(--sklearn-color-fitted-level-3);\n",
       "}\n",
       "\n",
       ".sk-estimator-doc-link:hover span {\n",
       "  display: block;\n",
       "}\n",
       "\n",
       "/* \"?\"-specific style due to the `<a>` HTML tag */\n",
       "\n",
       "#sk-container-id-5 a.estimator_doc_link {\n",
       "  float: right;\n",
       "  font-size: 1rem;\n",
       "  line-height: 1em;\n",
       "  font-family: monospace;\n",
       "  background-color: var(--sklearn-color-background);\n",
       "  border-radius: 1rem;\n",
       "  height: 1rem;\n",
       "  width: 1rem;\n",
       "  text-decoration: none;\n",
       "  /* unfitted */\n",
       "  color: var(--sklearn-color-unfitted-level-1);\n",
       "  border: var(--sklearn-color-unfitted-level-1) 1pt solid;\n",
       "}\n",
       "\n",
       "#sk-container-id-5 a.estimator_doc_link.fitted {\n",
       "  /* fitted */\n",
       "  border: var(--sklearn-color-fitted-level-1) 1pt solid;\n",
       "  color: var(--sklearn-color-fitted-level-1);\n",
       "}\n",
       "\n",
       "/* On hover */\n",
       "#sk-container-id-5 a.estimator_doc_link:hover {\n",
       "  /* unfitted */\n",
       "  background-color: var(--sklearn-color-unfitted-level-3);\n",
       "  color: var(--sklearn-color-background);\n",
       "  text-decoration: none;\n",
       "}\n",
       "\n",
       "#sk-container-id-5 a.estimator_doc_link.fitted:hover {\n",
       "  /* fitted */\n",
       "  background-color: var(--sklearn-color-fitted-level-3);\n",
       "}\n",
       "</style><div id=\"sk-container-id-5\" class=\"sk-top-container\"><div class=\"sk-text-repr-fallback\"><pre>DecisionTreeClassifier(max_depth=6, random_state=1024)</pre><b>In a Jupyter environment, please rerun this cell to show the HTML representation or trust the notebook. <br />On GitHub, the HTML representation is unable to render, please try loading this page with nbviewer.org.</b></div><div class=\"sk-container\" hidden><div class=\"sk-item\"><div class=\"sk-estimator fitted sk-toggleable\"><input class=\"sk-toggleable__control sk-hidden--visually\" id=\"sk-estimator-id-5\" type=\"checkbox\" checked><label for=\"sk-estimator-id-5\" class=\"sk-toggleable__label fitted sk-toggleable__label-arrow fitted\">&nbsp;&nbsp;DecisionTreeClassifier<a class=\"sk-estimator-doc-link fitted\" rel=\"noreferrer\" target=\"_blank\" href=\"https://scikit-learn.org/1.5/modules/generated/sklearn.tree.DecisionTreeClassifier.html\">?<span>Documentation for DecisionTreeClassifier</span></a><span class=\"sk-estimator-doc-link fitted\">i<span>Fitted</span></span></label><div class=\"sk-toggleable__content fitted\"><pre>DecisionTreeClassifier(max_depth=6, random_state=1024)</pre></div> </div></div></div></div>"
      ],
      "text/plain": [
       "DecisionTreeClassifier(max_depth=6, random_state=1024)"
      ]
     },
     "execution_count": 99,
     "metadata": {},
     "output_type": "execute_result"
    }
   ],
   "source": [
    "# Train baseline decision tree model\n",
    "\n",
    "best_depth = 6\n",
    "# Train baseline decision tree model\n",
    "clf_rf = RandomForestClassifier(250, min_samples_leaf=3, criterion=\"gini\",random_state=seed,max_depth=best_depth)\n",
    "clf_rf.fit(X_train, y_train)\n",
    "\n",
    "\n",
    "clf = DecisionTreeClassifier(max_depth=best_depth,random_state=seed)\n",
    "clf.fit(X_train, y_train)"
   ]
  },
  {
   "cell_type": "code",
   "execution_count": 100,
   "metadata": {},
   "outputs": [
    {
     "data": {
      "text/plain": [
       "6"
      ]
     },
     "execution_count": 100,
     "metadata": {},
     "output_type": "execute_result"
    }
   ],
   "source": [
    "clf.tree_.max_depth"
   ]
  },
  {
   "cell_type": "code",
   "execution_count": 101,
   "metadata": {},
   "outputs": [
    {
     "data": {
      "text/plain": [
       "6"
      ]
     },
     "execution_count": 101,
     "metadata": {},
     "output_type": "execute_result"
    }
   ],
   "source": [
    "clf_rf.estimators_[0].tree_.max_depth"
   ]
  },
  {
   "cell_type": "code",
   "execution_count": 102,
   "metadata": {},
   "outputs": [
    {
     "name": "stdout",
     "output_type": "stream",
     "text": [
      "Training accuracy for our baseline (using all pixel features): 60.95%\n",
      "Validation accuracy for our baseline (using all pixel features): 60.91%\n",
      "Validation accuracy for our teacher rf model (using all pixel features): 61.17%\n"
     ]
    }
   ],
   "source": [
    "\n",
    "rf_preds_baseline = clf_rf.predict(X_test)\n",
    "train_preds_baseline = clf.predict(X_train)\n",
    "val_preds_baseline = clf.predict(X_test)\n",
    "acc_baseline_train = acc(train_preds_baseline, y_train)\n",
    "acc_baseline_val = acc(val_preds_baseline, y_test)\n",
    "acc_baseline_rf = acc(rf_preds_baseline, y_test)\n",
    "print(f'Training accuracy for our baseline (using all pixel features): {acc_baseline_train}%')\n",
    "print(f'Validation accuracy for our baseline (using all pixel features): {acc_baseline_val}%')\n",
    "print(f'Validation accuracy for our teacher rf model (using all pixel features): {acc_baseline_rf}%')"
   ]
  },
  {
   "cell_type": "code",
   "execution_count": 103,
   "metadata": {},
   "outputs": [
    {
     "data": {
      "text/plain": [
       "array([ 5,  6,  3,  4,  0,  1, -2, -2,  2, -2, -2,  2,  1, -2, -2,  2, -2,\n",
       "       -2,  1,  0,  2, -2, -2,  2, -2, -2,  0,  2, -2, -2,  3, -2, -2,  3,\n",
       "        4,  2,  2, -2, -2,  2, -2, -2,  2,  2, -2, -2,  0, -2, -2,  1,  0,\n",
       "        2, -2, -2,  1, -2, -2,  4,  3, -2, -2,  4, -2, -2,  5,  3,  6,  1,\n",
       "        2, -2, -2,  4, -2, -2,  2,  4, -2, -2,  1, -2, -2,  4,  2,  0, -2,\n",
       "       -2,  1, -2, -2,  1,  2, -2, -2,  1, -2, -2,  3,  5,  4,  2, -2, -2,\n",
       "        2, -2, -2,  5,  2, -2, -2,  4, -2, -2,  4,  2,  6, -2, -2,  1, -2,\n",
       "       -2,  0,  3, -2, -2,  5, -2, -2], dtype=int64)"
      ]
     },
     "execution_count": 103,
     "metadata": {},
     "output_type": "execute_result"
    }
   ],
   "source": [
    "clf.tree_.feature"
   ]
  },
  {
   "cell_type": "code",
   "execution_count": 50,
   "metadata": {},
   "outputs": [
    {
     "name": "stdout",
     "output_type": "stream",
     "text": [
      "|--- feature_23 <= 0.67\n",
      "|   |--- feature_27 <= 0.73\n",
      "|   |   |--- feature_22 <= 0.60\n",
      "|   |   |   |--- feature_13 <= 0.77\n",
      "|   |   |   |   |--- class: 1\n",
      "|   |   |   |--- feature_13 >  0.77\n",
      "|   |   |   |   |--- class: 1\n",
      "|   |   |--- feature_22 >  0.60\n",
      "|   |   |   |--- feature_24 <= 0.58\n",
      "|   |   |   |   |--- class: 1\n",
      "|   |   |   |--- feature_24 >  0.58\n",
      "|   |   |   |   |--- class: 0\n",
      "|   |--- feature_27 >  0.73\n",
      "|   |   |--- feature_21 <= 0.42\n",
      "|   |   |   |--- class: 1\n",
      "|   |   |--- feature_21 >  0.42\n",
      "|   |   |   |--- class: 0\n",
      "|--- feature_23 >  0.67\n",
      "|   |--- feature_26 <= 0.48\n",
      "|   |   |--- feature_7 <= 0.40\n",
      "|   |   |   |--- class: 0\n",
      "|   |   |--- feature_7 >  0.40\n",
      "|   |   |   |--- class: 1\n",
      "|   |--- feature_26 >  0.48\n",
      "|   |   |--- feature_11 <= 0.01\n",
      "|   |   |   |--- class: 1\n",
      "|   |   |--- feature_11 >  0.01\n",
      "|   |   |   |--- class: 0\n",
      "\n"
     ]
    }
   ],
   "source": [
    "test_rep = export_text(clf)\n",
    "print(test_rep)"
   ]
  },
  {
   "cell_type": "code",
   "execution_count": 51,
   "metadata": {},
   "outputs": [
    {
     "data": {
      "image/png": "[encoded data removed]",
      "text/plain": [
       "<Figure size 1280x960 with 1 Axes>"
      ]
     },
     "metadata": {},
     "output_type": "display_data"
    }
   ],
   "source": [
    "fig = plt.figure(dpi=200)\n",
    "_ = plot_tree(clf,feature_names=X.columns.values.tolist(),class_names=['0', '1','2'],rounded=True,filled=True)\n",
    "\n",
    "# plt.savefig('tree_plot.png',transparent=True)"
   ]
  },
  {
   "cell_type": "code",
   "execution_count": null,
   "metadata": {},
   "outputs": [],
   "source": [
    "#soft_label = produce_soft_labels(X_train,y_train, round_num=1, fold_num=2, k=1, model='rf',tree_nums=300,min_samples_leaf=3)\n",
    "# soft_label = np.array(soft_label).reshape(-1,1)"
   ]
  },
  {
   "cell_type": "code",
   "execution_count": null,
   "metadata": {},
   "outputs": [],
   "source": [
    "#soft_label"
   ]
  },
  {
   "cell_type": "code",
   "execution_count": 104,
   "metadata": {},
   "outputs": [],
   "source": [
    "def tree_path(clf):\n",
    "    n_nodes = clf.tree_.node_count\n",
    "    children_left = clf.tree_.children_left\n",
    "    children_right = clf.tree_.children_right\n",
    "    feature = clf.tree_.feature\n",
    "    # threshold = clf.tree_.threshold\n",
    "    max_depth = clf.tree_.max_depth\n",
    "\n",
    "    node_depth = np.zeros(shape=n_nodes, dtype=np.int64)\n",
    "\n",
    "\n",
    "\n",
    "    is_leaves = np.zeros(shape=n_nodes, dtype=bool)\n",
    "    node_path = np.zeros(shape=[n_nodes,max_depth+1], dtype=np.int64)\n",
    "    left_right = np.zeros(shape=[n_nodes,max_depth+1], dtype=np.int64)\n",
    "\n",
    "    stack = [(0, 0)]  # start with the root node id (0) and its depth (0)\n",
    "    while len(stack) > 0:\n",
    "        # `pop` ensures each node is only visited once\n",
    "        node_id, depth = stack.pop()\n",
    "        node_depth[node_id] = depth\n",
    "\n",
    "        # If the left and right child of a node is not the same we have a split\n",
    "        # node\n",
    "        is_split_node = children_left[node_id] != children_right[node_id]\n",
    "        # If a split node, append left and right children and depth to `stack`\n",
    "        # so we can loop through them\n",
    "        if is_split_node:\n",
    "            stack.append((children_left[node_id], depth + 1))\n",
    "            stack.append((children_right[node_id], depth + 1))\n",
    "        else:\n",
    "            is_leaves[node_id] = True\n",
    "\n",
    "    depth = 0\n",
    "    for i in range(n_nodes):\n",
    "        previous_depth = depth\n",
    "        depth = node_depth[i]\n",
    "        \n",
    "        if i!=0:\n",
    "            node_path[i, :depth] = node_path[i-1, :depth]\n",
    "            left_right[i, :depth] = left_right[i-1, :depth]\n",
    "        node_path[i, depth] = i\n",
    "        if depth>previous_depth:\n",
    "            left_right[i, depth] = 0\n",
    "        else:\n",
    "            left_right[i, depth] = 1\n",
    "\n",
    "        \n",
    "    node_path_left_right = np.concatenate((node_path[:,:-1,np.newaxis],left_right[:,1:,np.newaxis]),axis = 2) \n",
    "    node_path_left_right = node_path_left_right[feature==-2]\n",
    "    node_path = node_path_left_right[:,:,0]\n",
    "    return node_depth, node_path_left_right"
   ]
  },
  {
   "cell_type": "code",
   "execution_count": 105,
   "metadata": {},
   "outputs": [],
   "source": [
    "node_depth_forest = []\n",
    "node_path_forest = []\n",
    "forest_index = []\n",
    "forest_threshold = []\n",
    "forest_leaf_value = []\n",
    "node_accu = 0\n",
    "for i in range(250):\n",
    "    node_depth_temp,node_path_temp = tree_path(clf_rf.estimators_[i])\n",
    "    node_path_temp[:,:,0] = node_path_temp[:,:,0] + node_accu\n",
    "    node_depth_forest.extend(node_depth_temp)\n",
    "    node_path_forest.extend(node_path_temp)\n",
    "    # node_path_forest = np.concatenate((node_path_forest,node_path_temp),0) \n",
    "    forest_index.extend(clf_rf.estimators_[i].tree_.feature)\n",
    "    forest_threshold.extend(clf_rf.estimators_[i].tree_.threshold)\n",
    "    forest_leaf_value.extend(clf_rf.estimators_[i].tree_.value)\n",
    "    node_accu = node_accu + len(node_depth_temp)"
   ]
  },
  {
   "cell_type": "code",
   "execution_count": 106,
   "metadata": {},
   "outputs": [],
   "source": [
    "leaf_index = np.array(forest_index)==-2\n",
    "forest_node_path = np.array(node_path_forest)[:,:,0]\n",
    "forest_leaf_depth = np.array(node_depth_forest)[leaf_index]\n"
   ]
  },
  {
   "cell_type": "code",
   "execution_count": 107,
   "metadata": {},
   "outputs": [],
   "source": [
    "class SDT(nn.Module):\n",
    "\n",
    "    def __init__(self, clf,node_depth,node_path_left_right, args):\n",
    "        super(SDT, self).__init__()\n",
    "        self.args = args\n",
    "        self.clf = clf\n",
    "        self.device = torch.device(\"cuda\" if self.args['use_cuda'] else \"cpu\")\n",
    "        self.leaf_num = clf.tree_.n_leaves\n",
    "        self.leaf_index = clf.tree_.feature==-2\n",
    "        self.node_depth = node_depth\n",
    "        self.leaf_depth = node_depth[self.leaf_index]\n",
    "        self.node_path = node_path_left_right[:,:,0]\n",
    "        self.node_path_left_right = node_path_left_right\n",
    "\n",
    "        self.node_gain = nn.Parameter(data=torch.ones(node_path_left_right[:,:,0].shape)*(-10),requires_grad=False)\n",
    "        self.node_threshold = nn.Parameter(torch.tensor(clf.tree_.threshold[self.node_path],dtype=torch.float),requires_grad=True)\n",
    "        self.register_parameter('node_gain',self.node_gain)\n",
    "        self.register_parameter('node_threshold',self.node_threshold)\n",
    "\n",
    "        self.leaf_nodes = nn.Parameter(data = torch.tensor(clf.tree_.value[self.leaf_index,0,:]), requires_grad = True)\n",
    "        self.register_parameter('leaf_node',self.leaf_nodes)\n",
    "        \n",
    "        self.dropout = nn.Dropout(0.25)\n",
    "\n",
    "\n",
    "    def forward(self, X, is_training_data=False):\n",
    "\n",
    "        _mu = self._forward(X)\n",
    "\n",
    "        if is_training_data:\n",
    "            output = torch.matmul(_mu, torch.softmax(self.leaf_nodes.to(self.device,torch.float),dim=1))\n",
    "            # output = torch.softmax(output,dim=1)\n",
    "            # output = torch.softmax(self.leaf_nodes[torch.max(_mu,1).indices,:].to(self.device),dim=1)  \n",
    "            return torch.log(output+1e-18)\n",
    "        else:\n",
    "            # output = torch.matmul(_mu, torch.softmax(self.leaf_nodes.to(self.device),dim=1))  \n",
    "            output = torch.softmax(self.leaf_nodes[torch.max(_mu,1).indices,:].to(self.device),dim=1)\n",
    "            # print(output.shape)\n",
    "            return torch.log(output+1e-18)\n",
    "\n",
    "\n",
    "    def _forward(self, X):\n",
    "        \"\"\"Implementation on the data forwarding process.\"\"\"\n",
    "        \n",
    "        batch_size = X.size()[0]\n",
    "        X = X[:,self.clf.tree_.feature[self.node_path]]\n",
    "        gain = self.node_gain.to(self.device)\n",
    "        # print(X.shape)\n",
    "        # print(self.node_threshold.shape)\n",
    "        X = (X  - self.node_threshold.to(self.device)) * gain\n",
    "        X = self.dropout(X)\n",
    "        path_prob = torch.sigmoid(X)\n",
    "        path_prob = torch.unsqueeze(path_prob, dim=3)\n",
    "        path_prob = torch.cat((path_prob, 1 - path_prob), dim=3)\n",
    "        _mu = X.data.new(batch_size, self.leaf_num).fill_(1.0)\n",
    "\n",
    "        for layer_idx in range(1, self.args['depth']+1):\n",
    "            select_leaf = self.leaf_depth==layer_idx\n",
    "            if sum(select_leaf) > 0:\n",
    "                mu_temp = path_prob[:,select_leaf,:layer_idx,:]\n",
    "                mu_temp_index = torch.argwhere(mu_temp[0,:,:,0])\n",
    "                mu_temp = mu_temp[:,mu_temp_index[:,0].reshape(mu_temp[0,:,:,0].shape),mu_temp_index[:,1].reshape(mu_temp[0,:,:,0].shape),node_path_left_right[select_leaf,:layer_idx,1]]\n",
    "                _mu[:,select_leaf] = torch.prod(mu_temp,-1)\n",
    "\n",
    "\n",
    "        return _mu\n",
    "\n",
    "    def _validate_parameters(self):\n",
    "\n",
    "        if not self.depth > 0:\n",
    "            msg = (\"The tree depth should be strictly positive, but got {}\"\n",
    "                   \"instead.\")\n",
    "            raise ValueError(msg.format(self.depth))\n",
    "\n",
    "        if not self.lamda >= 0:\n",
    "            msg = (\n",
    "                \"The coefficient of the regularization term should not be\"\n",
    "                \" negative, but got {} instead.\"\n",
    "            )\n",
    "            raise ValueError(msg.format(self.lamda))"
   ]
  },
  {
   "cell_type": "code",
   "execution_count": 108,
   "metadata": {},
   "outputs": [],
   "source": [
    "class SRF(nn.Module):\n",
    "\n",
    "    def __init__(self, forest, args):\n",
    "        super(SRF, self).__init__()\n",
    "        self.args = args\n",
    "        self.forest = forest\n",
    "        self.device = torch.device(\"cuda:0\" if self.args['use_cuda'] else \"cpu\")\n",
    "        \n",
    "\n",
    "        node_depth_forest = []\n",
    "        node_path_forest = []\n",
    "        forest_index = []\n",
    "        forest_threshold = []\n",
    "        forest_leaf_value = []\n",
    "        node_accu = 0\n",
    "        for i in range(250):\n",
    "            node_depth_temp,node_path_temp = tree_path(self.forest.estimators_[i])\n",
    "            node_path_temp[:,:,0] = node_path_temp[:,:,0] + node_accu\n",
    "            node_depth_forest.extend(node_depth_temp)\n",
    "            node_path_forest.extend(node_path_temp) \n",
    "            forest_index.extend(self.forest.estimators_[i].tree_.feature)\n",
    "            forest_threshold.extend(self.forest.estimators_[i].tree_.threshold)\n",
    "            forest_leaf_value.extend(self.forest.estimators_[i].tree_.value)\n",
    "            node_accu = node_accu + len(node_depth_temp)\n",
    "        self.feature_index = np.array(forest_index)\n",
    "        self.leaf_index = self.feature_index==-2\n",
    "        forest_node_path = np.array(node_path_forest)[:,:,0]\n",
    "        forest_leaf_depth = np.array(node_depth_forest)[self.leaf_index]\n",
    "\n",
    "        \n",
    "        \n",
    "\n",
    "        self.node_depth = np.array(node_depth_forest)\n",
    "        self.leaf_depth = forest_leaf_depth\n",
    "        self.node_path = forest_node_path\n",
    "        self.node_path_left_right = np.array(node_path_forest)\n",
    "        self.leaf_num = self.node_path_left_right.shape[0]\n",
    "\n",
    "\n",
    "\n",
    "        self.node_gain = nn.Parameter(data=torch.ones(forest_node_path.shape)*(-10),requires_grad=False)\n",
    "\n",
    "        self.node_threshold = nn.Parameter(torch.tensor(np.array(forest_threshold)[forest_node_path],dtype=torch.float),requires_grad=True)\n",
    "\n",
    "        \n",
    "\n",
    "        self.register_parameter('node_gain',self.node_gain)\n",
    "        self.register_parameter('node_threshold',self.node_threshold)\n",
    "\n",
    "        self.leaf_nodes = nn.Parameter(data = torch.tensor(np.array(forest_leaf_value)[self.leaf_index,0,:]), requires_grad = True)\n",
    "        self.register_parameter('leaf_node',self.leaf_nodes)\n",
    "        \n",
    "        self.dropout = nn.Dropout(0.25)\n",
    "\n",
    "\n",
    "    def forward(self, X, is_training_data=False):\n",
    "\n",
    "        _mu = self._forward(X)\n",
    "\n",
    "        if is_training_data:\n",
    "            output = torch.matmul(_mu, torch.softmax(self.leaf_nodes.to(self.device,torch.float),dim=1))\n",
    "            # output = torch.softmax(output,dim=1)\n",
    "            # output = torch.softmax(self.leaf_nodes[torch.max(_mu,1).indices,:].to(self.device),dim=1)  \n",
    "            return torch.log(output+1e-18)\n",
    "        else:\n",
    "            # output = torch.matmul(_mu, torch.softmax(self.leaf_nodes.to(self.device),dim=1))  \n",
    "            output = torch.matmul(_mu.to(self.device,torch.float), torch.softmax(self.leaf_nodes.to(self.device,torch.float),dim=1))\n",
    "            # output = torch.softmax(self.leaf_nodes[torch.max(_mu,1).indices,:].to(self.device),dim=1)\n",
    "            # print(output.shape)\n",
    "            return torch.log(output+1e-18)\n",
    "\n",
    "\n",
    "    def _forward(self, X):\n",
    "        \"\"\"Implementation on the data forwarding process.\"\"\"\n",
    "        \n",
    "        batch_size = X.size()[0]\n",
    "        # X = X[:,self.clf.tree_.feature[self.node_path]]\n",
    "        X = X[:,self.feature_index[self.node_path] ]\n",
    "        gain = self.node_gain.to(self.device)\n",
    "        # print(X.shape)\n",
    "        # print(self.node_threshold.shape)\n",
    "        X = (X  - self.node_threshold.to(self.device)) * gain\n",
    "        X = self.dropout(X)\n",
    "        path_prob = torch.sigmoid(X)\n",
    "        path_prob = torch.unsqueeze(path_prob, dim=3)\n",
    "        path_prob = torch.cat((path_prob, 1 - path_prob), dim=3)\n",
    "        _mu = X.data.new(batch_size, self.leaf_num).fill_(1.0)\n",
    "\n",
    "        for layer_idx in range(1, self.args['depth']+1):\n",
    "            select_leaf = self.leaf_depth==layer_idx\n",
    "            if sum(select_leaf) > 0:\n",
    "                mu_temp = path_prob[:,select_leaf,:layer_idx,:]\n",
    "                mu_temp_index = torch.argwhere(mu_temp[0,:,:,0])\n",
    "                mu_temp = mu_temp[:,mu_temp_index[:,0].reshape(mu_temp[0,:,:,0].shape),mu_temp_index[:,1].reshape(mu_temp[0,:,:,0].shape),self.node_path_left_right[select_leaf,:layer_idx,1]]\n",
    "                _mu[:,select_leaf] = torch.prod(mu_temp,-1)\n",
    "\n",
    "\n",
    "        return _mu\n",
    "\n",
    "    def _validate_parameters(self):\n",
    "\n",
    "        if not self.depth > 0:\n",
    "            msg = (\"The tree depth should be strictly positive, but got {}\"\n",
    "                   \"instead.\")\n",
    "            raise ValueError(msg.format(self.depth))\n",
    "\n",
    "        if not self.lamda >= 0:\n",
    "            msg = (\n",
    "                \"The coefficient of the regularization term should not be\"\n",
    "                \" negative, but got {} instead.\"\n",
    "            )\n",
    "            raise ValueError(msg.format(self.lamda))"
   ]
  },
  {
   "cell_type": "code",
   "execution_count": 109,
   "metadata": {},
   "outputs": [],
   "source": [
    "\n",
    "class make_dataset(Dataset):\n",
    "    def __init__(self, X, y):\n",
    "        self.X_data = X\n",
    "        self.y_data = y\n",
    "\n",
    "    def __len__(self):\n",
    "        return len(self.y_data)\n",
    "\n",
    "    def __getitem__(self, idx):\n",
    "        Y = self.y_data[idx,:]\n",
    "        X = self.X_data[idx,:]\n",
    "        return X, Y\n",
    "# Y_train = to_categorical(y_train)\n",
    "# Y_test = to_categorical(y_test)\n",
    "# X_train = np.array(X_train)\n",
    "# X_test = np.array(X_test)\n",
    "y_train = to_categorical(y_train)\n",
    "y_test = to_categorical(y_test)\n",
    "y_val = to_categorical(y_val)\n",
    "X_train = torch.tensor(np.array(X_train),dtype=torch.float32)\n",
    "X_test = torch.tensor(np.array(X_test),dtype=torch.float32)\n",
    "X_val = torch.tensor(np.array(X_val),dtype=torch.float32)\n",
    "# y_train = torch.tensor(y_train)\n",
    "# y_test  = torch.tensor(y_test)\n",
    "# soft_label = y_train\n",
    "\n",
    "\n",
    "\n",
    "\n"
   ]
  },
  {
   "cell_type": "code",
   "execution_count": 110,
   "metadata": {},
   "outputs": [
    {
     "data": {
      "text/plain": [
       "(14289, 2)"
      ]
     },
     "execution_count": 110,
     "metadata": {},
     "output_type": "execute_result"
    }
   ],
   "source": [
    "y_test.shape"
   ]
  },
  {
   "cell_type": "code",
   "execution_count": 111,
   "metadata": {},
   "outputs": [
    {
     "data": {
      "text/plain": [
       "array([0., 1.], dtype=float32)"
      ]
     },
     "execution_count": 111,
     "metadata": {},
     "output_type": "execute_result"
    }
   ],
   "source": [
    "np.unique(y_test)"
   ]
  },
  {
   "cell_type": "code",
   "execution_count": 120,
   "metadata": {},
   "outputs": [],
   "source": [
    "# Parameters\n",
    "args = {}\n",
    "# args['input_dim'] = 7 * 7    # the number of input dimensions\n",
    "args['output_dim'] = y_test.shape[1]        # the number of outputs (i.e., # classes on MNIST)\n",
    "args['input_dim'] = X.shape[1]    # the number of input dimensions\n",
    "args['depth'] = best_depth            # tree depth\n",
    "args['lamda'] = 1e-5           # coefficient of the regularization term\n",
    "args['lr'] = 1e-3              # learning rate 1e-3\n",
    "args['weight_decaly'] = 5e-5     # weight decay 5e-5\n",
    "args['batch_size'] = 2000       # batch size 20 [0] \n",
    "args['epochs'] = 100           # the number of training epochs\n",
    "args['log_interval'] = 100     # the number of batches to wait before printing logs\n",
    "args['use_cuda'] = True       # whether to use GPU\n",
    "node_depth,node_path_left_right = tree_path(clf)\n",
    "tree = SDT(clf,node_depth,node_path_left_right,args)\n",
    "forest = SRF(clf_rf,args)\n",
    "\n",
    "# optimizer = torch.optim.SGD(tree.parameters(), lr=args['lr'], momentum=0.9)\n",
    "optimizer_tree = torch.optim.Adam(tree.parameters(), lr=args['lr'],weight_decay=args['weight_decaly'])\n",
    "optimizer_forest = torch.optim.Adam(forest.parameters(), lr=args['lr'],weight_decay=args['weight_decaly'])\n",
    "criterion_tree = nn.CrossEntropyLoss()\n",
    "criterion_forest = nn.CrossEntropyLoss()\n",
    "device = torch.device(\"cuda\" if args['use_cuda'] else \"cpu\")\n",
    "tree = tree.to(device)\n",
    "forest = forest.to(device)\n",
    "best_val_acc_tree = 00.0\n",
    "best_val_acc_forest = 00.0\n",
    "\n",
    "testing_acc_list_tree = []\n",
    "testing_acc_list_forest = []\n",
    "training_loss_list = []"
   ]
  },
  {
   "cell_type": "code",
   "execution_count": 121,
   "metadata": {},
   "outputs": [],
   "source": [
    "train_loader = torch.utils.data.DataLoader(\n",
    "        # make_dataset(X = X_train,y = soft_label),\n",
    "        make_dataset(X = X_train,y = y_train),\n",
    "        batch_size=args['batch_size'],\n",
    "        shuffle=True,\n",
    "    )\n",
    "val_loader = torch.utils.data.DataLoader(\n",
    "        make_dataset(X= X_val, y=y_val),\n",
    "        batch_size=50,\n",
    "        shuffle=False,\n",
    "    )\n",
    "test_loader = torch.utils.data.DataLoader(\n",
    "        make_dataset(X= X_test, y=y_test),\n",
    "        batch_size=50,\n",
    "        shuffle=False,\n",
    "    )"
   ]
  },
  {
   "cell_type": "code",
   "execution_count": 118,
   "metadata": {},
   "outputs": [
    {
     "data": {
      "text/plain": [
       "'Diabetes130US'"
      ]
     },
     "execution_count": 118,
     "metadata": {},
     "output_type": "execute_result"
    }
   ],
   "source": [
    "task_name"
   ]
  },
  {
   "cell_type": "code",
   "execution_count": 115,
   "metadata": {},
   "outputs": [
    {
     "data": {
      "text/plain": [
       "60.91"
      ]
     },
     "execution_count": 115,
     "metadata": {},
     "output_type": "execute_result"
    }
   ],
   "source": [
    "acc_baseline_val"
   ]
  },
  {
   "cell_type": "code",
   "execution_count": 122,
   "metadata": {},
   "outputs": [
    {
     "name": "stderr",
     "output_type": "stream",
     "text": [
      "  0%|          | 0/100 [00:00<?, ?it/s]"
     ]
    },
    {
     "name": "stdout",
     "output_type": "stream",
     "text": [
      "Epoch: 00 | Batch: 000 | Loss: 0.67262 | Correct: 1219/2000\n",
      "Epoch: 00 | Batch: 000 | Loss: 0.67457 | Correct: 1248/2000\n",
      "\n",
      "Epoch: 00 | Validation Accuracy: 4213.0/7038 (59.861%) | Historical Best: 0.000%\n",
      "\n",
      "\n",
      "Epoch: 00 | Validation Accuracy: 4253.0/7038 (60.429%) | Historical Best: 0.000%\n",
      "\n",
      "\n",
      "Epoch: 00 | Testing Accuracy: 8714.0/14289 (60.984%) | Best vali acc of tree model: 59.861%\n",
      "\n"
     ]
    },
    {
     "name": "stderr",
     "output_type": "stream",
     "text": [
      "  1%|          | 1/100 [00:07<12:35,  7.63s/it]"
     ]
    },
    {
     "name": "stdout",
     "output_type": "stream",
     "text": [
      "\n",
      "Epoch: 00 | Testing Accuracy: 8729.0/14289 (61.089%) | Best vali acc of forest model: 60.429%\n",
      "\n",
      "Epoch: 01 | Batch: 000 | Loss: 0.67402 | Correct: 1172/2000\n",
      "Epoch: 01 | Batch: 000 | Loss: 0.67677 | Correct: 1181/2000\n",
      "\n",
      "Epoch: 01 | Validation Accuracy: 4223.0/7038 (60.003%) | Historical Best: 59.861%\n",
      "\n",
      "\n",
      "Epoch: 01 | Validation Accuracy: 4256.0/7038 (60.472%) | Historical Best: 60.429%\n",
      "\n",
      "\n",
      "Epoch: 01 | Testing Accuracy: 8723.0/14289 (61.047%) | Best vali acc of tree model: 60.003%\n",
      "\n"
     ]
    },
    {
     "name": "stderr",
     "output_type": "stream",
     "text": [
      "  2%|▏         | 2/100 [00:15<12:43,  7.79s/it]"
     ]
    },
    {
     "name": "stdout",
     "output_type": "stream",
     "text": [
      "\n",
      "Epoch: 01 | Testing Accuracy: 8729.0/14289 (61.089%) | Best vali acc of forest model: 60.472%\n",
      "\n",
      "Epoch: 02 | Batch: 000 | Loss: 0.67019 | Correct: 1188/2000\n",
      "Epoch: 02 | Batch: 000 | Loss: 0.67637 | Correct: 1201/2000\n"
     ]
    },
    {
     "name": "stderr",
     "output_type": "stream",
     "text": [
      "  3%|▎         | 3/100 [00:20<10:49,  6.70s/it]"
     ]
    },
    {
     "name": "stdout",
     "output_type": "stream",
     "text": [
      "\n",
      "Epoch: 02 | Validation Accuracy: 4222.0/7038 (59.989%) | Historical Best: 60.003%\n",
      "\n",
      "\n",
      "Epoch: 02 | Validation Accuracy: 4255.0/7038 (60.458%) | Historical Best: 60.472%\n",
      "\n",
      "Epoch: 03 | Batch: 000 | Loss: 0.66345 | Correct: 1232/2000\n",
      "Epoch: 03 | Batch: 000 | Loss: 0.67205 | Correct: 1236/2000\n",
      "\n",
      "Epoch: 03 | Validation Accuracy: 4228.0/7038 (60.074%) | Historical Best: 60.003%\n",
      "\n",
      "\n",
      "Epoch: 03 | Validation Accuracy: 4253.0/7038 (60.429%) | Historical Best: 60.472%\n",
      "\n"
     ]
    },
    {
     "name": "stderr",
     "output_type": "stream",
     "text": [
      "  4%|▍         | 4/100 [00:26<10:00,  6.26s/it]"
     ]
    },
    {
     "name": "stdout",
     "output_type": "stream",
     "text": [
      "\n",
      "Epoch: 03 | Testing Accuracy: 8725.0/14289 (61.061%) | Best vali acc of tree model: 60.074%\n",
      "\n",
      "Epoch: 04 | Batch: 000 | Loss: 0.66966 | Correct: 1190/2000\n",
      "Epoch: 04 | Batch: 000 | Loss: 0.67618 | Correct: 1194/2000\n",
      "\n",
      "Epoch: 04 | Validation Accuracy: 4235.0/7038 (60.173%) | Historical Best: 60.074%\n",
      "\n",
      "\n",
      "Epoch: 04 | Validation Accuracy: 4252.0/7038 (60.415%) | Historical Best: 60.472%\n",
      "\n"
     ]
    },
    {
     "name": "stderr",
     "output_type": "stream",
     "text": [
      "  5%|▌         | 5/100 [00:32<09:38,  6.09s/it]"
     ]
    },
    {
     "name": "stdout",
     "output_type": "stream",
     "text": [
      "\n",
      "Epoch: 04 | Testing Accuracy: 8728.0/14289 (61.082%) | Best vali acc of tree model: 60.173%\n",
      "\n",
      "Epoch: 05 | Batch: 000 | Loss: 0.67659 | Correct: 1164/2000\n",
      "Epoch: 05 | Batch: 000 | Loss: 0.67914 | Correct: 1164/2000\n"
     ]
    },
    {
     "name": "stderr",
     "output_type": "stream",
     "text": [
      "  6%|▌         | 6/100 [00:37<09:08,  5.83s/it]"
     ]
    },
    {
     "name": "stdout",
     "output_type": "stream",
     "text": [
      "\n",
      "Epoch: 05 | Validation Accuracy: 4233.0/7038 (60.145%) | Historical Best: 60.173%\n",
      "\n",
      "\n",
      "Epoch: 05 | Validation Accuracy: 4248.0/7038 (60.358%) | Historical Best: 60.472%\n",
      "\n",
      "Epoch: 06 | Batch: 000 | Loss: 0.66249 | Correct: 1205/2000\n",
      "Epoch: 06 | Batch: 000 | Loss: 0.67210 | Correct: 1223/2000\n"
     ]
    },
    {
     "name": "stderr",
     "output_type": "stream",
     "text": [
      "  7%|▋         | 7/100 [00:43<08:52,  5.73s/it]"
     ]
    },
    {
     "name": "stdout",
     "output_type": "stream",
     "text": [
      "\n",
      "Epoch: 06 | Validation Accuracy: 4229.0/7038 (60.088%) | Historical Best: 60.173%\n",
      "\n",
      "\n",
      "Epoch: 06 | Validation Accuracy: 4246.0/7038 (60.330%) | Historical Best: 60.472%\n",
      "\n",
      "Epoch: 07 | Batch: 000 | Loss: 0.66523 | Correct: 1205/2000\n",
      "Epoch: 07 | Batch: 000 | Loss: 0.67622 | Correct: 1191/2000\n"
     ]
    },
    {
     "name": "stderr",
     "output_type": "stream",
     "text": [
      "  8%|▊         | 8/100 [00:48<08:35,  5.61s/it]"
     ]
    },
    {
     "name": "stdout",
     "output_type": "stream",
     "text": [
      "\n",
      "Epoch: 07 | Validation Accuracy: 4225.0/7038 (60.031%) | Historical Best: 60.173%\n",
      "\n",
      "\n",
      "Epoch: 07 | Validation Accuracy: 4243.0/7038 (60.287%) | Historical Best: 60.472%\n",
      "\n",
      "Epoch: 08 | Batch: 000 | Loss: 0.65842 | Correct: 1225/2000\n",
      "Epoch: 08 | Batch: 000 | Loss: 0.67162 | Correct: 1253/2000\n"
     ]
    },
    {
     "name": "stderr",
     "output_type": "stream",
     "text": [
      "  9%|▉         | 9/100 [00:53<08:22,  5.53s/it]"
     ]
    },
    {
     "name": "stdout",
     "output_type": "stream",
     "text": [
      "\n",
      "Epoch: 08 | Validation Accuracy: 4232.0/7038 (60.131%) | Historical Best: 60.173%\n",
      "\n",
      "\n",
      "Epoch: 08 | Validation Accuracy: 4243.0/7038 (60.287%) | Historical Best: 60.472%\n",
      "\n",
      "Epoch: 09 | Batch: 000 | Loss: 0.66571 | Correct: 1198/2000\n",
      "Epoch: 09 | Batch: 000 | Loss: 0.67390 | Correct: 1203/2000\n"
     ]
    },
    {
     "name": "stderr",
     "output_type": "stream",
     "text": [
      " 10%|█         | 10/100 [00:59<08:17,  5.53s/it]"
     ]
    },
    {
     "name": "stdout",
     "output_type": "stream",
     "text": [
      "\n",
      "Epoch: 09 | Validation Accuracy: 4232.0/7038 (60.131%) | Historical Best: 60.173%\n",
      "\n",
      "\n",
      "Epoch: 09 | Validation Accuracy: 4245.0/7038 (60.315%) | Historical Best: 60.472%\n",
      "\n",
      "Epoch: 10 | Batch: 000 | Loss: 0.65970 | Correct: 1229/2000\n",
      "Epoch: 10 | Batch: 000 | Loss: 0.67355 | Correct: 1215/2000\n",
      "\n",
      "Epoch: 10 | Validation Accuracy: 4240.0/7038 (60.244%) | Historical Best: 60.173%\n",
      "\n",
      "\n",
      "Epoch: 10 | Validation Accuracy: 4246.0/7038 (60.330%) | Historical Best: 60.472%\n",
      "\n"
     ]
    },
    {
     "name": "stderr",
     "output_type": "stream",
     "text": [
      " 11%|█         | 11/100 [01:04<08:14,  5.55s/it]"
     ]
    },
    {
     "name": "stdout",
     "output_type": "stream",
     "text": [
      "\n",
      "Epoch: 10 | Testing Accuracy: 8716.0/14289 (60.998%) | Best vali acc of tree model: 60.244%\n",
      "\n",
      "Epoch: 11 | Batch: 000 | Loss: 0.66048 | Correct: 1222/2000\n",
      "Epoch: 11 | Batch: 000 | Loss: 0.67347 | Correct: 1219/2000\n",
      "\n",
      "Epoch: 11 | Validation Accuracy: 4244.0/7038 (60.301%) | Historical Best: 60.244%\n",
      "\n",
      "\n",
      "Epoch: 11 | Validation Accuracy: 4247.0/7038 (60.344%) | Historical Best: 60.472%\n",
      "\n"
     ]
    },
    {
     "name": "stderr",
     "output_type": "stream",
     "text": [
      " 12%|█▏        | 12/100 [01:10<08:09,  5.56s/it]"
     ]
    },
    {
     "name": "stdout",
     "output_type": "stream",
     "text": [
      "\n",
      "Epoch: 11 | Testing Accuracy: 8715.0/14289 (60.991%) | Best vali acc of tree model: 60.301%\n",
      "\n",
      "Epoch: 12 | Batch: 000 | Loss: 0.66447 | Correct: 1179/2000\n",
      "Epoch: 12 | Batch: 000 | Loss: 0.67431 | Correct: 1207/2000\n"
     ]
    },
    {
     "name": "stderr",
     "output_type": "stream",
     "text": [
      " 13%|█▎        | 13/100 [01:16<08:03,  5.56s/it]"
     ]
    },
    {
     "name": "stdout",
     "output_type": "stream",
     "text": [
      "\n",
      "Epoch: 12 | Validation Accuracy: 4239.0/7038 (60.230%) | Historical Best: 60.301%\n",
      "\n",
      "\n",
      "Epoch: 12 | Validation Accuracy: 4246.0/7038 (60.330%) | Historical Best: 60.472%\n",
      "\n",
      "Epoch: 13 | Batch: 000 | Loss: 0.67102 | Correct: 1157/2000\n",
      "Epoch: 13 | Batch: 000 | Loss: 0.67771 | Correct: 1176/2000\n"
     ]
    },
    {
     "name": "stderr",
     "output_type": "stream",
     "text": [
      " 14%|█▍        | 14/100 [01:21<07:53,  5.51s/it]"
     ]
    },
    {
     "name": "stdout",
     "output_type": "stream",
     "text": [
      "\n",
      "Epoch: 13 | Validation Accuracy: 4238.0/7038 (60.216%) | Historical Best: 60.301%\n",
      "\n",
      "\n",
      "Epoch: 13 | Validation Accuracy: 4247.0/7038 (60.344%) | Historical Best: 60.472%\n",
      "\n",
      "Epoch: 14 | Batch: 000 | Loss: 0.66682 | Correct: 1176/2000\n",
      "Epoch: 14 | Batch: 000 | Loss: 0.67755 | Correct: 1184/2000\n",
      "\n",
      "Epoch: 14 | Validation Accuracy: 4244.0/7038 (60.301%) | Historical Best: 60.301%\n",
      "\n",
      "\n",
      "Epoch: 14 | Validation Accuracy: 4247.0/7038 (60.344%) | Historical Best: 60.472%\n",
      "\n"
     ]
    },
    {
     "name": "stderr",
     "output_type": "stream",
     "text": [
      " 15%|█▌        | 15/100 [01:27<07:51,  5.54s/it]"
     ]
    },
    {
     "name": "stdout",
     "output_type": "stream",
     "text": [
      "\n",
      "Epoch: 14 | Testing Accuracy: 8721.0/14289 (61.033%) | Best vali acc of tree model: 60.301%\n",
      "\n",
      "Epoch: 15 | Batch: 000 | Loss: 0.66354 | Correct: 1197/2000\n",
      "Epoch: 15 | Batch: 000 | Loss: 0.67419 | Correct: 1216/2000\n",
      "\n",
      "Epoch: 15 | Validation Accuracy: 4248.0/7038 (60.358%) | Historical Best: 60.301%\n",
      "\n",
      "\n",
      "Epoch: 15 | Validation Accuracy: 4247.0/7038 (60.344%) | Historical Best: 60.472%\n",
      "\n"
     ]
    },
    {
     "name": "stderr",
     "output_type": "stream",
     "text": [
      " 16%|█▌        | 16/100 [01:33<07:54,  5.65s/it]"
     ]
    },
    {
     "name": "stdout",
     "output_type": "stream",
     "text": [
      "\n",
      "Epoch: 15 | Testing Accuracy: 8726.0/14289 (61.068%) | Best vali acc of tree model: 60.358%\n",
      "\n",
      "Epoch: 16 | Batch: 000 | Loss: 0.65838 | Correct: 1217/2000\n",
      "Epoch: 16 | Batch: 000 | Loss: 0.67119 | Correct: 1247/2000\n",
      "\n",
      "Epoch: 16 | Validation Accuracy: 4249.0/7038 (60.372%) | Historical Best: 60.358%\n",
      "\n",
      "\n",
      "Epoch: 16 | Validation Accuracy: 4247.0/7038 (60.344%) | Historical Best: 60.472%\n",
      "\n"
     ]
    },
    {
     "name": "stderr",
     "output_type": "stream",
     "text": [
      " 17%|█▋        | 17/100 [01:38<07:48,  5.64s/it]"
     ]
    },
    {
     "name": "stdout",
     "output_type": "stream",
     "text": [
      "\n",
      "Epoch: 16 | Testing Accuracy: 8710.0/14289 (60.956%) | Best vali acc of tree model: 60.372%\n",
      "\n",
      "Epoch: 17 | Batch: 000 | Loss: 0.65991 | Correct: 1222/2000\n",
      "Epoch: 17 | Batch: 000 | Loss: 0.67432 | Correct: 1209/2000\n"
     ]
    },
    {
     "name": "stderr",
     "output_type": "stream",
     "text": [
      " 18%|█▊        | 18/100 [01:44<07:35,  5.56s/it]"
     ]
    },
    {
     "name": "stdout",
     "output_type": "stream",
     "text": [
      "\n",
      "Epoch: 17 | Validation Accuracy: 4243.0/7038 (60.287%) | Historical Best: 60.372%\n",
      "\n",
      "\n",
      "Epoch: 17 | Validation Accuracy: 4248.0/7038 (60.358%) | Historical Best: 60.472%\n",
      "\n",
      "Epoch: 18 | Batch: 000 | Loss: 0.67035 | Correct: 1171/2000\n",
      "Epoch: 18 | Batch: 000 | Loss: 0.67909 | Correct: 1167/2000\n"
     ]
    },
    {
     "name": "stderr",
     "output_type": "stream",
     "text": [
      " 19%|█▉        | 19/100 [01:49<07:29,  5.55s/it]"
     ]
    },
    {
     "name": "stdout",
     "output_type": "stream",
     "text": [
      "\n",
      "Epoch: 18 | Validation Accuracy: 4241.0/7038 (60.259%) | Historical Best: 60.372%\n",
      "\n",
      "\n",
      "Epoch: 18 | Validation Accuracy: 4248.0/7038 (60.358%) | Historical Best: 60.472%\n",
      "\n",
      "Epoch: 19 | Batch: 000 | Loss: 0.66126 | Correct: 1207/2000\n",
      "Epoch: 19 | Batch: 000 | Loss: 0.67478 | Correct: 1199/2000\n"
     ]
    },
    {
     "name": "stderr",
     "output_type": "stream",
     "text": [
      " 20%|██        | 20/100 [01:54<07:19,  5.50s/it]"
     ]
    },
    {
     "name": "stdout",
     "output_type": "stream",
     "text": [
      "\n",
      "Epoch: 19 | Validation Accuracy: 4238.0/7038 (60.216%) | Historical Best: 60.372%\n",
      "\n",
      "\n",
      "Epoch: 19 | Validation Accuracy: 4247.0/7038 (60.344%) | Historical Best: 60.472%\n",
      "\n",
      "Epoch: 20 | Batch: 000 | Loss: 0.65989 | Correct: 1217/2000\n",
      "Epoch: 20 | Batch: 000 | Loss: 0.67379 | Correct: 1219/2000\n"
     ]
    },
    {
     "name": "stderr",
     "output_type": "stream",
     "text": [
      " 21%|██        | 21/100 [02:00<07:12,  5.48s/it]"
     ]
    },
    {
     "name": "stdout",
     "output_type": "stream",
     "text": [
      "\n",
      "Epoch: 20 | Validation Accuracy: 4245.0/7038 (60.315%) | Historical Best: 60.372%\n",
      "\n",
      "\n",
      "Epoch: 20 | Validation Accuracy: 4247.0/7038 (60.344%) | Historical Best: 60.472%\n",
      "\n",
      "Epoch: 21 | Batch: 000 | Loss: 0.65831 | Correct: 1204/2000\n",
      "Epoch: 21 | Batch: 000 | Loss: 0.67378 | Correct: 1208/2000\n"
     ]
    },
    {
     "name": "stderr",
     "output_type": "stream",
     "text": [
      " 22%|██▏       | 22/100 [02:06<07:11,  5.54s/it]"
     ]
    },
    {
     "name": "stdout",
     "output_type": "stream",
     "text": [
      "\n",
      "Epoch: 21 | Validation Accuracy: 4243.0/7038 (60.287%) | Historical Best: 60.372%\n",
      "\n",
      "\n",
      "Epoch: 21 | Validation Accuracy: 4246.0/7038 (60.330%) | Historical Best: 60.472%\n",
      "\n",
      "Epoch: 22 | Batch: 000 | Loss: 0.66727 | Correct: 1181/2000\n",
      "Epoch: 22 | Batch: 000 | Loss: 0.67487 | Correct: 1190/2000\n"
     ]
    },
    {
     "name": "stderr",
     "output_type": "stream",
     "text": [
      " 23%|██▎       | 23/100 [02:11<07:02,  5.48s/it]"
     ]
    },
    {
     "name": "stdout",
     "output_type": "stream",
     "text": [
      "\n",
      "Epoch: 22 | Validation Accuracy: 4240.0/7038 (60.244%) | Historical Best: 60.372%\n",
      "\n",
      "\n",
      "Epoch: 22 | Validation Accuracy: 4246.0/7038 (60.330%) | Historical Best: 60.472%\n",
      "\n",
      "Epoch: 23 | Batch: 000 | Loss: 0.66834 | Correct: 1200/2000\n",
      "Epoch: 23 | Batch: 000 | Loss: 0.67619 | Correct: 1192/2000\n"
     ]
    },
    {
     "name": "stderr",
     "output_type": "stream",
     "text": [
      " 24%|██▍       | 24/100 [02:16<06:53,  5.45s/it]"
     ]
    },
    {
     "name": "stdout",
     "output_type": "stream",
     "text": [
      "\n",
      "Epoch: 23 | Validation Accuracy: 4244.0/7038 (60.301%) | Historical Best: 60.372%\n",
      "\n",
      "\n",
      "Epoch: 23 | Validation Accuracy: 4246.0/7038 (60.330%) | Historical Best: 60.472%\n",
      "\n",
      "Epoch: 24 | Batch: 000 | Loss: 0.66225 | Correct: 1211/2000\n",
      "Epoch: 24 | Batch: 000 | Loss: 0.67423 | Correct: 1191/2000\n"
     ]
    },
    {
     "name": "stderr",
     "output_type": "stream",
     "text": [
      " 25%|██▌       | 25/100 [02:22<06:52,  5.49s/it]"
     ]
    },
    {
     "name": "stdout",
     "output_type": "stream",
     "text": [
      "\n",
      "Epoch: 24 | Validation Accuracy: 4227.0/7038 (60.060%) | Historical Best: 60.372%\n",
      "\n",
      "\n",
      "Epoch: 24 | Validation Accuracy: 4246.0/7038 (60.330%) | Historical Best: 60.472%\n",
      "\n",
      "Epoch: 25 | Batch: 000 | Loss: 0.66200 | Correct: 1237/2000\n",
      "Epoch: 25 | Batch: 000 | Loss: 0.67207 | Correct: 1239/2000\n"
     ]
    },
    {
     "name": "stderr",
     "output_type": "stream",
     "text": [
      " 25%|██▌       | 25/100 [02:24<07:14,  5.79s/it]\n"
     ]
    },
    {
     "ename": "KeyboardInterrupt",
     "evalue": "",
     "output_type": "error",
     "traceback": [
      "\u001b[0;31m---------------------------------------------------------------------------\u001b[0m",
      "\u001b[0;31mKeyboardInterrupt\u001b[0m                         Traceback (most recent call last)",
      "Cell \u001b[0;32mIn[122], line 30\u001b[0m\n\u001b[1;32m     25\u001b[0m \u001b[38;5;66;03m# loss += penalty\u001b[39;00m\n\u001b[1;32m     26\u001b[0m \n\u001b[1;32m     27\u001b[0m \n\u001b[1;32m     28\u001b[0m \u001b[38;5;66;03m# torch.autograd.set_detect_anomaly(True)\u001b[39;00m\n\u001b[1;32m     29\u001b[0m loss1\u001b[38;5;241m.\u001b[39mbackward()\n\u001b[0;32m---> 30\u001b[0m loss2\u001b[38;5;241m.\u001b[39mbackward()\n\u001b[1;32m     31\u001b[0m optimizer_tree\u001b[38;5;241m.\u001b[39mstep()\n\u001b[1;32m     32\u001b[0m optimizer_forest\u001b[38;5;241m.\u001b[39mstep()\n",
      "File \u001b[0;32m~/anaconda3/lib/python3.11/site-packages/torch/_tensor.py:492\u001b[0m, in \u001b[0;36mTensor.backward\u001b[0;34m(self, gradient, retain_graph, create_graph, inputs)\u001b[0m\n\u001b[1;32m    482\u001b[0m \u001b[38;5;28;01mif\u001b[39;00m has_torch_function_unary(\u001b[38;5;28mself\u001b[39m):\n\u001b[1;32m    483\u001b[0m     \u001b[38;5;28;01mreturn\u001b[39;00m handle_torch_function(\n\u001b[1;32m    484\u001b[0m         Tensor\u001b[38;5;241m.\u001b[39mbackward,\n\u001b[1;32m    485\u001b[0m         (\u001b[38;5;28mself\u001b[39m,),\n\u001b[0;32m   (...)\u001b[0m\n\u001b[1;32m    490\u001b[0m         inputs\u001b[38;5;241m=\u001b[39minputs,\n\u001b[1;32m    491\u001b[0m     )\n\u001b[0;32m--> 492\u001b[0m torch\u001b[38;5;241m.\u001b[39mautograd\u001b[38;5;241m.\u001b[39mbackward(\n\u001b[1;32m    493\u001b[0m     \u001b[38;5;28mself\u001b[39m, gradient, retain_graph, create_graph, inputs\u001b[38;5;241m=\u001b[39minputs\n\u001b[1;32m    494\u001b[0m )\n",
      "File \u001b[0;32m~/anaconda3/lib/python3.11/site-packages/torch/autograd/__init__.py:251\u001b[0m, in \u001b[0;36mbackward\u001b[0;34m(tensors, grad_tensors, retain_graph, create_graph, grad_variables, inputs)\u001b[0m\n\u001b[1;32m    246\u001b[0m     retain_graph \u001b[38;5;241m=\u001b[39m create_graph\n\u001b[1;32m    248\u001b[0m \u001b[38;5;66;03m# The reason we repeat the same comment below is that\u001b[39;00m\n\u001b[1;32m    249\u001b[0m \u001b[38;5;66;03m# some Python versions print out the first line of a multi-line function\u001b[39;00m\n\u001b[1;32m    250\u001b[0m \u001b[38;5;66;03m# calls in the traceback and some print out the last line\u001b[39;00m\n\u001b[0;32m--> 251\u001b[0m Variable\u001b[38;5;241m.\u001b[39m_execution_engine\u001b[38;5;241m.\u001b[39mrun_backward(  \u001b[38;5;66;03m# Calls into the C++ engine to run the backward pass\u001b[39;00m\n\u001b[1;32m    252\u001b[0m     tensors,\n\u001b[1;32m    253\u001b[0m     grad_tensors_,\n\u001b[1;32m    254\u001b[0m     retain_graph,\n\u001b[1;32m    255\u001b[0m     create_graph,\n\u001b[1;32m    256\u001b[0m     inputs,\n\u001b[1;32m    257\u001b[0m     allow_unreachable\u001b[38;5;241m=\u001b[39m\u001b[38;5;28;01mTrue\u001b[39;00m,\n\u001b[1;32m    258\u001b[0m     accumulate_grad\u001b[38;5;241m=\u001b[39m\u001b[38;5;28;01mTrue\u001b[39;00m,\n\u001b[1;32m    259\u001b[0m )\n",
      "\u001b[0;31mKeyboardInterrupt\u001b[0m: "
     ]
    }
   ],
   "source": [
    "\n",
    "dump(clf_rf, './model_tabular/'+task_name+'_'+str(best_depth)+'_'+str(acc_baseline_rf)+'_rf.joblib')\n",
    "dump(clf, './model_tabular/'+task_name+'_'+str(best_depth)+'_'+str(acc_baseline_val)+'_dt.joblib') \n",
    "\n",
    "for epoch in tqdm(range(args['epochs'])):\n",
    "    \n",
    "    # Training\n",
    "    tree.train()\n",
    "    forest.train()\n",
    "    for batch_idx, (data, target) in enumerate(train_loader):\n",
    "        optimizer_tree.zero_grad()\n",
    "        optimizer_forest.zero_grad()\n",
    "        \n",
    "        batch_size = data.size()[0]\n",
    "        data, target = data.to(device), target.to(device)\n",
    "        \n",
    "        \n",
    "        # target_onehot = onehot_coding(target, device, args['output_dim'])\n",
    "        # print(data.shape)\n",
    "        output1 = tree.forward(data, is_training_data=True)\n",
    "        output2 = forest.forward(data, is_training_data=True)\n",
    "        # target = torch.argmax(target,1)\n",
    "        # loss = criterion(output, target.view(-1))\n",
    "        loss1 = criterion_tree(output1, target)\n",
    "        loss2 = criterion_forest(output2, target)\n",
    "        # loss += penalty\n",
    "\n",
    "        \n",
    "        # torch.autograd.set_detect_anomaly(True)\n",
    "        loss1.backward()\n",
    "        loss2.backward()\n",
    "        optimizer_tree.step()\n",
    "        optimizer_forest.step()\n",
    "\n",
    "        # Print training status\n",
    "        if batch_idx % args['log_interval'] == 0:\n",
    "            pred1 = torch.argmax(output1,1)\n",
    "            pred2 = torch.argmax(output2,1)\n",
    "            correct_tree = pred1.eq(torch.argmax(target,1)).sum()\n",
    "            correct_forest = pred2.eq(torch.argmax(target,1)).sum()\n",
    "            # correct = pred.eq(target.view(-1).data).sum()\n",
    "\n",
    "            msg = (\n",
    "                \"Epoch: {:02d} | Batch: {:03d} | Loss: {:.5f} |\"\n",
    "                \" Correct: {:03d}/{:03d}\"\n",
    "            )\n",
    "            print(msg.format(epoch, batch_idx, loss1, correct_tree, batch_size))\n",
    "            print(msg.format(epoch, batch_idx, loss2, correct_forest, batch_size))\n",
    "            training_loss_list.append([loss1.cpu().data.numpy(),loss2.cpu().data.numpy()])\n",
    "\n",
    "    # Evaluating\n",
    "    tree.eval()\n",
    "    forest.eval()\n",
    "    correct_tree = 0.\n",
    "    correct_forest = 0.\n",
    "    with torch.no_grad():\n",
    "        torch.cuda.empty_cache()\n",
    "        for batch_idx, (data, target) in enumerate(val_loader):\n",
    "\n",
    "            batch_size = data.size()[0]\n",
    "            data, target = data.to(device), target.to(device)\n",
    "            \n",
    "\n",
    "            # output = torch.softmax(tree.forward(data),dim=1)\n",
    "            output1 = tree.forward(data)\n",
    "            output2 = forest.forward(data)\n",
    "            pred1 = torch.argmax(output1,1)\n",
    "            pred2 = torch.argmax(output2,1)\n",
    "            correct_tree += pred1.eq(torch.argmax(target,1)).sum()\n",
    "            correct_forest += pred2.eq(torch.argmax(target,1)).sum()\n",
    "\n",
    "        accuracy_tree = 100.0 * float(correct_tree) / len(val_loader.dataset)\n",
    "        accuracy_forest = 100.0 * float(correct_forest) / len(val_loader.dataset)\n",
    "        msg = (\n",
    "                \"\\nEpoch: {:02d} | Validation Accuracy: {}/{} ({:.3f}%) |\"\n",
    "                \" Historical Best: {:.3f}%\\n\"\n",
    "            )\n",
    "        print(\n",
    "                msg.format(\n",
    "                    epoch, correct_tree,\n",
    "                    len(val_loader.dataset),\n",
    "                    accuracy_tree,\n",
    "                    best_val_acc_tree\n",
    "                )\n",
    "            )\n",
    "        print(\n",
    "                msg.format(\n",
    "                    epoch, correct_forest,\n",
    "                    len(val_loader.dataset),\n",
    "                    accuracy_forest,\n",
    "                    best_val_acc_forest\n",
    "                )\n",
    "            )\n",
    "        \n",
    "        if accuracy_tree >= best_val_acc_tree:\n",
    "            best_val_acc_tree = accuracy_tree\n",
    "            \n",
    "            correct = 0.\n",
    "\n",
    "            with torch.no_grad():\n",
    "                torch.cuda.empty_cache()\n",
    "                for batch_idx, (data, target) in enumerate(test_loader):\n",
    "\n",
    "                    batch_size = data.size()[0]\n",
    "                    data, target = data.to(device), target.to(device)\n",
    "                    # tree = tree.to(device)\n",
    "\n",
    "                    # output = torch.softmax(tree.forward(data),dim=1)\n",
    "                    output = tree.forward(data)\n",
    "                    pred = torch.argmax(output,1)\n",
    "                    correct += pred.eq(torch.argmax(target,1)).sum()\n",
    "\n",
    "                accuracy_test = 100.0 * float(correct) / len(test_loader.dataset)\n",
    "            # if accuracy_test>=acc_baseline_val+0.1:\n",
    "            if accuracy_test>=0.61:\n",
    "                save_path = './model_tabular/'+task_name+'_'+str(best_depth)+'_sdt_at_epoch_'+str(epoch)+'_acc_'+str(np.round(accuracy_test,2))+'.pth'\n",
    "\n",
    "                \n",
    "                torch.save(tree.state_dict(), save_path)\n",
    "            \n",
    "\n",
    "            msg = (\n",
    "                \"\\nEpoch: {:02d} | Testing Accuracy: {}/{} ({:.3f}%) |\"\n",
    "                \" Best vali acc of tree model: {:.3f}%\\n\"\n",
    "            )\n",
    "            print(\n",
    "                msg.format(\n",
    "                    epoch, correct,\n",
    "                    len(test_loader.dataset),\n",
    "                    accuracy_test,\n",
    "                    best_val_acc_tree\n",
    "                )\n",
    "            )\n",
    "            testing_acc_list_tree.append(accuracy_test)\n",
    "\n",
    "        if accuracy_forest >= best_val_acc_forest:\n",
    "            best_val_acc_forest = accuracy_forest\n",
    "            \n",
    "            correct = 0.\n",
    "\n",
    "            with torch.no_grad():\n",
    "                torch.cuda.empty_cache()\n",
    "                for batch_idx, (data, target) in enumerate(test_loader):\n",
    "\n",
    "                    batch_size = data.size()[0]\n",
    "                    data, target = data.to(device), target.to(device)\n",
    "                    # tree = tree.to(device)\n",
    "\n",
    "                    # output = torch.softmax(tree.forward(data),dim=1)\n",
    "                    output = forest.forward(data)\n",
    "                    pred = torch.argmax(output,1)\n",
    "                    correct += pred.eq(torch.argmax(target,1)).sum()\n",
    "\n",
    "                accuracy_test = 100.0 * float(correct) / len(test_loader.dataset)\n",
    "            # if accuracy_test>=acc_baseline_rf+0.3:\n",
    "            if accuracy_test>=0.61:\n",
    "                save_path = './model_tabular/'+task_name+'_'+str(best_depth)+'_srf_at_epoch_'+str(epoch)+'_acc_'+str(np.round(accuracy_test,2))+'.pth'\n",
    "\n",
    "                 \n",
    "                torch.save(forest.state_dict(), save_path)\n",
    "            \n",
    "\n",
    "            msg = (\n",
    "                \"\\nEpoch: {:02d} | Testing Accuracy: {}/{} ({:.3f}%) |\"\n",
    "                \" Best vali acc of forest model: {:.3f}%\\n\"\n",
    "            )\n",
    "            print(\n",
    "                msg.format(\n",
    "                    epoch, correct,\n",
    "                    len(test_loader.dataset),\n",
    "                    accuracy_test,\n",
    "                    best_val_acc_forest\n",
    "                )\n",
    "            )\n",
    "            testing_acc_list_forest.append(accuracy_test)"
   ]
  },
  {
   "cell_type": "code",
   "execution_count": 123,
   "metadata": {},
   "outputs": [
    {
     "data": {
      "text/plain": [
       "61.08195115123522"
      ]
     },
     "execution_count": 123,
     "metadata": {},
     "output_type": "execute_result"
    }
   ],
   "source": [
    "max(testing_acc_list_tree)"
   ]
  },
  {
   "cell_type": "code",
   "execution_count": 124,
   "metadata": {},
   "outputs": [
    {
     "data": {
      "text/plain": [
       "61.08894954160543"
      ]
     },
     "execution_count": 124,
     "metadata": {},
     "output_type": "execute_result"
    }
   ],
   "source": [
    "max(testing_acc_list_forest)"
   ]
  },
  {
   "cell_type": "code",
   "execution_count": null,
   "metadata": {},
   "outputs": [],
   "source": [
    "save_path = './model_tabular/'+task_name+'_'+str(best_depth)+'_srf_at_epoch_'+str(epoch)+'_acc_'+str(np.round(accuracy_test,2))+'.pth'\n",
    "torch.save(forest.state_dict(), save_path)"
   ]
  },
  {
   "cell_type": "code",
   "execution_count": null,
   "metadata": {},
   "outputs": [],
   "source": [
    "accuracy_forest = 75.87\n",
    "epoch_forest = 99\n",
    "save_path = './model_tabular/'+task_name+'_'+str(best_depth)+'_srf_at_epoch_'+str(epoch_forest)+'_acc_'+str(accuracy_forest)+'.pth'\n",
    "torch.save(forest.state_dict(), save_path)"
   ]
  },
  {
   "cell_type": "code",
   "execution_count": 129,
   "metadata": {},
   "outputs": [
    {
     "data": {
      "text/plain": [
       "SRF(\n",
       "  (dropout): Dropout(p=0.25, inplace=False)\n",
       ")"
      ]
     },
     "execution_count": 129,
     "metadata": {},
     "output_type": "execute_result"
    }
   ],
   "source": [
    "accuracy_tree = 61.18\n",
    "accuracy_forest = 61.17\n",
    "epoch_tree = 0\n",
    "epoch_forest = 12\n",
    "\n",
    "\n",
    "# load_path = './sdt_model/'+'iris_'+str(best_depth)+'_sdt_'+str(np.round(accuracy,2))+'_20240529.pth'\n",
    "# load_path = './sdt_model/'+'iris_'+str(best_depth)+'_sdt_'+str(np.round(accuracy,2))+'_20240522.pth'\n",
    "load_path_tree = './model_tabular/'+task_name+'_'+str(best_depth)+'_sdt_at_epoch_'+str(epoch_tree)+'_acc_'+str(accuracy_tree)+'.pth'\n",
    "load_path_forest = './model_tabular/'+task_name+'_'+str(best_depth)+'_srf_at_epoch_'+str(epoch_forest)+'_acc_'+str(accuracy_forest)+'.pth'\n",
    "\n",
    "clf_rf_new = load('./model_tabular/'+task_name+'_'+str(best_depth)+'_'+str(acc_baseline_rf)+'_rf.joblib') \n",
    "clf_new = load('./model_tabular/'+task_name+'_'+str(best_depth)+'_'+str(acc_baseline_val)+'_dt.joblib')\n",
    "\n",
    "load_tree = SDT(clf_new,node_depth,node_path_left_right,args)\n",
    "load_forest = SRF(clf_rf_new,args)\n",
    "load_tree.load_state_dict(torch.load(load_path_tree))\n",
    "load_forest.load_state_dict(torch.load(load_path_forest))\n",
    "load_tree.eval()\n",
    "load_forest.eval()"
   ]
  },
  {
   "cell_type": "code",
   "execution_count": 130,
   "metadata": {},
   "outputs": [
    {
     "name": "stderr",
     "output_type": "stream",
     "text": [
      "100%|██████████| 10/10 [00:26<00:00,  2.65s/it]\n",
      "100%|██████████| 10/10 [00:26<00:00,  2.68s/it]\n",
      "100%|██████████| 10/10 [00:26<00:00,  2.68s/it]\n",
      "100%|██████████| 10/10 [00:27<00:00,  2.72s/it]\n",
      "100%|██████████| 10/10 [00:27<00:00,  2.74s/it]\n",
      "100%|██████████| 10/10 [00:26<00:00,  2.69s/it]\n",
      "100%|██████████| 10/10 [00:26<00:00,  2.67s/it]\n",
      "100%|██████████| 10/10 [00:25<00:00,  2.59s/it]\n",
      "100%|██████████| 10/10 [00:26<00:00,  2.64s/it]\n",
      "100%|██████████| 10/10 [00:25<00:00,  2.57s/it]\n",
      "100%|██████████| 10/10 [00:25<00:00,  2.56s/it]\n",
      "100%|██████████| 11/11 [04:51<00:00, 26.54s/it]\n"
     ]
    }
   ],
   "source": [
    "noise_type = 0 # uniform 1 gaussian 0\n",
    "acc_all = pd.DataFrame()\n",
    "for noise_level in tqdm(np.arange(0,1.01,0.1)):\n",
    "    for i in tqdm(range(10)):\n",
    "        # clf_new = joblib.load('./sdt_models/'+'credit_'+str(best_depth)+'_dt_.joblib') \n",
    "        # clf_new = joblib.load('./sdt_models/'+'bankmarketing_'+str(best_depth)+'_dt_.joblib') \n",
    "        # rf_new = joblib.load('./sdt_models/'+'bankmarketing_'+str(best_depth)+'_rf_'+str(np.round(accuracy,2))+'.joblib')\n",
    "\n",
    "        clf_rf_new = load('./model_tabular/'+task_name+'_'+str(best_depth)+'_'+str(acc_baseline_rf)+'_rf.joblib') \n",
    "        clf_new = load('./model_tabular/'+task_name+'_'+str(best_depth)+'_'+str(acc_baseline_val)+'_dt.joblib')\n",
    "\n",
    "\n",
    "        # clf_new = joblib.load('./sdt_models/'+'bankmarketing_'+str(best_depth)+'_dt_'+str(np.round(accuracy,2))+'.joblib') \n",
    "        # clf_new = joblib.load('./sdt_models/'+'Diabetes_'+str(best_depth)+'_dt_.joblib') \n",
    "        # clf_new = joblib.load('./sdt_models/'+'clients_'+str(best_depth)+'_dt_.joblib') \n",
    "        correct = 0.\n",
    "        \n",
    "        load_tree = SDT(clf_new,node_depth,node_path_left_right,args)\n",
    "        load_rf = SRF(clf_rf_new,args)\n",
    "\n",
    "\n",
    "\n",
    "        # load_tree = SDT(rf_new,node_depth,node_path_left_right,args)\n",
    "        # load_tree = SRF(rf_new,args)\n",
    "        if args['use_cuda']:\n",
    "            load_tree.load_state_dict(torch.load(load_path_tree))\n",
    "            load_rf.load_state_dict(torch.load(load_path_forest))\n",
    "            load_tree = load_tree.to(device)\n",
    "            load_rf = load_rf.to(device)\n",
    "        else:\n",
    "            load_tree.load_state_dict(torch.load(load_path_tree,map_location=torch.device('cpu') ))\n",
    "            load_rf.load_state_dict(torch.load(load_path_forest,map_location=torch.device('cpu') ))\n",
    "        load_tree.eval()\n",
    "        load_rf.eval()\n",
    "        \n",
    "\n",
    "        if noise_type:\n",
    "            load_tree.node_threshold.data = load_tree.node_threshold.data.cpu() + torch.tensor(np.random.random(load_tree.node_threshold.data.shape)*noise_level-0.5*noise_level)\n",
    "            load_rf.node_threshold.data = load_rf.node_threshold.data.cpu() + torch.tensor(np.random.random(load_rf.node_threshold.data.shape)*noise_level-0.5*noise_level)\n",
    "        else:\n",
    "            load_tree.node_threshold.data = load_tree.node_threshold.data.cpu() + torch.tensor(np.random.randn(load_tree.node_threshold.data.shape[0],load_tree.node_threshold.data.shape[1])*noise_level)\n",
    "            load_rf.node_threshold.data = load_rf.node_threshold.data.cpu() + torch.tensor(np.random.randn(load_rf.node_threshold.data.shape[0],load_rf.node_threshold.data.shape[1])*noise_level)\n",
    "\n",
    "        new_clf = DecisionTreeClassifier(max_depth=best_depth,random_state=seed)\n",
    "        new_clf.tree_ = clf_new.tree_\n",
    "        new_clf = deepcopy(clf_new)\n",
    "        if noise_type:\n",
    "            new_clf.tree_.threshold[:] = clf_new.tree_.threshold[:] + np.random.random(clf_new.tree_.threshold[:].shape)*noise_level-0.5*noise_level\n",
    "        else:\n",
    "            new_clf.tree_.threshold[:] = clf_new.tree_.threshold[:] + np.random.randn(clf_new.tree_.threshold[:].shape[0])*noise_level\n",
    "\n",
    "        preds_clf = new_clf.predict(X_test)\n",
    "        # preds_clf = np.argmax(preds_clf,1)\n",
    "        acc_clf = acc(preds_clf, torch.argmax(torch.tensor(y_test),1))\n",
    "        # acc_baseline_val = acc(val_preds_baseline, torch.argmax(torch.tensor(y_test),1))\n",
    "\n",
    "        acc_dt = pd.DataFrame([acc_clf],columns=['Accuracy'])\n",
    "        # acc_dt['Accuracy']=acc_baseline_val\n",
    "        acc_dt['Model']='DT'\n",
    "        acc_dt['Noise level']=noise_level\n",
    "        acc_all = pd.concat((acc_all,acc_dt),axis=0,ignore_index=True)\n",
    "\n",
    "        new_rf = RandomForestClassifier(250, min_samples_leaf=3, criterion=\"gini\",random_state=seed,max_depth=best_depth)\n",
    "        new_rf = deepcopy(clf_rf_new)\n",
    "\n",
    "        for i in range(250):\n",
    "            if noise_type:\n",
    "                new_rf.estimators_[i].tree_.threshold[:] = new_rf.estimators_[i].tree_.threshold[:] + np.random.random(new_rf.estimators_[i].tree_.threshold[:].shape)*noise_level-0.5*noise_level\n",
    "            else:\n",
    "                new_rf.estimators_[i].tree_.threshold[:] = new_rf.estimators_[i].tree_.threshold[:] + np.random.randn(new_rf.estimators_[i].tree_.threshold[:].shape[0])*noise_level\n",
    "                \n",
    "        \n",
    "        preds_rf = new_rf.predict(X_test)\n",
    "        # preds_rf = np.argmax(preds_rf,1)\n",
    "        # preds_rf = acc(val_preds_baseline, torch.argmax(torch.tensor(y_test),1))\n",
    "        acc_clf_rf = acc(preds_rf,torch.argmax(torch.tensor(y_test),1))\n",
    "        acc_rf = pd.DataFrame([acc_clf_rf],columns=['Accuracy'])\n",
    "        acc_rf['Model']='RF'\n",
    "        acc_rf['Noise level']=noise_level\n",
    "        acc_all = pd.concat((acc_all,acc_rf),axis=0,ignore_index=True)\n",
    "\n",
    "        \n",
    "\n",
    "\n",
    "\n",
    "        correct = 0.\n",
    "        correct_ = 0.\n",
    "\n",
    "        for batch_idx, (data, target) in enumerate(test_loader):\n",
    "\n",
    "            batch_size = data.size()[0]\n",
    "            data, target = data.to(device), target.to(device)\n",
    "\n",
    "            # output = torch.softmax(tree.forward(data),dim=1)\n",
    "            output = load_tree.forward(data)\n",
    "            output_ = load_rf.forward(data)\n",
    "\n",
    "            pred = torch.argmax(output,1)\n",
    "            pred_ = torch.argmax(output_,1)\n",
    "            correct += pred.eq(torch.argmax(target,1)).sum()\n",
    "            correct_ += pred_.eq(torch.argmax(target,1)).sum()\n",
    "        accuracy_sdt = 100.0 * float(correct) / len(test_loader.dataset)\n",
    "        accuracy_srf = 100.0 * float(correct_) / len(test_loader.dataset)\n",
    "        # print(accuracy)\n",
    "        # acc_sdt = pd.DataFrame([accuracy,'SDT'],columns=['Accuracy','Model'])\n",
    "        acc_sdt = pd.DataFrame([accuracy_sdt],columns=['Accuracy'])\n",
    "        acc_srf = pd.DataFrame([accuracy_srf],columns=['Accuracy'])\n",
    "        # acc_sdt['Accuracy']=accuracy\n",
    "        acc_sdt['Model']='SDT'\n",
    "        acc_sdt['Noise level']=noise_level\n",
    "        acc_srf['Model']='SRF'\n",
    "        acc_srf['Noise level']=noise_level\n",
    "\n",
    "        acc_all = pd.concat((acc_all,acc_sdt),axis=0,ignore_index=True)\n",
    "        acc_all = pd.concat((acc_all,acc_srf),axis=0,ignore_index=True)\n",
    "    # acc_all.append([acc_baseline_val,accuracy])\n",
    "# print(np.mean(acc_all,0))"
   ]
  },
  {
   "cell_type": "code",
   "execution_count": 79,
   "metadata": {},
   "outputs": [
    {
     "data": {
      "text/plain": [
       "tensor([1, 0, 0, 1, 1, 1, 0, 1, 1, 0, 1, 1, 0, 0, 1, 0, 1, 0, 0, 1, 0, 1, 1, 0,\n",
       "        1, 0, 1, 1, 1, 0, 0, 0, 1, 1, 0, 1, 1, 1, 0, 0, 1, 1, 0, 1, 0, 0, 1, 1,\n",
       "        1, 1, 1, 1, 0, 1, 1, 1, 0, 0, 1, 1, 1, 1, 0, 1, 0, 1, 1, 1, 0, 1, 1, 0,\n",
       "        1, 0, 1, 1, 0, 1, 0, 0, 1, 1, 1, 0, 0, 0, 1, 1, 0, 0, 1, 1, 1, 0, 0, 1,\n",
       "        1, 1, 1, 0, 1, 0, 1, 0, 1, 1, 0, 1, 0, 0, 1, 1, 0, 1])"
      ]
     },
     "execution_count": 79,
     "metadata": {},
     "output_type": "execute_result"
    }
   ],
   "source": [
    "torch.argmax(torch.tensor(y_test),1)"
   ]
  },
  {
   "cell_type": "code",
   "execution_count": 128,
   "metadata": {},
   "outputs": [],
   "source": [
    "acc_all.to_csv(task_name+'_gaussian_noise_SRF.csv')\n",
    "# acc_all.to_csv(task_name+'_uniform_noise_SRF.csv')"
   ]
  },
  {
   "cell_type": "code",
   "execution_count": null,
   "metadata": {},
   "outputs": [],
   "source": [
    "task_name = task_id_name[0]"
   ]
  },
  {
   "cell_type": "code",
   "execution_count": null,
   "metadata": {},
   "outputs": [],
   "source": [
    "# acc_all = pd.read_csv(task_name+'_uniform_noise_SRF.csv')\n",
    "acc_all = pd.read_csv(task_name+'_gaussian_noise_SRF.csv')"
   ]
  },
  {
   "cell_type": "code",
   "execution_count": null,
   "metadata": {},
   "outputs": [],
   "source": [
    "acc_all"
   ]
  },
  {
   "cell_type": "code",
   "execution_count": 131,
   "metadata": {},
   "outputs": [
    {
     "name": "stderr",
     "output_type": "stream",
     "text": [
      "/tmp/ipykernel_2029987/1352091962.py:26: MatplotlibDeprecationWarning: An artist whose label starts with an underscore was passed to legend(); such artists will no longer be ignored in the future.  To suppress this warning, explicitly filter out such artists, e.g. with `[art for art in artists if not art.get_label().startswith('_')]`.\n",
      "  plt.legend(['DT','_','RF','_','SDT','_','SRF',],fontsize=5,title='Model',title_fontsize=5)\n"
     ]
    },
    {
     "data": {
      "text/plain": [
       "<matplotlib.legend.Legend at 0x72e5d01ee410>"
      ]
     },
     "execution_count": 131,
     "metadata": {},
     "output_type": "execute_result"
    },
    {
     "data": {
      "image/png": "[encoded data removed]",
      "text/plain": [
       "<Figure size 1368x1026 with 1 Axes>"
      ]
     },
     "metadata": {},
     "output_type": "display_data"
    }
   ],
   "source": [
    "plt.rcParams[\"svg.fonttype\"]='none'\n",
    "plt.rcParams[\"font.family\"]='Helvetica'\n",
    "plt.rcParams[\"savefig.transparent\"]=True\n",
    "plt.style.use('default')\n",
    "fig, ax = plt.subplots(dpi=600,figsize=(2.28,1.71),layout='tight')\n",
    "# sns.set_style('whitegrid')\n",
    "sns.lineplot(data=acc_all,x='Noise level',y='Accuracy',hue='Model')\n",
    "# if noise_type==0:\n",
    "    # plt.plot([0.1,0.1],[70,110],'k--')\n",
    "    # plt.arrow(x=0.1,y=92,dx=-0.07,dy=0,length_includes_head=True,head_width = 0.3,head_length=0.01,fill=True,color='k')\n",
    "    # plt.text(0.032,92.6,'Exp noise',fontsize=5)\n",
    "    # plt.xlim(0,.3)\n",
    "    # plt.ylim(80,102)\n",
    "\n",
    "# if noise_type==1:\n",
    "#     plt.plot([0.3,0.3],[70,110],'k--')\n",
    "#     plt.arrow(x=0.3,y=92,dx=-0.155,dy=0,length_includes_head=True,head_width = 0.3,head_length=0.03,fill=True,color='k')\n",
    "#     plt.text(0.15,92.6,'Exp noise')\n",
    "    # plt.xlim(0,.3)\n",
    "    # plt.ylim(80,102)\n",
    "    \n",
    "plt.xlabel('Noise level (V)',fontsize=6,labelpad=0)\n",
    "plt.ylabel('Accuracy',fontsize=6,labelpad=0)\n",
    "ax.tick_params(axis='y', which='major', length=2,pad=0,labelsize=5)\n",
    "ax.tick_params(axis='x', which='major', length=2,pad=0.2,labelsize=5)\n",
    "plt.legend(['DT','_','RF','_','SDT','_','SRF',],fontsize=5,title='Model',title_fontsize=5)\n",
    "# plt.savefig('./credit accuracy under uniform noise.svg',transparent=True,dpi=200)\n",
    "\n"
   ]
  },
  {
   "cell_type": "code",
   "execution_count": null,
   "metadata": {},
   "outputs": [],
   "source": [
    "task_name"
   ]
  },
  {
   "cell_type": "code",
   "execution_count": null,
   "metadata": {},
   "outputs": [],
   "source": [
    "# clf = load('./sdt_model/'+'AEF_'+str(best_depth)+'clf.joblib') \n",
    "# tree = SDT(clf,node_depth,node_path_left_right,args)\n",
    "# save_path = './sdt_model/'+'AEF_'+str(best_depth)+'_sdt_'+str(96.40741448499904)+'.pth'\n",
    "# tree.load_state_dict(torch.load(save_path))\n",
    "# load_tree.eval()"
   ]
  },
  {
   "cell_type": "code",
   "execution_count": null,
   "metadata": {},
   "outputs": [],
   "source": [
    "X_test_noise = np.array(X_test).copy()\n",
    "root_feature = clf.tree_.feature[0]\n",
    "X_test_noise[:,root_feature] = np.random.random(X_test_noise[:,root_feature].shape)\n",
    "\n",
    "\n",
    "\n",
    "test_loader_noise = torch.utils.data.DataLoader(\n",
    "        make_dataset(X= X_test_noise, y=y_test),\n",
    "        batch_size=50,\n",
    "        shuffle=False,\n",
    "    )\n",
    "\n",
    "\n",
    "# test_loader_noise = torch.utils.data.DataLoader(\n",
    "#         Mnist_dataset(X_train,\n",
    "#                         X_test_noise,\n",
    "#                         Y_train,\n",
    "#                         Y_test,\n",
    "#                         train_flag=0),\n",
    "#         batch_size=100,\n",
    "#         shuffle=False,\n",
    "#     )"
   ]
  },
  {
   "cell_type": "code",
   "execution_count": null,
   "metadata": {},
   "outputs": [],
   "source": [
    "plt.hist(X_test_noise)"
   ]
  },
  {
   "cell_type": "code",
   "execution_count": null,
   "metadata": {},
   "outputs": [],
   "source": [
    "X_test"
   ]
  },
  {
   "cell_type": "code",
   "execution_count": null,
   "metadata": {},
   "outputs": [],
   "source": [
    "np.argmax(y_test,1)"
   ]
  },
  {
   "cell_type": "code",
   "execution_count": null,
   "metadata": {},
   "outputs": [],
   "source": [
    "\n",
    "tree.eval()\n",
    "correct = 0.\n",
    "load_tree = load_tree.to(device)\n",
    "for batch_idx, (data, target) in enumerate(test_loader):\n",
    "\n",
    "    batch_size = data.size()[0]\n",
    "    data, target = data.to(device), target.to(device)\n",
    "    \n",
    "    # output = torch.softmax(tree.forward(data),dim=1)\n",
    "    output = load_tree.forward(data)\n",
    "    pred = torch.argmax(output,1)\n",
    "    correct += pred.eq(torch.argmax(target,1)).sum()\n",
    "accuracy = 100.0 * float(correct) / len(test_loader.dataset)\n",
    "print(accuracy)"
   ]
  },
  {
   "cell_type": "code",
   "execution_count": null,
   "metadata": {},
   "outputs": [],
   "source": [
    "tree.eval()\n",
    "correct = 0.\n",
    "\n",
    "for batch_idx, (data, target) in enumerate(test_loader_noise):\n",
    "\n",
    "    batch_size = data.size()[0]\n",
    "    data, target = data.to(device), target.to(device)\n",
    "\n",
    "    # output = torch.softmax(tree.forward(data),dim=1)\n",
    "    output = tree.forward(data)\n",
    "    pred = torch.argmax(output,1)\n",
    "    correct += pred.eq(torch.argmax(target,1)).sum()\n",
    "accuracy = 100.0 * float(correct) / len(test_loader.dataset)\n",
    "print(accuracy)"
   ]
  },
  {
   "cell_type": "code",
   "execution_count": null,
   "metadata": {},
   "outputs": [],
   "source": [
    "torch.argmax(torch.tensor(y_test),1)"
   ]
  },
  {
   "cell_type": "code",
   "execution_count": null,
   "metadata": {},
   "outputs": [],
   "source": [
    "\n",
    "val_preds_baseline = clf.predict(X_test_noise)\n",
    "acc_baseline_val = acc(val_preds_baseline, torch.argmax(torch.tensor(y_test),1))\n",
    "print(f'Validation accuracy for our baseline (using all pixel features) under noise: {acc_baseline_val}%')"
   ]
  },
  {
   "cell_type": "code",
   "execution_count": null,
   "metadata": {},
   "outputs": [],
   "source": [
    "val_preds_baseline = clf.predict(X_test)\n",
    "acc_baseline_val = acc(val_preds_baseline, torch.argmax(torch.tensor(y_test),1))\n",
    "print(f'Validation accuracy for our baseline (using all pixel features) under noise: {acc_baseline_val}%')"
   ]
  },
  {
   "cell_type": "code",
   "execution_count": null,
   "metadata": {},
   "outputs": [],
   "source": [
    "thres_mean = torch.mean(tree.node_threshold.data)\n",
    "thres_std = torch.std(tree.node_threshold.data)"
   ]
  },
  {
   "cell_type": "code",
   "execution_count": null,
   "metadata": {},
   "outputs": [],
   "source": [
    "plt.hist(tree.node_threshold.data.cpu().reshape(1,-1),20)"
   ]
  },
  {
   "cell_type": "code",
   "execution_count": null,
   "metadata": {},
   "outputs": [],
   "source": [
    "accuracy"
   ]
  },
  {
   "cell_type": "code",
   "execution_count": null,
   "metadata": {},
   "outputs": [],
   "source": [
    "noise_type = 0 # uniform 1 gaussian 0\n",
    "acc_all = pd.DataFrame()\n",
    "for noise_level in np.arange(0,1.01,0.05):\n",
    "    for i in range(100):\n",
    "        clf_new = load('./sdt_model/'+'iris_'+str(best_depth)+'_dt_'+str(np.round(accuracy,2))+'.joblib') \n",
    "        correct = 0.\n",
    "        \n",
    "\n",
    "\n",
    "\n",
    "        load_tree = SDT(clf_new,node_depth,node_path_left_right,args)\n",
    "        load_tree.load_state_dict(torch.load(save_path))\n",
    "        load_tree.eval()\n",
    "        load_tree = load_tree.to(device)\n",
    "        if noise_type:\n",
    "            load_tree.node_threshold.data = load_tree.node_threshold.data.cpu() + torch.tensor(np.random.random(tree.node_threshold.data.shape)*noise_level-0.5*noise_level)\n",
    "        else:\n",
    "            load_tree.node_threshold.data = load_tree.node_threshold.data.cpu() + torch.tensor(np.random.randn(tree.node_threshold.data.shape[0],tree.node_threshold.data.shape[1])*noise_level)\n",
    "        new_clf = DecisionTreeClassifier(max_depth=best_depth)\n",
    "        new_clf.tree_ = clf_new.tree_\n",
    "        new_clf = deepcopy(clf_new)\n",
    "        if noise_type:\n",
    "            new_clf.tree_.threshold[:] = clf.tree_.threshold[:] + np.random.random(clf.tree_.threshold[:].shape)*noise_level-0.5*noise_level\n",
    "        else:\n",
    "            new_clf.tree_.threshold[:] = clf.tree_.threshold[:] + np.random.randn(clf.tree_.threshold[:].shape[0])*noise_level\n",
    "\n",
    "        val_preds_baseline = new_clf.predict(X_test)\n",
    "        acc_baseline_val = acc(val_preds_baseline, torch.argmax(torch.tensor(y_test),1))\n",
    "        # print(f'Validation accuracy for our baseline (using all pixel features) under noise: {acc_baseline_val}%')\n",
    "        # acc_dt = pd.DataFrame([acc_baseline_val,'DT'],columns=['Accuracy','Model'])\n",
    "        # acc_dt = pd.DataFrame()\n",
    "        acc_dt = pd.DataFrame([acc_baseline_val],columns=['Accuracy'])\n",
    "        # acc_dt['Accuracy']=acc_baseline_val\n",
    "        acc_dt['Model']='DT'\n",
    "        acc_dt['Noise level']=noise_level\n",
    "        acc_all = pd.concat((acc_all,acc_dt),axis=0,ignore_index=True)\n",
    "\n",
    "        correct = 0.\n",
    "\n",
    "        for batch_idx, (data, target) in enumerate(test_loader):\n",
    "\n",
    "            batch_size = data.size()[0]\n",
    "            data, target = data.to(device), target.to(device)\n",
    "\n",
    "            # output = torch.softmax(tree.forward(data),dim=1)\n",
    "            output = load_tree.forward(data)\n",
    "\n",
    "            pred = torch.argmax(output,1)\n",
    "            correct += pred.eq(torch.argmax(target,1)).sum()\n",
    "        accuracy_current = 100.0 * float(correct) / len(test_loader.dataset)\n",
    "        # print(accuracy)\n",
    "        # acc_sdt = pd.DataFrame([accuracy,'SDT'],columns=['Accuracy','Model'])\n",
    "        acc_sdt = pd.DataFrame([accuracy_current],columns=['Accuracy'])\n",
    "        # acc_sdt['Accuracy']=accuracy\n",
    "        acc_sdt['Model']='SDT'\n",
    "        acc_sdt['Noise level']=noise_level\n",
    "        acc_all = pd.concat((acc_all,acc_sdt),axis=0,ignore_index=True)\n",
    "    # acc_all.append([acc_baseline_val,accuracy])\n",
    "# print(np.mean(acc_all,0))"
   ]
  },
  {
   "cell_type": "code",
   "execution_count": null,
   "metadata": {},
   "outputs": [],
   "source": [
    "acc_all"
   ]
  },
  {
   "cell_type": "code",
   "execution_count": null,
   "metadata": {},
   "outputs": [],
   "source": [
    "plt.figure(dpi=200)\n",
    "sns.set_style('white')\n",
    "sns.lineplot(data=acc_all,x='Noise level',y='Accuracy',hue='Model')\n",
    "if noise_type==0:\n",
    "\n",
    "    plt.xlim(0,0.3)\n",
    "    plt.ylim(80,101)\n",
    "# if noise_type == 1:\n",
    "    # plt.xlim(0,1)\n",
    "    # plt.ylim(90,101)\n",
    "# plt.savefig(trans)\n"
   ]
  },
  {
   "cell_type": "code",
   "execution_count": null,
   "metadata": {},
   "outputs": [],
   "source": [
    "\n",
    "new_clf = deepcopy(clf)"
   ]
  },
  {
   "cell_type": "code",
   "execution_count": null,
   "metadata": {},
   "outputs": [],
   "source": [
    "plt.hist(clf.tree_.threshold,20)"
   ]
  },
  {
   "cell_type": "code",
   "execution_count": null,
   "metadata": {},
   "outputs": [],
   "source": [
    "new_clf.tree_.threshold.data.shape"
   ]
  },
  {
   "cell_type": "code",
   "execution_count": null,
   "metadata": {},
   "outputs": [],
   "source": [
    "new_clf.tree_.threshold[:] = clf.tree_.threshold[:] + np.random.random(clf.tree_.threshold[:].shape)*1-0.5"
   ]
  },
  {
   "cell_type": "code",
   "execution_count": null,
   "metadata": {},
   "outputs": [],
   "source": [
    "val_preds_baseline = new_clf.predict(X_test)\n",
    "acc_baseline_val = acc(val_preds_baseline, torch.argmax(torch.tensor(y_test),1))\n",
    "print(f'Validation accuracy for our baseline (using all pixel features) under noise: {acc_baseline_val}%')"
   ]
  },
  {
   "cell_type": "code",
   "execution_count": null,
   "metadata": {},
   "outputs": [],
   "source": [
    "val_preds_baseline = new_clf.predict(X_test_noise)\n",
    "acc_baseline_val = acc(val_preds_baseline, torch.argmax(torch.tensor(y_test),1))\n",
    "print(f'Validation accuracy for our baseline (using all pixel features) under noise: {acc_baseline_val}%')"
   ]
  },
  {
   "cell_type": "code",
   "execution_count": null,
   "metadata": {},
   "outputs": [],
   "source": [
    "tree.eval()\n",
    "correct = 0.\n",
    "\n",
    "for batch_idx, (data, target) in enumerate(test_loader):\n",
    "\n",
    "    batch_size = data.size()[0]\n",
    "    data, target = data.to(device), target.to(device)\n",
    "\n",
    "    # output = torch.softmax(tree.forward(data),dim=1)\n",
    "    output = tree.forward(data)\n",
    "    pred = torch.argmax(output,1)\n",
    "    correct += pred.eq(torch.argmax(target,1)).sum()\n",
    "accuracy = 100.0 * float(correct) / len(test_loader.dataset)\n",
    "print(accuracy)"
   ]
  },
  {
   "cell_type": "code",
   "execution_count": null,
   "metadata": {},
   "outputs": [],
   "source": [
    "tree.eval()\n",
    "correct = 0.\n",
    "\n",
    "for batch_idx, (data, target) in enumerate(test_loader_noise):\n",
    "\n",
    "    batch_size = data.size()[0]\n",
    "    data, target = data.to(device), target.to(device)\n",
    "\n",
    "    # output = torch.softmax(tree.forward(data),dim=1)\n",
    "    output = tree.forward(data)\n",
    "    pred = torch.argmax(output,1)\n",
    "    correct += pred.eq(torch.argmax(target,1)).sum()\n",
    "accuracy = 100.0 * float(correct) / len(test_loader.dataset)\n",
    "print(accuracy)"
   ]
  },
  {
   "cell_type": "code",
   "execution_count": null,
   "metadata": {},
   "outputs": [],
   "source": [
    "plt.hist(products[1,:])"
   ]
  },
  {
   "cell_type": "code",
   "execution_count": null,
   "metadata": {},
   "outputs": [],
   "source": [
    "products[np.arange(10000),np.argsort(products[:,:],1)[:,-1]]"
   ]
  },
  {
   "cell_type": "code",
   "execution_count": null,
   "metadata": {},
   "outputs": [],
   "source": [
    "plt.hist(np.max(products,1))"
   ]
  },
  {
   "cell_type": "code",
   "execution_count": null,
   "metadata": {},
   "outputs": [],
   "source": [
    "_mu = tree._forward(data)"
   ]
  },
  {
   "cell_type": "code",
   "execution_count": null,
   "metadata": {},
   "outputs": [],
   "source": [
    "_mu"
   ]
  },
  {
   "cell_type": "code",
   "execution_count": null,
   "metadata": {},
   "outputs": [],
   "source": [
    "torch.max(_mu,1)."
   ]
  },
  {
   "cell_type": "code",
   "execution_count": null,
   "metadata": {},
   "outputs": [],
   "source": [
    "target[10]"
   ]
  },
  {
   "cell_type": "code",
   "execution_count": null,
   "metadata": {},
   "outputs": [],
   "source": [
    "plt.plot(tree.leaf_nodes[10].detach().numpy())"
   ]
  },
  {
   "cell_type": "code",
   "execution_count": null,
   "metadata": {},
   "outputs": [],
   "source": [
    "plt.plot(tree.leaf_nodes[8].detach().numpy())"
   ]
  },
  {
   "cell_type": "code",
   "execution_count": null,
   "metadata": {},
   "outputs": [],
   "source": [
    "plt.imshow(data[10,:].reshape(7,7))"
   ]
  },
  {
   "cell_type": "code",
   "execution_count": null,
   "metadata": {},
   "outputs": [],
   "source": [
    "X_train_resize.shape"
   ]
  },
  {
   "cell_type": "code",
   "execution_count": null,
   "metadata": {},
   "outputs": [],
   "source": [
    "clf.tree_.feature"
   ]
  },
  {
   "cell_type": "code",
   "execution_count": null,
   "metadata": {},
   "outputs": [],
   "source": []
  }
 ],
 "metadata": {
  "kernelspec": {
   "display_name": "base",
   "language": "python",
   "name": "python3"
  },
  "language_info": {
   "codemirror_mode": {
    "name": "ipython",
    "version": 3
   },
   "file_extension": ".py",
   "mimetype": "text/x-python",
   "name": "python",
   "nbconvert_exporter": "python",
   "pygments_lexer": "ipython3",
   "version": "3.11.9"
  },
  "orig_nbformat": 4
 },
 "nbformat": 4,
 "nbformat_minor": 2
}
